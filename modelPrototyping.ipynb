{
  "nbformat": 4,
  "nbformat_minor": 0,
  "metadata": {
    "colab": {
      "name": "DataProcessing.ipynb",
      "provenance": [],
      "collapsed_sections": [
        "0uW1fn7ekDOK",
        "tm4IG3hgiSAD",
        "tsFgdAzMj8Ws",
        "KYGC2zF8DHXT",
        "S7kIM8xigcu-",
        "59zvhNoPwrll",
        "bXSdoMbHZM27",
        "9paacRjJjymx",
        "6-GOw6Y0Vdj6",
        "AjbdJ-OFpWNn",
        "ySeMdO-0ppAf",
        "hc2T2NoJqDrG",
        "VBA0GJUdBR5o"
      ],
      "toc_visible": true
    },
    "kernelspec": {
      "name": "python3",
      "display_name": "Python 3"
    }
  },
  "cells": [
    {
      "cell_type": "code",
      "metadata": {
        "id": "FQelTx-4J_x5",
        "colab_type": "code",
        "colab": {}
      },
      "source": [
        "!pip install eli5\n",
        "!pip install rfpimp\n",
        "!pip install treeinterpreter\n",
        "!pip install ppscore\n",
        "!pip install tikzplotlib"
      ],
      "execution_count": null,
      "outputs": []
    },
    {
      "cell_type": "code",
      "metadata": {
        "id": "SZPUyj6Q5FsY",
        "colab_type": "code",
        "colab": {}
      },
      "source": [
        "import pandas as pd # used to manipulate data libraries\n",
        "import tensorflow as tf # main ML framework\n",
        "from sklearn.model_selection import train_test_split # sklearn framework for splititng datasets\n",
        "from sklearn.metrics import *\n",
        "from statistics import *\n",
        "import matplotlib\n",
        "from matplotlib import pyplot as plt \n",
        "from sklearn.ensemble import RandomForestClassifier\n",
        "from sklearn.feature_selection import SelectFromModel\n",
        "from sklearn import preprocessing\n",
        "from sklearn.preprocessing import RobustScaler\n",
        "import numpy as np\n",
        "from sklearn.utils import shuffle\n",
        "import seaborn as sns\n",
        "import ppscore as pps\n",
        "import pickle\n",
        "# Import all Libraries"
      ],
      "execution_count": null,
      "outputs": []
    },
    {
      "cell_type": "markdown",
      "metadata": {
        "id": "0uW1fn7ekDOK",
        "colab_type": "text"
      },
      "source": [
        "### **DATA ADDITION**"
      ]
    },
    {
      "cell_type": "code",
      "metadata": {
        "id": "cxulHq8p6kaW",
        "colab_type": "code",
        "colab": {}
      },
      "source": [
        "url1 = \"https://raw.githubusercontent.com/choprahetarth/FruitSpectroClassify/master/Data/dataset1.csv\"\n",
        "url2 = \"https://github.com/choprahetarth/FruitSpectroClassify/blob/master/Data/dataset2.csv\"\n",
        "dataset1 = pd.read_csv(url1) \n",
        "dataset2 = pd.read_csv(url2)\n",
        "\n",
        "# Load the two datasets"
      ],
      "execution_count": null,
      "outputs": []
    },
    {
      "cell_type": "code",
      "metadata": {
        "id": "mpNFwovntZnh",
        "colab_type": "code",
        "colab": {
          "base_uri": "https://localhost:8080/",
          "height": 439
        },
        "outputId": "075ceaac-0550-4397-f669-7adadf7d0637"
      },
      "source": [
        "dataset1"
      ],
      "execution_count": null,
      "outputs": [
        {
          "output_type": "execute_result",
          "data": {
            "text/html": [
              "<div>\n",
              "<style scoped>\n",
              "    .dataframe tbody tr th:only-of-type {\n",
              "        vertical-align: middle;\n",
              "    }\n",
              "\n",
              "    .dataframe tbody tr th {\n",
              "        vertical-align: top;\n",
              "    }\n",
              "\n",
              "    .dataframe thead th {\n",
              "        text-align: right;\n",
              "    }\n",
              "</style>\n",
              "<table border=\"1\" class=\"dataframe\">\n",
              "  <thead>\n",
              "    <tr style=\"text-align: right;\">\n",
              "      <th></th>\n",
              "      <th>A</th>\n",
              "      <th>B</th>\n",
              "      <th>C</th>\n",
              "      <th>D</th>\n",
              "      <th>E</th>\n",
              "      <th>F</th>\n",
              "      <th>G</th>\n",
              "      <th>H</th>\n",
              "      <th>I</th>\n",
              "      <th>J</th>\n",
              "      <th>K</th>\n",
              "      <th>L</th>\n",
              "      <th>M</th>\n",
              "      <th>N</th>\n",
              "      <th>O</th>\n",
              "      <th>P</th>\n",
              "      <th>Q</th>\n",
              "      <th>R</th>\n",
              "      <th>Label</th>\n",
              "    </tr>\n",
              "  </thead>\n",
              "  <tbody>\n",
              "    <tr>\n",
              "      <th>0</th>\n",
              "      <td>413.93</td>\n",
              "      <td>257.93</td>\n",
              "      <td>546.50</td>\n",
              "      <td>165.48</td>\n",
              "      <td>341.55</td>\n",
              "      <td>520.31</td>\n",
              "      <td>692.89</td>\n",
              "      <td>719.72</td>\n",
              "      <td>279.17</td>\n",
              "      <td>155.36</td>\n",
              "      <td>178.55</td>\n",
              "      <td>68.19</td>\n",
              "      <td>1514.39</td>\n",
              "      <td>229.84</td>\n",
              "      <td>150.35</td>\n",
              "      <td>81.51</td>\n",
              "      <td>171.99</td>\n",
              "      <td>341.57</td>\n",
              "      <td>2</td>\n",
              "    </tr>\n",
              "    <tr>\n",
              "      <th>1</th>\n",
              "      <td>1153.94</td>\n",
              "      <td>408.69</td>\n",
              "      <td>759.07</td>\n",
              "      <td>338.32</td>\n",
              "      <td>1073.32</td>\n",
              "      <td>2065.71</td>\n",
              "      <td>530.54</td>\n",
              "      <td>673.10</td>\n",
              "      <td>370.16</td>\n",
              "      <td>206.84</td>\n",
              "      <td>539.66</td>\n",
              "      <td>169.00</td>\n",
              "      <td>4466.30</td>\n",
              "      <td>975.52</td>\n",
              "      <td>627.60</td>\n",
              "      <td>340.33</td>\n",
              "      <td>673.25</td>\n",
              "      <td>1431.08</td>\n",
              "      <td>2</td>\n",
              "    </tr>\n",
              "    <tr>\n",
              "      <th>2</th>\n",
              "      <td>489.10</td>\n",
              "      <td>207.98</td>\n",
              "      <td>412.93</td>\n",
              "      <td>140.66</td>\n",
              "      <td>356.23</td>\n",
              "      <td>644.56</td>\n",
              "      <td>120.60</td>\n",
              "      <td>217.23</td>\n",
              "      <td>176.74</td>\n",
              "      <td>119.51</td>\n",
              "      <td>263.79</td>\n",
              "      <td>86.97</td>\n",
              "      <td>1973.29</td>\n",
              "      <td>516.88</td>\n",
              "      <td>335.65</td>\n",
              "      <td>191.60</td>\n",
              "      <td>404.47</td>\n",
              "      <td>989.39</td>\n",
              "      <td>2</td>\n",
              "    </tr>\n",
              "    <tr>\n",
              "      <th>3</th>\n",
              "      <td>485.20</td>\n",
              "      <td>190.72</td>\n",
              "      <td>425.16</td>\n",
              "      <td>100.21</td>\n",
              "      <td>255.00</td>\n",
              "      <td>561.26</td>\n",
              "      <td>85.81</td>\n",
              "      <td>157.44</td>\n",
              "      <td>147.21</td>\n",
              "      <td>107.10</td>\n",
              "      <td>281.24</td>\n",
              "      <td>87.96</td>\n",
              "      <td>1583.22</td>\n",
              "      <td>422.24</td>\n",
              "      <td>324.29</td>\n",
              "      <td>174.79</td>\n",
              "      <td>387.18</td>\n",
              "      <td>885.74</td>\n",
              "      <td>2</td>\n",
              "    </tr>\n",
              "    <tr>\n",
              "      <th>4</th>\n",
              "      <td>1436.07</td>\n",
              "      <td>528.57</td>\n",
              "      <td>1056.31</td>\n",
              "      <td>398.07</td>\n",
              "      <td>1148.27</td>\n",
              "      <td>1986.64</td>\n",
              "      <td>619.83</td>\n",
              "      <td>655.54</td>\n",
              "      <td>312.99</td>\n",
              "      <td>129.62</td>\n",
              "      <td>234.26</td>\n",
              "      <td>93.89</td>\n",
              "      <td>2244.05</td>\n",
              "      <td>458.64</td>\n",
              "      <td>228.14</td>\n",
              "      <td>134.45</td>\n",
              "      <td>267.05</td>\n",
              "      <td>528.85</td>\n",
              "      <td>2</td>\n",
              "    </tr>\n",
              "    <tr>\n",
              "      <th>...</th>\n",
              "      <td>...</td>\n",
              "      <td>...</td>\n",
              "      <td>...</td>\n",
              "      <td>...</td>\n",
              "      <td>...</td>\n",
              "      <td>...</td>\n",
              "      <td>...</td>\n",
              "      <td>...</td>\n",
              "      <td>...</td>\n",
              "      <td>...</td>\n",
              "      <td>...</td>\n",
              "      <td>...</td>\n",
              "      <td>...</td>\n",
              "      <td>...</td>\n",
              "      <td>...</td>\n",
              "      <td>...</td>\n",
              "      <td>...</td>\n",
              "      <td>...</td>\n",
              "      <td>...</td>\n",
              "    </tr>\n",
              "    <tr>\n",
              "      <th>911</th>\n",
              "      <td>107.39</td>\n",
              "      <td>37.24</td>\n",
              "      <td>54.56</td>\n",
              "      <td>56.08</td>\n",
              "      <td>59.50</td>\n",
              "      <td>56.48</td>\n",
              "      <td>202.36</td>\n",
              "      <td>297.87</td>\n",
              "      <td>200.09</td>\n",
              "      <td>58.83</td>\n",
              "      <td>91.29</td>\n",
              "      <td>44.47</td>\n",
              "      <td>519.71</td>\n",
              "      <td>50.96</td>\n",
              "      <td>57.69</td>\n",
              "      <td>24.37</td>\n",
              "      <td>53.58</td>\n",
              "      <td>75.38</td>\n",
              "      <td>3</td>\n",
              "    </tr>\n",
              "    <tr>\n",
              "      <th>912</th>\n",
              "      <td>262.61</td>\n",
              "      <td>93.54</td>\n",
              "      <td>129.80</td>\n",
              "      <td>117.68</td>\n",
              "      <td>183.14</td>\n",
              "      <td>176.50</td>\n",
              "      <td>193.08</td>\n",
              "      <td>380.16</td>\n",
              "      <td>290.60</td>\n",
              "      <td>82.74</td>\n",
              "      <td>195.33</td>\n",
              "      <td>72.14</td>\n",
              "      <td>606.90</td>\n",
              "      <td>61.36</td>\n",
              "      <td>102.27</td>\n",
              "      <td>39.50</td>\n",
              "      <td>74.33</td>\n",
              "      <td>116.61</td>\n",
              "      <td>3</td>\n",
              "    </tr>\n",
              "    <tr>\n",
              "      <th>913</th>\n",
              "      <td>122.03</td>\n",
              "      <td>59.94</td>\n",
              "      <td>107.23</td>\n",
              "      <td>66.19</td>\n",
              "      <td>173.09</td>\n",
              "      <td>342.40</td>\n",
              "      <td>353.69</td>\n",
              "      <td>369.74</td>\n",
              "      <td>150.06</td>\n",
              "      <td>83.65</td>\n",
              "      <td>91.96</td>\n",
              "      <td>39.53</td>\n",
              "      <td>1103.67</td>\n",
              "      <td>249.60</td>\n",
              "      <td>103.14</td>\n",
              "      <td>67.23</td>\n",
              "      <td>146.06</td>\n",
              "      <td>358.06</td>\n",
              "      <td>2</td>\n",
              "    </tr>\n",
              "    <tr>\n",
              "      <th>914</th>\n",
              "      <td>355.36</td>\n",
              "      <td>128.96</td>\n",
              "      <td>197.53</td>\n",
              "      <td>139.74</td>\n",
              "      <td>278.18</td>\n",
              "      <td>389.00</td>\n",
              "      <td>362.97</td>\n",
              "      <td>523.34</td>\n",
              "      <td>316.33</td>\n",
              "      <td>116.29</td>\n",
              "      <td>183.92</td>\n",
              "      <td>75.11</td>\n",
              "      <td>1245.93</td>\n",
              "      <td>180.96</td>\n",
              "      <td>133.74</td>\n",
              "      <td>64.71</td>\n",
              "      <td>143.47</td>\n",
              "      <td>263.84</td>\n",
              "      <td>2</td>\n",
              "    </tr>\n",
              "    <tr>\n",
              "      <th>915</th>\n",
              "      <td>464.70</td>\n",
              "      <td>161.66</td>\n",
              "      <td>233.27</td>\n",
              "      <td>173.76</td>\n",
              "      <td>364.73</td>\n",
              "      <td>518.90</td>\n",
              "      <td>354.85</td>\n",
              "      <td>472.32</td>\n",
              "      <td>252.49</td>\n",
              "      <td>104.80</td>\n",
              "      <td>183.24</td>\n",
              "      <td>76.10</td>\n",
              "      <td>1185.12</td>\n",
              "      <td>159.12</td>\n",
              "      <td>152.09</td>\n",
              "      <td>73.11</td>\n",
              "      <td>150.38</td>\n",
              "      <td>262.66</td>\n",
              "      <td>2</td>\n",
              "    </tr>\n",
              "  </tbody>\n",
              "</table>\n",
              "<p>916 rows × 19 columns</p>\n",
              "</div>"
            ],
            "text/plain": [
              "           A       B        C       D  ...       P       Q        R  Label\n",
              "0     413.93  257.93   546.50  165.48  ...   81.51  171.99   341.57      2\n",
              "1    1153.94  408.69   759.07  338.32  ...  340.33  673.25  1431.08      2\n",
              "2     489.10  207.98   412.93  140.66  ...  191.60  404.47   989.39      2\n",
              "3     485.20  190.72   425.16  100.21  ...  174.79  387.18   885.74      2\n",
              "4    1436.07  528.57  1056.31  398.07  ...  134.45  267.05   528.85      2\n",
              "..       ...     ...      ...     ...  ...     ...     ...      ...    ...\n",
              "911   107.39   37.24    54.56   56.08  ...   24.37   53.58    75.38      3\n",
              "912   262.61   93.54   129.80  117.68  ...   39.50   74.33   116.61      3\n",
              "913   122.03   59.94   107.23   66.19  ...   67.23  146.06   358.06      2\n",
              "914   355.36  128.96   197.53  139.74  ...   64.71  143.47   263.84      2\n",
              "915   464.70  161.66   233.27  173.76  ...   73.11  150.38   262.66      2\n",
              "\n",
              "[916 rows x 19 columns]"
            ]
          },
          "metadata": {
            "tags": []
          },
          "execution_count": 4
        }
      ]
    },
    {
      "cell_type": "code",
      "metadata": {
        "id": "NBk0OlcStdtQ",
        "colab_type": "code",
        "colab": {
          "base_uri": "https://localhost:8080/",
          "height": 439
        },
        "outputId": "abddc1bd-baae-4ace-8f25-0992e58ac4b0"
      },
      "source": [
        "dataset2"
      ],
      "execution_count": null,
      "outputs": [
        {
          "output_type": "execute_result",
          "data": {
            "text/html": [
              "<div>\n",
              "<style scoped>\n",
              "    .dataframe tbody tr th:only-of-type {\n",
              "        vertical-align: middle;\n",
              "    }\n",
              "\n",
              "    .dataframe tbody tr th {\n",
              "        vertical-align: top;\n",
              "    }\n",
              "\n",
              "    .dataframe thead th {\n",
              "        text-align: right;\n",
              "    }\n",
              "</style>\n",
              "<table border=\"1\" class=\"dataframe\">\n",
              "  <thead>\n",
              "    <tr style=\"text-align: right;\">\n",
              "      <th></th>\n",
              "      <th>A</th>\n",
              "      <th>B</th>\n",
              "      <th>C</th>\n",
              "      <th>D</th>\n",
              "      <th>E</th>\n",
              "      <th>F</th>\n",
              "      <th>G</th>\n",
              "      <th>H</th>\n",
              "      <th>I</th>\n",
              "      <th>J</th>\n",
              "      <th>K</th>\n",
              "      <th>L</th>\n",
              "      <th>M</th>\n",
              "      <th>N</th>\n",
              "      <th>O</th>\n",
              "      <th>P</th>\n",
              "      <th>Q</th>\n",
              "      <th>R</th>\n",
              "      <th>Label</th>\n",
              "    </tr>\n",
              "  </thead>\n",
              "  <tbody>\n",
              "    <tr>\n",
              "      <th>0</th>\n",
              "      <td>1668.42</td>\n",
              "      <td>463.18</td>\n",
              "      <td>878.53</td>\n",
              "      <td>317.17</td>\n",
              "      <td>823.73</td>\n",
              "      <td>1628.71</td>\n",
              "      <td>286.43</td>\n",
              "      <td>295.68</td>\n",
              "      <td>133.87</td>\n",
              "      <td>125.02</td>\n",
              "      <td>465.16</td>\n",
              "      <td>135.39</td>\n",
              "      <td>2758.02</td>\n",
              "      <td>780.00</td>\n",
              "      <td>740.36</td>\n",
              "      <td>440.33</td>\n",
              "      <td>995.61</td>\n",
              "      <td>2289.73</td>\n",
              "      <td>1</td>\n",
              "    </tr>\n",
              "    <tr>\n",
              "      <th>1</th>\n",
              "      <td>1103.17</td>\n",
              "      <td>301.52</td>\n",
              "      <td>538.97</td>\n",
              "      <td>180.19</td>\n",
              "      <td>337.68</td>\n",
              "      <td>631.86</td>\n",
              "      <td>53.34</td>\n",
              "      <td>73.51</td>\n",
              "      <td>48.59</td>\n",
              "      <td>63.43</td>\n",
              "      <td>522.21</td>\n",
              "      <td>141.32</td>\n",
              "      <td>1784.00</td>\n",
              "      <td>478.40</td>\n",
              "      <td>674.80</td>\n",
              "      <td>394.96</td>\n",
              "      <td>1139.94</td>\n",
              "      <td>2601.86</td>\n",
              "      <td>1</td>\n",
              "    </tr>\n",
              "    <tr>\n",
              "      <th>2</th>\n",
              "      <td>1489.77</td>\n",
              "      <td>443.20</td>\n",
              "      <td>873.83</td>\n",
              "      <td>325.45</td>\n",
              "      <td>816.00</td>\n",
              "      <td>1592.00</td>\n",
              "      <td>324.12</td>\n",
              "      <td>332.43</td>\n",
              "      <td>148.16</td>\n",
              "      <td>145.25</td>\n",
              "      <td>504.76</td>\n",
              "      <td>147.25</td>\n",
              "      <td>2713.28</td>\n",
              "      <td>746.72</td>\n",
              "      <td>711.52</td>\n",
              "      <td>414.28</td>\n",
              "      <td>856.47</td>\n",
              "      <td>1948.15</td>\n",
              "      <td>1</td>\n",
              "    </tr>\n",
              "    <tr>\n",
              "      <th>3</th>\n",
              "      <td>892.30</td>\n",
              "      <td>286.08</td>\n",
              "      <td>560.60</td>\n",
              "      <td>239.95</td>\n",
              "      <td>694.68</td>\n",
              "      <td>1554.58</td>\n",
              "      <td>231.35</td>\n",
              "      <td>258.93</td>\n",
              "      <td>125.29</td>\n",
              "      <td>120.43</td>\n",
              "      <td>575.91</td>\n",
              "      <td>157.14</td>\n",
              "      <td>2754.58</td>\n",
              "      <td>650.00</td>\n",
              "      <td>749.10</td>\n",
              "      <td>438.65</td>\n",
              "      <td>1064.75</td>\n",
              "      <td>2374.53</td>\n",
              "      <td>2</td>\n",
              "    </tr>\n",
              "    <tr>\n",
              "      <th>4</th>\n",
              "      <td>1122.70</td>\n",
              "      <td>333.31</td>\n",
              "      <td>704.52</td>\n",
              "      <td>223.40</td>\n",
              "      <td>697.00</td>\n",
              "      <td>1485.39</td>\n",
              "      <td>126.40</td>\n",
              "      <td>168.96</td>\n",
              "      <td>104.81</td>\n",
              "      <td>85.03</td>\n",
              "      <td>388.64</td>\n",
              "      <td>107.72</td>\n",
              "      <td>2139.65</td>\n",
              "      <td>492.96</td>\n",
              "      <td>573.41</td>\n",
              "      <td>336.13</td>\n",
              "      <td>724.24</td>\n",
              "      <td>1611.29</td>\n",
              "      <td>2</td>\n",
              "    </tr>\n",
              "    <tr>\n",
              "      <th>...</th>\n",
              "      <td>...</td>\n",
              "      <td>...</td>\n",
              "      <td>...</td>\n",
              "      <td>...</td>\n",
              "      <td>...</td>\n",
              "      <td>...</td>\n",
              "      <td>...</td>\n",
              "      <td>...</td>\n",
              "      <td>...</td>\n",
              "      <td>...</td>\n",
              "      <td>...</td>\n",
              "      <td>...</td>\n",
              "      <td>...</td>\n",
              "      <td>...</td>\n",
              "      <td>...</td>\n",
              "      <td>...</td>\n",
              "      <td>...</td>\n",
              "      <td>...</td>\n",
              "      <td>...</td>\n",
              "    </tr>\n",
              "    <tr>\n",
              "      <th>439</th>\n",
              "      <td>329.00</td>\n",
              "      <td>100.81</td>\n",
              "      <td>220.10</td>\n",
              "      <td>70.79</td>\n",
              "      <td>140.64</td>\n",
              "      <td>144.02</td>\n",
              "      <td>31.89</td>\n",
              "      <td>44.43</td>\n",
              "      <td>51.45</td>\n",
              "      <td>54.24</td>\n",
              "      <td>484.62</td>\n",
              "      <td>127.49</td>\n",
              "      <td>1397.37</td>\n",
              "      <td>432.64</td>\n",
              "      <td>552.43</td>\n",
              "      <td>306.72</td>\n",
              "      <td>1063.02</td>\n",
              "      <td>2541.79</td>\n",
              "      <td>3</td>\n",
              "    </tr>\n",
              "    <tr>\n",
              "      <th>440</th>\n",
              "      <td>434.43</td>\n",
              "      <td>118.07</td>\n",
              "      <td>203.17</td>\n",
              "      <td>63.43</td>\n",
              "      <td>126.73</td>\n",
              "      <td>288.04</td>\n",
              "      <td>46.39</td>\n",
              "      <td>72.41</td>\n",
              "      <td>81.94</td>\n",
              "      <td>75.84</td>\n",
              "      <td>304.74</td>\n",
              "      <td>81.04</td>\n",
              "      <td>598.87</td>\n",
              "      <td>239.20</td>\n",
              "      <td>297.19</td>\n",
              "      <td>159.66</td>\n",
              "      <td>463.24</td>\n",
              "      <td>1093.04</td>\n",
              "      <td>3</td>\n",
              "    </tr>\n",
              "    <tr>\n",
              "      <th>441</th>\n",
              "      <td>907.92</td>\n",
              "      <td>219.78</td>\n",
              "      <td>447.73</td>\n",
              "      <td>103.89</td>\n",
              "      <td>255.77</td>\n",
              "      <td>589.50</td>\n",
              "      <td>23.77</td>\n",
              "      <td>35.66</td>\n",
              "      <td>38.11</td>\n",
              "      <td>41.37</td>\n",
              "      <td>207.41</td>\n",
              "      <td>64.24</td>\n",
              "      <td>1018.77</td>\n",
              "      <td>309.92</td>\n",
              "      <td>382.86</td>\n",
              "      <td>210.08</td>\n",
              "      <td>485.71</td>\n",
              "      <td>1121.31</td>\n",
              "      <td>3</td>\n",
              "    </tr>\n",
              "    <tr>\n",
              "      <th>442</th>\n",
              "      <td>555.49</td>\n",
              "      <td>151.67</td>\n",
              "      <td>336.74</td>\n",
              "      <td>69.87</td>\n",
              "      <td>187.77</td>\n",
              "      <td>377.00</td>\n",
              "      <td>24.93</td>\n",
              "      <td>37.85</td>\n",
              "      <td>46.21</td>\n",
              "      <td>45.96</td>\n",
              "      <td>245.00</td>\n",
              "      <td>73.13</td>\n",
              "      <td>583.96</td>\n",
              "      <td>165.36</td>\n",
              "      <td>284.96</td>\n",
              "      <td>150.42</td>\n",
              "      <td>378.54</td>\n",
              "      <td>864.54</td>\n",
              "      <td>3</td>\n",
              "    </tr>\n",
              "    <tr>\n",
              "      <th>443</th>\n",
              "      <td>419.79</td>\n",
              "      <td>130.78</td>\n",
              "      <td>221.04</td>\n",
              "      <td>79.98</td>\n",
              "      <td>139.86</td>\n",
              "      <td>259.10</td>\n",
              "      <td>94.51</td>\n",
              "      <td>128.37</td>\n",
              "      <td>83.85</td>\n",
              "      <td>86.41</td>\n",
              "      <td>229.56</td>\n",
              "      <td>71.16</td>\n",
              "      <td>1226.43</td>\n",
              "      <td>342.16</td>\n",
              "      <td>374.11</td>\n",
              "      <td>218.49</td>\n",
              "      <td>420.89</td>\n",
              "      <td>1024.72</td>\n",
              "      <td>3</td>\n",
              "    </tr>\n",
              "  </tbody>\n",
              "</table>\n",
              "<p>444 rows × 19 columns</p>\n",
              "</div>"
            ],
            "text/plain": [
              "           A       B       C       D  ...       P        Q        R  Label\n",
              "0    1668.42  463.18  878.53  317.17  ...  440.33   995.61  2289.73      1\n",
              "1    1103.17  301.52  538.97  180.19  ...  394.96  1139.94  2601.86      1\n",
              "2    1489.77  443.20  873.83  325.45  ...  414.28   856.47  1948.15      1\n",
              "3     892.30  286.08  560.60  239.95  ...  438.65  1064.75  2374.53      2\n",
              "4    1122.70  333.31  704.52  223.40  ...  336.13   724.24  1611.29      2\n",
              "..       ...     ...     ...     ...  ...     ...      ...      ...    ...\n",
              "439   329.00  100.81  220.10   70.79  ...  306.72  1063.02  2541.79      3\n",
              "440   434.43  118.07  203.17   63.43  ...  159.66   463.24  1093.04      3\n",
              "441   907.92  219.78  447.73  103.89  ...  210.08   485.71  1121.31      3\n",
              "442   555.49  151.67  336.74   69.87  ...  150.42   378.54   864.54      3\n",
              "443   419.79  130.78  221.04   79.98  ...  218.49   420.89  1024.72      3\n",
              "\n",
              "[444 rows x 19 columns]"
            ]
          },
          "metadata": {
            "tags": []
          },
          "execution_count": 5
        }
      ]
    },
    {
      "cell_type": "code",
      "metadata": {
        "id": "J3ORWisI7P7M",
        "colab_type": "code",
        "colab": {
          "base_uri": "https://localhost:8080/",
          "height": 34
        },
        "outputId": "b1045f63-a042-4a9c-a432-01f3c7a5c6cd"
      },
      "source": [
        "dataframe = pd.concat([dataset1,dataset2],axis=0).reset_index(drop=True)\n",
        "print(dataframe.shape)\n",
        "\n",
        "# conctenate the two datasets across axis=0 i.e. add rows not columns"
      ],
      "execution_count": null,
      "outputs": [
        {
          "output_type": "stream",
          "text": [
            "(1360, 19)\n"
          ],
          "name": "stdout"
        }
      ]
    },
    {
      "cell_type": "code",
      "metadata": {
        "id": "0Ll1pC2PtxTC",
        "colab_type": "code",
        "colab": {
          "base_uri": "https://localhost:8080/",
          "height": 439
        },
        "outputId": "8f0a410e-681e-4114-b131-703b724c6481"
      },
      "source": [
        "dataframe"
      ],
      "execution_count": null,
      "outputs": [
        {
          "output_type": "execute_result",
          "data": {
            "text/html": [
              "<div>\n",
              "<style scoped>\n",
              "    .dataframe tbody tr th:only-of-type {\n",
              "        vertical-align: middle;\n",
              "    }\n",
              "\n",
              "    .dataframe tbody tr th {\n",
              "        vertical-align: top;\n",
              "    }\n",
              "\n",
              "    .dataframe thead th {\n",
              "        text-align: right;\n",
              "    }\n",
              "</style>\n",
              "<table border=\"1\" class=\"dataframe\">\n",
              "  <thead>\n",
              "    <tr style=\"text-align: right;\">\n",
              "      <th></th>\n",
              "      <th>A</th>\n",
              "      <th>B</th>\n",
              "      <th>C</th>\n",
              "      <th>D</th>\n",
              "      <th>E</th>\n",
              "      <th>F</th>\n",
              "      <th>G</th>\n",
              "      <th>H</th>\n",
              "      <th>I</th>\n",
              "      <th>J</th>\n",
              "      <th>K</th>\n",
              "      <th>L</th>\n",
              "      <th>M</th>\n",
              "      <th>N</th>\n",
              "      <th>O</th>\n",
              "      <th>P</th>\n",
              "      <th>Q</th>\n",
              "      <th>R</th>\n",
              "      <th>Label</th>\n",
              "    </tr>\n",
              "  </thead>\n",
              "  <tbody>\n",
              "    <tr>\n",
              "      <th>0</th>\n",
              "      <td>413.93</td>\n",
              "      <td>257.93</td>\n",
              "      <td>546.50</td>\n",
              "      <td>165.48</td>\n",
              "      <td>341.55</td>\n",
              "      <td>520.31</td>\n",
              "      <td>692.89</td>\n",
              "      <td>719.72</td>\n",
              "      <td>279.17</td>\n",
              "      <td>155.36</td>\n",
              "      <td>178.55</td>\n",
              "      <td>68.19</td>\n",
              "      <td>1514.39</td>\n",
              "      <td>229.84</td>\n",
              "      <td>150.35</td>\n",
              "      <td>81.51</td>\n",
              "      <td>171.99</td>\n",
              "      <td>341.57</td>\n",
              "      <td>2</td>\n",
              "    </tr>\n",
              "    <tr>\n",
              "      <th>1</th>\n",
              "      <td>1153.94</td>\n",
              "      <td>408.69</td>\n",
              "      <td>759.07</td>\n",
              "      <td>338.32</td>\n",
              "      <td>1073.32</td>\n",
              "      <td>2065.71</td>\n",
              "      <td>530.54</td>\n",
              "      <td>673.10</td>\n",
              "      <td>370.16</td>\n",
              "      <td>206.84</td>\n",
              "      <td>539.66</td>\n",
              "      <td>169.00</td>\n",
              "      <td>4466.30</td>\n",
              "      <td>975.52</td>\n",
              "      <td>627.60</td>\n",
              "      <td>340.33</td>\n",
              "      <td>673.25</td>\n",
              "      <td>1431.08</td>\n",
              "      <td>2</td>\n",
              "    </tr>\n",
              "    <tr>\n",
              "      <th>2</th>\n",
              "      <td>489.10</td>\n",
              "      <td>207.98</td>\n",
              "      <td>412.93</td>\n",
              "      <td>140.66</td>\n",
              "      <td>356.23</td>\n",
              "      <td>644.56</td>\n",
              "      <td>120.60</td>\n",
              "      <td>217.23</td>\n",
              "      <td>176.74</td>\n",
              "      <td>119.51</td>\n",
              "      <td>263.79</td>\n",
              "      <td>86.97</td>\n",
              "      <td>1973.29</td>\n",
              "      <td>516.88</td>\n",
              "      <td>335.65</td>\n",
              "      <td>191.60</td>\n",
              "      <td>404.47</td>\n",
              "      <td>989.39</td>\n",
              "      <td>2</td>\n",
              "    </tr>\n",
              "    <tr>\n",
              "      <th>3</th>\n",
              "      <td>485.20</td>\n",
              "      <td>190.72</td>\n",
              "      <td>425.16</td>\n",
              "      <td>100.21</td>\n",
              "      <td>255.00</td>\n",
              "      <td>561.26</td>\n",
              "      <td>85.81</td>\n",
              "      <td>157.44</td>\n",
              "      <td>147.21</td>\n",
              "      <td>107.10</td>\n",
              "      <td>281.24</td>\n",
              "      <td>87.96</td>\n",
              "      <td>1583.22</td>\n",
              "      <td>422.24</td>\n",
              "      <td>324.29</td>\n",
              "      <td>174.79</td>\n",
              "      <td>387.18</td>\n",
              "      <td>885.74</td>\n",
              "      <td>2</td>\n",
              "    </tr>\n",
              "    <tr>\n",
              "      <th>4</th>\n",
              "      <td>1436.07</td>\n",
              "      <td>528.57</td>\n",
              "      <td>1056.31</td>\n",
              "      <td>398.07</td>\n",
              "      <td>1148.27</td>\n",
              "      <td>1986.64</td>\n",
              "      <td>619.83</td>\n",
              "      <td>655.54</td>\n",
              "      <td>312.99</td>\n",
              "      <td>129.62</td>\n",
              "      <td>234.26</td>\n",
              "      <td>93.89</td>\n",
              "      <td>2244.05</td>\n",
              "      <td>458.64</td>\n",
              "      <td>228.14</td>\n",
              "      <td>134.45</td>\n",
              "      <td>267.05</td>\n",
              "      <td>528.85</td>\n",
              "      <td>2</td>\n",
              "    </tr>\n",
              "    <tr>\n",
              "      <th>...</th>\n",
              "      <td>...</td>\n",
              "      <td>...</td>\n",
              "      <td>...</td>\n",
              "      <td>...</td>\n",
              "      <td>...</td>\n",
              "      <td>...</td>\n",
              "      <td>...</td>\n",
              "      <td>...</td>\n",
              "      <td>...</td>\n",
              "      <td>...</td>\n",
              "      <td>...</td>\n",
              "      <td>...</td>\n",
              "      <td>...</td>\n",
              "      <td>...</td>\n",
              "      <td>...</td>\n",
              "      <td>...</td>\n",
              "      <td>...</td>\n",
              "      <td>...</td>\n",
              "      <td>...</td>\n",
              "    </tr>\n",
              "    <tr>\n",
              "      <th>1355</th>\n",
              "      <td>329.00</td>\n",
              "      <td>100.81</td>\n",
              "      <td>220.10</td>\n",
              "      <td>70.79</td>\n",
              "      <td>140.64</td>\n",
              "      <td>144.02</td>\n",
              "      <td>31.89</td>\n",
              "      <td>44.43</td>\n",
              "      <td>51.45</td>\n",
              "      <td>54.24</td>\n",
              "      <td>484.62</td>\n",
              "      <td>127.49</td>\n",
              "      <td>1397.37</td>\n",
              "      <td>432.64</td>\n",
              "      <td>552.43</td>\n",
              "      <td>306.72</td>\n",
              "      <td>1063.02</td>\n",
              "      <td>2541.79</td>\n",
              "      <td>3</td>\n",
              "    </tr>\n",
              "    <tr>\n",
              "      <th>1356</th>\n",
              "      <td>434.43</td>\n",
              "      <td>118.07</td>\n",
              "      <td>203.17</td>\n",
              "      <td>63.43</td>\n",
              "      <td>126.73</td>\n",
              "      <td>288.04</td>\n",
              "      <td>46.39</td>\n",
              "      <td>72.41</td>\n",
              "      <td>81.94</td>\n",
              "      <td>75.84</td>\n",
              "      <td>304.74</td>\n",
              "      <td>81.04</td>\n",
              "      <td>598.87</td>\n",
              "      <td>239.20</td>\n",
              "      <td>297.19</td>\n",
              "      <td>159.66</td>\n",
              "      <td>463.24</td>\n",
              "      <td>1093.04</td>\n",
              "      <td>3</td>\n",
              "    </tr>\n",
              "    <tr>\n",
              "      <th>1357</th>\n",
              "      <td>907.92</td>\n",
              "      <td>219.78</td>\n",
              "      <td>447.73</td>\n",
              "      <td>103.89</td>\n",
              "      <td>255.77</td>\n",
              "      <td>589.50</td>\n",
              "      <td>23.77</td>\n",
              "      <td>35.66</td>\n",
              "      <td>38.11</td>\n",
              "      <td>41.37</td>\n",
              "      <td>207.41</td>\n",
              "      <td>64.24</td>\n",
              "      <td>1018.77</td>\n",
              "      <td>309.92</td>\n",
              "      <td>382.86</td>\n",
              "      <td>210.08</td>\n",
              "      <td>485.71</td>\n",
              "      <td>1121.31</td>\n",
              "      <td>3</td>\n",
              "    </tr>\n",
              "    <tr>\n",
              "      <th>1358</th>\n",
              "      <td>555.49</td>\n",
              "      <td>151.67</td>\n",
              "      <td>336.74</td>\n",
              "      <td>69.87</td>\n",
              "      <td>187.77</td>\n",
              "      <td>377.00</td>\n",
              "      <td>24.93</td>\n",
              "      <td>37.85</td>\n",
              "      <td>46.21</td>\n",
              "      <td>45.96</td>\n",
              "      <td>245.00</td>\n",
              "      <td>73.13</td>\n",
              "      <td>583.96</td>\n",
              "      <td>165.36</td>\n",
              "      <td>284.96</td>\n",
              "      <td>150.42</td>\n",
              "      <td>378.54</td>\n",
              "      <td>864.54</td>\n",
              "      <td>3</td>\n",
              "    </tr>\n",
              "    <tr>\n",
              "      <th>1359</th>\n",
              "      <td>419.79</td>\n",
              "      <td>130.78</td>\n",
              "      <td>221.04</td>\n",
              "      <td>79.98</td>\n",
              "      <td>139.86</td>\n",
              "      <td>259.10</td>\n",
              "      <td>94.51</td>\n",
              "      <td>128.37</td>\n",
              "      <td>83.85</td>\n",
              "      <td>86.41</td>\n",
              "      <td>229.56</td>\n",
              "      <td>71.16</td>\n",
              "      <td>1226.43</td>\n",
              "      <td>342.16</td>\n",
              "      <td>374.11</td>\n",
              "      <td>218.49</td>\n",
              "      <td>420.89</td>\n",
              "      <td>1024.72</td>\n",
              "      <td>3</td>\n",
              "    </tr>\n",
              "  </tbody>\n",
              "</table>\n",
              "<p>1360 rows × 19 columns</p>\n",
              "</div>"
            ],
            "text/plain": [
              "            A       B        C       D  ...       P        Q        R  Label\n",
              "0      413.93  257.93   546.50  165.48  ...   81.51   171.99   341.57      2\n",
              "1     1153.94  408.69   759.07  338.32  ...  340.33   673.25  1431.08      2\n",
              "2      489.10  207.98   412.93  140.66  ...  191.60   404.47   989.39      2\n",
              "3      485.20  190.72   425.16  100.21  ...  174.79   387.18   885.74      2\n",
              "4     1436.07  528.57  1056.31  398.07  ...  134.45   267.05   528.85      2\n",
              "...       ...     ...      ...     ...  ...     ...      ...      ...    ...\n",
              "1355   329.00  100.81   220.10   70.79  ...  306.72  1063.02  2541.79      3\n",
              "1356   434.43  118.07   203.17   63.43  ...  159.66   463.24  1093.04      3\n",
              "1357   907.92  219.78   447.73  103.89  ...  210.08   485.71  1121.31      3\n",
              "1358   555.49  151.67   336.74   69.87  ...  150.42   378.54   864.54      3\n",
              "1359   419.79  130.78   221.04   79.98  ...  218.49   420.89  1024.72      3\n",
              "\n",
              "[1360 rows x 19 columns]"
            ]
          },
          "metadata": {
            "tags": []
          },
          "execution_count": 7
        }
      ]
    },
    {
      "cell_type": "code",
      "metadata": {
        "id": "-e0p0dpg7R4q",
        "colab_type": "code",
        "colab": {
          "base_uri": "https://localhost:8080/",
          "height": 221
        },
        "outputId": "cd343dea-1dba-4930-80ff-89eaa5e733d6"
      },
      "source": [
        "dataframe['Label'].map(lambda x: int(x))\n",
        "# change the datatype of all the values of the 'LABEL' column to int, just for easier calculations"
      ],
      "execution_count": null,
      "outputs": [
        {
          "output_type": "execute_result",
          "data": {
            "text/plain": [
              "0       2\n",
              "1       2\n",
              "2       2\n",
              "3       2\n",
              "4       2\n",
              "       ..\n",
              "1355    3\n",
              "1356    3\n",
              "1357    3\n",
              "1358    3\n",
              "1359    3\n",
              "Name: Label, Length: 1360, dtype: int64"
            ]
          },
          "metadata": {
            "tags": []
          },
          "execution_count": 8
        }
      ]
    },
    {
      "cell_type": "code",
      "metadata": {
        "id": "C90xsSEleiug",
        "colab_type": "code",
        "colab": {
          "base_uri": "https://localhost:8080/",
          "height": 224
        },
        "outputId": "9d7793fb-3c58-44ad-b031-a653c1d7b8d7"
      },
      "source": [
        "dataframe.head()\n",
        "# print out the heading values of the newly constructed dataframe"
      ],
      "execution_count": null,
      "outputs": [
        {
          "output_type": "execute_result",
          "data": {
            "text/html": [
              "<div>\n",
              "<style scoped>\n",
              "    .dataframe tbody tr th:only-of-type {\n",
              "        vertical-align: middle;\n",
              "    }\n",
              "\n",
              "    .dataframe tbody tr th {\n",
              "        vertical-align: top;\n",
              "    }\n",
              "\n",
              "    .dataframe thead th {\n",
              "        text-align: right;\n",
              "    }\n",
              "</style>\n",
              "<table border=\"1\" class=\"dataframe\">\n",
              "  <thead>\n",
              "    <tr style=\"text-align: right;\">\n",
              "      <th></th>\n",
              "      <th>A</th>\n",
              "      <th>B</th>\n",
              "      <th>C</th>\n",
              "      <th>D</th>\n",
              "      <th>E</th>\n",
              "      <th>F</th>\n",
              "      <th>G</th>\n",
              "      <th>H</th>\n",
              "      <th>I</th>\n",
              "      <th>J</th>\n",
              "      <th>K</th>\n",
              "      <th>L</th>\n",
              "      <th>M</th>\n",
              "      <th>N</th>\n",
              "      <th>O</th>\n",
              "      <th>P</th>\n",
              "      <th>Q</th>\n",
              "      <th>R</th>\n",
              "      <th>Label</th>\n",
              "    </tr>\n",
              "  </thead>\n",
              "  <tbody>\n",
              "    <tr>\n",
              "      <th>0</th>\n",
              "      <td>413.93</td>\n",
              "      <td>257.93</td>\n",
              "      <td>546.50</td>\n",
              "      <td>165.48</td>\n",
              "      <td>341.55</td>\n",
              "      <td>520.31</td>\n",
              "      <td>692.89</td>\n",
              "      <td>719.72</td>\n",
              "      <td>279.17</td>\n",
              "      <td>155.36</td>\n",
              "      <td>178.55</td>\n",
              "      <td>68.19</td>\n",
              "      <td>1514.39</td>\n",
              "      <td>229.84</td>\n",
              "      <td>150.35</td>\n",
              "      <td>81.51</td>\n",
              "      <td>171.99</td>\n",
              "      <td>341.57</td>\n",
              "      <td>2</td>\n",
              "    </tr>\n",
              "    <tr>\n",
              "      <th>1</th>\n",
              "      <td>1153.94</td>\n",
              "      <td>408.69</td>\n",
              "      <td>759.07</td>\n",
              "      <td>338.32</td>\n",
              "      <td>1073.32</td>\n",
              "      <td>2065.71</td>\n",
              "      <td>530.54</td>\n",
              "      <td>673.10</td>\n",
              "      <td>370.16</td>\n",
              "      <td>206.84</td>\n",
              "      <td>539.66</td>\n",
              "      <td>169.00</td>\n",
              "      <td>4466.30</td>\n",
              "      <td>975.52</td>\n",
              "      <td>627.60</td>\n",
              "      <td>340.33</td>\n",
              "      <td>673.25</td>\n",
              "      <td>1431.08</td>\n",
              "      <td>2</td>\n",
              "    </tr>\n",
              "    <tr>\n",
              "      <th>2</th>\n",
              "      <td>489.10</td>\n",
              "      <td>207.98</td>\n",
              "      <td>412.93</td>\n",
              "      <td>140.66</td>\n",
              "      <td>356.23</td>\n",
              "      <td>644.56</td>\n",
              "      <td>120.60</td>\n",
              "      <td>217.23</td>\n",
              "      <td>176.74</td>\n",
              "      <td>119.51</td>\n",
              "      <td>263.79</td>\n",
              "      <td>86.97</td>\n",
              "      <td>1973.29</td>\n",
              "      <td>516.88</td>\n",
              "      <td>335.65</td>\n",
              "      <td>191.60</td>\n",
              "      <td>404.47</td>\n",
              "      <td>989.39</td>\n",
              "      <td>2</td>\n",
              "    </tr>\n",
              "    <tr>\n",
              "      <th>3</th>\n",
              "      <td>485.20</td>\n",
              "      <td>190.72</td>\n",
              "      <td>425.16</td>\n",
              "      <td>100.21</td>\n",
              "      <td>255.00</td>\n",
              "      <td>561.26</td>\n",
              "      <td>85.81</td>\n",
              "      <td>157.44</td>\n",
              "      <td>147.21</td>\n",
              "      <td>107.10</td>\n",
              "      <td>281.24</td>\n",
              "      <td>87.96</td>\n",
              "      <td>1583.22</td>\n",
              "      <td>422.24</td>\n",
              "      <td>324.29</td>\n",
              "      <td>174.79</td>\n",
              "      <td>387.18</td>\n",
              "      <td>885.74</td>\n",
              "      <td>2</td>\n",
              "    </tr>\n",
              "    <tr>\n",
              "      <th>4</th>\n",
              "      <td>1436.07</td>\n",
              "      <td>528.57</td>\n",
              "      <td>1056.31</td>\n",
              "      <td>398.07</td>\n",
              "      <td>1148.27</td>\n",
              "      <td>1986.64</td>\n",
              "      <td>619.83</td>\n",
              "      <td>655.54</td>\n",
              "      <td>312.99</td>\n",
              "      <td>129.62</td>\n",
              "      <td>234.26</td>\n",
              "      <td>93.89</td>\n",
              "      <td>2244.05</td>\n",
              "      <td>458.64</td>\n",
              "      <td>228.14</td>\n",
              "      <td>134.45</td>\n",
              "      <td>267.05</td>\n",
              "      <td>528.85</td>\n",
              "      <td>2</td>\n",
              "    </tr>\n",
              "  </tbody>\n",
              "</table>\n",
              "</div>"
            ],
            "text/plain": [
              "         A       B        C       D  ...       P       Q        R  Label\n",
              "0   413.93  257.93   546.50  165.48  ...   81.51  171.99   341.57      2\n",
              "1  1153.94  408.69   759.07  338.32  ...  340.33  673.25  1431.08      2\n",
              "2   489.10  207.98   412.93  140.66  ...  191.60  404.47   989.39      2\n",
              "3   485.20  190.72   425.16  100.21  ...  174.79  387.18   885.74      2\n",
              "4  1436.07  528.57  1056.31  398.07  ...  134.45  267.05   528.85      2\n",
              "\n",
              "[5 rows x 19 columns]"
            ]
          },
          "metadata": {
            "tags": []
          },
          "execution_count": 9
        }
      ]
    },
    {
      "cell_type": "code",
      "metadata": {
        "id": "za20MgyZTDPH",
        "colab_type": "code",
        "colab": {
          "base_uri": "https://localhost:8080/",
          "height": 357
        },
        "outputId": "471a74fa-c14c-4c05-e629-a998be817806"
      },
      "source": [
        "dataframe.dtypes\n",
        "# confirm the datatypes of all columns of the dataset"
      ],
      "execution_count": null,
      "outputs": [
        {
          "output_type": "execute_result",
          "data": {
            "text/plain": [
              "A        float64\n",
              "B        float64\n",
              "C        float64\n",
              "D        float64\n",
              "E        float64\n",
              "F        float64\n",
              "G        float64\n",
              "H        float64\n",
              "I        float64\n",
              "J        float64\n",
              "K        float64\n",
              "L        float64\n",
              "M        float64\n",
              "N        float64\n",
              "O        float64\n",
              "P        float64\n",
              "Q        float64\n",
              "R        float64\n",
              "Label      int64\n",
              "dtype: object"
            ]
          },
          "metadata": {
            "tags": []
          },
          "execution_count": 10
        }
      ]
    },
    {
      "cell_type": "code",
      "metadata": {
        "id": "92QD9pPxqmKM",
        "colab_type": "code",
        "colab": {}
      },
      "source": [
        "dataframe = shuffle(dataframe)\n",
        "dataframeOriginal = dataframe.copy()\n",
        "# Use this method to shuffle the dataframe"
      ],
      "execution_count": null,
      "outputs": []
    },
    {
      "cell_type": "code",
      "metadata": {
        "id": "gfQP1NDLaAti",
        "colab_type": "code",
        "colab": {}
      },
      "source": [
        "target = dataframe.pop('Label')\n",
        "# remove label from the dataframe and change it to X_train and y_train"
      ],
      "execution_count": null,
      "outputs": []
    },
    {
      "cell_type": "code",
      "metadata": {
        "id": "1kPKlfeZaAwf",
        "colab_type": "code",
        "colab": {
          "base_uri": "https://localhost:8080/",
          "height": 224
        },
        "outputId": "2eda14f1-c77a-4e9b-ef06-9ea4d6607cad"
      },
      "source": [
        "dataframe.head()"
      ],
      "execution_count": null,
      "outputs": [
        {
          "output_type": "execute_result",
          "data": {
            "text/html": [
              "<div>\n",
              "<style scoped>\n",
              "    .dataframe tbody tr th:only-of-type {\n",
              "        vertical-align: middle;\n",
              "    }\n",
              "\n",
              "    .dataframe tbody tr th {\n",
              "        vertical-align: top;\n",
              "    }\n",
              "\n",
              "    .dataframe thead th {\n",
              "        text-align: right;\n",
              "    }\n",
              "</style>\n",
              "<table border=\"1\" class=\"dataframe\">\n",
              "  <thead>\n",
              "    <tr style=\"text-align: right;\">\n",
              "      <th></th>\n",
              "      <th>A</th>\n",
              "      <th>B</th>\n",
              "      <th>C</th>\n",
              "      <th>D</th>\n",
              "      <th>E</th>\n",
              "      <th>F</th>\n",
              "      <th>G</th>\n",
              "      <th>H</th>\n",
              "      <th>I</th>\n",
              "      <th>J</th>\n",
              "      <th>K</th>\n",
              "      <th>L</th>\n",
              "      <th>M</th>\n",
              "      <th>N</th>\n",
              "      <th>O</th>\n",
              "      <th>P</th>\n",
              "      <th>Q</th>\n",
              "      <th>R</th>\n",
              "    </tr>\n",
              "  </thead>\n",
              "  <tbody>\n",
              "    <tr>\n",
              "      <th>566</th>\n",
              "      <td>68.34</td>\n",
              "      <td>28.15</td>\n",
              "      <td>30.10</td>\n",
              "      <td>30.34</td>\n",
              "      <td>31.68</td>\n",
              "      <td>24.71</td>\n",
              "      <td>73.64</td>\n",
              "      <td>108.62</td>\n",
              "      <td>164.36</td>\n",
              "      <td>62.97</td>\n",
              "      <td>82.56</td>\n",
              "      <td>34.59</td>\n",
              "      <td>315.50</td>\n",
              "      <td>83.20</td>\n",
              "      <td>47.20</td>\n",
              "      <td>25.21</td>\n",
              "      <td>76.05</td>\n",
              "      <td>174.32</td>\n",
              "    </tr>\n",
              "    <tr>\n",
              "      <th>718</th>\n",
              "      <td>320.21</td>\n",
              "      <td>145.31</td>\n",
              "      <td>282.18</td>\n",
              "      <td>62.52</td>\n",
              "      <td>141.41</td>\n",
              "      <td>253.45</td>\n",
              "      <td>67.26</td>\n",
              "      <td>94.90</td>\n",
              "      <td>79.08</td>\n",
              "      <td>35.39</td>\n",
              "      <td>99.34</td>\n",
              "      <td>45.46</td>\n",
              "      <td>388.92</td>\n",
              "      <td>99.84</td>\n",
              "      <td>83.91</td>\n",
              "      <td>47.90</td>\n",
              "      <td>92.47</td>\n",
              "      <td>199.06</td>\n",
              "    </tr>\n",
              "    <tr>\n",
              "      <th>227</th>\n",
              "      <td>570.13</td>\n",
              "      <td>200.71</td>\n",
              "      <td>409.17</td>\n",
              "      <td>89.18</td>\n",
              "      <td>180.82</td>\n",
              "      <td>293.69</td>\n",
              "      <td>37.69</td>\n",
              "      <td>60.89</td>\n",
              "      <td>81.46</td>\n",
              "      <td>54.24</td>\n",
              "      <td>149.68</td>\n",
              "      <td>56.33</td>\n",
              "      <td>631.00</td>\n",
              "      <td>202.80</td>\n",
              "      <td>170.45</td>\n",
              "      <td>91.60</td>\n",
              "      <td>179.76</td>\n",
              "      <td>408.71</td>\n",
              "    </tr>\n",
              "    <tr>\n",
              "      <th>125</th>\n",
              "      <td>292.88</td>\n",
              "      <td>119.88</td>\n",
              "      <td>146.74</td>\n",
              "      <td>129.63</td>\n",
              "      <td>145.27</td>\n",
              "      <td>108.02</td>\n",
              "      <td>58.56</td>\n",
              "      <td>115.20</td>\n",
              "      <td>122.43</td>\n",
              "      <td>60.67</td>\n",
              "      <td>184.59</td>\n",
              "      <td>77.09</td>\n",
              "      <td>449.73</td>\n",
              "      <td>44.72</td>\n",
              "      <td>101.40</td>\n",
              "      <td>37.81</td>\n",
              "      <td>63.95</td>\n",
              "      <td>77.74</td>\n",
              "    </tr>\n",
              "    <tr>\n",
              "      <th>216</th>\n",
              "      <td>899.13</td>\n",
              "      <td>300.61</td>\n",
              "      <td>601.05</td>\n",
              "      <td>184.79</td>\n",
              "      <td>371.68</td>\n",
              "      <td>535.14</td>\n",
              "      <td>57.98</td>\n",
              "      <td>103.13</td>\n",
              "      <td>220.57</td>\n",
              "      <td>79.06</td>\n",
              "      <td>264.46</td>\n",
              "      <td>94.87</td>\n",
              "      <td>938.46</td>\n",
              "      <td>352.56</td>\n",
              "      <td>158.21</td>\n",
              "      <td>84.03</td>\n",
              "      <td>197.91</td>\n",
              "      <td>401.64</td>\n",
              "    </tr>\n",
              "  </tbody>\n",
              "</table>\n",
              "</div>"
            ],
            "text/plain": [
              "          A       B       C       D  ...       O      P       Q       R\n",
              "566   68.34   28.15   30.10   30.34  ...   47.20  25.21   76.05  174.32\n",
              "718  320.21  145.31  282.18   62.52  ...   83.91  47.90   92.47  199.06\n",
              "227  570.13  200.71  409.17   89.18  ...  170.45  91.60  179.76  408.71\n",
              "125  292.88  119.88  146.74  129.63  ...  101.40  37.81   63.95   77.74\n",
              "216  899.13  300.61  601.05  184.79  ...  158.21  84.03  197.91  401.64\n",
              "\n",
              "[5 rows x 18 columns]"
            ]
          },
          "metadata": {
            "tags": []
          },
          "execution_count": 13
        }
      ]
    },
    {
      "cell_type": "code",
      "metadata": {
        "id": "ZXSrDX-xaAj7",
        "colab_type": "code",
        "colab": {
          "base_uri": "https://localhost:8080/",
          "height": 119
        },
        "outputId": "1fca0b36-b231-42a7-c9e2-6547a8b5596a"
      },
      "source": [
        "target.head()"
      ],
      "execution_count": null,
      "outputs": [
        {
          "output_type": "execute_result",
          "data": {
            "text/plain": [
              "566    3\n",
              "718    2\n",
              "227    2\n",
              "125    2\n",
              "216    3\n",
              "Name: Label, dtype: int64"
            ]
          },
          "metadata": {
            "tags": []
          },
          "execution_count": 14
        }
      ]
    },
    {
      "cell_type": "code",
      "metadata": {
        "id": "9YVtaczCTi7l",
        "colab_type": "code",
        "colab": {
          "base_uri": "https://localhost:8080/",
          "height": 51
        },
        "outputId": "68928d2b-5caf-4793-8e31-e70d9eecf2cd"
      },
      "source": [
        "X_train, X_test, y_train, y_test = train_test_split(dataframe, target, test_size=0.2) \n",
        "print (X_train.shape, y_train.shape) \n",
        "print (X_test.shape, y_test.shape)\n",
        "# split the datasets for testing, and print out their dimensions"
      ],
      "execution_count": null,
      "outputs": [
        {
          "output_type": "stream",
          "text": [
            "(1088, 18) (1088,)\n",
            "(272, 18) (272,)\n"
          ],
          "name": "stdout"
        }
      ]
    },
    {
      "cell_type": "code",
      "metadata": {
        "id": "xsZ16mz_W23f",
        "colab_type": "code",
        "colab": {}
      },
      "source": [
        "# save all the files using pickle \n",
        "X_train.to_pickle('X_train.pickle')\n",
        "X_test.to_pickle('X_test.pickle')\n",
        "y_train.to_pickle('y_train.pickle')\n",
        "y_test.to_pickle('y_test.pickle')\n",
        "dataframeOriginal.to_pickle('dataframeOriginal.pickle')\n",
        "dataframe.to_pickle('dataframe.pickle')\n",
        "target.to_pickle('target.pickle')"
      ],
      "execution_count": null,
      "outputs": []
    },
    {
      "cell_type": "markdown",
      "metadata": {
        "id": "zIX_OfBNFfwe",
        "colab_type": "text"
      },
      "source": [
        "# **Plotting**"
      ]
    },
    {
      "cell_type": "code",
      "metadata": {
        "id": "tBG8HsM1Fk1a",
        "colab_type": "code",
        "colab": {}
      },
      "source": [
        "plot_df = pd.read_csv(\"https://github.com/choprahetarth/FruitSpectroClassify/blob/master/PaperDocs/graphingData.csv\")"
      ],
      "execution_count": null,
      "outputs": []
    },
    {
      "cell_type": "code",
      "metadata": {
        "id": "m-DB8JCpFwRi",
        "colab_type": "code",
        "colab": {
          "base_uri": "https://localhost:8080/",
          "height": 162
        },
        "outputId": "d23b796c-95ac-440d-b9da-3ab9b09232cc"
      },
      "source": [
        "plot_df"
      ],
      "execution_count": null,
      "outputs": [
        {
          "output_type": "execute_result",
          "data": {
            "text/html": [
              "<div>\n",
              "<style scoped>\n",
              "    .dataframe tbody tr th:only-of-type {\n",
              "        vertical-align: middle;\n",
              "    }\n",
              "\n",
              "    .dataframe tbody tr th {\n",
              "        vertical-align: top;\n",
              "    }\n",
              "\n",
              "    .dataframe thead th {\n",
              "        text-align: right;\n",
              "    }\n",
              "</style>\n",
              "<table border=\"1\" class=\"dataframe\">\n",
              "  <thead>\n",
              "    <tr style=\"text-align: right;\">\n",
              "      <th></th>\n",
              "      <th>410</th>\n",
              "      <th>435</th>\n",
              "      <th>460</th>\n",
              "      <th>485</th>\n",
              "      <th>510</th>\n",
              "      <th>535</th>\n",
              "      <th>560</th>\n",
              "      <th>585</th>\n",
              "      <th>610</th>\n",
              "      <th>645</th>\n",
              "      <th>680</th>\n",
              "      <th>705</th>\n",
              "      <th>730</th>\n",
              "      <th>760</th>\n",
              "      <th>810</th>\n",
              "      <th>860</th>\n",
              "      <th>900</th>\n",
              "      <th>940</th>\n",
              "      <th>label</th>\n",
              "    </tr>\n",
              "  </thead>\n",
              "  <tbody>\n",
              "    <tr>\n",
              "      <th>0</th>\n",
              "      <td>1103.17</td>\n",
              "      <td>301.52</td>\n",
              "      <td>538.97</td>\n",
              "      <td>180.19</td>\n",
              "      <td>337.68</td>\n",
              "      <td>631.86</td>\n",
              "      <td>53.34</td>\n",
              "      <td>73.51</td>\n",
              "      <td>48.59</td>\n",
              "      <td>63.43</td>\n",
              "      <td>522.21</td>\n",
              "      <td>141.32</td>\n",
              "      <td>1784.00</td>\n",
              "      <td>478.40</td>\n",
              "      <td>674.80</td>\n",
              "      <td>394.96</td>\n",
              "      <td>1139.94</td>\n",
              "      <td>2601.86</td>\n",
              "      <td>normala</td>\n",
              "    </tr>\n",
              "    <tr>\n",
              "      <th>1</th>\n",
              "      <td>591.61</td>\n",
              "      <td>294.26</td>\n",
              "      <td>666.89</td>\n",
              "      <td>261.09</td>\n",
              "      <td>877.82</td>\n",
              "      <td>1857.45</td>\n",
              "      <td>346.73</td>\n",
              "      <td>365.90</td>\n",
              "      <td>162.45</td>\n",
              "      <td>133.76</td>\n",
              "      <td>361.12</td>\n",
              "      <td>110.69</td>\n",
              "      <td>2643.30</td>\n",
              "      <td>614.64</td>\n",
              "      <td>537.57</td>\n",
              "      <td>314.28</td>\n",
              "      <td>636.09</td>\n",
              "      <td>1391.03</td>\n",
              "      <td>normalaa</td>\n",
              "    </tr>\n",
              "    <tr>\n",
              "      <th>2</th>\n",
              "      <td>411.98</td>\n",
              "      <td>156.21</td>\n",
              "      <td>240.80</td>\n",
              "      <td>91.01</td>\n",
              "      <td>150.68</td>\n",
              "      <td>161.67</td>\n",
              "      <td>61.46</td>\n",
              "      <td>113.01</td>\n",
              "      <td>139.11</td>\n",
              "      <td>71.70</td>\n",
              "      <td>175.86</td>\n",
              "      <td>63.25</td>\n",
              "      <td>407.28</td>\n",
              "      <td>157.04</td>\n",
              "      <td>149.47</td>\n",
              "      <td>87.39</td>\n",
              "      <td>185.81</td>\n",
              "      <td>363.95</td>\n",
              "      <td>normalaaa</td>\n",
              "    </tr>\n",
              "  </tbody>\n",
              "</table>\n",
              "</div>"
            ],
            "text/plain": [
              "       410     435     460     485  ...     860      900      940      label\n",
              "0  1103.17  301.52  538.97  180.19  ...  394.96  1139.94  2601.86    normala\n",
              "1   591.61  294.26  666.89  261.09  ...  314.28   636.09  1391.03   normalaa\n",
              "2   411.98  156.21  240.80   91.01  ...   87.39   185.81   363.95  normalaaa\n",
              "\n",
              "[3 rows x 19 columns]"
            ]
          },
          "metadata": {
            "tags": []
          },
          "execution_count": 4
        }
      ]
    },
    {
      "cell_type": "code",
      "metadata": {
        "id": "CF9DFsJ0WUmx",
        "colab_type": "code",
        "colab": {
          "base_uri": "https://localhost:8080/",
          "height": 162
        },
        "outputId": "d92ce9d8-be20-4524-8376-4e7d41a2c7cc"
      },
      "source": [
        "#map the labels according to the provided pre-requisits\n",
        "labelMapping = {'normala':'A', 'normalaa':'B', 'normalaaa':'C'}\n",
        "for label, newLabel in labelMapping.items():\n",
        "  plot_df['label'] = plot_df['label'].replace(label,newLabel)\n",
        "plot_df"
      ],
      "execution_count": null,
      "outputs": [
        {
          "output_type": "execute_result",
          "data": {
            "text/html": [
              "<div>\n",
              "<style scoped>\n",
              "    .dataframe tbody tr th:only-of-type {\n",
              "        vertical-align: middle;\n",
              "    }\n",
              "\n",
              "    .dataframe tbody tr th {\n",
              "        vertical-align: top;\n",
              "    }\n",
              "\n",
              "    .dataframe thead th {\n",
              "        text-align: right;\n",
              "    }\n",
              "</style>\n",
              "<table border=\"1\" class=\"dataframe\">\n",
              "  <thead>\n",
              "    <tr style=\"text-align: right;\">\n",
              "      <th></th>\n",
              "      <th>410</th>\n",
              "      <th>435</th>\n",
              "      <th>460</th>\n",
              "      <th>485</th>\n",
              "      <th>510</th>\n",
              "      <th>535</th>\n",
              "      <th>560</th>\n",
              "      <th>585</th>\n",
              "      <th>610</th>\n",
              "      <th>645</th>\n",
              "      <th>680</th>\n",
              "      <th>705</th>\n",
              "      <th>730</th>\n",
              "      <th>760</th>\n",
              "      <th>810</th>\n",
              "      <th>860</th>\n",
              "      <th>900</th>\n",
              "      <th>940</th>\n",
              "      <th>label</th>\n",
              "    </tr>\n",
              "  </thead>\n",
              "  <tbody>\n",
              "    <tr>\n",
              "      <th>0</th>\n",
              "      <td>1103.17</td>\n",
              "      <td>301.52</td>\n",
              "      <td>538.97</td>\n",
              "      <td>180.19</td>\n",
              "      <td>337.68</td>\n",
              "      <td>631.86</td>\n",
              "      <td>53.34</td>\n",
              "      <td>73.51</td>\n",
              "      <td>48.59</td>\n",
              "      <td>63.43</td>\n",
              "      <td>522.21</td>\n",
              "      <td>141.32</td>\n",
              "      <td>1784.00</td>\n",
              "      <td>478.40</td>\n",
              "      <td>674.80</td>\n",
              "      <td>394.96</td>\n",
              "      <td>1139.94</td>\n",
              "      <td>2601.86</td>\n",
              "      <td>A</td>\n",
              "    </tr>\n",
              "    <tr>\n",
              "      <th>1</th>\n",
              "      <td>591.61</td>\n",
              "      <td>294.26</td>\n",
              "      <td>666.89</td>\n",
              "      <td>261.09</td>\n",
              "      <td>877.82</td>\n",
              "      <td>1857.45</td>\n",
              "      <td>346.73</td>\n",
              "      <td>365.90</td>\n",
              "      <td>162.45</td>\n",
              "      <td>133.76</td>\n",
              "      <td>361.12</td>\n",
              "      <td>110.69</td>\n",
              "      <td>2643.30</td>\n",
              "      <td>614.64</td>\n",
              "      <td>537.57</td>\n",
              "      <td>314.28</td>\n",
              "      <td>636.09</td>\n",
              "      <td>1391.03</td>\n",
              "      <td>B</td>\n",
              "    </tr>\n",
              "    <tr>\n",
              "      <th>2</th>\n",
              "      <td>411.98</td>\n",
              "      <td>156.21</td>\n",
              "      <td>240.80</td>\n",
              "      <td>91.01</td>\n",
              "      <td>150.68</td>\n",
              "      <td>161.67</td>\n",
              "      <td>61.46</td>\n",
              "      <td>113.01</td>\n",
              "      <td>139.11</td>\n",
              "      <td>71.70</td>\n",
              "      <td>175.86</td>\n",
              "      <td>63.25</td>\n",
              "      <td>407.28</td>\n",
              "      <td>157.04</td>\n",
              "      <td>149.47</td>\n",
              "      <td>87.39</td>\n",
              "      <td>185.81</td>\n",
              "      <td>363.95</td>\n",
              "      <td>C</td>\n",
              "    </tr>\n",
              "  </tbody>\n",
              "</table>\n",
              "</div>"
            ],
            "text/plain": [
              "       410     435     460     485  ...     860      900      940  label\n",
              "0  1103.17  301.52  538.97  180.19  ...  394.96  1139.94  2601.86      A\n",
              "1   591.61  294.26  666.89  261.09  ...  314.28   636.09  1391.03      B\n",
              "2   411.98  156.21  240.80   91.01  ...   87.39   185.81   363.95      C\n",
              "\n",
              "[3 rows x 19 columns]"
            ]
          },
          "metadata": {
            "tags": []
          },
          "execution_count": 5
        }
      ]
    },
    {
      "cell_type": "code",
      "metadata": {
        "id": "e7ZZyzx8bakY",
        "colab_type": "code",
        "colab": {
          "base_uri": "https://localhost:8080/",
          "height": 162
        },
        "outputId": "0ce6c0fe-73c9-46fd-db3f-d40ced4f7e76"
      },
      "source": [
        "X = plot_df.drop(columns = ['label'])\n",
        "Y = plot_df['label']\n",
        "X"
      ],
      "execution_count": null,
      "outputs": [
        {
          "output_type": "execute_result",
          "data": {
            "text/html": [
              "<div>\n",
              "<style scoped>\n",
              "    .dataframe tbody tr th:only-of-type {\n",
              "        vertical-align: middle;\n",
              "    }\n",
              "\n",
              "    .dataframe tbody tr th {\n",
              "        vertical-align: top;\n",
              "    }\n",
              "\n",
              "    .dataframe thead th {\n",
              "        text-align: right;\n",
              "    }\n",
              "</style>\n",
              "<table border=\"1\" class=\"dataframe\">\n",
              "  <thead>\n",
              "    <tr style=\"text-align: right;\">\n",
              "      <th></th>\n",
              "      <th>410</th>\n",
              "      <th>435</th>\n",
              "      <th>460</th>\n",
              "      <th>485</th>\n",
              "      <th>510</th>\n",
              "      <th>535</th>\n",
              "      <th>560</th>\n",
              "      <th>585</th>\n",
              "      <th>610</th>\n",
              "      <th>645</th>\n",
              "      <th>680</th>\n",
              "      <th>705</th>\n",
              "      <th>730</th>\n",
              "      <th>760</th>\n",
              "      <th>810</th>\n",
              "      <th>860</th>\n",
              "      <th>900</th>\n",
              "      <th>940</th>\n",
              "    </tr>\n",
              "  </thead>\n",
              "  <tbody>\n",
              "    <tr>\n",
              "      <th>0</th>\n",
              "      <td>1103.17</td>\n",
              "      <td>301.52</td>\n",
              "      <td>538.97</td>\n",
              "      <td>180.19</td>\n",
              "      <td>337.68</td>\n",
              "      <td>631.86</td>\n",
              "      <td>53.34</td>\n",
              "      <td>73.51</td>\n",
              "      <td>48.59</td>\n",
              "      <td>63.43</td>\n",
              "      <td>522.21</td>\n",
              "      <td>141.32</td>\n",
              "      <td>1784.00</td>\n",
              "      <td>478.40</td>\n",
              "      <td>674.80</td>\n",
              "      <td>394.96</td>\n",
              "      <td>1139.94</td>\n",
              "      <td>2601.86</td>\n",
              "    </tr>\n",
              "    <tr>\n",
              "      <th>1</th>\n",
              "      <td>591.61</td>\n",
              "      <td>294.26</td>\n",
              "      <td>666.89</td>\n",
              "      <td>261.09</td>\n",
              "      <td>877.82</td>\n",
              "      <td>1857.45</td>\n",
              "      <td>346.73</td>\n",
              "      <td>365.90</td>\n",
              "      <td>162.45</td>\n",
              "      <td>133.76</td>\n",
              "      <td>361.12</td>\n",
              "      <td>110.69</td>\n",
              "      <td>2643.30</td>\n",
              "      <td>614.64</td>\n",
              "      <td>537.57</td>\n",
              "      <td>314.28</td>\n",
              "      <td>636.09</td>\n",
              "      <td>1391.03</td>\n",
              "    </tr>\n",
              "    <tr>\n",
              "      <th>2</th>\n",
              "      <td>411.98</td>\n",
              "      <td>156.21</td>\n",
              "      <td>240.80</td>\n",
              "      <td>91.01</td>\n",
              "      <td>150.68</td>\n",
              "      <td>161.67</td>\n",
              "      <td>61.46</td>\n",
              "      <td>113.01</td>\n",
              "      <td>139.11</td>\n",
              "      <td>71.70</td>\n",
              "      <td>175.86</td>\n",
              "      <td>63.25</td>\n",
              "      <td>407.28</td>\n",
              "      <td>157.04</td>\n",
              "      <td>149.47</td>\n",
              "      <td>87.39</td>\n",
              "      <td>185.81</td>\n",
              "      <td>363.95</td>\n",
              "    </tr>\n",
              "  </tbody>\n",
              "</table>\n",
              "</div>"
            ],
            "text/plain": [
              "       410     435     460     485  ...     810     860      900      940\n",
              "0  1103.17  301.52  538.97  180.19  ...  674.80  394.96  1139.94  2601.86\n",
              "1   591.61  294.26  666.89  261.09  ...  537.57  314.28   636.09  1391.03\n",
              "2   411.98  156.21  240.80   91.01  ...  149.47   87.39   185.81   363.95\n",
              "\n",
              "[3 rows x 18 columns]"
            ]
          },
          "metadata": {
            "tags": []
          },
          "execution_count": 6
        }
      ]
    },
    {
      "cell_type": "code",
      "metadata": {
        "id": "eMPfCG0rbxx7",
        "colab_type": "code",
        "colab": {
          "base_uri": "https://localhost:8080/",
          "height": 513
        },
        "outputId": "1dc933e6-e72c-454e-bf5e-c2912f3f9281"
      },
      "source": [
        "fig, ax = plt.subplots()\n",
        "plt.xlabel('Wavelength')\n",
        "plt.ylabel('Luminous Flux per Unit Area (Normalized)')\n",
        "plt.title('Spectra comparison between different apple grades.')\n",
        "plt.plot(list(X.iloc[0]),label='A Grade Apple Spectra')\n",
        "plt.plot(list(X.iloc[1]),label='B Grade Apple Spectra')\n",
        "plt.plot(list(X.iloc[2]),label='C Grade Apple Spectra')\n",
        "fig.set_size_inches(15, 8) \n",
        "legend = ax.legend(loc='best', shadow=True, fontsize='x-large')\n",
        "legend.get_frame().set_facecolor('skyblue')\n",
        "plt.show()\n",
        "import tikzplotlib\n",
        "#tikzplotlib.save(\"test.tex\")"
      ],
      "execution_count": null,
      "outputs": [
        {
          "output_type": "display_data",
          "data": {
            "image/png": "[encoded data removed]",
            "text/plain": [
              "<Figure size 1080x576 with 1 Axes>"
            ]
          },
          "metadata": {
            "tags": [],
            "needs_background": "light"
          }
        }
      ]
    },
    {
      "cell_type": "markdown",
      "metadata": {
        "id": "tm4IG3hgiSAD",
        "colab_type": "text"
      },
      "source": [
        "# **DATA PREP AND FEATURE EXTRACTION**"
      ]
    },
    {
      "cell_type": "markdown",
      "metadata": {
        "id": "tsFgdAzMj8Ws",
        "colab_type": "text"
      },
      "source": [
        "### **INITIAL EXPLORATORY DATA ANALYSIS**"
      ]
    },
    {
      "cell_type": "code",
      "metadata": {
        "id": "a637PQV1kBIf",
        "colab_type": "code",
        "colab": {
          "base_uri": "https://localhost:8080/",
          "height": 34
        },
        "outputId": "507497cd-e412-482a-fa60-c52c1e436463"
      },
      "source": [
        "dataframeOriginal.shape"
      ],
      "execution_count": null,
      "outputs": [
        {
          "output_type": "execute_result",
          "data": {
            "text/plain": [
              "(1360, 19)"
            ]
          },
          "metadata": {
            "tags": []
          },
          "execution_count": 16
        }
      ]
    },
    {
      "cell_type": "code",
      "metadata": {
        "id": "J4DRDimcn2qu",
        "colab_type": "code",
        "colab": {
          "base_uri": "https://localhost:8080/",
          "height": 287
        },
        "outputId": "a517154f-f79c-42f2-a13f-b7c030adcaa7"
      },
      "source": [
        "l = dataframeOriginal.columns.values\n",
        "number_of_columns=18\n",
        "number_of_rows = len(l)-1/number_of_columns\n",
        "plt.figure(figsize=(2*number_of_columns,5*number_of_rows))\n",
        "for i in range(0,len(l)):\n",
        "    plt.subplot(number_of_rows + 1,number_of_columns,i+1)\n",
        "    sns.distplot(dataframeOriginal[l[i]],kde=True)"
      ],
      "execution_count": null,
      "outputs": [
        {
          "output_type": "display_data",
          "data": {
            "image/png": "[encoded data removed]",
            "text/plain": [
              "<Figure size 2592x6820 with 19 Axes>"
            ]
          },
          "metadata": {
            "tags": [],
            "needs_background": "light"
          }
        }
      ]
    },
    {
      "cell_type": "markdown",
      "metadata": {
        "id": "cTBRdPYpCjxs",
        "colab_type": "text"
      },
      "source": [
        "### **FEATURE IMPORTANCE STATISTICAL APROACHES**"
      ]
    },
    {
      "cell_type": "code",
      "metadata": {
        "id": "1JAZCT-WP6_k",
        "colab_type": "code",
        "colab": {
          "base_uri": "https://localhost:8080/",
          "height": 1000
        },
        "outputId": "1e12dfad-fff0-4459-e430-7339c7d2d8e5"
      },
      "source": [
        "!sudo apt install texlive-fonts-recommended texlive-fonts-extra\n",
        "!sudo apt-get install dvipng\n",
        "!sudo apt-get install texlive-latex-extra texlive-fonts-recommended dvipng\n",
        "!sudo apt-get -y install texlive-latex-recommended texlive-pictures texlive-latex-extra texlive-full"
      ],
      "execution_count": null,
      "outputs": [
        {
          "output_type": "stream",
          "text": [
            "Reading package lists... Done\n",
            "Building dependency tree       \n",
            "Reading state information... Done\n",
            "The following package was automatically installed and is no longer required:\n",
            "  libnvidia-common-440\n",
            "Use 'sudo apt autoremove' to remove it.\n",
            "The following additional packages will be installed:\n",
            "  fonts-adf-accanthis fonts-adf-berenis fonts-adf-gillius\n",
            "  fonts-adf-universalis fonts-cabin fonts-comfortaa fonts-croscore\n",
            "  fonts-crosextra-caladea fonts-crosextra-carlito fonts-dejavu-core\n",
            "  fonts-dejavu-extra fonts-droid-fallback fonts-ebgaramond\n",
            "  fonts-ebgaramond-extra fonts-font-awesome fonts-freefont-otf\n",
            "  fonts-freefont-ttf fonts-gfs-artemisia fonts-gfs-complutum fonts-gfs-didot\n",
            "  fonts-gfs-neohellenic fonts-gfs-olga fonts-gfs-solomos fonts-go\n",
            "  fonts-junicode fonts-lato fonts-linuxlibertine fonts-lmodern fonts-lobster\n",
            "  fonts-lobstertwo fonts-noto-hinted fonts-noto-mono fonts-oflb-asana-math\n",
            "  fonts-open-sans fonts-roboto-hinted fonts-sil-gentium\n",
            "  fonts-sil-gentium-basic fonts-sil-gentiumplus fonts-sil-gentiumplus-compact\n",
            "  fonts-stix fonts-texgyre javascript-common libcupsfilters1 libcupsimage2\n",
            "  libgs9 libgs9-common libijs-0.35 libjbig2dec0 libjs-jquery libkpathsea6\n",
            "  libpotrace0 libptexenc1 libruby2.5 libsynctex1 libtexlua52 libtexluajit2\n",
            "  libzzip-0-13 lmodern poppler-data preview-latex-style rake ruby\n",
            "  ruby-did-you-mean ruby-minitest ruby-net-telnet ruby-power-assert\n",
            "  ruby-test-unit ruby2.5 rubygems-integration t1utils tex-common tex-gyre\n",
            "  texlive-base texlive-binaries texlive-fonts-extra-links texlive-latex-base\n",
            "  texlive-latex-extra texlive-latex-recommended texlive-pictures\n",
            "  texlive-plain-generic tipa\n",
            "Suggested packages:\n",
            "  fonts-noto fontforge apache2 | lighttpd | httpd poppler-utils ghostscript\n",
            "  fonts-japanese-mincho | fonts-ipafont-mincho fonts-japanese-gothic\n",
            "  | fonts-ipafont-gothic fonts-arphic-ukai fonts-arphic-uming fonts-nanum ri\n",
            "  ruby-dev bundler debhelper gv | postscript-viewer perl-tk xpdf-reader\n",
            "  | pdf-viewer cm-super texlive-fonts-extra-doc texlive-fonts-recommended-doc\n",
            "  texlive-latex-base-doc python-pygments icc-profiles libfile-which-perl\n",
            "  libspreadsheet-parseexcel-perl texlive-latex-extra-doc\n",
            "  texlive-latex-recommended-doc texlive-pstricks dot2tex prerex ruby-tcltk\n",
            "  | libtcltk-ruby texlive-pictures-doc vprerex\n",
            "The following NEW packages will be installed:\n",
            "  fonts-adf-accanthis fonts-adf-berenis fonts-adf-gillius\n",
            "  fonts-adf-universalis fonts-cabin fonts-comfortaa fonts-croscore\n",
            "  fonts-crosextra-caladea fonts-crosextra-carlito fonts-dejavu-core\n",
            "  fonts-dejavu-extra fonts-droid-fallback fonts-ebgaramond\n",
            "  fonts-ebgaramond-extra fonts-font-awesome fonts-freefont-otf\n",
            "  fonts-freefont-ttf fonts-gfs-artemisia fonts-gfs-complutum fonts-gfs-didot\n",
            "  fonts-gfs-neohellenic fonts-gfs-olga fonts-gfs-solomos fonts-go\n",
            "  fonts-junicode fonts-lato fonts-linuxlibertine fonts-lmodern fonts-lobster\n",
            "  fonts-lobstertwo fonts-noto-hinted fonts-noto-mono fonts-oflb-asana-math\n",
            "  fonts-open-sans fonts-roboto-hinted fonts-sil-gentium\n",
            "  fonts-sil-gentium-basic fonts-sil-gentiumplus fonts-sil-gentiumplus-compact\n",
            "  fonts-stix fonts-texgyre javascript-common libcupsfilters1 libcupsimage2\n",
            "  libgs9 libgs9-common libijs-0.35 libjbig2dec0 libjs-jquery libkpathsea6\n",
            "  libpotrace0 libptexenc1 libruby2.5 libsynctex1 libtexlua52 libtexluajit2\n",
            "  libzzip-0-13 lmodern poppler-data preview-latex-style rake ruby\n",
            "  ruby-did-you-mean ruby-minitest ruby-net-telnet ruby-power-assert\n",
            "  ruby-test-unit ruby2.5 rubygems-integration t1utils tex-common tex-gyre\n",
            "  texlive-base texlive-binaries texlive-fonts-extra texlive-fonts-extra-links\n",
            "  texlive-fonts-recommended texlive-latex-base texlive-latex-extra\n",
            "  texlive-latex-recommended texlive-pictures texlive-plain-generic tipa\n",
            "0 upgraded, 83 newly installed, 0 to remove and 35 not upgraded.\n",
            "Need to get 526 MB of archives.\n",
            "After this operation, 1,486 MB of additional disk space will be used.\n",
            "Get:1 http://archive.ubuntu.com/ubuntu bionic/main amd64 fonts-droid-fallback all 1:6.0.1r16-1.1 [1,805 kB]\n",
            "Get:2 http://archive.ubuntu.com/ubuntu bionic/main amd64 fonts-lato all 2.0-2 [2,698 kB]\n",
            "Get:3 http://archive.ubuntu.com/ubuntu bionic/main amd64 poppler-data all 0.4.8-2 [1,479 kB]\n",
            "Get:4 http://archive.ubuntu.com/ubuntu bionic/main amd64 tex-common all 6.09 [33.0 kB]\n",
            "Get:5 http://archive.ubuntu.com/ubuntu bionic/universe amd64 fonts-adf-accanthis all 0.20110505-1 [202 kB]\n",
            "Get:6 http://archive.ubuntu.com/ubuntu bionic/universe amd64 fonts-adf-berenis all 0.20110505-1 [281 kB]\n",
            "Get:7 http://archive.ubuntu.com/ubuntu bionic/universe amd64 fonts-adf-gillius all 0.20110505-1 [190 kB]\n",
            "Get:8 http://archive.ubuntu.com/ubuntu bionic/universe amd64 fonts-adf-universalis all 0.20110505-1 [111 kB]\n",
            "Get:9 http://archive.ubuntu.com/ubuntu bionic/universe amd64 fonts-cabin all 1.5-2 [140 kB]\n",
            "Get:10 http://archive.ubuntu.com/ubuntu bionic/universe amd64 fonts-comfortaa all 3.001-2 [129 kB]\n",
            "Get:11 http://archive.ubuntu.com/ubuntu bionic/universe amd64 fonts-croscore all 20171026-2 [2,135 kB]\n",
            "Get:12 http://archive.ubuntu.com/ubuntu bionic/universe amd64 fonts-crosextra-caladea all 20130214-2 [82.4 kB]\n",
            "Get:13 http://archive.ubuntu.com/ubuntu bionic/universe amd64 fonts-crosextra-carlito all 20130920-1 [742 kB]\n",
            "Get:14 http://archive.ubuntu.com/ubuntu bionic/main amd64 fonts-dejavu-core all 2.37-1 [1,041 kB]\n",
            "Get:15 http://archive.ubuntu.com/ubuntu bionic/main amd64 fonts-dejavu-extra all 2.37-1 [1,953 kB]\n",
            "Get:16 http://archive.ubuntu.com/ubuntu bionic/universe amd64 fonts-ebgaramond all 0.016-1 [474 kB]\n",
            "Get:17 http://archive.ubuntu.com/ubuntu bionic/universe amd64 fonts-ebgaramond-extra all 0.016-1 [2,157 kB]\n",
            "Get:18 http://archive.ubuntu.com/ubuntu bionic/main amd64 fonts-font-awesome all 4.7.0~dfsg-3 [513 kB]\n",
            "Get:19 http://archive.ubuntu.com/ubuntu bionic/universe amd64 fonts-freefont-otf all 20120503-7 [3,055 kB]\n",
            "Get:20 http://archive.ubuntu.com/ubuntu bionic/main amd64 fonts-freefont-ttf all 20120503-7 [4,202 kB]\n",
            "Get:21 http://archive.ubuntu.com/ubuntu bionic/universe amd64 fonts-gfs-artemisia all 1.1-5 [260 kB]\n",
            "Get:22 http://archive.ubuntu.com/ubuntu bionic/universe amd64 fonts-gfs-complutum all 1.1-6 [41.6 kB]\n",
            "Get:23 http://archive.ubuntu.com/ubuntu bionic/universe amd64 fonts-gfs-didot all 1.1-6 [278 kB]\n",
            "Get:24 http://archive.ubuntu.com/ubuntu bionic/universe amd64 fonts-gfs-neohellenic all 1.1-6 [215 kB]\n",
            "Get:25 http://archive.ubuntu.com/ubuntu bionic/universe amd64 fonts-gfs-olga all 1.1-5 [33.4 kB]\n",
            "Get:26 http://archive.ubuntu.com/ubuntu bionic/universe amd64 fonts-gfs-solomos all 1.1-5 [40.7 kB]\n",
            "Get:27 http://archive.ubuntu.com/ubuntu bionic/universe amd64 fonts-go all 0~20161116-1 [348 kB]\n",
            "Get:28 http://archive.ubuntu.com/ubuntu bionic/universe amd64 fonts-junicode all 1.001-2 [684 kB]\n",
            "Get:29 http://archive.ubuntu.com/ubuntu bionic/universe amd64 fonts-linuxlibertine all 5.3.0-4 [1,627 kB]\n",
            "Get:30 http://archive.ubuntu.com/ubuntu bionic/main amd64 fonts-lmodern all 2.004.5-3 [4,551 kB]\n",
            "Get:31 http://archive.ubuntu.com/ubuntu bionic/universe amd64 fonts-lobster all 2.0-2 [38.7 kB]\n",
            "Get:32 http://archive.ubuntu.com/ubuntu bionic/universe amd64 fonts-lobstertwo all 2.0-2 [92.7 kB]\n",
            "Get:33 http://archive.ubuntu.com/ubuntu bionic/universe amd64 fonts-noto-hinted all 20171026-2 [6,653 kB]\n",
            "Get:34 http://archive.ubuntu.com/ubuntu bionic/main amd64 fonts-noto-mono all 20171026-2 [75.5 kB]\n",
            "Get:35 http://archive.ubuntu.com/ubuntu bionic/universe amd64 fonts-oflb-asana-math all 000.907-6 [246 kB]\n",
            "Get:36 http://archive.ubuntu.com/ubuntu bionic/universe amd64 fonts-open-sans all 1.11-1 [575 kB]\n",
            "Get:37 http://archive.ubuntu.com/ubuntu bionic/universe amd64 fonts-roboto-hinted all 2:0~20160106-2 [2,918 kB]\n",
            "Get:38 http://archive.ubuntu.com/ubuntu bionic/universe amd64 fonts-sil-gentium all 20081126:1.03-2 [245 kB]\n",
            "Get:39 http://archive.ubuntu.com/ubuntu bionic/universe amd64 fonts-sil-gentium-basic all 1.102-1 [384 kB]\n",
            "Get:40 http://archive.ubuntu.com/ubuntu bionic/universe amd64 fonts-sil-gentiumplus all 5.000-2 [2,807 kB]\n",
            "Get:41 http://archive.ubuntu.com/ubuntu bionic/universe amd64 fonts-sil-gentiumplus-compact all 5.000-2 [1,514 kB]\n",
            "Get:42 http://archive.ubuntu.com/ubuntu bionic/universe amd64 fonts-texgyre all 20160520-1 [8,761 kB]\n",
            "Get:43 http://archive.ubuntu.com/ubuntu bionic/main amd64 javascript-common all 11 [6,066 B]\n",
            "Get:44 http://archive.ubuntu.com/ubuntu bionic-updates/main amd64 libcupsfilters1 amd64 1.20.2-0ubuntu3.1 [108 kB]\n",
            "Get:45 http://archive.ubuntu.com/ubuntu bionic-updates/main amd64 libcupsimage2 amd64 2.2.7-1ubuntu2.8 [18.6 kB]\n",
            "Get:46 http://archive.ubuntu.com/ubuntu bionic/main amd64 libijs-0.35 amd64 0.35-13 [15.5 kB]\n",
            "Get:47 http://archive.ubuntu.com/ubuntu bionic/main amd64 libjbig2dec0 amd64 0.13-6 [55.9 kB]\n",
            "Get:48 http://archive.ubuntu.com/ubuntu bionic-updates/main amd64 libgs9-common all 9.26~dfsg+0-0ubuntu0.18.04.12 [5,092 kB]\n",
            "Get:49 http://archive.ubuntu.com/ubuntu bionic-updates/main amd64 libgs9 amd64 9.26~dfsg+0-0ubuntu0.18.04.12 [2,264 kB]\n",
            "Get:50 http://archive.ubuntu.com/ubuntu bionic/main amd64 libjs-jquery all 3.2.1-1 [152 kB]\n",
            "Get:51 http://archive.ubuntu.com/ubuntu bionic-updates/main amd64 libkpathsea6 amd64 2017.20170613.44572-8ubuntu0.1 [54.9 kB]\n",
            "Get:52 http://archive.ubuntu.com/ubuntu bionic/main amd64 libpotrace0 amd64 1.14-2 [17.4 kB]\n",
            "Get:53 http://archive.ubuntu.com/ubuntu bionic-updates/main amd64 libptexenc1 amd64 2017.20170613.44572-8ubuntu0.1 [34.5 kB]\n",
            "Get:54 http://archive.ubuntu.com/ubuntu bionic/main amd64 rubygems-integration all 1.11 [4,994 B]\n",
            "Get:55 http://archive.ubuntu.com/ubuntu bionic-updates/main amd64 ruby2.5 amd64 2.5.1-1ubuntu1.6 [48.6 kB]\n",
            "Get:56 http://archive.ubuntu.com/ubuntu bionic/main amd64 ruby amd64 1:2.5.1 [5,712 B]\n",
            "Get:57 http://archive.ubuntu.com/ubuntu bionic-updates/main amd64 rake all 12.3.1-1ubuntu0.1 [44.9 kB]\n",
            "Get:58 http://archive.ubuntu.com/ubuntu bionic/main amd64 ruby-did-you-mean all 1.2.0-2 [9,700 B]\n",
            "Get:59 http://archive.ubuntu.com/ubuntu bionic/main amd64 ruby-minitest all 5.10.3-1 [38.6 kB]\n",
            "Get:60 http://archive.ubuntu.com/ubuntu bionic/main amd64 ruby-net-telnet all 0.1.1-2 [12.6 kB]\n",
            "Get:61 http://archive.ubuntu.com/ubuntu bionic/main amd64 ruby-power-assert all 0.3.0-1 [7,952 B]\n",
            "Get:62 http://archive.ubuntu.com/ubuntu bionic/main amd64 ruby-test-unit all 3.2.5-1 [61.1 kB]\n",
            "Get:63 http://archive.ubuntu.com/ubuntu bionic-updates/main amd64 libruby2.5 amd64 2.5.1-1ubuntu1.6 [3,069 kB]\n",
            "Get:64 http://archive.ubuntu.com/ubuntu bionic-updates/main amd64 libsynctex1 amd64 2017.20170613.44572-8ubuntu0.1 [41.4 kB]\n",
            "Get:65 http://archive.ubuntu.com/ubuntu bionic-updates/main amd64 libtexlua52 amd64 2017.20170613.44572-8ubuntu0.1 [91.2 kB]\n",
            "Get:66 http://archive.ubuntu.com/ubuntu bionic-updates/main amd64 libtexluajit2 amd64 2017.20170613.44572-8ubuntu0.1 [230 kB]\n",
            "Get:67 http://archive.ubuntu.com/ubuntu bionic-updates/main amd64 libzzip-0-13 amd64 0.13.62-3.1ubuntu0.18.04.1 [26.0 kB]\n",
            "Get:68 http://archive.ubuntu.com/ubuntu bionic/main amd64 lmodern all 2.004.5-3 [9,631 kB]\n",
            "Get:69 http://archive.ubuntu.com/ubuntu bionic/main amd64 preview-latex-style all 11.91-1ubuntu1 [185 kB]\n",
            "Get:70 http://archive.ubuntu.com/ubuntu bionic/main amd64 t1utils amd64 1.41-2 [56.0 kB]\n",
            "Get:71 http://archive.ubuntu.com/ubuntu bionic/universe amd64 tex-gyre all 20160520-1 [4,998 kB]\n",
            "Get:72 http://archive.ubuntu.com/ubuntu bionic-updates/main amd64 texlive-binaries amd64 2017.20170613.44572-8ubuntu0.1 [8,179 kB]\n",
            "Get:73 http://archive.ubuntu.com/ubuntu bionic/main amd64 texlive-base all 2017.20180305-1 [18.7 MB]\n",
            "Get:74 http://archive.ubuntu.com/ubuntu bionic/universe amd64 texlive-fonts-extra all 2017.20180305-2 [354 MB]\n",
            "Get:75 http://archive.ubuntu.com/ubuntu bionic/universe amd64 fonts-stix all 1.1.1-4 [591 kB]\n",
            "Get:76 http://archive.ubuntu.com/ubuntu bionic/universe amd64 texlive-fonts-extra-links all 2017.20180305-2 [20.6 kB]\n",
            "Get:77 http://archive.ubuntu.com/ubuntu bionic/universe amd64 texlive-fonts-recommended all 2017.20180305-1 [5,262 kB]\n",
            "Get:78 http://archive.ubuntu.com/ubuntu bionic/main amd64 texlive-latex-base all 2017.20180305-1 [951 kB]\n",
            "Get:79 http://archive.ubuntu.com/ubuntu bionic/main amd64 texlive-latex-recommended all 2017.20180305-1 [14.9 MB]\n",
            "Get:80 http://archive.ubuntu.com/ubuntu bionic/universe amd64 texlive-pictures all 2017.20180305-1 [4,026 kB]\n",
            "Get:81 http://archive.ubuntu.com/ubuntu bionic/universe amd64 texlive-latex-extra all 2017.20180305-2 [10.6 MB]\n",
            "Get:82 http://archive.ubuntu.com/ubuntu bionic/universe amd64 texlive-plain-generic all 2017.20180305-2 [23.6 MB]\n",
            "Get:83 http://archive.ubuntu.com/ubuntu bionic/universe amd64 tipa all 2:1.3-20 [2,978 kB]\n",
            "Fetched 526 MB in 17s (30.1 MB/s)\n",
            "debconf: unable to initialize frontend: Dialog\n",
            "debconf: (No usable dialog-like program is installed, so the dialog based frontend cannot be used. at /usr/share/perl5/Debconf/FrontEnd/Dialog.pm line 76, <> line 83.)\n",
            "debconf: falling back to frontend: Readline\n",
            "debconf: unable to initialize frontend: Readline\n",
            "debconf: (This frontend requires a controlling tty.)\n",
            "debconf: falling back to frontend: Teletype\n",
            "dpkg-preconfigure: unable to re-open stdin: \n",
            "Selecting previously unselected package fonts-droid-fallback.\n",
            "(Reading database ... 144487 files and directories currently installed.)\n",
            "Preparing to unpack .../00-fonts-droid-fallback_1%3a6.0.1r16-1.1_all.deb ...\n",
            "Unpacking fonts-droid-fallback (1:6.0.1r16-1.1) ...\n",
            "Selecting previously unselected package fonts-lato.\n",
            "Preparing to unpack .../01-fonts-lato_2.0-2_all.deb ...\n",
            "Unpacking fonts-lato (2.0-2) ...\n",
            "Selecting previously unselected package poppler-data.\n",
            "Preparing to unpack .../02-poppler-data_0.4.8-2_all.deb ...\n",
            "Unpacking poppler-data (0.4.8-2) ...\n",
            "Selecting previously unselected package tex-common.\n",
            "Preparing to unpack .../03-tex-common_6.09_all.deb ...\n",
            "Unpacking tex-common (6.09) ...\n",
            "Selecting previously unselected package fonts-adf-accanthis.\n",
            "Preparing to unpack .../04-fonts-adf-accanthis_0.20110505-1_all.deb ...\n",
            "Unpacking fonts-adf-accanthis (0.20110505-1) ...\n",
            "Selecting previously unselected package fonts-adf-berenis.\n",
            "Preparing to unpack .../05-fonts-adf-berenis_0.20110505-1_all.deb ...\n",
            "Unpacking fonts-adf-berenis (0.20110505-1) ...\n",
            "Selecting previously unselected package fonts-adf-gillius.\n",
            "Preparing to unpack .../06-fonts-adf-gillius_0.20110505-1_all.deb ...\n",
            "Unpacking fonts-adf-gillius (0.20110505-1) ...\n",
            "Selecting previously unselected package fonts-adf-universalis.\n",
            "Preparing to unpack .../07-fonts-adf-universalis_0.20110505-1_all.deb ...\n",
            "Unpacking fonts-adf-universalis (0.20110505-1) ...\n",
            "Selecting previously unselected package fonts-cabin.\n",
            "Preparing to unpack .../08-fonts-cabin_1.5-2_all.deb ...\n",
            "Unpacking fonts-cabin (1.5-2) ...\n",
            "Selecting previously unselected package fonts-comfortaa.\n",
            "Preparing to unpack .../09-fonts-comfortaa_3.001-2_all.deb ...\n",
            "Unpacking fonts-comfortaa (3.001-2) ...\n",
            "Selecting previously unselected package fonts-croscore.\n",
            "Preparing to unpack .../10-fonts-croscore_20171026-2_all.deb ...\n",
            "Unpacking fonts-croscore (20171026-2) ...\n",
            "Selecting previously unselected package fonts-crosextra-caladea.\n",
            "Preparing to unpack .../11-fonts-crosextra-caladea_20130214-2_all.deb ...\n",
            "Unpacking fonts-crosextra-caladea (20130214-2) ...\n",
            "Selecting previously unselected package fonts-crosextra-carlito.\n",
            "Preparing to unpack .../12-fonts-crosextra-carlito_20130920-1_all.deb ...\n",
            "Unpacking fonts-crosextra-carlito (20130920-1) ...\n",
            "Selecting previously unselected package fonts-dejavu-core.\n",
            "Preparing to unpack .../13-fonts-dejavu-core_2.37-1_all.deb ...\n",
            "Unpacking fonts-dejavu-core (2.37-1) ...\n",
            "Selecting previously unselected package fonts-dejavu-extra.\n",
            "Preparing to unpack .../14-fonts-dejavu-extra_2.37-1_all.deb ...\n",
            "Unpacking fonts-dejavu-extra (2.37-1) ...\n",
            "Selecting previously unselected package fonts-ebgaramond.\n",
            "Preparing to unpack .../15-fonts-ebgaramond_0.016-1_all.deb ...\n",
            "Unpacking fonts-ebgaramond (0.016-1) ...\n",
            "Selecting previously unselected package fonts-ebgaramond-extra.\n",
            "Preparing to unpack .../16-fonts-ebgaramond-extra_0.016-1_all.deb ...\n",
            "Unpacking fonts-ebgaramond-extra (0.016-1) ...\n",
            "Selecting previously unselected package fonts-font-awesome.\n",
            "Preparing to unpack .../17-fonts-font-awesome_4.7.0~dfsg-3_all.deb ...\n",
            "Unpacking fonts-font-awesome (4.7.0~dfsg-3) ...\n",
            "Selecting previously unselected package fonts-freefont-otf.\n",
            "Preparing to unpack .../18-fonts-freefont-otf_20120503-7_all.deb ...\n",
            "Unpacking fonts-freefont-otf (20120503-7) ...\n",
            "Selecting previously unselected package fonts-freefont-ttf.\n",
            "Preparing to unpack .../19-fonts-freefont-ttf_20120503-7_all.deb ...\n",
            "Unpacking fonts-freefont-ttf (20120503-7) ...\n",
            "Selecting previously unselected package fonts-gfs-artemisia.\n",
            "Preparing to unpack .../20-fonts-gfs-artemisia_1.1-5_all.deb ...\n",
            "Unpacking fonts-gfs-artemisia (1.1-5) ...\n",
            "Selecting previously unselected package fonts-gfs-complutum.\n",
            "Preparing to unpack .../21-fonts-gfs-complutum_1.1-6_all.deb ...\n",
            "Unpacking fonts-gfs-complutum (1.1-6) ...\n",
            "Selecting previously unselected package fonts-gfs-didot.\n",
            "Preparing to unpack .../22-fonts-gfs-didot_1.1-6_all.deb ...\n",
            "Unpacking fonts-gfs-didot (1.1-6) ...\n",
            "Selecting previously unselected package fonts-gfs-neohellenic.\n",
            "Preparing to unpack .../23-fonts-gfs-neohellenic_1.1-6_all.deb ...\n",
            "Unpacking fonts-gfs-neohellenic (1.1-6) ...\n",
            "Selecting previously unselected package fonts-gfs-olga.\n",
            "Preparing to unpack .../24-fonts-gfs-olga_1.1-5_all.deb ...\n",
            "Unpacking fonts-gfs-olga (1.1-5) ...\n",
            "Selecting previously unselected package fonts-gfs-solomos.\n",
            "Preparing to unpack .../25-fonts-gfs-solomos_1.1-5_all.deb ...\n",
            "Unpacking fonts-gfs-solomos (1.1-5) ...\n",
            "Selecting previously unselected package fonts-go.\n",
            "Preparing to unpack .../26-fonts-go_0~20161116-1_all.deb ...\n",
            "Unpacking fonts-go (0~20161116-1) ...\n",
            "Selecting previously unselected package fonts-junicode.\n",
            "Preparing to unpack .../27-fonts-junicode_1.001-2_all.deb ...\n",
            "Unpacking fonts-junicode (1.001-2) ...\n",
            "Selecting previously unselected package fonts-linuxlibertine.\n",
            "Preparing to unpack .../28-fonts-linuxlibertine_5.3.0-4_all.deb ...\n",
            "Unpacking fonts-linuxlibertine (5.3.0-4) ...\n",
            "Selecting previously unselected package fonts-lmodern.\n",
            "Preparing to unpack .../29-fonts-lmodern_2.004.5-3_all.deb ...\n",
            "Unpacking fonts-lmodern (2.004.5-3) ...\n",
            "Selecting previously unselected package fonts-lobster.\n",
            "Preparing to unpack .../30-fonts-lobster_2.0-2_all.deb ...\n",
            "Unpacking fonts-lobster (2.0-2) ...\n",
            "Selecting previously unselected package fonts-lobstertwo.\n",
            "Preparing to unpack .../31-fonts-lobstertwo_2.0-2_all.deb ...\n",
            "Unpacking fonts-lobstertwo (2.0-2) ...\n",
            "Selecting previously unselected package fonts-noto-hinted.\n",
            "Preparing to unpack .../32-fonts-noto-hinted_20171026-2_all.deb ...\n",
            "Unpacking fonts-noto-hinted (20171026-2) ...\n",
            "Selecting previously unselected package fonts-noto-mono.\n",
            "Preparing to unpack .../33-fonts-noto-mono_20171026-2_all.deb ...\n",
            "Unpacking fonts-noto-mono (20171026-2) ...\n",
            "Selecting previously unselected package fonts-oflb-asana-math.\n",
            "Preparing to unpack .../34-fonts-oflb-asana-math_000.907-6_all.deb ...\n",
            "Unpacking fonts-oflb-asana-math (000.907-6) ...\n",
            "Selecting previously unselected package fonts-open-sans.\n",
            "Preparing to unpack .../35-fonts-open-sans_1.11-1_all.deb ...\n",
            "Unpacking fonts-open-sans (1.11-1) ...\n",
            "Selecting previously unselected package fonts-roboto-hinted.\n",
            "Preparing to unpack .../36-fonts-roboto-hinted_2%3a0~20160106-2_all.deb ...\n",
            "Unpacking fonts-roboto-hinted (2:0~20160106-2) ...\n",
            "Selecting previously unselected package fonts-sil-gentium.\n",
            "Preparing to unpack .../37-fonts-sil-gentium_20081126%3a1.03-2_all.deb ...\n",
            "Unpacking fonts-sil-gentium (20081126:1.03-2) ...\n",
            "Selecting previously unselected package fonts-sil-gentium-basic.\n",
            "Preparing to unpack .../38-fonts-sil-gentium-basic_1.102-1_all.deb ...\n",
            "Unpacking fonts-sil-gentium-basic (1.102-1) ...\n",
            "Selecting previously unselected package fonts-sil-gentiumplus.\n",
            "Preparing to unpack .../39-fonts-sil-gentiumplus_5.000-2_all.deb ...\n",
            "Unpacking fonts-sil-gentiumplus (5.000-2) ...\n",
            "Selecting previously unselected package fonts-sil-gentiumplus-compact.\n",
            "Preparing to unpack .../40-fonts-sil-gentiumplus-compact_5.000-2_all.deb ...\n",
            "Unpacking fonts-sil-gentiumplus-compact (5.000-2) ...\n",
            "Selecting previously unselected package fonts-texgyre.\n",
            "Preparing to unpack .../41-fonts-texgyre_20160520-1_all.deb ...\n",
            "Unpacking fonts-texgyre (20160520-1) ...\n",
            "Selecting previously unselected package javascript-common.\n",
            "Preparing to unpack .../42-javascript-common_11_all.deb ...\n",
            "Unpacking javascript-common (11) ...\n",
            "Selecting previously unselected package libcupsfilters1:amd64.\n",
            "Preparing to unpack .../43-libcupsfilters1_1.20.2-0ubuntu3.1_amd64.deb ...\n",
            "Unpacking libcupsfilters1:amd64 (1.20.2-0ubuntu3.1) ...\n",
            "Selecting previously unselected package libcupsimage2:amd64.\n",
            "Preparing to unpack .../44-libcupsimage2_2.2.7-1ubuntu2.8_amd64.deb ...\n",
            "Unpacking libcupsimage2:amd64 (2.2.7-1ubuntu2.8) ...\n",
            "Selecting previously unselected package libijs-0.35:amd64.\n",
            "Preparing to unpack .../45-libijs-0.35_0.35-13_amd64.deb ...\n",
            "Unpacking libijs-0.35:amd64 (0.35-13) ...\n",
            "Selecting previously unselected package libjbig2dec0:amd64.\n",
            "Preparing to unpack .../46-libjbig2dec0_0.13-6_amd64.deb ...\n",
            "Unpacking libjbig2dec0:amd64 (0.13-6) ...\n",
            "Selecting previously unselected package libgs9-common.\n",
            "Preparing to unpack .../47-libgs9-common_9.26~dfsg+0-0ubuntu0.18.04.12_all.deb ...\n",
            "Unpacking libgs9-common (9.26~dfsg+0-0ubuntu0.18.04.12) ...\n",
            "Selecting previously unselected package libgs9:amd64.\n",
            "Preparing to unpack .../48-libgs9_9.26~dfsg+0-0ubuntu0.18.04.12_amd64.deb ...\n",
            "Unpacking libgs9:amd64 (9.26~dfsg+0-0ubuntu0.18.04.12) ...\n",
            "Selecting previously unselected package libjs-jquery.\n",
            "Preparing to unpack .../49-libjs-jquery_3.2.1-1_all.deb ...\n",
            "Unpacking libjs-jquery (3.2.1-1) ...\n",
            "Selecting previously unselected package libkpathsea6:amd64.\n",
            "Preparing to unpack .../50-libkpathsea6_2017.20170613.44572-8ubuntu0.1_amd64.deb ...\n",
            "Unpacking libkpathsea6:amd64 (2017.20170613.44572-8ubuntu0.1) ...\n",
            "Selecting previously unselected package libpotrace0.\n",
            "Preparing to unpack .../51-libpotrace0_1.14-2_amd64.deb ...\n",
            "Unpacking libpotrace0 (1.14-2) ...\n",
            "Selecting previously unselected package libptexenc1:amd64.\n",
            "Preparing to unpack .../52-libptexenc1_2017.20170613.44572-8ubuntu0.1_amd64.deb ...\n",
            "Unpacking libptexenc1:amd64 (2017.20170613.44572-8ubuntu0.1) ...\n",
            "Selecting previously unselected package rubygems-integration.\n",
            "Preparing to unpack .../53-rubygems-integration_1.11_all.deb ...\n",
            "Unpacking rubygems-integration (1.11) ...\n",
            "Selecting previously unselected package ruby2.5.\n",
            "Preparing to unpack .../54-ruby2.5_2.5.1-1ubuntu1.6_amd64.deb ...\n",
            "Unpacking ruby2.5 (2.5.1-1ubuntu1.6) ...\n",
            "Selecting previously unselected package ruby.\n",
            "Preparing to unpack .../55-ruby_1%3a2.5.1_amd64.deb ...\n",
            "Unpacking ruby (1:2.5.1) ...\n",
            "Selecting previously unselected package rake.\n",
            "Preparing to unpack .../56-rake_12.3.1-1ubuntu0.1_all.deb ...\n",
            "Unpacking rake (12.3.1-1ubuntu0.1) ...\n",
            "Selecting previously unselected package ruby-did-you-mean.\n",
            "Preparing to unpack .../57-ruby-did-you-mean_1.2.0-2_all.deb ...\n",
            "Unpacking ruby-did-you-mean (1.2.0-2) ...\n",
            "Selecting previously unselected package ruby-minitest.\n",
            "Preparing to unpack .../58-ruby-minitest_5.10.3-1_all.deb ...\n",
            "Unpacking ruby-minitest (5.10.3-1) ...\n",
            "Selecting previously unselected package ruby-net-telnet.\n",
            "Preparing to unpack .../59-ruby-net-telnet_0.1.1-2_all.deb ...\n",
            "Unpacking ruby-net-telnet (0.1.1-2) ...\n",
            "Selecting previously unselected package ruby-power-assert.\n",
            "Preparing to unpack .../60-ruby-power-assert_0.3.0-1_all.deb ...\n",
            "Unpacking ruby-power-assert (0.3.0-1) ...\n",
            "Selecting previously unselected package ruby-test-unit.\n",
            "Preparing to unpack .../61-ruby-test-unit_3.2.5-1_all.deb ...\n",
            "Unpacking ruby-test-unit (3.2.5-1) ...\n",
            "Selecting previously unselected package libruby2.5:amd64.\n",
            "Preparing to unpack .../62-libruby2.5_2.5.1-1ubuntu1.6_amd64.deb ...\n",
            "Unpacking libruby2.5:amd64 (2.5.1-1ubuntu1.6) ...\n",
            "Selecting previously unselected package libsynctex1:amd64.\n",
            "Preparing to unpack .../63-libsynctex1_2017.20170613.44572-8ubuntu0.1_amd64.deb ...\n",
            "Unpacking libsynctex1:amd64 (2017.20170613.44572-8ubuntu0.1) ...\n",
            "Selecting previously unselected package libtexlua52:amd64.\n",
            "Preparing to unpack .../64-libtexlua52_2017.20170613.44572-8ubuntu0.1_amd64.deb ...\n",
            "Unpacking libtexlua52:amd64 (2017.20170613.44572-8ubuntu0.1) ...\n",
            "Selecting previously unselected package libtexluajit2:amd64.\n",
            "Preparing to unpack .../65-libtexluajit2_2017.20170613.44572-8ubuntu0.1_amd64.deb ...\n",
            "Unpacking libtexluajit2:amd64 (2017.20170613.44572-8ubuntu0.1) ...\n",
            "Selecting previously unselected package libzzip-0-13:amd64.\n",
            "Preparing to unpack .../66-libzzip-0-13_0.13.62-3.1ubuntu0.18.04.1_amd64.deb ...\n",
            "Unpacking libzzip-0-13:amd64 (0.13.62-3.1ubuntu0.18.04.1) ...\n",
            "Selecting previously unselected package lmodern.\n",
            "Preparing to unpack .../67-lmodern_2.004.5-3_all.deb ...\n",
            "Unpacking lmodern (2.004.5-3) ...\n",
            "Selecting previously unselected package preview-latex-style.\n",
            "Preparing to unpack .../68-preview-latex-style_11.91-1ubuntu1_all.deb ...\n",
            "Unpacking preview-latex-style (11.91-1ubuntu1) ...\n",
            "Selecting previously unselected package t1utils.\n",
            "Preparing to unpack .../69-t1utils_1.41-2_amd64.deb ...\n",
            "Unpacking t1utils (1.41-2) ...\n",
            "Selecting previously unselected package tex-gyre.\n",
            "Preparing to unpack .../70-tex-gyre_20160520-1_all.deb ...\n",
            "Unpacking tex-gyre (20160520-1) ...\n",
            "Selecting previously unselected package texlive-binaries.\n",
            "Preparing to unpack .../71-texlive-binaries_2017.20170613.44572-8ubuntu0.1_amd64.deb ...\n",
            "Unpacking texlive-binaries (2017.20170613.44572-8ubuntu0.1) ...\n",
            "Selecting previously unselected package texlive-base.\n",
            "Preparing to unpack .../72-texlive-base_2017.20180305-1_all.deb ...\n",
            "Unpacking texlive-base (2017.20180305-1) ...\n",
            "Selecting previously unselected package texlive-fonts-extra.\n",
            "Preparing to unpack .../73-texlive-fonts-extra_2017.20180305-2_all.deb ...\n",
            "Unpacking texlive-fonts-extra (2017.20180305-2) ...\n",
            "Selecting previously unselected package fonts-stix.\n",
            "Preparing to unpack .../74-fonts-stix_1.1.1-4_all.deb ...\n",
            "Unpacking fonts-stix (1.1.1-4) ...\n",
            "Selecting previously unselected package texlive-fonts-extra-links.\n",
            "Preparing to unpack .../75-texlive-fonts-extra-links_2017.20180305-2_all.deb ...\n",
            "Unpacking texlive-fonts-extra-links (2017.20180305-2) ...\n",
            "Selecting previously unselected package texlive-fonts-recommended.\n",
            "Preparing to unpack .../76-texlive-fonts-recommended_2017.20180305-1_all.deb ...\n",
            "Unpacking texlive-fonts-recommended (2017.20180305-1) ...\n",
            "Selecting previously unselected package texlive-latex-base.\n",
            "Preparing to unpack .../77-texlive-latex-base_2017.20180305-1_all.deb ...\n",
            "Unpacking texlive-latex-base (2017.20180305-1) ...\n",
            "Selecting previously unselected package texlive-latex-recommended.\n",
            "Preparing to unpack .../78-texlive-latex-recommended_2017.20180305-1_all.deb ...\n",
            "Unpacking texlive-latex-recommended (2017.20180305-1) ...\n",
            "Selecting previously unselected package texlive-pictures.\n",
            "Preparing to unpack .../79-texlive-pictures_2017.20180305-1_all.deb ...\n",
            "Unpacking texlive-pictures (2017.20180305-1) ...\n",
            "Selecting previously unselected package texlive-latex-extra.\n",
            "Preparing to unpack .../80-texlive-latex-extra_2017.20180305-2_all.deb ...\n",
            "Unpacking texlive-latex-extra (2017.20180305-2) ...\n",
            "Selecting previously unselected package texlive-plain-generic.\n",
            "Preparing to unpack .../81-texlive-plain-generic_2017.20180305-2_all.deb ...\n",
            "Unpacking texlive-plain-generic (2017.20180305-2) ...\n",
            "Selecting previously unselected package tipa.\n",
            "Preparing to unpack .../82-tipa_2%3a1.3-20_all.deb ...\n",
            "Unpacking tipa (2:1.3-20) ...\n",
            "Setting up libgs9-common (9.26~dfsg+0-0ubuntu0.18.04.12) ...\n",
            "Setting up libkpathsea6:amd64 (2017.20170613.44572-8ubuntu0.1) ...\n",
            "Setting up libjs-jquery (3.2.1-1) ...\n",
            "Setting up libtexlua52:amd64 (2017.20170613.44572-8ubuntu0.1) ...\n",
            "Setting up fonts-droid-fallback (1:6.0.1r16-1.1) ...\n",
            "Setting up libsynctex1:amd64 (2017.20170613.44572-8ubuntu0.1) ...\n",
            "Setting up libptexenc1:amd64 (2017.20170613.44572-8ubuntu0.1) ...\n",
            "Setting up fonts-gfs-neohellenic (1.1-6) ...\n",
            "Setting up tex-common (6.09) ...\n",
            "debconf: unable to initialize frontend: Dialog\n",
            "debconf: (No usable dialog-like program is installed, so the dialog based frontend cannot be used. at /usr/share/perl5/Debconf/FrontEnd/Dialog.pm line 76.)\n",
            "debconf: falling back to frontend: Readline\n",
            "update-language: texlive-base not installed and configured, doing nothing!\n",
            "Setting up fonts-stix (1.1.1-4) ...\n",
            "Setting up fonts-comfortaa (3.001-2) ...\n",
            "Setting up fonts-dejavu-core (2.37-1) ...\n",
            "Setting up fonts-linuxlibertine (5.3.0-4) ...\n",
            "Setting up poppler-data (0.4.8-2) ...\n",
            "Setting up fonts-oflb-asana-math (000.907-6) ...\n",
            "Setting up tex-gyre (20160520-1) ...\n",
            "Setting up fonts-lobster (2.0-2) ...\n",
            "Setting up fonts-gfs-solomos (1.1-5) ...\n",
            "Setting up fonts-adf-accanthis (0.20110505-1) ...\n",
            "Setting up fonts-freefont-otf (20120503-7) ...\n",
            "Setting up preview-latex-style (11.91-1ubuntu1) ...\n",
            "Setting up fonts-open-sans (1.11-1) ...\n",
            "Setting up fonts-texgyre (20160520-1) ...\n",
            "Setting up fonts-crosextra-carlito (20130920-1) ...\n",
            "Setting up fonts-ebgaramond-extra (0.016-1) ...\n",
            "Setting up fonts-font-awesome (4.7.0~dfsg-3) ...\n",
            "Setting up fonts-junicode (1.001-2) ...\n",
            "Setting up fonts-noto-mono (20171026-2) ...\n",
            "Setting up fonts-lato (2.0-2) ...\n",
            "Setting up libcupsfilters1:amd64 (1.20.2-0ubuntu3.1) ...\n",
            "Setting up fonts-gfs-complutum (1.1-6) ...\n",
            "Setting up fonts-cabin (1.5-2) ...\n",
            "Setting up libcupsimage2:amd64 (2.2.7-1ubuntu2.8) ...\n",
            "Setting up fonts-sil-gentiumplus-compact (5.000-2) ...\n",
            "Setting up libjbig2dec0:amd64 (0.13-6) ...\n",
            "Setting up ruby-did-you-mean (1.2.0-2) ...\n",
            "Setting up fonts-adf-gillius (0.20110505-1) ...\n",
            "Setting up fonts-crosextra-caladea (20130214-2) ...\n",
            "Setting up fonts-noto-hinted (20171026-2) ...\n",
            "Setting up t1utils (1.41-2) ...\n",
            "Setting up fonts-ebgaramond (0.016-1) ...\n",
            "Setting up ruby-net-telnet (0.1.1-2) ...\n",
            "Setting up fonts-croscore (20171026-2) ...\n",
            "Setting up libijs-0.35:amd64 (0.35-13) ...\n",
            "Setting up rubygems-integration (1.11) ...\n",
            "Setting up libpotrace0 (1.14-2) ...\n",
            "Setting up fonts-adf-berenis (0.20110505-1) ...\n",
            "Setting up fonts-adf-universalis (0.20110505-1) ...\n",
            "Setting up fonts-sil-gentiumplus (5.000-2) ...\n",
            "Setting up fonts-gfs-didot (1.1-6) ...\n",
            "Setting up javascript-common (11) ...\n",
            "Setting up fonts-gfs-artemisia (1.1-5) ...\n",
            "Setting up fonts-dejavu-extra (2.37-1) ...\n",
            "Setting up fonts-freefont-ttf (20120503-7) ...\n",
            "Setting up ruby-minitest (5.10.3-1) ...\n",
            "Setting up fonts-go (0~20161116-1) ...\n",
            "Setting up libzzip-0-13:amd64 (0.13.62-3.1ubuntu0.18.04.1) ...\n",
            "Setting up fonts-sil-gentium (20081126:1.03-2) ...\n",
            "Setting up libgs9:amd64 (9.26~dfsg+0-0ubuntu0.18.04.12) ...\n",
            "Setting up fonts-sil-gentium-basic (1.102-1) ...\n",
            "Setting up libtexluajit2:amd64 (2017.20170613.44572-8ubuntu0.1) ...\n",
            "Setting up fonts-gfs-olga (1.1-5) ...\n",
            "Setting up fonts-lmodern (2.004.5-3) ...\n",
            "Setting up ruby-power-assert (0.3.0-1) ...\n",
            "Setting up fonts-roboto-hinted (2:0~20160106-2) ...\n",
            "Setting up fonts-lobstertwo (2.0-2) ...\n",
            "Setting up texlive-binaries (2017.20170613.44572-8ubuntu0.1) ...\n",
            "update-alternatives: using /usr/bin/xdvi-xaw to provide /usr/bin/xdvi.bin (xdvi.bin) in auto mode\n",
            "update-alternatives: using /usr/bin/bibtex.original to provide /usr/bin/bibtex (bibtex) in auto mode\n",
            "Setting up texlive-base (2017.20180305-1) ...\n",
            "mktexlsr: Updating /var/lib/texmf/ls-R-TEXLIVEDIST... \n",
            "mktexlsr: Updating /var/lib/texmf/ls-R-TEXMFMAIN... \n",
            "mktexlsr: Updating /var/lib/texmf/ls-R... \n",
            "mktexlsr: Done.\n",
            "tl-paper: setting paper size for dvips to a4: /var/lib/texmf/dvips/config/config-paper.ps\n",
            "tl-paper: setting paper size for dvipdfmx to a4: /var/lib/texmf/dvipdfmx/dvipdfmx-paper.cfg\n",
            "tl-paper: setting paper size for xdvi to a4: /var/lib/texmf/xdvi/XDvi-paper\n",
            "tl-paper: setting paper size for pdftex to a4: /var/lib/texmf/tex/generic/config/pdftexconfig.tex\n",
            "debconf: unable to initialize frontend: Dialog\n",
            "debconf: (No usable dialog-like program is installed, so the dialog based frontend cannot be used. at /usr/share/perl5/Debconf/FrontEnd/Dialog.pm line 76.)\n",
            "debconf: falling back to frontend: Readline\n",
            "Setting up texlive-fonts-extra-links (2017.20180305-2) ...\n",
            "Setting up texlive-fonts-recommended (2017.20180305-1) ...\n",
            "Setting up texlive-plain-generic (2017.20180305-2) ...\n",
            "Setting up texlive-latex-base (2017.20180305-1) ...\n",
            "Setting up lmodern (2.004.5-3) ...\n",
            "Setting up texlive-latex-recommended (2017.20180305-1) ...\n",
            "Setting up texlive-fonts-extra (2017.20180305-2) ...\n",
            "Setting up texlive-pictures (2017.20180305-1) ...\n",
            "Setting up tipa (2:1.3-20) ...\n",
            "Regenerating '/var/lib/texmf/fmtutil.cnf-DEBIAN'... done.\n",
            "Regenerating '/var/lib/texmf/fmtutil.cnf-TEXLIVEDIST'... done.\n",
            "update-fmtutil has updated the following file(s):\n",
            "\t/var/lib/texmf/fmtutil.cnf-DEBIAN\n",
            "\t/var/lib/texmf/fmtutil.cnf-TEXLIVEDIST\n",
            "If you want to activate the changes in the above file(s),\n",
            "you should run fmtutil-sys or fmtutil.\n",
            "Setting up texlive-latex-extra (2017.20180305-2) ...\n",
            "Setting up ruby-test-unit (3.2.5-1) ...\n",
            "Setting up libruby2.5:amd64 (2.5.1-1ubuntu1.6) ...\n",
            "Setting up ruby2.5 (2.5.1-1ubuntu1.6) ...\n",
            "Setting up ruby (1:2.5.1) ...\n",
            "Setting up rake (12.3.1-1ubuntu0.1) ...\n",
            "Processing triggers for libc-bin (2.27-3ubuntu1) ...\n",
            "/sbin/ldconfig.real: /usr/local/lib/python3.6/dist-packages/ideep4py/lib/libmkldnn.so.0 is not a symbolic link\n",
            "\n",
            "Processing triggers for man-db (2.8.3-2ubuntu0.1) ...\n",
            "Processing triggers for fontconfig (2.12.6-0ubuntu2) ...\n",
            "Processing triggers for mime-support (3.60ubuntu1) ...\n",
            "Processing triggers for tex-common (6.09) ...\n",
            "debconf: unable to initialize frontend: Dialog\n",
            "debconf: (No usable dialog-like program is installed, so the dialog based frontend cannot be used. at /usr/share/perl5/Debconf/FrontEnd/Dialog.pm line 76.)\n",
            "debconf: falling back to frontend: Readline\n",
            "Running updmap-sys. This may take some time... done.\n",
            "Running mktexlsr /var/lib/texmf ... done.\n",
            "Building format(s) --all.\n",
            "\tThis may take some time... done.\n",
            "Reading package lists... Done\n",
            "Building dependency tree       \n",
            "Reading state information... Done\n",
            "The following package was automatically installed and is no longer required:\n",
            "  libnvidia-common-440\n",
            "Use 'sudo apt autoremove' to remove it.\n",
            "The following additional packages will be installed:\n",
            "  ghostscript gsfonts\n",
            "Suggested packages:\n",
            "  ghostscript-x\n",
            "The following NEW packages will be installed:\n",
            "  dvipng ghostscript gsfonts\n",
            "0 upgraded, 3 newly installed, 0 to remove and 35 not upgraded.\n",
            "Need to get 3,249 kB of archives.\n",
            "After this operation, 4,946 kB of additional disk space will be used.\n",
            "Get:1 http://archive.ubuntu.com/ubuntu bionic-updates/main amd64 ghostscript amd64 9.26~dfsg+0-0ubuntu0.18.04.12 [50.9 kB]\n",
            "Get:2 http://archive.ubuntu.com/ubuntu bionic/universe amd64 dvipng amd64 1.15-1 [78.2 kB]\n",
            "Get:3 http://archive.ubuntu.com/ubuntu bionic/main amd64 gsfonts all 1:8.11+urwcyr1.0.7~pre44-4.4 [3,120 kB]\n",
            "Fetched 3,249 kB in 1s (3,511 kB/s)\n",
            "debconf: unable to initialize frontend: Dialog\n",
            "debconf: (No usable dialog-like program is installed, so the dialog based frontend cannot be used. at /usr/share/perl5/Debconf/FrontEnd/Dialog.pm line 76, <> line 3.)\n",
            "debconf: falling back to frontend: Readline\n",
            "debconf: unable to initialize frontend: Readline\n",
            "debconf: (This frontend requires a controlling tty.)\n",
            "debconf: falling back to frontend: Teletype\n",
            "dpkg-preconfigure: unable to re-open stdin: \n",
            "Selecting previously unselected package ghostscript.\n",
            "(Reading database ... 230475 files and directories currently installed.)\n",
            "Preparing to unpack .../ghostscript_9.26~dfsg+0-0ubuntu0.18.04.12_amd64.deb ...\n",
            "Unpacking ghostscript (9.26~dfsg+0-0ubuntu0.18.04.12) ...\n",
            "Selecting previously unselected package dvipng.\n",
            "Preparing to unpack .../dvipng_1.15-1_amd64.deb ...\n",
            "Unpacking dvipng (1.15-1) ...\n",
            "Selecting previously unselected package gsfonts.\n",
            "Preparing to unpack .../gsfonts_1%3a8.11+urwcyr1.0.7~pre44-4.4_all.deb ...\n",
            "Unpacking gsfonts (1:8.11+urwcyr1.0.7~pre44-4.4) ...\n",
            "Setting up gsfonts (1:8.11+urwcyr1.0.7~pre44-4.4) ...\n",
            "Setting up ghostscript (9.26~dfsg+0-0ubuntu0.18.04.12) ...\n",
            "Setting up dvipng (1.15-1) ...\n",
            "Processing triggers for fontconfig (2.12.6-0ubuntu2) ...\n",
            "Processing triggers for man-db (2.8.3-2ubuntu0.1) ...\n",
            "Reading package lists... Done\n",
            "Building dependency tree       \n",
            "Reading state information... Done\n",
            "dvipng is already the newest version (1.15-1).\n",
            "texlive-fonts-recommended is already the newest version (2017.20180305-1).\n",
            "texlive-latex-extra is already the newest version (2017.20180305-2).\n",
            "texlive-latex-extra set to manually installed.\n",
            "The following package was automatically installed and is no longer required:\n",
            "  libnvidia-common-440\n",
            "Use 'sudo apt autoremove' to remove it.\n",
            "0 upgraded, 0 newly installed, 0 to remove and 35 not upgraded.\n",
            "Reading package lists... Done\n",
            "Building dependency tree       \n",
            "Reading state information... Done\n",
            "texlive-latex-recommended is already the newest version (2017.20180305-1).\n",
            "texlive-latex-recommended set to manually installed.\n",
            "texlive-latex-extra is already the newest version (2017.20180305-2).\n",
            "texlive-pictures is already the newest version (2017.20180305-1).\n",
            "texlive-pictures set to manually installed.\n",
            "The following package was automatically installed and is no longer required:\n",
            "  libnvidia-common-440\n",
            "Use 'sudo apt autoremove' to remove it.\n",
            "The following additional packages will be installed:\n",
            "  aglfn asymptote asymptote-doc biber chktex cm-super cm-super-minimal context\n",
            "  context-modules dvidvi emacsen-common feynmf fonts-arphic-bkai00mp\n",
            "  fonts-arphic-bsmi00lp fonts-arphic-gbsn00lp fonts-arphic-gkai00mp\n",
            "  fonts-baekmuk fonts-gfs-baskerville fonts-gfs-bodoni-classic\n",
            "  fonts-gfs-didot-classic fonts-gfs-gazis fonts-gfs-porson\n",
            "  fonts-gfs-theokritos fonts-hosny-amiri fonts-ipaexfont-gothic\n",
            "  fonts-ipaexfont-mincho fonts-ipafont-gothic fonts-ipafont-mincho\n",
            "  fonts-sil-padauk fonts-unfonts-core fonts-unfonts-extra fragmaster\n",
            "  imagemagick imagemagick-6-common imagemagick-6.q16 info install-info lacheck\n",
            "  latex-cjk-all latex-cjk-chinese latex-cjk-chinese-arphic-bkai00mp\n",
            "  latex-cjk-chinese-arphic-bsmi00lp latex-cjk-chinese-arphic-gbsn00lp\n",
            "  latex-cjk-chinese-arphic-gkai00mp latex-cjk-common latex-cjk-japanese\n",
            "  latex-cjk-japanese-wadalab latex-cjk-korean latex-cjk-thai latexdiff latexmk\n",
            "  lcdf-typetools libalgorithm-c3-perl libauthen-sasl-perl\n",
            "  libautovivification-perl libb-hooks-endofscope-perl libb-hooks-op-check-perl\n",
            "  libbtparse1 libbusiness-isbn-data-perl libbusiness-isbn-perl\n",
            "  libbusiness-ismn-perl libbusiness-issn-perl libclass-accessor-perl\n",
            "  libclass-c3-perl libclass-c3-xs-perl libclass-data-inheritable-perl\n",
            "  libclass-factory-util-perl libclass-inspector-perl\n",
            "  libclass-method-modifiers-perl libclass-singleton-perl libdata-compare-perl\n",
            "  libdata-dump-perl libdata-optlist-perl libdata-uniqid-perl\n",
            "  libdate-simple-perl libdatetime-calendar-julian-perl\n",
            "  libdatetime-format-builder-perl libdatetime-format-strptime-perl\n",
            "  libdatetime-locale-perl libdatetime-perl libdatetime-timezone-perl\n",
            "  libdevel-callchecker-perl libdevel-caller-perl\n",
            "  libdevel-globaldestruction-perl libdevel-lexalias-perl\n",
            "  libdevel-stacktrace-perl libdist-checkconflicts-perl libdjvulibre-text\n",
            "  libdjvulibre21 libdynaloader-functions-perl libemail-date-format-perl\n",
            "  libemf1 libencode-eucjpms-perl libencode-hanextra-perl libencode-jis2k-perl\n",
            "  libencode-locale-perl libeval-closure-perl libexception-class-perl\n",
            "  libexporter-tiny-perl libfile-find-rule-perl libfile-homedir-perl\n",
            "  libfile-listing-perl libfile-sharedir-perl libfile-slurper-perl\n",
            "  libfile-which-perl libfont-afm-perl libgirara-gtk3-3 libgsl23 libgslcblas0\n",
            "  libhtml-form-perl libhtml-format-perl libhtml-parser-perl\n",
            "  libhtml-tagset-perl libhtml-tree-perl libhttp-cookies-perl\n",
            "  libhttp-daemon-perl libhttp-date-perl libhttp-message-perl\n",
            "  libhttp-negotiate-perl libio-html-perl libio-socket-ssl-perl\n",
            "  libipc-run3-perl libipc-shareable-perl liblingua-translit-perl\n",
            "  liblist-allutils-perl liblist-moreutils-perl liblist-someutils-perl\n",
            "  liblist-utilsby-perl liblog-dispatch-perl liblog-log4perl-perl liblqr-1-0\n",
            "  liblwp-mediatypes-perl liblwp-protocol-https-perl libmagic-mgc libmagic1\n",
            "  libmagick++-6.q16-7 libmagickcore-6.q16-3 libmagickcore-6.q16-3-extra\n",
            "  libmagickwand-6.q16-3 libmail-sendmail-perl libmailtools-perl\n",
            "  libmime-charset-perl libmime-lite-perl libmime-types-perl\n",
            "  libmodule-implementation-perl libmodule-runtime-perl libmro-compat-perl\n",
            "  libnamespace-autoclean-perl libnamespace-clean-perl libnet-http-perl\n",
            "  libnet-libidn-perl libnet-smtp-ssl-perl libnet-ssleay-perl libnetpbm10\n",
            "  libnotify4 libnumber-compare-perl libosmesa6 libosp5 libostyle1c2\n",
            "  libpackage-deprecationmanager-perl libpackage-stash-perl\n",
            "  libpackage-stash-xs-perl libpadwalker-perl libparams-classify-perl\n",
            "  libparams-util-perl libparams-validate-perl\n",
            "  libparams-validationcompiler-perl libperlio-utf8-strict-perl libplot2c2\n",
            "  libpoppler-glib8 libpoppler-qt5-1 libpstoedit0c2a libreadonly-perl\n",
            "  libref-util-perl libref-util-xs-perl libregexp-common-perl librole-tiny-perl\n",
            "  libscalar-list-utils-perl libsigsegv2 libsombok3 libsort-key-perl\n",
            "  libspecio-perl libsub-exporter-perl libsub-exporter-progressive-perl\n",
            "  libsub-identify-perl libsub-install-perl libsub-name-perl libsub-quote-perl\n",
            "  libsys-hostname-long-perl libtext-bibtex-perl libtext-csv-perl\n",
            "  libtext-csv-xs-perl libtext-glob-perl libtext-roman-perl\n",
            "  libtext-unidecode-perl libtie-cycle-perl libtimedate-perl libtry-tiny-perl\n",
            "  libunicode-collate-perl libunicode-linebreak-perl liburi-perl libutempter0\n",
            "  libvariable-magic-perl libwmf0.2-7 libwww-perl libwww-robotrules-perl\n",
            "  libxml-libxml-perl libxml-libxml-simple-perl libxml-libxslt-perl\n",
            "  libxml-namespacesupport-perl libxml-parser-perl libxml-sax-base-perl\n",
            "  libxml-sax-expat-perl libxml-sax-perl libxml-writer-perl libxxf86dga1\n",
            "  libyaml-tiny-perl libzip4 netbase netpbm notification-daemon openjade\n",
            "  perl-openssl-defaults pfb2t1c2pfb prerex ps2eps pstoedit psutils purifyeps\n",
            "  python3-olefile python3-pil python3-pil.imagetk sgml-base texinfo\n",
            "  texlive-bibtex-extra texlive-extra-utils texlive-font-utils\n",
            "  texlive-fonts-extra-doc texlive-fonts-recommended-doc texlive-formats-extra\n",
            "  texlive-games texlive-generic-recommended texlive-humanities\n",
            "  texlive-humanities-doc texlive-lang-arabic texlive-lang-chinese\n",
            "  texlive-lang-cjk texlive-lang-cyrillic texlive-lang-czechslovak\n",
            "  texlive-lang-english texlive-lang-european texlive-lang-french\n",
            "  texlive-lang-german texlive-lang-greek texlive-lang-italian\n",
            "  texlive-lang-japanese texlive-lang-korean texlive-lang-other\n",
            "  texlive-lang-polish texlive-lang-portuguese texlive-lang-spanish\n",
            "  texlive-latex-base-doc texlive-latex-extra-doc texlive-latex-recommended-doc\n",
            "  texlive-luatex texlive-metapost texlive-metapost-doc texlive-music\n",
            "  texlive-pictures-doc texlive-pstricks texlive-pstricks-doc\n",
            "  texlive-publishers texlive-publishers-doc texlive-science\n",
            "  texlive-science-doc texlive-xetex vprerex x11-utils xbitmaps xterm zathura\n",
            "  zathura-pdf-poppler\n",
            "Suggested packages:\n",
            "  gv perl-tk fontforge context-nonfree context-doc-nonfree imagemagick-doc\n",
            "  autotrace cups-bsd | lpr | lprng enscript gimp gnuplot grads hp2xx html2ps\n",
            "  libwmf-bin mplayer povray radiance sane-utils transfig ufraw-batch\n",
            "  texinfo-doc-nonfree auctex hbf-cns40-b5 hbf-jfs56 hbf-kanji48\n",
            "  libdigest-hmac-perl libgssapi-perl libgd-barcode-perl\n",
            "  libscalar-properties-perl gsl-ref-psdoc | gsl-doc-pdf | gsl-doc-info\n",
            "  | gsl-ref-html libdbd-csv-perl liblog-dispatch-filerotate-perl librrds-perl\n",
            "  libxml-dom-perl libcrypt-ssleay-perl file inkscape libjxr-tools\n",
            "  libpod2-base-perl default-mta | mail-transport-agent libmojolicious-perl\n",
            "  libscalar-number-perl libtest-fatal-perl libwmf0.2-7-gtk libauthen-ntlm-perl\n",
            "  doc-base sgml-data xfig | ivtools-bin | tgif | transfig python-pil-doc\n",
            "  python3-pil-dbg python3-pil.imagetk-dbg sgml-base-doc xindy mesa-utils\n",
            "  xfonts-cyrillic www-browser zathura-ps zathura-djvu zathura-cb\n",
            "Recommended packages:\n",
            "  fonts-freefont\n",
            "The following NEW packages will be installed:\n",
            "  aglfn asymptote asymptote-doc biber chktex cm-super cm-super-minimal context\n",
            "  context-modules dvidvi emacsen-common feynmf fonts-arphic-bkai00mp\n",
            "  fonts-arphic-bsmi00lp fonts-arphic-gbsn00lp fonts-arphic-gkai00mp\n",
            "  fonts-baekmuk fonts-gfs-baskerville fonts-gfs-bodoni-classic\n",
            "  fonts-gfs-didot-classic fonts-gfs-gazis fonts-gfs-porson\n",
            "  fonts-gfs-theokritos fonts-hosny-amiri fonts-ipaexfont-gothic\n",
            "  fonts-ipaexfont-mincho fonts-ipafont-gothic fonts-ipafont-mincho\n",
            "  fonts-sil-padauk fonts-unfonts-core fonts-unfonts-extra fragmaster\n",
            "  imagemagick imagemagick-6-common imagemagick-6.q16 info install-info lacheck\n",
            "  latex-cjk-all latex-cjk-chinese latex-cjk-chinese-arphic-bkai00mp\n",
            "  latex-cjk-chinese-arphic-bsmi00lp latex-cjk-chinese-arphic-gbsn00lp\n",
            "  latex-cjk-chinese-arphic-gkai00mp latex-cjk-common latex-cjk-japanese\n",
            "  latex-cjk-japanese-wadalab latex-cjk-korean latex-cjk-thai latexdiff latexmk\n",
            "  lcdf-typetools libalgorithm-c3-perl libauthen-sasl-perl\n",
            "  libautovivification-perl libb-hooks-endofscope-perl libb-hooks-op-check-perl\n",
            "  libbtparse1 libbusiness-isbn-data-perl libbusiness-isbn-perl\n",
            "  libbusiness-ismn-perl libbusiness-issn-perl libclass-accessor-perl\n",
            "  libclass-c3-perl libclass-c3-xs-perl libclass-data-inheritable-perl\n",
            "  libclass-factory-util-perl libclass-inspector-perl\n",
            "  libclass-method-modifiers-perl libclass-singleton-perl libdata-compare-perl\n",
            "  libdata-dump-perl libdata-optlist-perl libdata-uniqid-perl\n",
            "  libdate-simple-perl libdatetime-calendar-julian-perl\n",
            "  libdatetime-format-builder-perl libdatetime-format-strptime-perl\n",
            "  libdatetime-locale-perl libdatetime-perl libdatetime-timezone-perl\n",
            "  libdevel-callchecker-perl libdevel-caller-perl\n",
            "  libdevel-globaldestruction-perl libdevel-lexalias-perl\n",
            "  libdevel-stacktrace-perl libdist-checkconflicts-perl libdjvulibre-text\n",
            "  libdjvulibre21 libdynaloader-functions-perl libemail-date-format-perl\n",
            "  libemf1 libencode-eucjpms-perl libencode-hanextra-perl libencode-jis2k-perl\n",
            "  libencode-locale-perl libeval-closure-perl libexception-class-perl\n",
            "  libexporter-tiny-perl libfile-find-rule-perl libfile-homedir-perl\n",
            "  libfile-listing-perl libfile-sharedir-perl libfile-slurper-perl\n",
            "  libfile-which-perl libfont-afm-perl libgirara-gtk3-3 libgsl23 libgslcblas0\n",
            "  libhtml-form-perl libhtml-format-perl libhtml-parser-perl\n",
            "  libhtml-tagset-perl libhtml-tree-perl libhttp-cookies-perl\n",
            "  libhttp-daemon-perl libhttp-date-perl libhttp-message-perl\n",
            "  libhttp-negotiate-perl libio-html-perl libio-socket-ssl-perl\n",
            "  libipc-run3-perl libipc-shareable-perl liblingua-translit-perl\n",
            "  liblist-allutils-perl liblist-moreutils-perl liblist-someutils-perl\n",
            "  liblist-utilsby-perl liblog-dispatch-perl liblog-log4perl-perl liblqr-1-0\n",
            "  liblwp-mediatypes-perl liblwp-protocol-https-perl libmagic-mgc libmagic1\n",
            "  libmagick++-6.q16-7 libmagickcore-6.q16-3 libmagickcore-6.q16-3-extra\n",
            "  libmagickwand-6.q16-3 libmail-sendmail-perl libmailtools-perl\n",
            "  libmime-charset-perl libmime-lite-perl libmime-types-perl\n",
            "  libmodule-implementation-perl libmodule-runtime-perl libmro-compat-perl\n",
            "  libnamespace-autoclean-perl libnamespace-clean-perl libnet-http-perl\n",
            "  libnet-libidn-perl libnet-smtp-ssl-perl libnet-ssleay-perl libnetpbm10\n",
            "  libnotify4 libnumber-compare-perl libosmesa6 libosp5 libostyle1c2\n",
            "  libpackage-deprecationmanager-perl libpackage-stash-perl\n",
            "  libpackage-stash-xs-perl libpadwalker-perl libparams-classify-perl\n",
            "  libparams-util-perl libparams-validate-perl\n",
            "  libparams-validationcompiler-perl libperlio-utf8-strict-perl libplot2c2\n",
            "  libpoppler-glib8 libpoppler-qt5-1 libpstoedit0c2a libreadonly-perl\n",
            "  libref-util-perl libref-util-xs-perl libregexp-common-perl librole-tiny-perl\n",
            "  libscalar-list-utils-perl libsigsegv2 libsombok3 libsort-key-perl\n",
            "  libspecio-perl libsub-exporter-perl libsub-exporter-progressive-perl\n",
            "  libsub-identify-perl libsub-install-perl libsub-name-perl libsub-quote-perl\n",
            "  libsys-hostname-long-perl libtext-bibtex-perl libtext-csv-perl\n",
            "  libtext-csv-xs-perl libtext-glob-perl libtext-roman-perl\n",
            "  libtext-unidecode-perl libtie-cycle-perl libtimedate-perl libtry-tiny-perl\n",
            "  libunicode-collate-perl libunicode-linebreak-perl liburi-perl libutempter0\n",
            "  libvariable-magic-perl libwmf0.2-7 libwww-perl libwww-robotrules-perl\n",
            "  libxml-libxml-perl libxml-libxml-simple-perl libxml-libxslt-perl\n",
            "  libxml-namespacesupport-perl libxml-parser-perl libxml-sax-base-perl\n",
            "  libxml-sax-expat-perl libxml-sax-perl libxml-writer-perl libxxf86dga1\n",
            "  libyaml-tiny-perl libzip4 netbase netpbm notification-daemon openjade\n",
            "  perl-openssl-defaults pfb2t1c2pfb prerex ps2eps pstoedit psutils purifyeps\n",
            "  python3-olefile python3-pil python3-pil.imagetk sgml-base texinfo\n",
            "  texlive-bibtex-extra texlive-extra-utils texlive-font-utils\n",
            "  texlive-fonts-extra-doc texlive-fonts-recommended-doc texlive-formats-extra\n",
            "  texlive-full texlive-games texlive-generic-recommended texlive-humanities\n",
            "  texlive-humanities-doc texlive-lang-arabic texlive-lang-chinese\n",
            "  texlive-lang-cjk texlive-lang-cyrillic texlive-lang-czechslovak\n",
            "  texlive-lang-english texlive-lang-european texlive-lang-french\n",
            "  texlive-lang-german texlive-lang-greek texlive-lang-italian\n",
            "  texlive-lang-japanese texlive-lang-korean texlive-lang-other\n",
            "  texlive-lang-polish texlive-lang-portuguese texlive-lang-spanish\n",
            "  texlive-latex-base-doc texlive-latex-extra-doc texlive-latex-recommended-doc\n",
            "  texlive-luatex texlive-metapost texlive-metapost-doc texlive-music\n",
            "  texlive-pictures-doc texlive-pstricks texlive-pstricks-doc\n",
            "  texlive-publishers texlive-publishers-doc texlive-science\n",
            "  texlive-science-doc texlive-xetex vprerex x11-utils xbitmaps xterm zathura\n",
            "  zathura-pdf-poppler\n",
            "0 upgraded, 283 newly installed, 0 to remove and 35 not upgraded.\n",
            "Need to get 1,966 MB of archives.\n",
            "After this operation, 3,275 MB of additional disk space will be used.\n",
            "Get:1 http://archive.ubuntu.com/ubuntu bionic/main amd64 install-info amd64 6.5.0.dfsg.1-2 [55.4 kB]\n",
            "Get:2 http://archive.ubuntu.com/ubuntu bionic/universe amd64 fonts-arphic-bkai00mp all 2.10-17 [4,953 kB]\n",
            "Get:3 http://archive.ubuntu.com/ubuntu bionic/universe amd64 fonts-arphic-bsmi00lp all 2.10-17 [3,804 kB]\n",
            "Get:4 http://archive.ubuntu.com/ubuntu bionic/universe amd64 fonts-arphic-gbsn00lp all 2.11-15 [1,721 kB]\n",
            "Get:5 http://archive.ubuntu.com/ubuntu bionic/universe amd64 fonts-arphic-gkai00mp all 2.11-15 [2,292 kB]\n",
            "Get:6 http://archive.ubuntu.com/ubuntu bionic/universe amd64 fonts-baekmuk all 2.2-12 [8,738 kB]\n",
            "Get:7 http://archive.ubuntu.com/ubuntu bionic/universe amd64 fonts-ipaexfont-gothic all 00301-4ubuntu1 [3,342 kB]\n",
            "Get:8 http://archive.ubuntu.com/ubuntu bionic/universe amd64 fonts-ipaexfont-mincho all 00301-4ubuntu1 [4,606 kB]\n",
            "Get:9 http://archive.ubuntu.com/ubuntu bionic/universe amd64 fonts-ipafont-gothic all 00303-18ubuntu1 [3,526 kB]\n",
            "Get:10 http://archive.ubuntu.com/ubuntu bionic/universe amd64 fonts-ipafont-mincho all 00303-18ubuntu1 [4,725 kB]\n",
            "Get:11 http://archive.ubuntu.com/ubuntu bionic/universe amd64 fonts-unfonts-core all 1:1.0.2-080608-14 [14.7 MB]\n",
            "Get:12 http://archive.ubuntu.com/ubuntu bionic/universe amd64 fonts-unfonts-extra all 1:1.0.2-080608+dfsg-8 [6,568 kB]\n",
            "Get:13 http://archive.ubuntu.com/ubuntu bionic/main amd64 liblqr-1-0 amd64 0.4.2-2.1 [27.7 kB]\n",
            "Get:14 http://archive.ubuntu.com/ubuntu bionic-updates/main amd64 imagemagick-6-common all 8:6.9.7.4+dfsg-16ubuntu6.8 [60.0 kB]\n",
            "Get:15 http://archive.ubuntu.com/ubuntu bionic-updates/main amd64 libmagickcore-6.q16-3 amd64 8:6.9.7.4+dfsg-16ubuntu6.8 [1,616 kB]\n",
            "Get:16 http://archive.ubuntu.com/ubuntu bionic-updates/main amd64 libmagickwand-6.q16-3 amd64 8:6.9.7.4+dfsg-16ubuntu6.8 [294 kB]\n",
            "Get:17 http://archive.ubuntu.com/ubuntu bionic/main amd64 libxxf86dga1 amd64 2:1.1.4-1 [13.7 kB]\n",
            "Get:18 http://archive.ubuntu.com/ubuntu bionic/main amd64 sgml-base all 1.29 [12.3 kB]\n",
            "Get:19 http://archive.ubuntu.com/ubuntu bionic-updates/main amd64 libmagic-mgc amd64 1:5.32-2ubuntu0.4 [184 kB]\n",
            "Get:20 http://archive.ubuntu.com/ubuntu bionic-updates/main amd64 libmagic1 amd64 1:5.32-2ubuntu0.4 [68.6 kB]\n",
            "Get:21 http://archive.ubuntu.com/ubuntu bionic/main amd64 netbase all 5.4 [12.7 kB]\n",
            "Get:22 http://archive.ubuntu.com/ubuntu bionic/main amd64 info amd64 6.5.0.dfsg.1-2 [104 kB]\n",
            "Get:23 http://archive.ubuntu.com/ubuntu bionic/universe amd64 libgslcblas0 amd64 2.4+dfsg-6 [79.7 kB]\n",
            "Get:24 http://archive.ubuntu.com/ubuntu bionic/universe amd64 libgsl23 amd64 2.4+dfsg-6 [823 kB]\n",
            "Get:25 http://archive.ubuntu.com/ubuntu bionic-updates/main amd64 libosmesa6 amd64 20.0.8-0ubuntu1~18.04.1 [2,641 kB]\n",
            "Get:26 http://archive.ubuntu.com/ubuntu bionic/main amd64 libsigsegv2 amd64 2.12-1 [14.7 kB]\n",
            "Get:27 http://archive.ubuntu.com/ubuntu bionic-updates/main amd64 imagemagick-6.q16 amd64 8:6.9.7.4+dfsg-16ubuntu6.8 [423 kB]\n",
            "Get:28 http://archive.ubuntu.com/ubuntu bionic-updates/main amd64 imagemagick amd64 8:6.9.7.4+dfsg-16ubuntu6.8 [14.2 kB]\n",
            "Get:29 http://archive.ubuntu.com/ubuntu bionic-updates/main amd64 python3-pil.imagetk amd64 5.1.0-1ubuntu0.3 [8,668 B]\n",
            "Get:30 http://archive.ubuntu.com/ubuntu bionic-updates/main amd64 python3-pil amd64 5.1.0-1ubuntu0.3 [330 kB]\n",
            "Get:31 http://archive.ubuntu.com/ubuntu bionic/universe amd64 texlive-pstricks all 2017.20180305-2 [26.5 MB]\n",
            "Get:32 http://archive.ubuntu.com/ubuntu bionic/universe amd64 asymptote amd64 2.41-4 [1,396 kB]\n",
            "Get:33 http://archive.ubuntu.com/ubuntu bionic/universe amd64 asymptote-doc all 2.41-4 [2,566 kB]\n",
            "Get:34 http://archive.ubuntu.com/ubuntu bionic/universe amd64 libautovivification-perl amd64 0.17-1build1 [21.1 kB]\n",
            "Get:35 http://archive.ubuntu.com/ubuntu bionic/main amd64 libsub-name-perl amd64 0.21-1build1 [11.6 kB]\n",
            "Get:36 http://archive.ubuntu.com/ubuntu bionic/main amd64 libclass-accessor-perl all 0.51-1 [21.2 kB]\n",
            "Get:37 http://archive.ubuntu.com/ubuntu bionic/main amd64 libnumber-compare-perl all 0.03-1 [7,318 B]\n",
            "Get:38 http://archive.ubuntu.com/ubuntu bionic/main amd64 libtext-glob-perl all 0.10-1 [7,554 B]\n",
            "Get:39 http://archive.ubuntu.com/ubuntu bionic/universe amd64 libfile-find-rule-perl all 0.34-1 [28.3 kB]\n",
            "Get:40 http://archive.ubuntu.com/ubuntu bionic/universe amd64 libdata-compare-perl all 1.25-1 [18.0 kB]\n",
            "Get:41 http://archive.ubuntu.com/ubuntu bionic/main amd64 libdata-dump-perl all 1.23-1 [27.0 kB]\n",
            "Get:42 http://archive.ubuntu.com/ubuntu bionic/universe amd64 libdata-uniqid-perl all 0.12-1 [5,176 B]\n",
            "Get:43 http://archive.ubuntu.com/ubuntu bionic/universe amd64 libdate-simple-perl amd64 3.0300-1build4 [32.3 kB]\n",
            "Get:44 http://archive.ubuntu.com/ubuntu bionic/universe amd64 libclass-inspector-perl all 1.32-1 [16.2 kB]\n",
            "Get:45 http://archive.ubuntu.com/ubuntu bionic/universe amd64 libfile-sharedir-perl all 1.104-1 [11.7 kB]\n",
            "Get:46 http://archive.ubuntu.com/ubuntu bionic/main amd64 libb-hooks-op-check-perl amd64 0.22-1 [10.1 kB]\n",
            "Get:47 http://archive.ubuntu.com/ubuntu bionic/main amd64 libdynaloader-functions-perl all 0.003-1 [11.9 kB]\n",
            "Get:48 http://archive.ubuntu.com/ubuntu bionic/main amd64 libdevel-callchecker-perl amd64 0.007-2build1 [14.1 kB]\n",
            "Get:49 http://archive.ubuntu.com/ubuntu bionic/main amd64 libparams-classify-perl amd64 0.015-1 [21.2 kB]\n",
            "Get:50 http://archive.ubuntu.com/ubuntu bionic/main amd64 libmodule-runtime-perl all 0.016-1 [16.2 kB]\n",
            "Get:51 http://archive.ubuntu.com/ubuntu bionic/main amd64 libtry-tiny-perl all 0.30-1 [20.5 kB]\n",
            "Get:52 http://archive.ubuntu.com/ubuntu bionic/main amd64 libmodule-implementation-perl all 0.09-1 [12.2 kB]\n",
            "Get:53 http://archive.ubuntu.com/ubuntu bionic/main amd64 libsub-exporter-progressive-perl all 0.001013-1 [6,784 B]\n",
            "Get:54 http://archive.ubuntu.com/ubuntu bionic/main amd64 libvariable-magic-perl amd64 0.62-1 [34.5 kB]\n",
            "Get:55 http://archive.ubuntu.com/ubuntu bionic/main amd64 libb-hooks-endofscope-perl all 0.21-1 [14.7 kB]\n",
            "Get:56 http://archive.ubuntu.com/ubuntu bionic/main amd64 libpackage-stash-perl all 0.37-1 [18.3 kB]\n",
            "Get:57 http://archive.ubuntu.com/ubuntu bionic/main amd64 libsub-identify-perl amd64 0.14-1 [10.5 kB]\n",
            "Get:58 http://archive.ubuntu.com/ubuntu bionic/main amd64 libnamespace-clean-perl all 0.27-1 [13.6 kB]\n",
            "Get:59 http://archive.ubuntu.com/ubuntu bionic/universe amd64 libnamespace-autoclean-perl all 0.28-1 [12.5 kB]\n",
            "Get:60 http://archive.ubuntu.com/ubuntu bionic/main amd64 libparams-util-perl amd64 1.07-3build3 [19.6 kB]\n",
            "Get:61 http://archive.ubuntu.com/ubuntu bionic/main amd64 libsub-install-perl all 0.928-1 [10.5 kB]\n",
            "Get:62 http://archive.ubuntu.com/ubuntu bionic/main amd64 libdata-optlist-perl all 0.110-1 [9,956 B]\n",
            "Get:63 http://archive.ubuntu.com/ubuntu bionic/main amd64 libsub-exporter-perl all 0.987-1 [44.9 kB]\n",
            "Get:64 http://archive.ubuntu.com/ubuntu bionic/universe amd64 libeval-closure-perl all 0.14-1 [10.3 kB]\n",
            "Get:65 http://archive.ubuntu.com/ubuntu bionic/main amd64 libclass-data-inheritable-perl all 0.08-2 [8,774 B]\n",
            "Get:66 http://archive.ubuntu.com/ubuntu bionic/main amd64 libdevel-stacktrace-perl all 2.0300-1 [22.4 kB]\n",
            "Get:67 http://archive.ubuntu.com/ubuntu bionic/main amd64 libexception-class-perl all 1.44-1 [25.9 kB]\n",
            "Get:68 http://archive.ubuntu.com/ubuntu bionic/universe amd64 libscalar-list-utils-perl amd64 1:1.50-1 [48.1 kB]\n",
            "Get:69 http://archive.ubuntu.com/ubuntu bionic/universe amd64 libparams-validationcompiler-perl all 0.26-1 [25.9 kB]\n",
            "Get:70 http://archive.ubuntu.com/ubuntu bionic/universe amd64 libalgorithm-c3-perl all 0.10-1 [11.3 kB]\n",
            "Get:71 http://archive.ubuntu.com/ubuntu bionic/universe amd64 libclass-c3-perl all 0.33-1 [19.0 kB]\n",
            "Get:72 http://archive.ubuntu.com/ubuntu bionic/universe amd64 libmro-compat-perl all 0.13-1 [11.2 kB]\n",
            "Get:73 http://archive.ubuntu.com/ubuntu bionic/main amd64 libclass-method-modifiers-perl all 2.12-1 [15.7 kB]\n",
            "Get:74 http://archive.ubuntu.com/ubuntu bionic/main amd64 librole-tiny-perl all 2.000006-1 [15.9 kB]\n",
            "Get:75 http://archive.ubuntu.com/ubuntu bionic/main amd64 libsub-quote-perl all 2.005000-1 [17.0 kB]\n",
            "Get:76 http://archive.ubuntu.com/ubuntu bionic/universe amd64 libspecio-perl all 0.42-1 [133 kB]\n",
            "Get:77 http://archive.ubuntu.com/ubuntu bionic/universe amd64 libdatetime-locale-perl all 1:1.17-1 [2,281 kB]\n",
            "Get:78 http://archive.ubuntu.com/ubuntu bionic/universe amd64 libclass-singleton-perl all 1.5-1 [13.0 kB]\n",
            "Get:79 http://archive.ubuntu.com/ubuntu bionic/universe amd64 libdatetime-timezone-perl all 1:2.18-1+2018d [247 kB]\n",
            "Get:80 http://archive.ubuntu.com/ubuntu bionic/universe amd64 libdatetime-perl amd64 2:1.46-1 [90.9 kB]\n",
            "Get:81 http://archive.ubuntu.com/ubuntu bionic/universe amd64 libclass-factory-util-perl all 1.7-3 [6,910 B]\n",
            "Get:82 http://archive.ubuntu.com/ubuntu bionic/universe amd64 libpackage-deprecationmanager-perl all 0.17-1 [15.3 kB]\n",
            "Get:83 http://archive.ubuntu.com/ubuntu bionic/universe amd64 libdatetime-format-strptime-perl all 1.7500-1 [26.5 kB]\n",
            "Get:84 http://archive.ubuntu.com/ubuntu bionic/main amd64 libparams-validate-perl amd64 1.29-1 [52.3 kB]\n",
            "Get:85 http://archive.ubuntu.com/ubuntu bionic/universe amd64 libdatetime-format-builder-perl all 0.8100-1 [68.3 kB]\n",
            "Get:86 http://archive.ubuntu.com/ubuntu bionic/universe amd64 libdatetime-calendar-julian-perl all 0.04-1 [6,230 B]\n",
            "Get:87 http://archive.ubuntu.com/ubuntu bionic/universe amd64 libencode-eucjpms-perl amd64 0.07-3build5 [142 kB]\n",
            "Get:88 http://archive.ubuntu.com/ubuntu bionic/universe amd64 libencode-hanextra-perl amd64 0.23-5 [1,508 kB]\n",
            "Get:89 http://archive.ubuntu.com/ubuntu bionic/universe amd64 libencode-jis2k-perl amd64 0.03-1build3 [316 kB]\n",
            "Get:90 http://archive.ubuntu.com/ubuntu bionic/universe amd64 libfile-slurper-perl all 0.011-1 [7,504 B]\n",
            "Get:91 http://archive.ubuntu.com/ubuntu bionic/universe amd64 libipc-run3-perl all 0.048-1 [34.8 kB]\n",
            "Get:92 http://archive.ubuntu.com/ubuntu bionic/main amd64 perl-openssl-defaults amd64 3build1 [7,012 B]\n",
            "Get:93 http://archive.ubuntu.com/ubuntu bionic-updates/main amd64 libnet-ssleay-perl amd64 1.84-1ubuntu0.2 [283 kB]\n",
            "Get:94 http://archive.ubuntu.com/ubuntu bionic-updates/main amd64 libio-socket-ssl-perl all 2.060-3~ubuntu18.04.1 [173 kB]\n",
            "Get:95 http://archive.ubuntu.com/ubuntu bionic/main amd64 liburi-perl all 1.73-1 [77.2 kB]\n",
            "Get:96 http://archive.ubuntu.com/ubuntu bionic/main amd64 libnet-http-perl all 6.17-1 [22.7 kB]\n",
            "Get:97 http://archive.ubuntu.com/ubuntu bionic/main amd64 libencode-locale-perl all 1.05-1 [12.3 kB]\n",
            "Get:98 http://archive.ubuntu.com/ubuntu bionic/main amd64 libtimedate-perl all 2.3000-2 [37.5 kB]\n",
            "Get:99 http://archive.ubuntu.com/ubuntu bionic/main amd64 libhttp-date-perl all 6.02-1 [10.4 kB]\n",
            "Get:100 http://archive.ubuntu.com/ubuntu bionic/main amd64 libfile-listing-perl all 6.04-1 [9,774 B]\n",
            "Get:101 http://archive.ubuntu.com/ubuntu bionic/main amd64 libhtml-tagset-perl all 3.20-3 [12.1 kB]\n",
            "Get:102 http://archive.ubuntu.com/ubuntu bionic/main amd64 libhtml-parser-perl amd64 3.72-3build1 [85.9 kB]\n",
            "Get:103 http://archive.ubuntu.com/ubuntu bionic/main amd64 libhtml-tree-perl all 5.07-1 [200 kB]\n",
            "Get:104 http://archive.ubuntu.com/ubuntu bionic/main amd64 libio-html-perl all 1.001-1 [14.9 kB]\n",
            "Get:105 http://archive.ubuntu.com/ubuntu bionic/main amd64 liblwp-mediatypes-perl all 6.02-1 [21.7 kB]\n",
            "Get:106 http://archive.ubuntu.com/ubuntu bionic/main amd64 libhttp-message-perl all 6.14-1 [72.1 kB]\n",
            "Get:107 http://archive.ubuntu.com/ubuntu bionic/main amd64 libhttp-cookies-perl all 6.04-1 [17.2 kB]\n",
            "Get:108 http://archive.ubuntu.com/ubuntu bionic/main amd64 libhttp-negotiate-perl all 6.00-2 [13.4 kB]\n",
            "Get:109 http://archive.ubuntu.com/ubuntu bionic/main amd64 libwww-robotrules-perl all 6.01-1 [14.1 kB]\n",
            "Get:110 http://archive.ubuntu.com/ubuntu bionic-updates/main amd64 libwww-perl all 6.31-1ubuntu0.1 [137 kB]\n",
            "Get:111 http://archive.ubuntu.com/ubuntu bionic/main amd64 liblwp-protocol-https-perl all 6.07-2 [8,284 B]\n",
            "Get:112 http://archive.ubuntu.com/ubuntu bionic/universe amd64 liblingua-translit-perl all 0.28-1 [24.9 kB]\n",
            "Get:113 http://archive.ubuntu.com/ubuntu bionic/universe amd64 liblist-someutils-perl all 0.56-1 [36.2 kB]\n",
            "Get:114 http://archive.ubuntu.com/ubuntu bionic/universe amd64 liblist-utilsby-perl all 0.10-1 [13.6 kB]\n",
            "Get:115 http://archive.ubuntu.com/ubuntu bionic/universe amd64 liblist-allutils-perl all 0.14-1 [31.2 kB]\n",
            "Get:116 http://archive.ubuntu.com/ubuntu bionic/main amd64 libexporter-tiny-perl all 1.000000-2 [34.6 kB]\n",
            "Get:117 http://archive.ubuntu.com/ubuntu bionic/main amd64 liblist-moreutils-perl amd64 0.416-1build3 [55.5 kB]\n",
            "Get:118 http://archive.ubuntu.com/ubuntu bionic/universe amd64 liblog-log4perl-perl all 1.49-1 [344 kB]\n",
            "Get:119 http://archive.ubuntu.com/ubuntu bionic/universe amd64 libreadonly-perl all 2.050-1 [19.8 kB]\n",
            "Get:120 http://archive.ubuntu.com/ubuntu bionic/universe amd64 libregexp-common-perl all 2017060201-1 [168 kB]\n",
            "Get:121 http://archive.ubuntu.com/ubuntu bionic/main amd64 libsort-key-perl amd64 1.33-2 [35.0 kB]\n",
            "Get:122 http://archive.ubuntu.com/ubuntu bionic/universe amd64 libbtparse1 amd64 0.85-1 [36.6 kB]\n",
            "Get:123 http://archive.ubuntu.com/ubuntu bionic/universe amd64 libtext-bibtex-perl amd64 0.85-1 [130 kB]\n",
            "Get:124 http://archive.ubuntu.com/ubuntu bionic/universe amd64 libtext-csv-perl all 1.95-1 [92.7 kB]\n",
            "Get:125 http://archive.ubuntu.com/ubuntu bionic/universe amd64 libtext-csv-xs-perl amd64 1.34-1 [108 kB]\n",
            "Get:126 http://archive.ubuntu.com/ubuntu bionic/universe amd64 libtext-roman-perl all 3.5-2 [12.0 kB]\n",
            "Get:127 http://archive.ubuntu.com/ubuntu bionic/universe amd64 libunicode-collate-perl amd64 1.25-1 [555 kB]\n",
            "Get:128 http://archive.ubuntu.com/ubuntu bionic/universe amd64 libsombok3 amd64 2.4.0-1 [27.2 kB]\n",
            "Get:129 http://archive.ubuntu.com/ubuntu bionic/universe amd64 libmime-charset-perl all 1.012.2-1 [30.9 kB]\n",
            "Get:130 http://archive.ubuntu.com/ubuntu bionic/universe amd64 libunicode-linebreak-perl amd64 0.0.20160702-1build2 [96.6 kB]\n",
            "Get:131 http://archive.ubuntu.com/ubuntu bionic/main amd64 libxml-namespacesupport-perl all 1.12-1 [13.2 kB]\n",
            "Get:132 http://archive.ubuntu.com/ubuntu bionic/main amd64 libxml-sax-base-perl all 1.09-1 [18.8 kB]\n",
            "Get:133 http://archive.ubuntu.com/ubuntu bionic/main amd64 libxml-sax-perl all 0.99+dfsg-2ubuntu1 [64.6 kB]\n",
            "Get:134 http://archive.ubuntu.com/ubuntu bionic/main amd64 libxml-libxml-perl amd64 2.0128+dfsg-5 [316 kB]\n",
            "Get:135 http://archive.ubuntu.com/ubuntu bionic/universe amd64 libxml-libxml-simple-perl all 0.99-1 [24.3 kB]\n",
            "Get:136 http://archive.ubuntu.com/ubuntu bionic/universe amd64 libxml-libxslt-perl amd64 1.95-1build2 [39.1 kB]\n",
            "Get:137 http://archive.ubuntu.com/ubuntu bionic/universe amd64 libxml-writer-perl all 0.625-1 [24.9 kB]\n",
            "Get:138 http://archive.ubuntu.com/ubuntu bionic/universe amd64 libbusiness-isbn-data-perl all 20140910.003-1 [17.9 kB]\n",
            "Get:139 http://archive.ubuntu.com/ubuntu bionic/universe amd64 libbusiness-isbn-perl all 3.004-1 [23.4 kB]\n",
            "Get:140 http://archive.ubuntu.com/ubuntu bionic/universe amd64 libtie-cycle-perl all 1.225-1 [10.4 kB]\n",
            "Get:141 http://archive.ubuntu.com/ubuntu bionic/universe amd64 libbusiness-ismn-perl all 1.131-1 [13.3 kB]\n",
            "Get:142 http://archive.ubuntu.com/ubuntu bionic/universe amd64 libbusiness-issn-perl all 1.002-1 [7,164 B]\n",
            "Get:143 http://archive.ubuntu.com/ubuntu bionic/universe amd64 biber all 2.9-1 [537 kB]\n",
            "Get:144 http://archive.ubuntu.com/ubuntu bionic/universe amd64 chktex amd64 1.7.6-1ubuntu1 [93.0 kB]\n",
            "Get:145 http://archive.ubuntu.com/ubuntu bionic/universe amd64 cm-super-minimal all 0.3.4-11 [5,810 kB]\n",
            "Get:146 http://archive.ubuntu.com/ubuntu bionic/universe amd64 pfb2t1c2pfb amd64 0.3-11 [9,342 B]\n",
            "Get:147 http://archive.ubuntu.com/ubuntu bionic/universe amd64 cm-super all 0.3.4-11 [18.7 MB]\n",
            "Get:148 http://archive.ubuntu.com/ubuntu bionic/universe amd64 texlive-metapost all 2017.20180305-1 [432 kB]\n",
            "Get:149 http://archive.ubuntu.com/ubuntu bionic/universe amd64 context all 2017.05.15.20170613-2 [57.8 MB]\n",
            "Get:150 http://archive.ubuntu.com/ubuntu bionic/universe amd64 context-modules all 20170613-2 [5,913 kB]\n",
            "Get:151 http://archive.ubuntu.com/ubuntu bionic/universe amd64 dvidvi amd64 1.0-8.2 [16.5 kB]\n",
            "Get:152 http://archive.ubuntu.com/ubuntu bionic/main amd64 emacsen-common all 2.0.8 [17.6 kB]\n",
            "Get:153 http://archive.ubuntu.com/ubuntu bionic/universe amd64 texlive-font-utils all 2017.20180305-2 [1,721 kB]\n",
            "Get:154 http://archive.ubuntu.com/ubuntu bionic/universe amd64 texlive-extra-utils all 2017.20180305-2 [20.9 MB]\n",
            "Get:155 http://archive.ubuntu.com/ubuntu bionic/universe amd64 feynmf all 1.08-10 [394 kB]\n",
            "Get:156 http://archive.ubuntu.com/ubuntu bionic/universe amd64 fonts-gfs-baskerville all 1.1-5 [43.4 kB]\n",
            "Get:157 http://archive.ubuntu.com/ubuntu bionic/universe amd64 fonts-gfs-bodoni-classic all 1.1-5 [47.1 kB]\n",
            "Get:158 http://archive.ubuntu.com/ubuntu bionic/universe amd64 fonts-gfs-didot-classic all 1.1-5 [44.9 kB]\n",
            "Get:159 http://archive.ubuntu.com/ubuntu bionic/universe amd64 fonts-gfs-gazis all 1.1-5 [46.4 kB]\n",
            "Get:160 http://archive.ubuntu.com/ubuntu bionic/universe amd64 fonts-gfs-porson all 1.1-6 [33.7 kB]\n",
            "Get:161 http://archive.ubuntu.com/ubuntu bionic/universe amd64 fonts-gfs-theokritos all 1.1-5 [61.2 kB]\n",
            "Get:162 http://archive.ubuntu.com/ubuntu bionic/main amd64 fonts-hosny-amiri all 0.109-2 [790 kB]\n",
            "Get:163 http://archive.ubuntu.com/ubuntu bionic/main amd64 fonts-sil-padauk all 3.003-1 [1,326 kB]\n",
            "Get:164 http://archive.ubuntu.com/ubuntu bionic/universe amd64 lacheck amd64 1.26-17 [27.6 kB]\n",
            "Get:165 http://archive.ubuntu.com/ubuntu bionic/universe amd64 latex-cjk-common amd64 4.8.4+git20170127-2 [207 kB]\n",
            "Get:166 http://archive.ubuntu.com/ubuntu bionic/universe amd64 latex-cjk-chinese amd64 4.8.4+git20170127-2 [57.0 kB]\n",
            "Get:167 http://archive.ubuntu.com/ubuntu bionic/universe amd64 latex-cjk-japanese amd64 4.8.4+git20170127-2 [35.4 kB]\n",
            "Get:168 http://archive.ubuntu.com/ubuntu bionic/universe amd64 latex-cjk-korean all 4.8.4+git20170127-2 [15.1 kB]\n",
            "Get:169 http://archive.ubuntu.com/ubuntu bionic/universe amd64 texlive-lang-other all 2017.20180305-1 [29.5 MB]\n",
            "Get:170 http://archive.ubuntu.com/ubuntu bionic/universe amd64 latex-cjk-thai all 4.8.4+git20170127-2 [66.2 kB]\n",
            "Get:171 http://archive.ubuntu.com/ubuntu bionic/universe amd64 latex-cjk-chinese-arphic-bsmi00lp all 1.23 [11.6 MB]\n",
            "Get:172 http://archive.ubuntu.com/ubuntu bionic/universe amd64 latex-cjk-chinese-arphic-bkai00mp all 1.23 [12.7 MB]\n",
            "Get:173 http://archive.ubuntu.com/ubuntu bionic/universe amd64 latex-cjk-chinese-arphic-gbsn00lp all 1.23 [5,296 kB]\n",
            "Get:174 http://archive.ubuntu.com/ubuntu bionic/universe amd64 latex-cjk-chinese-arphic-gkai00mp all 1.23 [5,852 kB]\n",
            "Get:175 http://archive.ubuntu.com/ubuntu bionic/universe amd64 latex-cjk-japanese-wadalab all 0.20050817-17 [17.8 MB]\n",
            "Get:176 http://archive.ubuntu.com/ubuntu bionic/universe amd64 latex-cjk-all all 4.8.4+git20170127-2 [1,088 B]\n",
            "Get:177 http://archive.ubuntu.com/ubuntu bionic/universe amd64 latexdiff all 1.2.1-1 [364 kB]\n",
            "Get:178 http://archive.ubuntu.com/ubuntu bionic/universe amd64 latexmk all 1:4.41-1 [368 kB]\n",
            "Get:179 http://archive.ubuntu.com/ubuntu bionic/universe amd64 aglfn all 1.7-3 [29.4 kB]\n",
            "Get:180 http://archive.ubuntu.com/ubuntu bionic/universe amd64 lcdf-typetools amd64 2.106~dfsg-1 [680 kB]\n",
            "Get:181 http://archive.ubuntu.com/ubuntu bionic/universe amd64 libclass-c3-xs-perl amd64 0.14-1build3 [15.8 kB]\n",
            "Get:182 http://archive.ubuntu.com/ubuntu bionic/universe amd64 libpadwalker-perl amd64 2.3-1 [15.3 kB]\n",
            "Get:183 http://archive.ubuntu.com/ubuntu bionic/universe amd64 libdevel-caller-perl amd64 2.06-1build5 [10.5 kB]\n",
            "Get:184 http://archive.ubuntu.com/ubuntu bionic/main amd64 libdevel-globaldestruction-perl all 0.14-1 [6,752 B]\n",
            "Get:185 http://archive.ubuntu.com/ubuntu bionic/universe amd64 libdevel-lexalias-perl amd64 0.05-1build5 [8,638 B]\n",
            "Get:186 http://archive.ubuntu.com/ubuntu bionic/universe amd64 libdist-checkconflicts-perl all 0.11-1 [10.2 kB]\n",
            "Get:187 http://archive.ubuntu.com/ubuntu bionic-updates/main amd64 libdjvulibre-text all 3.5.27.1-8ubuntu0.2 [49.3 kB]\n",
            "Get:188 http://archive.ubuntu.com/ubuntu bionic-updates/main amd64 libdjvulibre21 amd64 3.5.27.1-8ubuntu0.2 [560 kB]\n",
            "Get:189 http://archive.ubuntu.com/ubuntu bionic/main amd64 libemail-date-format-perl all 1.005-1 [6,622 B]\n",
            "Get:190 http://archive.ubuntu.com/ubuntu bionic/universe amd64 libemf1 amd64 1.0.9+git.10.3231442-1 [54.7 kB]\n",
            "Get:191 http://archive.ubuntu.com/ubuntu bionic/main amd64 libfile-which-perl all 1.21-1 [11.8 kB]\n",
            "Get:192 http://archive.ubuntu.com/ubuntu bionic/main amd64 libfile-homedir-perl all 1.002-1 [37.1 kB]\n",
            "Get:193 http://archive.ubuntu.com/ubuntu bionic/main amd64 libfont-afm-perl all 1.20-2 [13.2 kB]\n",
            "Get:194 http://archive.ubuntu.com/ubuntu bionic/main amd64 libnotify4 amd64 0.7.7-3 [17.3 kB]\n",
            "Get:195 http://archive.ubuntu.com/ubuntu bionic/universe amd64 libgirara-gtk3-3 amd64 0.2.8-2 [54.5 kB]\n",
            "Get:196 http://archive.ubuntu.com/ubuntu bionic/main amd64 libhtml-form-perl all 6.03-1 [23.5 kB]\n",
            "Get:197 http://archive.ubuntu.com/ubuntu bionic/main amd64 libhtml-format-perl all 2.12-1 [41.3 kB]\n",
            "Get:198 http://archive.ubuntu.com/ubuntu bionic/main amd64 libhttp-daemon-perl all 6.01-1 [17.0 kB]\n",
            "Get:199 http://archive.ubuntu.com/ubuntu bionic/universe amd64 libipc-shareable-perl all 0.61-2 [29.5 kB]\n",
            "Get:200 http://archive.ubuntu.com/ubuntu bionic/universe amd64 liblog-dispatch-perl all 2.67-1 [66.6 kB]\n",
            "Get:201 http://archive.ubuntu.com/ubuntu bionic-updates/main amd64 libmagick++-6.q16-7 amd64 8:6.9.7.4+dfsg-16ubuntu6.8 [139 kB]\n",
            "Get:202 http://archive.ubuntu.com/ubuntu bionic/main amd64 libwmf0.2-7 amd64 0.2.8.4-12 [150 kB]\n",
            "Get:203 http://archive.ubuntu.com/ubuntu bionic-updates/main amd64 libmagickcore-6.q16-3-extra amd64 8:6.9.7.4+dfsg-16ubuntu6.8 [62.3 kB]\n",
            "Get:204 http://archive.ubuntu.com/ubuntu bionic/main amd64 libsys-hostname-long-perl all 1.5-1 [11.7 kB]\n",
            "Get:205 http://archive.ubuntu.com/ubuntu bionic/main amd64 libmail-sendmail-perl all 0.80-1 [22.6 kB]\n",
            "Get:206 http://archive.ubuntu.com/ubuntu bionic/main amd64 libnet-smtp-ssl-perl all 1.04-1 [5,948 B]\n",
            "Get:207 http://archive.ubuntu.com/ubuntu bionic/main amd64 libmailtools-perl all 2.18-1 [74.0 kB]\n",
            "Get:208 http://archive.ubuntu.com/ubuntu bionic/main amd64 libmime-lite-perl all 3.030-2 [62.7 kB]\n",
            "Get:209 http://archive.ubuntu.com/ubuntu bionic/main amd64 libmime-types-perl all 2.14-1 [53.8 kB]\n",
            "Get:210 http://archive.ubuntu.com/ubuntu bionic/main amd64 libnet-libidn-perl amd64 0.12.ds-2build4 [16.7 kB]\n",
            "Get:211 http://archive.ubuntu.com/ubuntu bionic/main amd64 libnetpbm10 amd64 2:10.0-15.3build1 [58.0 kB]\n",
            "Get:212 http://archive.ubuntu.com/ubuntu bionic/universe amd64 libosp5 amd64 1.5.2-13ubuntu2 [584 kB]\n",
            "Get:213 http://archive.ubuntu.com/ubuntu bionic/universe amd64 libostyle1c2 amd64 1.4devel1-21.3 [592 kB]\n",
            "Get:214 http://archive.ubuntu.com/ubuntu bionic/main amd64 libpackage-stash-xs-perl amd64 0.28-3build2 [16.4 kB]\n",
            "Get:215 http://archive.ubuntu.com/ubuntu bionic/universe amd64 libperlio-utf8-strict-perl amd64 0.007-2 [10.8 kB]\n",
            "Get:216 http://archive.ubuntu.com/ubuntu bionic/universe amd64 libplot2c2 amd64 2.6-9 [502 kB]\n",
            "Get:217 http://archive.ubuntu.com/ubuntu bionic-updates/main amd64 libpoppler-glib8 amd64 0.62.0-2ubuntu2.10 [108 kB]\n",
            "Get:218 http://archive.ubuntu.com/ubuntu bionic-updates/universe amd64 libpoppler-qt5-1 amd64 0.62.0-2ubuntu2.10 [140 kB]\n",
            "Get:219 http://archive.ubuntu.com/ubuntu bionic/universe amd64 libzip4 amd64 1.1.2-1.1 [37.8 kB]\n",
            "Get:220 http://archive.ubuntu.com/ubuntu bionic/universe amd64 libpstoedit0c2a amd64 3.70-5 [349 kB]\n",
            "Get:221 http://archive.ubuntu.com/ubuntu bionic/universe amd64 libref-util-perl all 0.203-1 [14.8 kB]\n",
            "Get:222 http://archive.ubuntu.com/ubuntu bionic/universe amd64 libref-util-xs-perl amd64 0.116-1 [11.5 kB]\n",
            "Get:223 http://archive.ubuntu.com/ubuntu bionic/universe amd64 libtext-unidecode-perl all 1.30-1 [99.0 kB]\n",
            "Get:224 http://archive.ubuntu.com/ubuntu bionic/main amd64 libutempter0 amd64 1.1.6-3 [7,898 B]\n",
            "Get:225 http://archive.ubuntu.com/ubuntu bionic/main amd64 libxml-parser-perl amd64 2.44-2build3 [199 kB]\n",
            "Get:226 http://archive.ubuntu.com/ubuntu bionic/main amd64 libxml-sax-expat-perl all 0.40-2 [11.5 kB]\n",
            "Get:227 http://archive.ubuntu.com/ubuntu bionic/main amd64 libyaml-tiny-perl all 1.70-1 [25.1 kB]\n",
            "Get:228 http://archive.ubuntu.com/ubuntu bionic/main amd64 netpbm amd64 2:10.0-15.3build1 [1,017 kB]\n",
            "Get:229 http://archive.ubuntu.com/ubuntu bionic/main amd64 notification-daemon amd64 3.20.0-3 [36.9 kB]\n",
            "Get:230 http://archive.ubuntu.com/ubuntu bionic/universe amd64 openjade amd64 1.4devel1-21.3 [235 kB]\n",
            "Get:231 http://archive.ubuntu.com/ubuntu bionic/universe amd64 prerex amd64 6.5.4-1 [28.0 kB]\n",
            "Get:232 http://archive.ubuntu.com/ubuntu bionic/universe amd64 ps2eps amd64 1.68+binaryfree-2 [33.2 kB]\n",
            "Get:233 http://archive.ubuntu.com/ubuntu bionic/universe amd64 pstoedit amd64 3.70-5 [102 kB]\n",
            "Get:234 http://archive.ubuntu.com/ubuntu bionic/universe amd64 psutils amd64 1.17.dfsg-4 [56.2 kB]\n",
            "Get:235 http://archive.ubuntu.com/ubuntu bionic/universe amd64 purifyeps all 1.1-2 [41.8 kB]\n",
            "Get:236 http://archive.ubuntu.com/ubuntu bionic/main amd64 python3-olefile all 0.45.1-1 [33.3 kB]\n",
            "Get:237 http://archive.ubuntu.com/ubuntu bionic/universe amd64 texinfo amd64 6.5.0.dfsg.1-2 [752 kB]\n",
            "Get:238 http://archive.ubuntu.com/ubuntu bionic/universe amd64 texlive-bibtex-extra all 2017.20180305-2 [56.0 MB]\n",
            "Get:239 http://archive.ubuntu.com/ubuntu bionic/universe amd64 texlive-fonts-extra-doc all 2017.20180305-2 [86.9 MB]\n",
            "Get:240 http://archive.ubuntu.com/ubuntu bionic/main amd64 texlive-fonts-recommended-doc all 2017.20180305-1 [2,630 kB]\n",
            "Get:241 http://archive.ubuntu.com/ubuntu bionic/universe amd64 texlive-xetex all 2017.20180305-1 [10.7 MB]\n",
            "Get:242 http://archive.ubuntu.com/ubuntu bionic/universe amd64 texlive-formats-extra all 2017.20180305-2 [4,626 kB]\n",
            "Get:243 http://archive.ubuntu.com/ubuntu bionic/universe amd64 fragmaster all 1.7-5 [123 kB]\n",
            "Get:244 http://archive.ubuntu.com/ubuntu bionic/universe amd64 texlive-games all 2017.20180305-2 [8,971 kB]\n",
            "Get:245 http://archive.ubuntu.com/ubuntu bionic/universe amd64 texlive-humanities all 2017.20180305-2 [362 kB]\n",
            "Get:246 http://archive.ubuntu.com/ubuntu bionic/universe amd64 texlive-humanities-doc all 2017.20180305-2 [19.7 MB]\n",
            "Get:247 http://archive.ubuntu.com/ubuntu bionic/universe amd64 texlive-lang-arabic all 2017.20180305-1 [14.4 MB]\n",
            "Get:248 http://archive.ubuntu.com/ubuntu bionic/universe amd64 texlive-lang-cjk all 2017.20180305-1 [1,112 kB]\n",
            "Get:249 http://archive.ubuntu.com/ubuntu bionic/universe amd64 texlive-lang-chinese all 2017.20180305-1 [39.5 MB]\n",
            "Get:250 http://archive.ubuntu.com/ubuntu bionic/universe amd64 texlive-lang-cyrillic all 2017.20180305-1 [20.8 MB]\n",
            "Get:251 http://archive.ubuntu.com/ubuntu bionic/universe amd64 texlive-luatex all 2017.20180305-1 [7,139 kB]\n",
            "Get:252 http://archive.ubuntu.com/ubuntu bionic/universe amd64 texlive-lang-czechslovak all 2017.20180305-1 [10.7 MB]\n",
            "Get:253 http://archive.ubuntu.com/ubuntu bionic/universe amd64 texlive-lang-english all 2017.20180305-1 [84.0 MB]\n",
            "Get:254 http://archive.ubuntu.com/ubuntu bionic/universe amd64 texlive-lang-european all 2017.20180305-1 [13.9 MB]\n",
            "Get:255 http://archive.ubuntu.com/ubuntu bionic/universe amd64 texlive-lang-french all 2017.20180305-1 [25.6 MB]\n",
            "Get:256 http://archive.ubuntu.com/ubuntu bionic/universe amd64 texlive-lang-german all 2017.20180305-1 [23.7 MB]\n",
            "Get:257 http://archive.ubuntu.com/ubuntu bionic/universe amd64 texlive-lang-greek all 2017.20180305-1 [76.3 MB]\n",
            "Get:258 http://archive.ubuntu.com/ubuntu bionic/universe amd64 texlive-lang-italian all 2017.20180305-1 [5,603 kB]\n",
            "Get:259 http://archive.ubuntu.com/ubuntu bionic/universe amd64 texlive-lang-japanese all 2017.20180305-1 [18.0 MB]\n",
            "Get:260 http://archive.ubuntu.com/ubuntu bionic/universe amd64 texlive-lang-korean all 2017.20180305-1 [40.5 MB]\n",
            "Get:261 http://archive.ubuntu.com/ubuntu bionic/universe amd64 texlive-lang-polish all 2017.20180305-1 [7,092 kB]\n",
            "Get:262 http://archive.ubuntu.com/ubuntu bionic/universe amd64 texlive-lang-portuguese all 2017.20180305-1 [9,856 kB]\n",
            "Get:263 http://archive.ubuntu.com/ubuntu bionic/universe amd64 texlive-lang-spanish all 2017.20180305-1 [5,859 kB]\n",
            "Get:264 http://archive.ubuntu.com/ubuntu bionic/main amd64 texlive-latex-base-doc all 2017.20180305-1 [45.8 MB]\n",
            "Get:265 http://archive.ubuntu.com/ubuntu bionic/universe amd64 texlive-latex-extra-doc all 2017.20180305-2 [396 MB]\n",
            "Get:266 http://archive.ubuntu.com/ubuntu bionic/main amd64 texlive-latex-recommended-doc all 2017.20180305-1 [44.5 MB]\n",
            "Get:267 http://archive.ubuntu.com/ubuntu bionic/main amd64 texlive-metapost-doc all 2017.20180305-1 [30.3 MB]\n",
            "Get:268 http://archive.ubuntu.com/ubuntu bionic/universe amd64 texlive-music all 2017.20180305-2 [27.0 MB]\n",
            "Get:269 http://archive.ubuntu.com/ubuntu bionic/main amd64 texlive-pictures-doc all 2017.20180305-1 [115 MB]\n",
            "Get:270 http://archive.ubuntu.com/ubuntu bionic/universe amd64 texlive-pstricks-doc all 2017.20180305-2 [202 MB]\n",
            "Get:271 http://archive.ubuntu.com/ubuntu bionic/universe amd64 texlive-publishers all 2017.20180305-2 [9,799 kB]\n",
            "Get:272 http://archive.ubuntu.com/ubuntu bionic/universe amd64 texlive-publishers-doc all 2017.20180305-2 [136 MB]\n",
            "Get:273 http://archive.ubuntu.com/ubuntu bionic/universe amd64 texlive-science all 2017.20180305-2 [3,077 kB]\n",
            "Get:274 http://archive.ubuntu.com/ubuntu bionic/universe amd64 texlive-science-doc all 2017.20180305-2 [50.7 MB]\n",
            "Get:275 http://archive.ubuntu.com/ubuntu bionic/main amd64 xbitmaps all 1.1.1-2 [28.1 kB]\n",
            "Get:276 http://archive.ubuntu.com/ubuntu bionic/universe amd64 xterm amd64 330-1ubuntu2 [661 kB]\n",
            "Get:277 http://archive.ubuntu.com/ubuntu bionic/universe amd64 vprerex amd64 1:6.5.1-1 [28.9 kB]\n",
            "Get:278 http://archive.ubuntu.com/ubuntu bionic/universe amd64 texlive-full all 2017.20180305-1 [14.5 kB]\n",
            "Get:279 http://archive.ubuntu.com/ubuntu bionic/universe amd64 texlive-generic-recommended all 2017.20180305-1 [15.9 kB]\n",
            "Get:280 http://archive.ubuntu.com/ubuntu bionic/main amd64 x11-utils amd64 7.7+3build1 [196 kB]\n",
            "Get:281 http://archive.ubuntu.com/ubuntu bionic/universe amd64 zathura-pdf-poppler amd64 0.2.8-1 [9,420 B]\n",
            "Get:282 http://archive.ubuntu.com/ubuntu bionic/universe amd64 zathura amd64 0.3.8-1 [131 kB]\n",
            "Get:283 http://archive.ubuntu.com/ubuntu bionic/main amd64 libauthen-sasl-perl all 2.1600-1 [48.7 kB]\n",
            "Fetched 1,966 MB in 1min 4s (30.6 MB/s)\n",
            "debconf: unable to initialize frontend: Dialog\n",
            "debconf: (No usable dialog-like program is installed, so the dialog based frontend cannot be used. at /usr/share/perl5/Debconf/FrontEnd/Dialog.pm line 76, <> line 283.)\n",
            "debconf: falling back to frontend: Readline\n",
            "debconf: unable to initialize frontend: Readline\n",
            "debconf: (This frontend requires a controlling tty.)\n",
            "debconf: falling back to frontend: Teletype\n",
            "dpkg-preconfigure: unable to re-open stdin: \n",
            "Selecting previously unselected package install-info.\n",
            "(Reading database ... 230668 files and directories currently installed.)\n",
            "Preparing to unpack .../install-info_6.5.0.dfsg.1-2_amd64.deb ...\n",
            "Unpacking install-info (6.5.0.dfsg.1-2) ...\n",
            "Setting up install-info (6.5.0.dfsg.1-2) ...\n",
            "Selecting previously unselected package fonts-arphic-bkai00mp.\n",
            "(Reading database ... 230681 files and directories currently installed.)\n",
            "Preparing to unpack .../000-fonts-arphic-bkai00mp_2.10-17_all.deb ...\n",
            "Unpacking fonts-arphic-bkai00mp (2.10-17) ...\n",
            "Selecting previously unselected package fonts-arphic-bsmi00lp.\n",
            "Preparing to unpack .../001-fonts-arphic-bsmi00lp_2.10-17_all.deb ...\n",
            "Unpacking fonts-arphic-bsmi00lp (2.10-17) ...\n",
            "Selecting previously unselected package fonts-arphic-gbsn00lp.\n",
            "Preparing to unpack .../002-fonts-arphic-gbsn00lp_2.11-15_all.deb ...\n",
            "Unpacking fonts-arphic-gbsn00lp (2.11-15) ...\n",
            "Selecting previously unselected package fonts-arphic-gkai00mp.\n",
            "Preparing to unpack .../003-fonts-arphic-gkai00mp_2.11-15_all.deb ...\n",
            "Unpacking fonts-arphic-gkai00mp (2.11-15) ...\n",
            "Selecting previously unselected package fonts-baekmuk.\n",
            "Preparing to unpack .../004-fonts-baekmuk_2.2-12_all.deb ...\n",
            "Unpacking fonts-baekmuk (2.2-12) ...\n",
            "Selecting previously unselected package fonts-ipaexfont-gothic.\n",
            "Preparing to unpack .../005-fonts-ipaexfont-gothic_00301-4ubuntu1_all.deb ...\n",
            "Unpacking fonts-ipaexfont-gothic (00301-4ubuntu1) ...\n",
            "Selecting previously unselected package fonts-ipaexfont-mincho.\n",
            "Preparing to unpack .../006-fonts-ipaexfont-mincho_00301-4ubuntu1_all.deb ...\n",
            "Unpacking fonts-ipaexfont-mincho (00301-4ubuntu1) ...\n",
            "Selecting previously unselected package fonts-ipafont-gothic.\n",
            "Preparing to unpack .../007-fonts-ipafont-gothic_00303-18ubuntu1_all.deb ...\n",
            "Unpacking fonts-ipafont-gothic (00303-18ubuntu1) ...\n",
            "Selecting previously unselected package fonts-ipafont-mincho.\n",
            "Preparing to unpack .../008-fonts-ipafont-mincho_00303-18ubuntu1_all.deb ...\n",
            "Unpacking fonts-ipafont-mincho (00303-18ubuntu1) ...\n",
            "Selecting previously unselected package fonts-unfonts-core.\n",
            "Preparing to unpack .../009-fonts-unfonts-core_1%3a1.0.2-080608-14_all.deb ...\n",
            "Unpacking fonts-unfonts-core (1:1.0.2-080608-14) ...\n",
            "Selecting previously unselected package fonts-unfonts-extra.\n",
            "Preparing to unpack .../010-fonts-unfonts-extra_1%3a1.0.2-080608+dfsg-8_all.deb ...\n",
            "Unpacking fonts-unfonts-extra (1:1.0.2-080608+dfsg-8) ...\n",
            "Selecting previously unselected package liblqr-1-0:amd64.\n",
            "Preparing to unpack .../011-liblqr-1-0_0.4.2-2.1_amd64.deb ...\n",
            "Unpacking liblqr-1-0:amd64 (0.4.2-2.1) ...\n",
            "Selecting previously unselected package imagemagick-6-common.\n",
            "Preparing to unpack .../012-imagemagick-6-common_8%3a6.9.7.4+dfsg-16ubuntu6.8_all.deb ...\n",
            "Unpacking imagemagick-6-common (8:6.9.7.4+dfsg-16ubuntu6.8) ...\n",
            "Selecting previously unselected package libmagickcore-6.q16-3:amd64.\n",
            "Preparing to unpack .../013-libmagickcore-6.q16-3_8%3a6.9.7.4+dfsg-16ubuntu6.8_amd64.deb ...\n",
            "Unpacking libmagickcore-6.q16-3:amd64 (8:6.9.7.4+dfsg-16ubuntu6.8) ...\n",
            "Selecting previously unselected package libmagickwand-6.q16-3:amd64.\n",
            "Preparing to unpack .../014-libmagickwand-6.q16-3_8%3a6.9.7.4+dfsg-16ubuntu6.8_amd64.deb ...\n",
            "Unpacking libmagickwand-6.q16-3:amd64 (8:6.9.7.4+dfsg-16ubuntu6.8) ...\n",
            "Selecting previously unselected package libxxf86dga1:amd64.\n",
            "Preparing to unpack .../015-libxxf86dga1_2%3a1.1.4-1_amd64.deb ...\n",
            "Unpacking libxxf86dga1:amd64 (2:1.1.4-1) ...\n",
            "Selecting previously unselected package sgml-base.\n",
            "Preparing to unpack .../016-sgml-base_1.29_all.deb ...\n",
            "Unpacking sgml-base (1.29) ...\n",
            "Selecting previously unselected package libmagic-mgc.\n",
            "Preparing to unpack .../017-libmagic-mgc_1%3a5.32-2ubuntu0.4_amd64.deb ...\n",
            "Unpacking libmagic-mgc (1:5.32-2ubuntu0.4) ...\n",
            "Selecting previously unselected package libmagic1:amd64.\n",
            "Preparing to unpack .../018-libmagic1_1%3a5.32-2ubuntu0.4_amd64.deb ...\n",
            "Unpacking libmagic1:amd64 (1:5.32-2ubuntu0.4) ...\n",
            "Selecting previously unselected package netbase.\n",
            "Preparing to unpack .../019-netbase_5.4_all.deb ...\n",
            "Unpacking netbase (5.4) ...\n",
            "Selecting previously unselected package info.\n",
            "Preparing to unpack .../020-info_6.5.0.dfsg.1-2_amd64.deb ...\n",
            "Unpacking info (6.5.0.dfsg.1-2) ...\n",
            "Selecting previously unselected package libgslcblas0:amd64.\n",
            "Preparing to unpack .../021-libgslcblas0_2.4+dfsg-6_amd64.deb ...\n",
            "Unpacking libgslcblas0:amd64 (2.4+dfsg-6) ...\n",
            "Selecting previously unselected package libgsl23:amd64.\n",
            "Preparing to unpack .../022-libgsl23_2.4+dfsg-6_amd64.deb ...\n",
            "Unpacking libgsl23:amd64 (2.4+dfsg-6) ...\n",
            "Selecting previously unselected package libosmesa6:amd64.\n",
            "Preparing to unpack .../023-libosmesa6_20.0.8-0ubuntu1~18.04.1_amd64.deb ...\n",
            "Unpacking libosmesa6:amd64 (20.0.8-0ubuntu1~18.04.1) ...\n",
            "Selecting previously unselected package libsigsegv2:amd64.\n",
            "Preparing to unpack .../024-libsigsegv2_2.12-1_amd64.deb ...\n",
            "Unpacking libsigsegv2:amd64 (2.12-1) ...\n",
            "Selecting previously unselected package imagemagick-6.q16.\n",
            "Preparing to unpack .../025-imagemagick-6.q16_8%3a6.9.7.4+dfsg-16ubuntu6.8_amd64.deb ...\n",
            "Unpacking imagemagick-6.q16 (8:6.9.7.4+dfsg-16ubuntu6.8) ...\n",
            "Selecting previously unselected package imagemagick.\n",
            "Preparing to unpack .../026-imagemagick_8%3a6.9.7.4+dfsg-16ubuntu6.8_amd64.deb ...\n",
            "Unpacking imagemagick (8:6.9.7.4+dfsg-16ubuntu6.8) ...\n",
            "Selecting previously unselected package python3-pil.imagetk:amd64.\n",
            "Preparing to unpack .../027-python3-pil.imagetk_5.1.0-1ubuntu0.3_amd64.deb ...\n",
            "Unpacking python3-pil.imagetk:amd64 (5.1.0-1ubuntu0.3) ...\n",
            "Selecting previously unselected package python3-pil:amd64.\n",
            "Preparing to unpack .../028-python3-pil_5.1.0-1ubuntu0.3_amd64.deb ...\n",
            "Unpacking python3-pil:amd64 (5.1.0-1ubuntu0.3) ...\n",
            "Selecting previously unselected package texlive-pstricks.\n",
            "Preparing to unpack .../029-texlive-pstricks_2017.20180305-2_all.deb ...\n",
            "Unpacking texlive-pstricks (2017.20180305-2) ...\n",
            "Selecting previously unselected package asymptote.\n",
            "Preparing to unpack .../030-asymptote_2.41-4_amd64.deb ...\n",
            "Unpacking asymptote (2.41-4) ...\n",
            "Selecting previously unselected package asymptote-doc.\n",
            "Preparing to unpack .../031-asymptote-doc_2.41-4_all.deb ...\n",
            "Unpacking asymptote-doc (2.41-4) ...\n",
            "Selecting previously unselected package libautovivification-perl.\n",
            "Preparing to unpack .../032-libautovivification-perl_0.17-1build1_amd64.deb ...\n",
            "Unpacking libautovivification-perl (0.17-1build1) ...\n",
            "Selecting previously unselected package libsub-name-perl.\n",
            "Preparing to unpack .../033-libsub-name-perl_0.21-1build1_amd64.deb ...\n",
            "Unpacking libsub-name-perl (0.21-1build1) ...\n",
            "Selecting previously unselected package libclass-accessor-perl.\n",
            "Preparing to unpack .../034-libclass-accessor-perl_0.51-1_all.deb ...\n",
            "Unpacking libclass-accessor-perl (0.51-1) ...\n",
            "Selecting previously unselected package libnumber-compare-perl.\n",
            "Preparing to unpack .../035-libnumber-compare-perl_0.03-1_all.deb ...\n",
            "Unpacking libnumber-compare-perl (0.03-1) ...\n",
            "Selecting previously unselected package libtext-glob-perl.\n",
            "Preparing to unpack .../036-libtext-glob-perl_0.10-1_all.deb ...\n",
            "Unpacking libtext-glob-perl (0.10-1) ...\n",
            "Selecting previously unselected package libfile-find-rule-perl.\n",
            "Preparing to unpack .../037-libfile-find-rule-perl_0.34-1_all.deb ...\n",
            "Unpacking libfile-find-rule-perl (0.34-1) ...\n",
            "Selecting previously unselected package libdata-compare-perl.\n",
            "Preparing to unpack .../038-libdata-compare-perl_1.25-1_all.deb ...\n",
            "Unpacking libdata-compare-perl (1.25-1) ...\n",
            "Selecting previously unselected package libdata-dump-perl.\n",
            "Preparing to unpack .../039-libdata-dump-perl_1.23-1_all.deb ...\n",
            "Unpacking libdata-dump-perl (1.23-1) ...\n",
            "Selecting previously unselected package libdata-uniqid-perl.\n",
            "Preparing to unpack .../040-libdata-uniqid-perl_0.12-1_all.deb ...\n",
            "Unpacking libdata-uniqid-perl (0.12-1) ...\n",
            "Selecting previously unselected package libdate-simple-perl.\n",
            "Preparing to unpack .../041-libdate-simple-perl_3.0300-1build4_amd64.deb ...\n",
            "Unpacking libdate-simple-perl (3.0300-1build4) ...\n",
            "Selecting previously unselected package libclass-inspector-perl.\n",
            "Preparing to unpack .../042-libclass-inspector-perl_1.32-1_all.deb ...\n",
            "Unpacking libclass-inspector-perl (1.32-1) ...\n",
            "Selecting previously unselected package libfile-sharedir-perl.\n",
            "Preparing to unpack .../043-libfile-sharedir-perl_1.104-1_all.deb ...\n",
            "Unpacking libfile-sharedir-perl (1.104-1) ...\n",
            "Selecting previously unselected package libb-hooks-op-check-perl.\n",
            "Preparing to unpack .../044-libb-hooks-op-check-perl_0.22-1_amd64.deb ...\n",
            "Unpacking libb-hooks-op-check-perl (0.22-1) ...\n",
            "Selecting previously unselected package libdynaloader-functions-perl.\n",
            "Preparing to unpack .../045-libdynaloader-functions-perl_0.003-1_all.deb ...\n",
            "Unpacking libdynaloader-functions-perl (0.003-1) ...\n",
            "Selecting previously unselected package libdevel-callchecker-perl.\n",
            "Preparing to unpack .../046-libdevel-callchecker-perl_0.007-2build1_amd64.deb ...\n",
            "Unpacking libdevel-callchecker-perl (0.007-2build1) ...\n",
            "Selecting previously unselected package libparams-classify-perl.\n",
            "Preparing to unpack .../047-libparams-classify-perl_0.015-1_amd64.deb ...\n",
            "Unpacking libparams-classify-perl (0.015-1) ...\n",
            "Selecting previously unselected package libmodule-runtime-perl.\n",
            "Preparing to unpack .../048-libmodule-runtime-perl_0.016-1_all.deb ...\n",
            "Unpacking libmodule-runtime-perl (0.016-1) ...\n",
            "Selecting previously unselected package libtry-tiny-perl.\n",
            "Preparing to unpack .../049-libtry-tiny-perl_0.30-1_all.deb ...\n",
            "Unpacking libtry-tiny-perl (0.30-1) ...\n",
            "Selecting previously unselected package libmodule-implementation-perl.\n",
            "Preparing to unpack .../050-libmodule-implementation-perl_0.09-1_all.deb ...\n",
            "Unpacking libmodule-implementation-perl (0.09-1) ...\n",
            "Selecting previously unselected package libsub-exporter-progressive-perl.\n",
            "Preparing to unpack .../051-libsub-exporter-progressive-perl_0.001013-1_all.deb ...\n",
            "Unpacking libsub-exporter-progressive-perl (0.001013-1) ...\n",
            "Selecting previously unselected package libvariable-magic-perl.\n",
            "Preparing to unpack .../052-libvariable-magic-perl_0.62-1_amd64.deb ...\n",
            "Unpacking libvariable-magic-perl (0.62-1) ...\n",
            "Selecting previously unselected package libb-hooks-endofscope-perl.\n",
            "Preparing to unpack .../053-libb-hooks-endofscope-perl_0.21-1_all.deb ...\n",
            "Unpacking libb-hooks-endofscope-perl (0.21-1) ...\n",
            "Selecting previously unselected package libpackage-stash-perl.\n",
            "Preparing to unpack .../054-libpackage-stash-perl_0.37-1_all.deb ...\n",
            "Unpacking libpackage-stash-perl (0.37-1) ...\n",
            "Selecting previously unselected package libsub-identify-perl.\n",
            "Preparing to unpack .../055-libsub-identify-perl_0.14-1_amd64.deb ...\n",
            "Unpacking libsub-identify-perl (0.14-1) ...\n",
            "Selecting previously unselected package libnamespace-clean-perl.\n",
            "Preparing to unpack .../056-libnamespace-clean-perl_0.27-1_all.deb ...\n",
            "Unpacking libnamespace-clean-perl (0.27-1) ...\n",
            "Selecting previously unselected package libnamespace-autoclean-perl.\n",
            "Preparing to unpack .../057-libnamespace-autoclean-perl_0.28-1_all.deb ...\n",
            "Unpacking libnamespace-autoclean-perl (0.28-1) ...\n",
            "Selecting previously unselected package libparams-util-perl.\n",
            "Preparing to unpack .../058-libparams-util-perl_1.07-3build3_amd64.deb ...\n",
            "Unpacking libparams-util-perl (1.07-3build3) ...\n",
            "Selecting previously unselected package libsub-install-perl.\n",
            "Preparing to unpack .../059-libsub-install-perl_0.928-1_all.deb ...\n",
            "Unpacking libsub-install-perl (0.928-1) ...\n",
            "Selecting previously unselected package libdata-optlist-perl.\n",
            "Preparing to unpack .../060-libdata-optlist-perl_0.110-1_all.deb ...\n",
            "Unpacking libdata-optlist-perl (0.110-1) ...\n",
            "Selecting previously unselected package libsub-exporter-perl.\n",
            "Preparing to unpack .../061-libsub-exporter-perl_0.987-1_all.deb ...\n",
            "Unpacking libsub-exporter-perl (0.987-1) ...\n",
            "Selecting previously unselected package libeval-closure-perl.\n",
            "Preparing to unpack .../062-libeval-closure-perl_0.14-1_all.deb ...\n",
            "Unpacking libeval-closure-perl (0.14-1) ...\n",
            "Selecting previously unselected package libclass-data-inheritable-perl.\n",
            "Preparing to unpack .../063-libclass-data-inheritable-perl_0.08-2_all.deb ...\n",
            "Unpacking libclass-data-inheritable-perl (0.08-2) ...\n",
            "Selecting previously unselected package libdevel-stacktrace-perl.\n",
            "Preparing to unpack .../064-libdevel-stacktrace-perl_2.0300-1_all.deb ...\n",
            "Unpacking libdevel-stacktrace-perl (2.0300-1) ...\n",
            "Selecting previously unselected package libexception-class-perl.\n",
            "Preparing to unpack .../065-libexception-class-perl_1.44-1_all.deb ...\n",
            "Unpacking libexception-class-perl (1.44-1) ...\n",
            "Selecting previously unselected package libscalar-list-utils-perl.\n",
            "Preparing to unpack .../066-libscalar-list-utils-perl_1%3a1.50-1_amd64.deb ...\n",
            "Unpacking libscalar-list-utils-perl (1:1.50-1) ...\n",
            "Selecting previously unselected package libparams-validationcompiler-perl.\n",
            "Preparing to unpack .../067-libparams-validationcompiler-perl_0.26-1_all.deb ...\n",
            "Unpacking libparams-validationcompiler-perl (0.26-1) ...\n",
            "Selecting previously unselected package libalgorithm-c3-perl.\n",
            "Preparing to unpack .../068-libalgorithm-c3-perl_0.10-1_all.deb ...\n",
            "Unpacking libalgorithm-c3-perl (0.10-1) ...\n",
            "Selecting previously unselected package libclass-c3-perl.\n",
            "Preparing to unpack .../069-libclass-c3-perl_0.33-1_all.deb ...\n",
            "Unpacking libclass-c3-perl (0.33-1) ...\n",
            "Selecting previously unselected package libmro-compat-perl.\n",
            "Preparing to unpack .../070-libmro-compat-perl_0.13-1_all.deb ...\n",
            "Unpacking libmro-compat-perl (0.13-1) ...\n",
            "Selecting previously unselected package libclass-method-modifiers-perl.\n",
            "Preparing to unpack .../071-libclass-method-modifiers-perl_2.12-1_all.deb ...\n",
            "Unpacking libclass-method-modifiers-perl (2.12-1) ...\n",
            "Selecting previously unselected package librole-tiny-perl.\n",
            "Preparing to unpack .../072-librole-tiny-perl_2.000006-1_all.deb ...\n",
            "Unpacking librole-tiny-perl (2.000006-1) ...\n",
            "Selecting previously unselected package libsub-quote-perl.\n",
            "Preparing to unpack .../073-libsub-quote-perl_2.005000-1_all.deb ...\n",
            "Unpacking libsub-quote-perl (2.005000-1) ...\n",
            "Selecting previously unselected package libspecio-perl.\n",
            "Preparing to unpack .../074-libspecio-perl_0.42-1_all.deb ...\n",
            "Unpacking libspecio-perl (0.42-1) ...\n",
            "Selecting previously unselected package libdatetime-locale-perl.\n",
            "Preparing to unpack .../075-libdatetime-locale-perl_1%3a1.17-1_all.deb ...\n",
            "Unpacking libdatetime-locale-perl (1:1.17-1) ...\n",
            "Selecting previously unselected package libclass-singleton-perl.\n",
            "Preparing to unpack .../076-libclass-singleton-perl_1.5-1_all.deb ...\n",
            "Unpacking libclass-singleton-perl (1.5-1) ...\n",
            "Selecting previously unselected package libdatetime-timezone-perl.\n",
            "Preparing to unpack .../077-libdatetime-timezone-perl_1%3a2.18-1+2018d_all.deb ...\n",
            "Unpacking libdatetime-timezone-perl (1:2.18-1+2018d) ...\n",
            "Selecting previously unselected package libdatetime-perl.\n",
            "Preparing to unpack .../078-libdatetime-perl_2%3a1.46-1_amd64.deb ...\n",
            "Unpacking libdatetime-perl (2:1.46-1) ...\n",
            "Selecting previously unselected package libclass-factory-util-perl.\n",
            "Preparing to unpack .../079-libclass-factory-util-perl_1.7-3_all.deb ...\n",
            "Unpacking libclass-factory-util-perl (1.7-3) ...\n",
            "Selecting previously unselected package libpackage-deprecationmanager-perl.\n",
            "Preparing to unpack .../080-libpackage-deprecationmanager-perl_0.17-1_all.deb ...\n",
            "Unpacking libpackage-deprecationmanager-perl (0.17-1) ...\n",
            "Selecting previously unselected package libdatetime-format-strptime-perl.\n",
            "Preparing to unpack .../081-libdatetime-format-strptime-perl_1.7500-1_all.deb ...\n",
            "Unpacking libdatetime-format-strptime-perl (1.7500-1) ...\n",
            "Selecting previously unselected package libparams-validate-perl.\n",
            "Preparing to unpack .../082-libparams-validate-perl_1.29-1_amd64.deb ...\n",
            "Unpacking libparams-validate-perl (1.29-1) ...\n",
            "Selecting previously unselected package libdatetime-format-builder-perl.\n",
            "Preparing to unpack .../083-libdatetime-format-builder-perl_0.8100-1_all.deb ...\n",
            "Unpacking libdatetime-format-builder-perl (0.8100-1) ...\n",
            "Selecting previously unselected package libdatetime-calendar-julian-perl.\n",
            "Preparing to unpack .../084-libdatetime-calendar-julian-perl_0.04-1_all.deb ...\n",
            "Unpacking libdatetime-calendar-julian-perl (0.04-1) ...\n",
            "Selecting previously unselected package libencode-eucjpms-perl.\n",
            "Preparing to unpack .../085-libencode-eucjpms-perl_0.07-3build5_amd64.deb ...\n",
            "Unpacking libencode-eucjpms-perl (0.07-3build5) ...\n",
            "Selecting previously unselected package libencode-hanextra-perl.\n",
            "Preparing to unpack .../086-libencode-hanextra-perl_0.23-5_amd64.deb ...\n",
            "Unpacking libencode-hanextra-perl (0.23-5) ...\n",
            "Selecting previously unselected package libencode-jis2k-perl.\n",
            "Preparing to unpack .../087-libencode-jis2k-perl_0.03-1build3_amd64.deb ...\n",
            "Unpacking libencode-jis2k-perl (0.03-1build3) ...\n",
            "Selecting previously unselected package libfile-slurper-perl.\n",
            "Preparing to unpack .../088-libfile-slurper-perl_0.011-1_all.deb ...\n",
            "Unpacking libfile-slurper-perl (0.011-1) ...\n",
            "Selecting previously unselected package libipc-run3-perl.\n",
            "Preparing to unpack .../089-libipc-run3-perl_0.048-1_all.deb ...\n",
            "Unpacking libipc-run3-perl (0.048-1) ...\n",
            "Selecting previously unselected package perl-openssl-defaults:amd64.\n",
            "Preparing to unpack .../090-perl-openssl-defaults_3build1_amd64.deb ...\n",
            "Unpacking perl-openssl-defaults:amd64 (3build1) ...\n",
            "Selecting previously unselected package libnet-ssleay-perl.\n",
            "Preparing to unpack .../091-libnet-ssleay-perl_1.84-1ubuntu0.2_amd64.deb ...\n",
            "Unpacking libnet-ssleay-perl (1.84-1ubuntu0.2) ...\n",
            "Selecting previously unselected package libio-socket-ssl-perl.\n",
            "Preparing to unpack .../092-libio-socket-ssl-perl_2.060-3~ubuntu18.04.1_all.deb ...\n",
            "Unpacking libio-socket-ssl-perl (2.060-3~ubuntu18.04.1) ...\n",
            "Selecting previously unselected package liburi-perl.\n",
            "Preparing to unpack .../093-liburi-perl_1.73-1_all.deb ...\n",
            "Unpacking liburi-perl (1.73-1) ...\n",
            "Selecting previously unselected package libnet-http-perl.\n",
            "Preparing to unpack .../094-libnet-http-perl_6.17-1_all.deb ...\n",
            "Unpacking libnet-http-perl (6.17-1) ...\n",
            "Selecting previously unselected package libencode-locale-perl.\n",
            "Preparing to unpack .../095-libencode-locale-perl_1.05-1_all.deb ...\n",
            "Unpacking libencode-locale-perl (1.05-1) ...\n",
            "Selecting previously unselected package libtimedate-perl.\n",
            "Preparing to unpack .../096-libtimedate-perl_2.3000-2_all.deb ...\n",
            "Unpacking libtimedate-perl (2.3000-2) ...\n",
            "Selecting previously unselected package libhttp-date-perl.\n",
            "Preparing to unpack .../097-libhttp-date-perl_6.02-1_all.deb ...\n",
            "Unpacking libhttp-date-perl (6.02-1) ...\n",
            "Selecting previously unselected package libfile-listing-perl.\n",
            "Preparing to unpack .../098-libfile-listing-perl_6.04-1_all.deb ...\n",
            "Unpacking libfile-listing-perl (6.04-1) ...\n",
            "Selecting previously unselected package libhtml-tagset-perl.\n",
            "Preparing to unpack .../099-libhtml-tagset-perl_3.20-3_all.deb ...\n",
            "Unpacking libhtml-tagset-perl (3.20-3) ...\n",
            "Selecting previously unselected package libhtml-parser-perl.\n",
            "Preparing to unpack .../100-libhtml-parser-perl_3.72-3build1_amd64.deb ...\n",
            "Unpacking libhtml-parser-perl (3.72-3build1) ...\n",
            "Selecting previously unselected package libhtml-tree-perl.\n",
            "Preparing to unpack .../101-libhtml-tree-perl_5.07-1_all.deb ...\n",
            "Unpacking libhtml-tree-perl (5.07-1) ...\n",
            "Selecting previously unselected package libio-html-perl.\n",
            "Preparing to unpack .../102-libio-html-perl_1.001-1_all.deb ...\n",
            "Unpacking libio-html-perl (1.001-1) ...\n",
            "Selecting previously unselected package liblwp-mediatypes-perl.\n",
            "Preparing to unpack .../103-liblwp-mediatypes-perl_6.02-1_all.deb ...\n",
            "Unpacking liblwp-mediatypes-perl (6.02-1) ...\n",
            "Selecting previously unselected package libhttp-message-perl.\n",
            "Preparing to unpack .../104-libhttp-message-perl_6.14-1_all.deb ...\n",
            "Unpacking libhttp-message-perl (6.14-1) ...\n",
            "Selecting previously unselected package libhttp-cookies-perl.\n",
            "Preparing to unpack .../105-libhttp-cookies-perl_6.04-1_all.deb ...\n",
            "Unpacking libhttp-cookies-perl (6.04-1) ...\n",
            "Selecting previously unselected package libhttp-negotiate-perl.\n",
            "Preparing to unpack .../106-libhttp-negotiate-perl_6.00-2_all.deb ...\n",
            "Unpacking libhttp-negotiate-perl (6.00-2) ...\n",
            "Selecting previously unselected package libwww-robotrules-perl.\n",
            "Preparing to unpack .../107-libwww-robotrules-perl_6.01-1_all.deb ...\n",
            "Unpacking libwww-robotrules-perl (6.01-1) ...\n",
            "Selecting previously unselected package libwww-perl.\n",
            "Preparing to unpack .../108-libwww-perl_6.31-1ubuntu0.1_all.deb ...\n",
            "Unpacking libwww-perl (6.31-1ubuntu0.1) ...\n",
            "Selecting previously unselected package liblwp-protocol-https-perl.\n",
            "Preparing to unpack .../109-liblwp-protocol-https-perl_6.07-2_all.deb ...\n",
            "Unpacking liblwp-protocol-https-perl (6.07-2) ...\n",
            "Selecting previously unselected package liblingua-translit-perl.\n",
            "Preparing to unpack .../110-liblingua-translit-perl_0.28-1_all.deb ...\n",
            "Unpacking liblingua-translit-perl (0.28-1) ...\n",
            "Selecting previously unselected package liblist-someutils-perl.\n",
            "Preparing to unpack .../111-liblist-someutils-perl_0.56-1_all.deb ...\n",
            "Unpacking liblist-someutils-perl (0.56-1) ...\n",
            "Selecting previously unselected package liblist-utilsby-perl.\n",
            "Preparing to unpack .../112-liblist-utilsby-perl_0.10-1_all.deb ...\n",
            "Unpacking liblist-utilsby-perl (0.10-1) ...\n",
            "Selecting previously unselected package liblist-allutils-perl.\n",
            "Preparing to unpack .../113-liblist-allutils-perl_0.14-1_all.deb ...\n",
            "Unpacking liblist-allutils-perl (0.14-1) ...\n",
            "Selecting previously unselected package libexporter-tiny-perl.\n",
            "Preparing to unpack .../114-libexporter-tiny-perl_1.000000-2_all.deb ...\n",
            "Unpacking libexporter-tiny-perl (1.000000-2) ...\n",
            "Selecting previously unselected package liblist-moreutils-perl.\n",
            "Preparing to unpack .../115-liblist-moreutils-perl_0.416-1build3_amd64.deb ...\n",
            "Unpacking liblist-moreutils-perl (0.416-1build3) ...\n",
            "Selecting previously unselected package liblog-log4perl-perl.\n",
            "Preparing to unpack .../116-liblog-log4perl-perl_1.49-1_all.deb ...\n",
            "Unpacking liblog-log4perl-perl (1.49-1) ...\n",
            "Selecting previously unselected package libreadonly-perl.\n",
            "Preparing to unpack .../117-libreadonly-perl_2.050-1_all.deb ...\n",
            "Unpacking libreadonly-perl (2.050-1) ...\n",
            "Selecting previously unselected package libregexp-common-perl.\n",
            "Preparing to unpack .../118-libregexp-common-perl_2017060201-1_all.deb ...\n",
            "Unpacking libregexp-common-perl (2017060201-1) ...\n",
            "Selecting previously unselected package libsort-key-perl.\n",
            "Preparing to unpack .../119-libsort-key-perl_1.33-2_amd64.deb ...\n",
            "Unpacking libsort-key-perl (1.33-2) ...\n",
            "Selecting previously unselected package libbtparse1.\n",
            "Preparing to unpack .../120-libbtparse1_0.85-1_amd64.deb ...\n",
            "Unpacking libbtparse1 (0.85-1) ...\n",
            "Selecting previously unselected package libtext-bibtex-perl.\n",
            "Preparing to unpack .../121-libtext-bibtex-perl_0.85-1_amd64.deb ...\n",
            "Unpacking libtext-bibtex-perl (0.85-1) ...\n",
            "Selecting previously unselected package libtext-csv-perl.\n",
            "Preparing to unpack .../122-libtext-csv-perl_1.95-1_all.deb ...\n",
            "Unpacking libtext-csv-perl (1.95-1) ...\n",
            "Selecting previously unselected package libtext-csv-xs-perl.\n",
            "Preparing to unpack .../123-libtext-csv-xs-perl_1.34-1_amd64.deb ...\n",
            "Unpacking libtext-csv-xs-perl (1.34-1) ...\n",
            "Selecting previously unselected package libtext-roman-perl.\n",
            "Preparing to unpack .../124-libtext-roman-perl_3.5-2_all.deb ...\n",
            "Unpacking libtext-roman-perl (3.5-2) ...\n",
            "Selecting previously unselected package libunicode-collate-perl.\n",
            "Preparing to unpack .../125-libunicode-collate-perl_1.25-1_amd64.deb ...\n",
            "Unpacking libunicode-collate-perl (1.25-1) ...\n",
            "Selecting previously unselected package libsombok3:amd64.\n",
            "Preparing to unpack .../126-libsombok3_2.4.0-1_amd64.deb ...\n",
            "Unpacking libsombok3:amd64 (2.4.0-1) ...\n",
            "Selecting previously unselected package libmime-charset-perl.\n",
            "Preparing to unpack .../127-libmime-charset-perl_1.012.2-1_all.deb ...\n",
            "Unpacking libmime-charset-perl (1.012.2-1) ...\n",
            "Selecting previously unselected package libunicode-linebreak-perl.\n",
            "Preparing to unpack .../128-libunicode-linebreak-perl_0.0.20160702-1build2_amd64.deb ...\n",
            "Unpacking libunicode-linebreak-perl (0.0.20160702-1build2) ...\n",
            "Selecting previously unselected package libxml-namespacesupport-perl.\n",
            "Preparing to unpack .../129-libxml-namespacesupport-perl_1.12-1_all.deb ...\n",
            "Unpacking libxml-namespacesupport-perl (1.12-1) ...\n",
            "Selecting previously unselected package libxml-sax-base-perl.\n",
            "Preparing to unpack .../130-libxml-sax-base-perl_1.09-1_all.deb ...\n",
            "Unpacking libxml-sax-base-perl (1.09-1) ...\n",
            "Selecting previously unselected package libxml-sax-perl.\n",
            "Preparing to unpack .../131-libxml-sax-perl_0.99+dfsg-2ubuntu1_all.deb ...\n",
            "Unpacking libxml-sax-perl (0.99+dfsg-2ubuntu1) ...\n",
            "Selecting previously unselected package libxml-libxml-perl.\n",
            "Preparing to unpack .../132-libxml-libxml-perl_2.0128+dfsg-5_amd64.deb ...\n",
            "Unpacking libxml-libxml-perl (2.0128+dfsg-5) ...\n",
            "Selecting previously unselected package libxml-libxml-simple-perl.\n",
            "Preparing to unpack .../133-libxml-libxml-simple-perl_0.99-1_all.deb ...\n",
            "Unpacking libxml-libxml-simple-perl (0.99-1) ...\n",
            "Selecting previously unselected package libxml-libxslt-perl.\n",
            "Preparing to unpack .../134-libxml-libxslt-perl_1.95-1build2_amd64.deb ...\n",
            "Unpacking libxml-libxslt-perl (1.95-1build2) ...\n",
            "Selecting previously unselected package libxml-writer-perl.\n",
            "Preparing to unpack .../135-libxml-writer-perl_0.625-1_all.deb ...\n",
            "Unpacking libxml-writer-perl (0.625-1) ...\n",
            "Selecting previously unselected package libbusiness-isbn-data-perl.\n",
            "Preparing to unpack .../136-libbusiness-isbn-data-perl_20140910.003-1_all.deb ...\n",
            "Unpacking libbusiness-isbn-data-perl (20140910.003-1) ...\n",
            "Selecting previously unselected package libbusiness-isbn-perl.\n",
            "Preparing to unpack .../137-libbusiness-isbn-perl_3.004-1_all.deb ...\n",
            "Unpacking libbusiness-isbn-perl (3.004-1) ...\n",
            "Selecting previously unselected package libtie-cycle-perl.\n",
            "Preparing to unpack .../138-libtie-cycle-perl_1.225-1_all.deb ...\n",
            "Unpacking libtie-cycle-perl (1.225-1) ...\n",
            "Selecting previously unselected package libbusiness-ismn-perl.\n",
            "Preparing to unpack .../139-libbusiness-ismn-perl_1.131-1_all.deb ...\n",
            "Unpacking libbusiness-ismn-perl (1.131-1) ...\n",
            "Selecting previously unselected package libbusiness-issn-perl.\n",
            "Preparing to unpack .../140-libbusiness-issn-perl_1.002-1_all.deb ...\n",
            "Unpacking libbusiness-issn-perl (1.002-1) ...\n",
            "Selecting previously unselected package biber.\n",
            "Preparing to unpack .../141-biber_2.9-1_all.deb ...\n",
            "Unpacking biber (2.9-1) ...\n",
            "Selecting previously unselected package chktex.\n",
            "Preparing to unpack .../142-chktex_1.7.6-1ubuntu1_amd64.deb ...\n",
            "Unpacking chktex (1.7.6-1ubuntu1) ...\n",
            "Selecting previously unselected package cm-super-minimal.\n",
            "Preparing to unpack .../143-cm-super-minimal_0.3.4-11_all.deb ...\n",
            "Unpacking cm-super-minimal (0.3.4-11) ...\n",
            "Selecting previously unselected package pfb2t1c2pfb.\n",
            "Preparing to unpack .../144-pfb2t1c2pfb_0.3-11_amd64.deb ...\n",
            "Unpacking pfb2t1c2pfb (0.3-11) ...\n",
            "Selecting previously unselected package cm-super.\n",
            "Preparing to unpack .../145-cm-super_0.3.4-11_all.deb ...\n",
            "Unpacking cm-super (0.3.4-11) ...\n",
            "Selecting previously unselected package texlive-metapost.\n",
            "Preparing to unpack .../146-texlive-metapost_2017.20180305-1_all.deb ...\n",
            "Unpacking texlive-metapost (2017.20180305-1) ...\n",
            "Selecting previously unselected package context.\n",
            "Preparing to unpack .../147-context_2017.05.15.20170613-2_all.deb ...\n",
            "Unpacking context (2017.05.15.20170613-2) ...\n",
            "Selecting previously unselected package context-modules.\n",
            "Preparing to unpack .../148-context-modules_20170613-2_all.deb ...\n",
            "Unpacking context-modules (20170613-2) ...\n",
            "Selecting previously unselected package dvidvi.\n",
            "Preparing to unpack .../149-dvidvi_1.0-8.2_amd64.deb ...\n",
            "Unpacking dvidvi (1.0-8.2) ...\n",
            "Selecting previously unselected package emacsen-common.\n",
            "Preparing to unpack .../150-emacsen-common_2.0.8_all.deb ...\n",
            "Unpacking emacsen-common (2.0.8) ...\n",
            "Selecting previously unselected package texlive-font-utils.\n",
            "Preparing to unpack .../151-texlive-font-utils_2017.20180305-2_all.deb ...\n",
            "Unpacking texlive-font-utils (2017.20180305-2) ...\n",
            "Selecting previously unselected package texlive-extra-utils.\n",
            "Preparing to unpack .../152-texlive-extra-utils_2017.20180305-2_all.deb ...\n",
            "Unpacking texlive-extra-utils (2017.20180305-2) ...\n",
            "Selecting previously unselected package feynmf.\n",
            "Preparing to unpack .../153-feynmf_1.08-10_all.deb ...\n",
            "Unpacking feynmf (1.08-10) ...\n",
            "Selecting previously unselected package fonts-gfs-baskerville.\n",
            "Preparing to unpack .../154-fonts-gfs-baskerville_1.1-5_all.deb ...\n",
            "Unpacking fonts-gfs-baskerville (1.1-5) ...\n",
            "Selecting previously unselected package fonts-gfs-bodoni-classic.\n",
            "Preparing to unpack .../155-fonts-gfs-bodoni-classic_1.1-5_all.deb ...\n",
            "Unpacking fonts-gfs-bodoni-classic (1.1-5) ...\n",
            "Selecting previously unselected package fonts-gfs-didot-classic.\n",
            "Preparing to unpack .../156-fonts-gfs-didot-classic_1.1-5_all.deb ...\n",
            "Unpacking fonts-gfs-didot-classic (1.1-5) ...\n",
            "Selecting previously unselected package fonts-gfs-gazis.\n",
            "Preparing to unpack .../157-fonts-gfs-gazis_1.1-5_all.deb ...\n",
            "Unpacking fonts-gfs-gazis (1.1-5) ...\n",
            "Selecting previously unselected package fonts-gfs-porson.\n",
            "Preparing to unpack .../158-fonts-gfs-porson_1.1-6_all.deb ...\n",
            "Unpacking fonts-gfs-porson (1.1-6) ...\n",
            "Selecting previously unselected package fonts-gfs-theokritos.\n",
            "Preparing to unpack .../159-fonts-gfs-theokritos_1.1-5_all.deb ...\n",
            "Unpacking fonts-gfs-theokritos (1.1-5) ...\n",
            "Selecting previously unselected package fonts-hosny-amiri.\n",
            "Preparing to unpack .../160-fonts-hosny-amiri_0.109-2_all.deb ...\n",
            "Unpacking fonts-hosny-amiri (0.109-2) ...\n",
            "Selecting previously unselected package fonts-sil-padauk.\n",
            "Preparing to unpack .../161-fonts-sil-padauk_3.003-1_all.deb ...\n",
            "Unpacking fonts-sil-padauk (3.003-1) ...\n",
            "Selecting previously unselected package lacheck.\n",
            "Preparing to unpack .../162-lacheck_1.26-17_amd64.deb ...\n",
            "Unpacking lacheck (1.26-17) ...\n",
            "Selecting previously unselected package latex-cjk-common.\n",
            "Preparing to unpack .../163-latex-cjk-common_4.8.4+git20170127-2_amd64.deb ...\n",
            "Unpacking latex-cjk-common (4.8.4+git20170127-2) ...\n",
            "Selecting previously unselected package latex-cjk-chinese.\n",
            "Preparing to unpack .../164-latex-cjk-chinese_4.8.4+git20170127-2_amd64.deb ...\n",
            "Unpacking latex-cjk-chinese (4.8.4+git20170127-2) ...\n",
            "Selecting previously unselected package latex-cjk-japanese.\n",
            "Preparing to unpack .../165-latex-cjk-japanese_4.8.4+git20170127-2_amd64.deb ...\n",
            "Unpacking latex-cjk-japanese (4.8.4+git20170127-2) ...\n",
            "Selecting previously unselected package latex-cjk-korean.\n",
            "Preparing to unpack .../166-latex-cjk-korean_4.8.4+git20170127-2_all.deb ...\n",
            "Unpacking latex-cjk-korean (4.8.4+git20170127-2) ...\n",
            "Selecting previously unselected package texlive-lang-other.\n",
            "Preparing to unpack .../167-texlive-lang-other_2017.20180305-1_all.deb ...\n",
            "Unpacking texlive-lang-other (2017.20180305-1) ...\n",
            "Selecting previously unselected package latex-cjk-thai.\n",
            "Preparing to unpack .../168-latex-cjk-thai_4.8.4+git20170127-2_all.deb ...\n",
            "Unpacking latex-cjk-thai (4.8.4+git20170127-2) ...\n",
            "Selecting previously unselected package latex-cjk-chinese-arphic-bsmi00lp.\n",
            "Preparing to unpack .../169-latex-cjk-chinese-arphic-bsmi00lp_1.23_all.deb ...\n",
            "Unpacking latex-cjk-chinese-arphic-bsmi00lp (1.23) ...\n",
            "Selecting previously unselected package latex-cjk-chinese-arphic-bkai00mp.\n",
            "Preparing to unpack .../170-latex-cjk-chinese-arphic-bkai00mp_1.23_all.deb ...\n",
            "Unpacking latex-cjk-chinese-arphic-bkai00mp (1.23) ...\n",
            "Selecting previously unselected package latex-cjk-chinese-arphic-gbsn00lp.\n",
            "Preparing to unpack .../171-latex-cjk-chinese-arphic-gbsn00lp_1.23_all.deb ...\n",
            "Unpacking latex-cjk-chinese-arphic-gbsn00lp (1.23) ...\n",
            "Selecting previously unselected package latex-cjk-chinese-arphic-gkai00mp.\n",
            "Preparing to unpack .../172-latex-cjk-chinese-arphic-gkai00mp_1.23_all.deb ...\n",
            "Unpacking latex-cjk-chinese-arphic-gkai00mp (1.23) ...\n",
            "Selecting previously unselected package latex-cjk-japanese-wadalab.\n",
            "Preparing to unpack .../173-latex-cjk-japanese-wadalab_0.20050817-17_all.deb ...\n",
            "Unpacking latex-cjk-japanese-wadalab (0.20050817-17) ...\n",
            "Selecting previously unselected package latex-cjk-all.\n",
            "Preparing to unpack .../174-latex-cjk-all_4.8.4+git20170127-2_all.deb ...\n",
            "Unpacking latex-cjk-all (4.8.4+git20170127-2) ...\n",
            "Selecting previously unselected package latexdiff.\n",
            "Preparing to unpack .../175-latexdiff_1.2.1-1_all.deb ...\n",
            "Unpacking latexdiff (1.2.1-1) ...\n",
            "Selecting previously unselected package latexmk.\n",
            "Preparing to unpack .../176-latexmk_1%3a4.41-1_all.deb ...\n",
            "Unpacking latexmk (1:4.41-1) ...\n",
            "Selecting previously unselected package aglfn.\n",
            "Preparing to unpack .../177-aglfn_1.7-3_all.deb ...\n",
            "Unpacking aglfn (1.7-3) ...\n",
            "Selecting previously unselected package lcdf-typetools.\n",
            "Preparing to unpack .../178-lcdf-typetools_2.106~dfsg-1_amd64.deb ...\n",
            "Unpacking lcdf-typetools (2.106~dfsg-1) ...\n",
            "Selecting previously unselected package libclass-c3-xs-perl.\n",
            "Preparing to unpack .../179-libclass-c3-xs-perl_0.14-1build3_amd64.deb ...\n",
            "Unpacking libclass-c3-xs-perl (0.14-1build3) ...\n",
            "Selecting previously unselected package libpadwalker-perl.\n",
            "Preparing to unpack .../180-libpadwalker-perl_2.3-1_amd64.deb ...\n",
            "Unpacking libpadwalker-perl (2.3-1) ...\n",
            "Selecting previously unselected package libdevel-caller-perl.\n",
            "Preparing to unpack .../181-libdevel-caller-perl_2.06-1build5_amd64.deb ...\n",
            "Unpacking libdevel-caller-perl (2.06-1build5) ...\n",
            "Selecting previously unselected package libdevel-globaldestruction-perl.\n",
            "Preparing to unpack .../182-libdevel-globaldestruction-perl_0.14-1_all.deb ...\n",
            "Unpacking libdevel-globaldestruction-perl (0.14-1) ...\n",
            "Selecting previously unselected package libdevel-lexalias-perl.\n",
            "Preparing to unpack .../183-libdevel-lexalias-perl_0.05-1build5_amd64.deb ...\n",
            "Unpacking libdevel-lexalias-perl (0.05-1build5) ...\n",
            "Selecting previously unselected package libdist-checkconflicts-perl.\n",
            "Preparing to unpack .../184-libdist-checkconflicts-perl_0.11-1_all.deb ...\n",
            "Unpacking libdist-checkconflicts-perl (0.11-1) ...\n",
            "Selecting previously unselected package libdjvulibre-text.\n",
            "Preparing to unpack .../185-libdjvulibre-text_3.5.27.1-8ubuntu0.2_all.deb ...\n",
            "Unpacking libdjvulibre-text (3.5.27.1-8ubuntu0.2) ...\n",
            "Selecting previously unselected package libdjvulibre21:amd64.\n",
            "Preparing to unpack .../186-libdjvulibre21_3.5.27.1-8ubuntu0.2_amd64.deb ...\n",
            "Unpacking libdjvulibre21:amd64 (3.5.27.1-8ubuntu0.2) ...\n",
            "Selecting previously unselected package libemail-date-format-perl.\n",
            "Preparing to unpack .../187-libemail-date-format-perl_1.005-1_all.deb ...\n",
            "Unpacking libemail-date-format-perl (1.005-1) ...\n",
            "Selecting previously unselected package libemf1:amd64.\n",
            "Preparing to unpack .../188-libemf1_1.0.9+git.10.3231442-1_amd64.deb ...\n",
            "Unpacking libemf1:amd64 (1.0.9+git.10.3231442-1) ...\n",
            "Selecting previously unselected package libfile-which-perl.\n",
            "Preparing to unpack .../189-libfile-which-perl_1.21-1_all.deb ...\n",
            "Unpacking libfile-which-perl (1.21-1) ...\n",
            "Selecting previously unselected package libfile-homedir-perl.\n",
            "Preparing to unpack .../190-libfile-homedir-perl_1.002-1_all.deb ...\n",
            "Unpacking libfile-homedir-perl (1.002-1) ...\n",
            "Selecting previously unselected package libfont-afm-perl.\n",
            "Preparing to unpack .../191-libfont-afm-perl_1.20-2_all.deb ...\n",
            "Unpacking libfont-afm-perl (1.20-2) ...\n",
            "Selecting previously unselected package libnotify4:amd64.\n",
            "Preparing to unpack .../192-libnotify4_0.7.7-3_amd64.deb ...\n",
            "Unpacking libnotify4:amd64 (0.7.7-3) ...\n",
            "Selecting previously unselected package libgirara-gtk3-3:amd64.\n",
            "Preparing to unpack .../193-libgirara-gtk3-3_0.2.8-2_amd64.deb ...\n",
            "Unpacking libgirara-gtk3-3:amd64 (0.2.8-2) ...\n",
            "Selecting previously unselected package libhtml-form-perl.\n",
            "Preparing to unpack .../194-libhtml-form-perl_6.03-1_all.deb ...\n",
            "Unpacking libhtml-form-perl (6.03-1) ...\n",
            "Selecting previously unselected package libhtml-format-perl.\n",
            "Preparing to unpack .../195-libhtml-format-perl_2.12-1_all.deb ...\n",
            "Unpacking libhtml-format-perl (2.12-1) ...\n",
            "Selecting previously unselected package libhttp-daemon-perl.\n",
            "Preparing to unpack .../196-libhttp-daemon-perl_6.01-1_all.deb ...\n",
            "Unpacking libhttp-daemon-perl (6.01-1) ...\n",
            "Selecting previously unselected package libipc-shareable-perl.\n",
            "Preparing to unpack .../197-libipc-shareable-perl_0.61-2_all.deb ...\n",
            "Unpacking libipc-shareable-perl (0.61-2) ...\n",
            "Selecting previously unselected package liblog-dispatch-perl.\n",
            "Preparing to unpack .../198-liblog-dispatch-perl_2.67-1_all.deb ...\n",
            "Unpacking liblog-dispatch-perl (2.67-1) ...\n",
            "Selecting previously unselected package libmagick++-6.q16-7:amd64.\n",
            "Preparing to unpack .../199-libmagick++-6.q16-7_8%3a6.9.7.4+dfsg-16ubuntu6.8_amd64.deb ...\n",
            "Unpacking libmagick++-6.q16-7:amd64 (8:6.9.7.4+dfsg-16ubuntu6.8) ...\n",
            "Selecting previously unselected package libwmf0.2-7:amd64.\n",
            "Preparing to unpack .../200-libwmf0.2-7_0.2.8.4-12_amd64.deb ...\n",
            "Unpacking libwmf0.2-7:amd64 (0.2.8.4-12) ...\n",
            "Selecting previously unselected package libmagickcore-6.q16-3-extra:amd64.\n",
            "Preparing to unpack .../201-libmagickcore-6.q16-3-extra_8%3a6.9.7.4+dfsg-16ubuntu6.8_amd64.deb ...\n",
            "Unpacking libmagickcore-6.q16-3-extra:amd64 (8:6.9.7.4+dfsg-16ubuntu6.8) ...\n",
            "Selecting previously unselected package libsys-hostname-long-perl.\n",
            "Preparing to unpack .../202-libsys-hostname-long-perl_1.5-1_all.deb ...\n",
            "Unpacking libsys-hostname-long-perl (1.5-1) ...\n",
            "Selecting previously unselected package libmail-sendmail-perl.\n",
            "Preparing to unpack .../203-libmail-sendmail-perl_0.80-1_all.deb ...\n",
            "Unpacking libmail-sendmail-perl (0.80-1) ...\n",
            "Selecting previously unselected package libnet-smtp-ssl-perl.\n",
            "Preparing to unpack .../204-libnet-smtp-ssl-perl_1.04-1_all.deb ...\n",
            "Unpacking libnet-smtp-ssl-perl (1.04-1) ...\n",
            "Selecting previously unselected package libmailtools-perl.\n",
            "Preparing to unpack .../205-libmailtools-perl_2.18-1_all.deb ...\n",
            "Unpacking libmailtools-perl (2.18-1) ...\n",
            "Selecting previously unselected package libmime-lite-perl.\n",
            "Preparing to unpack .../206-libmime-lite-perl_3.030-2_all.deb ...\n",
            "Unpacking libmime-lite-perl (3.030-2) ...\n",
            "Selecting previously unselected package libmime-types-perl.\n",
            "Preparing to unpack .../207-libmime-types-perl_2.14-1_all.deb ...\n",
            "Unpacking libmime-types-perl (2.14-1) ...\n",
            "Selecting previously unselected package libnet-libidn-perl.\n",
            "Preparing to unpack .../208-libnet-libidn-perl_0.12.ds-2build4_amd64.deb ...\n",
            "Unpacking libnet-libidn-perl (0.12.ds-2build4) ...\n",
            "Selecting previously unselected package libnetpbm10.\n",
            "Preparing to unpack .../209-libnetpbm10_2%3a10.0-15.3build1_amd64.deb ...\n",
            "Unpacking libnetpbm10 (2:10.0-15.3build1) ...\n",
            "Selecting previously unselected package libosp5.\n",
            "Preparing to unpack .../210-libosp5_1.5.2-13ubuntu2_amd64.deb ...\n",
            "Unpacking libosp5 (1.5.2-13ubuntu2) ...\n",
            "Selecting previously unselected package libostyle1c2.\n",
            "Preparing to unpack .../211-libostyle1c2_1.4devel1-21.3_amd64.deb ...\n",
            "Unpacking libostyle1c2 (1.4devel1-21.3) ...\n",
            "Selecting previously unselected package libpackage-stash-xs-perl.\n",
            "Preparing to unpack .../212-libpackage-stash-xs-perl_0.28-3build2_amd64.deb ...\n",
            "Unpacking libpackage-stash-xs-perl (0.28-3build2) ...\n",
            "Selecting previously unselected package libperlio-utf8-strict-perl.\n",
            "Preparing to unpack .../213-libperlio-utf8-strict-perl_0.007-2_amd64.deb ...\n",
            "Unpacking libperlio-utf8-strict-perl (0.007-2) ...\n",
            "Selecting previously unselected package libplot2c2:amd64.\n",
            "Preparing to unpack .../214-libplot2c2_2.6-9_amd64.deb ...\n",
            "Unpacking libplot2c2:amd64 (2.6-9) ...\n",
            "Selecting previously unselected package libpoppler-glib8:amd64.\n",
            "Preparing to unpack .../215-libpoppler-glib8_0.62.0-2ubuntu2.10_amd64.deb ...\n",
            "Unpacking libpoppler-glib8:amd64 (0.62.0-2ubuntu2.10) ...\n",
            "Selecting previously unselected package libpoppler-qt5-1:amd64.\n",
            "Preparing to unpack .../216-libpoppler-qt5-1_0.62.0-2ubuntu2.10_amd64.deb ...\n",
            "Unpacking libpoppler-qt5-1:amd64 (0.62.0-2ubuntu2.10) ...\n",
            "Selecting previously unselected package libzip4:amd64.\n",
            "Preparing to unpack .../217-libzip4_1.1.2-1.1_amd64.deb ...\n",
            "Unpacking libzip4:amd64 (1.1.2-1.1) ...\n",
            "Selecting previously unselected package libpstoedit0c2a.\n",
            "Preparing to unpack .../218-libpstoedit0c2a_3.70-5_amd64.deb ...\n",
            "Unpacking libpstoedit0c2a (3.70-5) ...\n",
            "Selecting previously unselected package libref-util-perl.\n",
            "Preparing to unpack .../219-libref-util-perl_0.203-1_all.deb ...\n",
            "Unpacking libref-util-perl (0.203-1) ...\n",
            "Selecting previously unselected package libref-util-xs-perl.\n",
            "Preparing to unpack .../220-libref-util-xs-perl_0.116-1_amd64.deb ...\n",
            "Unpacking libref-util-xs-perl (0.116-1) ...\n",
            "Selecting previously unselected package libtext-unidecode-perl.\n",
            "Preparing to unpack .../221-libtext-unidecode-perl_1.30-1_all.deb ...\n",
            "Unpacking libtext-unidecode-perl (1.30-1) ...\n",
            "Selecting previously unselected package libutempter0:amd64.\n",
            "Preparing to unpack .../222-libutempter0_1.1.6-3_amd64.deb ...\n",
            "Unpacking libutempter0:amd64 (1.1.6-3) ...\n",
            "Selecting previously unselected package libxml-parser-perl.\n",
            "Preparing to unpack .../223-libxml-parser-perl_2.44-2build3_amd64.deb ...\n",
            "Unpacking libxml-parser-perl (2.44-2build3) ...\n",
            "Selecting previously unselected package libxml-sax-expat-perl.\n",
            "Preparing to unpack .../224-libxml-sax-expat-perl_0.40-2_all.deb ...\n",
            "Unpacking libxml-sax-expat-perl (0.40-2) ...\n",
            "Selecting previously unselected package libyaml-tiny-perl.\n",
            "Preparing to unpack .../225-libyaml-tiny-perl_1.70-1_all.deb ...\n",
            "Unpacking libyaml-tiny-perl (1.70-1) ...\n",
            "Selecting previously unselected package netpbm.\n",
            "Preparing to unpack .../226-netpbm_2%3a10.0-15.3build1_amd64.deb ...\n",
            "Unpacking netpbm (2:10.0-15.3build1) ...\n",
            "Selecting previously unselected package notification-daemon.\n",
            "Preparing to unpack .../227-notification-daemon_3.20.0-3_amd64.deb ...\n",
            "Unpacking notification-daemon (3.20.0-3) ...\n",
            "Selecting previously unselected package openjade.\n",
            "Preparing to unpack .../228-openjade_1.4devel1-21.3_amd64.deb ...\n",
            "Unpacking openjade (1.4devel1-21.3) ...\n",
            "Selecting previously unselected package prerex.\n",
            "Preparing to unpack .../229-prerex_6.5.4-1_amd64.deb ...\n",
            "Unpacking prerex (6.5.4-1) ...\n",
            "Selecting previously unselected package ps2eps.\n",
            "Preparing to unpack .../230-ps2eps_1.68+binaryfree-2_amd64.deb ...\n",
            "Unpacking ps2eps (1.68+binaryfree-2) ...\n",
            "Selecting previously unselected package pstoedit.\n",
            "Preparing to unpack .../231-pstoedit_3.70-5_amd64.deb ...\n",
            "Unpacking pstoedit (3.70-5) ...\n",
            "Selecting previously unselected package psutils.\n",
            "Preparing to unpack .../232-psutils_1.17.dfsg-4_amd64.deb ...\n",
            "Unpacking psutils (1.17.dfsg-4) ...\n",
            "Selecting previously unselected package purifyeps.\n",
            "Preparing to unpack .../233-purifyeps_1.1-2_all.deb ...\n",
            "Unpacking purifyeps (1.1-2) ...\n",
            "Selecting previously unselected package python3-olefile.\n",
            "Preparing to unpack .../234-python3-olefile_0.45.1-1_all.deb ...\n",
            "Unpacking python3-olefile (0.45.1-1) ...\n",
            "Selecting previously unselected package texinfo.\n",
            "Preparing to unpack .../235-texinfo_6.5.0.dfsg.1-2_amd64.deb ...\n",
            "Unpacking texinfo (6.5.0.dfsg.1-2) ...\n",
            "Selecting previously unselected package texlive-bibtex-extra.\n",
            "Preparing to unpack .../236-texlive-bibtex-extra_2017.20180305-2_all.deb ...\n",
            "Unpacking texlive-bibtex-extra (2017.20180305-2) ...\n",
            "Selecting previously unselected package texlive-fonts-extra-doc.\n",
            "Preparing to unpack .../237-texlive-fonts-extra-doc_2017.20180305-2_all.deb ...\n",
            "Unpacking texlive-fonts-extra-doc (2017.20180305-2) ...\n",
            "Selecting previously unselected package texlive-fonts-recommended-doc.\n",
            "Preparing to unpack .../238-texlive-fonts-recommended-doc_2017.20180305-1_all.deb ...\n",
            "Unpacking texlive-fonts-recommended-doc (2017.20180305-1) ...\n",
            "Selecting previously unselected package texlive-xetex.\n",
            "Preparing to unpack .../239-texlive-xetex_2017.20180305-1_all.deb ...\n",
            "Unpacking texlive-xetex (2017.20180305-1) ...\n",
            "Selecting previously unselected package texlive-formats-extra.\n",
            "Preparing to unpack .../240-texlive-formats-extra_2017.20180305-2_all.deb ...\n",
            "Unpacking texlive-formats-extra (2017.20180305-2) ...\n",
            "Selecting previously unselected package fragmaster.\n",
            "Preparing to unpack .../241-fragmaster_1.7-5_all.deb ...\n",
            "Unpacking fragmaster (1.7-5) ...\n",
            "Selecting previously unselected package texlive-games.\n",
            "Preparing to unpack .../242-texlive-games_2017.20180305-2_all.deb ...\n",
            "Unpacking texlive-games (2017.20180305-2) ...\n",
            "Selecting previously unselected package texlive-humanities.\n",
            "Preparing to unpack .../243-texlive-humanities_2017.20180305-2_all.deb ...\n",
            "Unpacking texlive-humanities (2017.20180305-2) ...\n",
            "Selecting previously unselected package texlive-humanities-doc.\n",
            "Preparing to unpack .../244-texlive-humanities-doc_2017.20180305-2_all.deb ...\n",
            "Unpacking texlive-humanities-doc (2017.20180305-2) ...\n",
            "Selecting previously unselected package texlive-lang-arabic.\n",
            "Preparing to unpack .../245-texlive-lang-arabic_2017.20180305-1_all.deb ...\n",
            "Unpacking texlive-lang-arabic (2017.20180305-1) ...\n",
            "Selecting previously unselected package texlive-lang-cjk.\n",
            "Preparing to unpack .../246-texlive-lang-cjk_2017.20180305-1_all.deb ...\n",
            "Unpacking texlive-lang-cjk (2017.20180305-1) ...\n",
            "Selecting previously unselected package texlive-lang-chinese.\n",
            "Preparing to unpack .../247-texlive-lang-chinese_2017.20180305-1_all.deb ...\n",
            "Unpacking texlive-lang-chinese (2017.20180305-1) ...\n",
            "Selecting previously unselected package texlive-lang-cyrillic.\n",
            "Preparing to unpack .../248-texlive-lang-cyrillic_2017.20180305-1_all.deb ...\n",
            "Unpacking texlive-lang-cyrillic (2017.20180305-1) ...\n",
            "Selecting previously unselected package texlive-luatex.\n",
            "Preparing to unpack .../249-texlive-luatex_2017.20180305-1_all.deb ...\n",
            "Unpacking texlive-luatex (2017.20180305-1) ...\n",
            "Selecting previously unselected package texlive-lang-czechslovak.\n",
            "Preparing to unpack .../250-texlive-lang-czechslovak_2017.20180305-1_all.deb ...\n",
            "Unpacking texlive-lang-czechslovak (2017.20180305-1) ...\n",
            "Selecting previously unselected package texlive-lang-english.\n",
            "Preparing to unpack .../251-texlive-lang-english_2017.20180305-1_all.deb ...\n",
            "Unpacking texlive-lang-english (2017.20180305-1) ...\n",
            "Selecting previously unselected package texlive-lang-european.\n",
            "Preparing to unpack .../252-texlive-lang-european_2017.20180305-1_all.deb ...\n",
            "Unpacking texlive-lang-european (2017.20180305-1) ...\n",
            "Selecting previously unselected package texlive-lang-french.\n",
            "Preparing to unpack .../253-texlive-lang-french_2017.20180305-1_all.deb ...\n",
            "Unpacking texlive-lang-french (2017.20180305-1) ...\n",
            "Selecting previously unselected package texlive-lang-german.\n",
            "Preparing to unpack .../254-texlive-lang-german_2017.20180305-1_all.deb ...\n",
            "Unpacking texlive-lang-german (2017.20180305-1) ...\n",
            "Selecting previously unselected package texlive-lang-greek.\n",
            "Preparing to unpack .../255-texlive-lang-greek_2017.20180305-1_all.deb ...\n",
            "Unpacking texlive-lang-greek (2017.20180305-1) ...\n",
            "Selecting previously unselected package texlive-lang-italian.\n",
            "Preparing to unpack .../256-texlive-lang-italian_2017.20180305-1_all.deb ...\n",
            "Unpacking texlive-lang-italian (2017.20180305-1) ...\n",
            "Selecting previously unselected package texlive-lang-japanese.\n",
            "Preparing to unpack .../257-texlive-lang-japanese_2017.20180305-1_all.deb ...\n",
            "Unpacking texlive-lang-japanese (2017.20180305-1) ...\n",
            "Selecting previously unselected package texlive-lang-korean.\n",
            "Preparing to unpack .../258-texlive-lang-korean_2017.20180305-1_all.deb ...\n",
            "Unpacking texlive-lang-korean (2017.20180305-1) ...\n",
            "Selecting previously unselected package texlive-lang-polish.\n",
            "Preparing to unpack .../259-texlive-lang-polish_2017.20180305-1_all.deb ...\n",
            "Unpacking texlive-lang-polish (2017.20180305-1) ...\n",
            "Selecting previously unselected package texlive-lang-portuguese.\n",
            "Preparing to unpack .../260-texlive-lang-portuguese_2017.20180305-1_all.deb ...\n",
            "Unpacking texlive-lang-portuguese (2017.20180305-1) ...\n",
            "Selecting previously unselected package texlive-lang-spanish.\n",
            "Preparing to unpack .../261-texlive-lang-spanish_2017.20180305-1_all.deb ...\n",
            "Unpacking texlive-lang-spanish (2017.20180305-1) ...\n",
            "Selecting previously unselected package texlive-latex-base-doc.\n",
            "Preparing to unpack .../262-texlive-latex-base-doc_2017.20180305-1_all.deb ...\n",
            "Unpacking texlive-latex-base-doc (2017.20180305-1) ...\n",
            "Selecting previously unselected package texlive-latex-extra-doc.\n",
            "Preparing to unpack .../263-texlive-latex-extra-doc_2017.20180305-2_all.deb ...\n",
            "Unpacking texlive-latex-extra-doc (2017.20180305-2) ...\n",
            "Selecting previously unselected package texlive-latex-recommended-doc.\n",
            "Preparing to unpack .../264-texlive-latex-recommended-doc_2017.20180305-1_all.deb ...\n",
            "Unpacking texlive-latex-recommended-doc (2017.20180305-1) ...\n",
            "Selecting previously unselected package texlive-metapost-doc.\n",
            "Preparing to unpack .../265-texlive-metapost-doc_2017.20180305-1_all.deb ...\n",
            "Unpacking texlive-metapost-doc (2017.20180305-1) ...\n",
            "Selecting previously unselected package texlive-music.\n",
            "Preparing to unpack .../266-texlive-music_2017.20180305-2_all.deb ...\n",
            "Unpacking texlive-music (2017.20180305-2) ...\n",
            "Selecting previously unselected package texlive-pictures-doc.\n",
            "Preparing to unpack .../267-texlive-pictures-doc_2017.20180305-1_all.deb ...\n",
            "Unpacking texlive-pictures-doc (2017.20180305-1) ...\n",
            "Selecting previously unselected package texlive-pstricks-doc.\n",
            "Preparing to unpack .../268-texlive-pstricks-doc_2017.20180305-2_all.deb ...\n",
            "Unpacking texlive-pstricks-doc (2017.20180305-2) ...\n",
            "Selecting previously unselected package texlive-publishers.\n",
            "Preparing to unpack .../269-texlive-publishers_2017.20180305-2_all.deb ...\n",
            "Unpacking texlive-publishers (2017.20180305-2) ...\n",
            "Selecting previously unselected package texlive-publishers-doc.\n",
            "Preparing to unpack .../270-texlive-publishers-doc_2017.20180305-2_all.deb ...\n",
            "Unpacking texlive-publishers-doc (2017.20180305-2) ...\n",
            "Selecting previously unselected package texlive-science.\n",
            "Preparing to unpack .../271-texlive-science_2017.20180305-2_all.deb ...\n",
            "Unpacking texlive-science (2017.20180305-2) ...\n",
            "Selecting previously unselected package texlive-science-doc.\n",
            "Preparing to unpack .../272-texlive-science-doc_2017.20180305-2_all.deb ...\n",
            "Unpacking texlive-science-doc (2017.20180305-2) ...\n",
            "Selecting previously unselected package xbitmaps.\n",
            "Preparing to unpack .../273-xbitmaps_1.1.1-2_all.deb ...\n",
            "Unpacking xbitmaps (1.1.1-2) ...\n",
            "Selecting previously unselected package xterm.\n",
            "Preparing to unpack .../274-xterm_330-1ubuntu2_amd64.deb ...\n",
            "Unpacking xterm (330-1ubuntu2) ...\n",
            "Selecting previously unselected package vprerex.\n",
            "Preparing to unpack .../275-vprerex_1%3a6.5.1-1_amd64.deb ...\n",
            "Unpacking vprerex (1:6.5.1-1) ...\n",
            "Selecting previously unselected package texlive-full.\n",
            "Preparing to unpack .../276-texlive-full_2017.20180305-1_all.deb ...\n",
            "Unpacking texlive-full (2017.20180305-1) ...\n",
            "Selecting previously unselected package texlive-generic-recommended.\n",
            "Preparing to unpack .../277-texlive-generic-recommended_2017.20180305-1_all.deb ...\n",
            "Unpacking texlive-generic-recommended (2017.20180305-1) ...\n",
            "Selecting previously unselected package x11-utils.\n",
            "Preparing to unpack .../278-x11-utils_7.7+3build1_amd64.deb ...\n",
            "Unpacking x11-utils (7.7+3build1) ...\n",
            "Selecting previously unselected package zathura-pdf-poppler.\n",
            "Preparing to unpack .../279-zathura-pdf-poppler_0.2.8-1_amd64.deb ...\n",
            "Unpacking zathura-pdf-poppler (0.2.8-1) ...\n",
            "Selecting previously unselected package zathura.\n",
            "Preparing to unpack .../280-zathura_0.3.8-1_amd64.deb ...\n",
            "Unpacking zathura (0.3.8-1) ...\n",
            "Selecting previously unselected package libauthen-sasl-perl.\n",
            "Preparing to unpack .../281-libauthen-sasl-perl_2.1600-1_all.deb ...\n",
            "Unpacking libauthen-sasl-perl (2.1600-1) ...\n",
            "Setting up libregexp-common-perl (2017060201-1) ...\n",
            "Setting up libhtml-tagset-perl (3.20-3) ...\n",
            "Setting up libclass-c3-xs-perl (0.14-1build3) ...\n",
            "Setting up libsub-install-perl (0.928-1) ...\n",
            "Setting up imagemagick-6-common (8:6.9.7.4+dfsg-16ubuntu6.8) ...\n",
            "Setting up texlive-pstricks (2017.20180305-2) ...\n",
            "Setting up texlive-science-doc (2017.20180305-2) ...\n",
            "Setting up libnotify4:amd64 (0.7.7-3) ...\n",
            "Setting up libnet-libidn-perl (0.12.ds-2build4) ...\n",
            "Setting up texlive-fonts-extra-doc (2017.20180305-2) ...\n",
            "Setting up libsub-exporter-progressive-perl (0.001013-1) ...\n",
            "Setting up libtry-tiny-perl (0.30-1) ...\n",
            "Setting up libpoppler-glib8:amd64 (0.62.0-2ubuntu2.10) ...\n",
            "Setting up texlive-lang-cjk (2017.20180305-1) ...\n",
            "Setting up libclass-method-modifiers-perl (2.12-1) ...\n",
            "Setting up libfont-afm-perl (1.20-2) ...\n",
            "Setting up texlive-humanities-doc (2017.20180305-2) ...\n",
            "Setting up liblog-log4perl-perl (1.49-1) ...\n",
            "Setting up python3-pil:amd64 (5.1.0-1ubuntu0.3) ...\n",
            "Setting up libbusiness-isbn-data-perl (20140910.003-1) ...\n",
            "Setting up python3-pil.imagetk:amd64 (5.1.0-1ubuntu0.3) ...\n",
            "Setting up fonts-ipafont-gothic (00303-18ubuntu1) ...\n",
            "update-alternatives: using /usr/share/fonts/opentype/ipafont-gothic/ipag.ttf to provide /usr/share/fonts/truetype/fonts-japanese-gothic.ttf (fonts-japanese-gothic.ttf) in auto mode\n",
            "Setting up info (6.5.0.dfsg.1-2) ...\n",
            "update-alternatives: using /usr/bin/info to provide /usr/bin/infobrowser (infobrowser) in auto mode\n",
            "Setting up libclass-data-inheritable-perl (0.08-2) ...\n",
            "Setting up latexdiff (1.2.1-1) ...\n",
            "Setting up texlive-pictures-doc (2017.20180305-1) ...\n",
            "Setting up libxml-namespacesupport-perl (1.12-1) ...\n",
            "Setting up fonts-arphic-gbsn00lp (2.11-15) ...\n",
            "Setting up libfile-which-perl (1.21-1) ...\n",
            "Setting up libencode-locale-perl (1.05-1) ...\n",
            "Setting up libtext-csv-xs-perl (1.34-1) ...\n",
            "Setting up python3-olefile (0.45.1-1) ...\n",
            "Setting up fonts-arphic-gkai00mp (2.11-15) ...\n",
            "Setting up libpoppler-qt5-1:amd64 (0.62.0-2ubuntu2.10) ...\n",
            "Setting up libvariable-magic-perl (0.62-1) ...\n",
            "Setting up libdate-simple-perl (3.0300-1build4) ...\n",
            "Setting up latex-cjk-chinese-arphic-bsmi00lp (1.23) ...\n",
            "Regenerating '/var/lib/texmf/fmtutil.cnf-DEBIAN'... done.\n",
            "Regenerating '/var/lib/texmf/fmtutil.cnf-TEXLIVEDIST'... done.\n",
            "update-fmtutil has updated the following file(s):\n",
            "\t/var/lib/texmf/fmtutil.cnf-DEBIAN\n",
            "\t/var/lib/texmf/fmtutil.cnf-TEXLIVEDIST\n",
            "If you want to activate the changes in the above file(s),\n",
            "you should run fmtutil-sys or fmtutil.\n",
            "Setting up libencode-hanextra-perl (0.23-5) ...\n",
            "Setting up libtimedate-perl (2.3000-2) ...\n",
            "Setting up libsigsegv2:amd64 (2.12-1) ...\n",
            "Setting up librole-tiny-perl (2.000006-1) ...\n",
            "Setting up xbitmaps (1.1.1-2) ...\n",
            "Setting up fonts-unfonts-core (1:1.0.2-080608-14) ...\n",
            "Setting up fonts-hosny-amiri (0.109-2) ...\n",
            "Setting up libdjvulibre-text (3.5.27.1-8ubuntu0.2) ...\n",
            "Setting up libemail-date-format-perl (1.005-1) ...\n",
            "Setting up libunicode-collate-perl (1.25-1) ...\n",
            "Setting up fonts-ipafont-mincho (00303-18ubuntu1) ...\n",
            "update-alternatives: using /usr/share/fonts/opentype/ipafont-mincho/ipam.ttf to provide /usr/share/fonts/truetype/fonts-japanese-mincho.ttf (fonts-japanese-mincho.ttf) in auto mode\n",
            "Setting up fonts-ipaexfont-gothic (00301-4ubuntu1) ...\n",
            "update-alternatives: using /usr/share/fonts/opentype/ipaexfont-gothic/ipaexg.ttf to provide /usr/share/fonts/truetype/fonts-japanese-gothic.ttf (fonts-japanese-gothic.ttf) in auto mode\n",
            "Setting up perl-openssl-defaults:amd64 (3build1) ...\n",
            "Setting up fonts-gfs-porson (1.1-6) ...\n",
            "Setting up libosmesa6:amd64 (20.0.8-0ubuntu1~18.04.1) ...\n",
            "Setting up libfile-homedir-perl (1.002-1) ...\n",
            "Setting up texlive-pstricks-doc (2017.20180305-2) ...\n",
            "Setting up libdevel-stacktrace-perl (2.0300-1) ...\n",
            "Setting up libb-hooks-op-check-perl (0.22-1) ...\n",
            "Setting up libnetpbm10 (2:10.0-15.3build1) ...\n",
            "Setting up emacsen-common (2.0.8) ...\n",
            "Setting up libio-html-perl (1.001-1) ...\n",
            "Setting up latex-cjk-chinese-arphic-bkai00mp (1.23) ...\n",
            "Regenerating '/var/lib/texmf/fmtutil.cnf-DEBIAN'... done.\n",
            "Regenerating '/var/lib/texmf/fmtutil.cnf-TEXLIVEDIST'... done.\n",
            "update-fmtutil has updated the following file(s):\n",
            "\t/var/lib/texmf/fmtutil.cnf-DEBIAN\n",
            "\t/var/lib/texmf/fmtutil.cnf-TEXLIVEDIST\n",
            "If you want to activate the changes in the above file(s),\n",
            "you should run fmtutil-sys or fmtutil.\n",
            "Setting up libexporter-tiny-perl (1.000000-2) ...\n",
            "Setting up libtext-unidecode-perl (1.30-1) ...\n",
            "Setting up libgirara-gtk3-3:amd64 (0.2.8-2) ...\n",
            "Setting up texlive-humanities (2017.20180305-2) ...\n",
            "Setting up liblist-utilsby-perl (0.10-1) ...\n",
            "Setting up libencode-eucjpms-perl (0.07-3build5) ...\n",
            "Setting up libperlio-utf8-strict-perl (0.007-2) ...\n",
            "Setting up texlive-publishers (2017.20180305-2) ...\n",
            "Setting up libosp5 (1.5.2-13ubuntu2) ...\n",
            "Setting up libautovivification-perl (0.17-1build1) ...\n",
            "Setting up libipc-shareable-perl (0.61-2) ...\n",
            "Setting up texlive-lang-arabic (2017.20180305-1) ...\n",
            "Setting up latex-cjk-chinese-arphic-gkai00mp (1.23) ...\n",
            "Regenerating '/var/lib/texmf/fmtutil.cnf-DEBIAN'... done.\n",
            "Regenerating '/var/lib/texmf/fmtutil.cnf-TEXLIVEDIST'... done.\n",
            "update-fmtutil has updated the following file(s):\n",
            "\t/var/lib/texmf/fmtutil.cnf-DEBIAN\n",
            "\t/var/lib/texmf/fmtutil.cnf-TEXLIVEDIST\n",
            "If you want to activate the changes in the above file(s),\n",
            "you should run fmtutil-sys or fmtutil.\n",
            "Setting up sgml-base (1.29) ...\n",
            "Setting up libbtparse1 (0.85-1) ...\n",
            "Setting up texlive-font-utils (2017.20180305-2) ...\n",
            "Setting up libsub-identify-perl (0.14-1) ...\n",
            "Setting up pfb2t1c2pfb (0.3-11) ...\n",
            "Setting up libref-util-perl (0.203-1) ...\n",
            "Setting up libyaml-tiny-perl (1.70-1) ...\n",
            "Setting up texlive-lang-spanish (2017.20180305-1) ...\n",
            "Setting up texlive-lang-european (2017.20180305-1) ...\n",
            "Setting up fonts-gfs-didot-classic (1.1-5) ...\n",
            "Setting up libxml-writer-perl (0.625-1) ...\n",
            "Setting up latex-cjk-chinese-arphic-gbsn00lp (1.23) ...\n",
            "Regenerating '/var/lib/texmf/fmtutil.cnf-DEBIAN'... done.\n",
            "Regenerating '/var/lib/texmf/fmtutil.cnf-TEXLIVEDIST'... done.\n",
            "update-fmtutil has updated the following file(s):\n",
            "\t/var/lib/texmf/fmtutil.cnf-DEBIAN\n",
            "\t/var/lib/texmf/fmtutil.cnf-TEXLIVEDIST\n",
            "If you want to activate the changes in the above file(s),\n",
            "you should run fmtutil-sys or fmtutil.\n",
            "Setting up libutempter0:amd64 (1.1.6-3) ...\n",
            "Setting up libdynaloader-functions-perl (0.003-1) ...\n",
            "Setting up psutils (1.17.dfsg-4) ...\n",
            "Setting up libmagic-mgc (1:5.32-2ubuntu0.4) ...\n",
            "Setting up libmagic1:amd64 (1:5.32-2ubuntu0.4) ...\n",
            "Setting up libmime-types-perl (2.14-1) ...\n",
            "Setting up texlive-latex-extra-doc (2017.20180305-2) ...\n",
            "Setting up libzip4:amd64 (1.1.2-1.1) ...\n",
            "Setting up fonts-ipaexfont-mincho (00301-4ubuntu1) ...\n",
            "update-alternatives: using /usr/share/fonts/opentype/ipaexfont-mincho/ipaexm.ttf to provide /usr/share/fonts/truetype/fonts-japanese-mincho.ttf (fonts-japanese-mincho.ttf) in auto mode\n",
            "Setting up texlive-lang-italian (2017.20180305-1) ...\n",
            "Setting up libsys-hostname-long-perl (1.5-1) ...\n",
            "Setting up libtext-glob-perl (0.10-1) ...\n",
            "Setting up libxml-sax-base-perl (1.09-1) ...\n",
            "Setting up libpackage-stash-xs-perl (0.28-3build2) ...\n",
            "Setting up liblqr-1-0:amd64 (0.4.2-2.1) ...\n",
            "Setting up texlive-publishers-doc (2017.20180305-2) ...\n",
            "Setting up texlive-luatex (2017.20180305-1) ...\n",
            "Setting up libmime-charset-perl (1.012.2-1) ...\n",
            "Setting up texlive-lang-japanese (2017.20180305-1) ...\n",
            "Setting up cm-super-minimal (0.3.4-11) ...\n",
            "Setting up fonts-sil-padauk (3.003-1) ...\n",
            "Setting up libreadonly-perl (2.050-1) ...\n",
            "Setting up texlive-metapost-doc (2017.20180305-1) ...\n",
            "Setting up liblwp-mediatypes-perl (6.02-1) ...\n",
            "Setting up texlive-music (2017.20180305-2) ...\n",
            "Setting up libmail-sendmail-perl (0.80-1) ...\n",
            "Setting up libxxf86dga1:amd64 (2:1.1.4-1) ...\n",
            "Setting up texlive-lang-english (2017.20180305-1) ...\n",
            "Setting up libostyle1c2 (1.4devel1-21.3) ...\n",
            "Setting up fonts-gfs-baskerville (1.1-5) ...\n",
            "Setting up texlive-lang-german (2017.20180305-1) ...\n",
            "Setting up libref-util-xs-perl (0.116-1) ...\n",
            "Setting up liburi-perl (1.73-1) ...\n",
            "Setting up libtie-cycle-perl (1.225-1) ...\n",
            "Setting up asymptote-doc (2.41-4) ...\n",
            "Setting up texlive-games (2017.20180305-2) ...\n",
            "Setting up fonts-unfonts-extra (1:1.0.2-080608+dfsg-8) ...\n",
            "Setting up libdata-dump-perl (1.23-1) ...\n",
            "Setting up openjade (1.4devel1-21.3) ...\n",
            "Setting up libscalar-list-utils-perl (1:1.50-1) ...\n",
            "Setting up libclass-factory-util-perl (1.7-3) ...\n",
            "Setting up libhtml-parser-perl (3.72-3build1) ...\n",
            "Setting up libdata-uniqid-perl (0.12-1) ...\n",
            "Setting up latex-cjk-japanese-wadalab (0.20050817-17) ...\n",
            "Setting up lacheck (1.26-17) ...\n",
            "Setting up libdevel-globaldestruction-perl (0.14-1) ...\n",
            "Setting up netpbm (2:10.0-15.3build1) ...\n",
            "Setting up texlive-latex-recommended-doc (2017.20180305-1) ...\n",
            "Setting up texlive-fonts-recommended-doc (2017.20180305-1) ...\n",
            "Setting up texlive-lang-czechslovak (2017.20180305-1) ...\n",
            "Setting up liblingua-translit-perl (0.28-1) ...\n",
            "Setting up fonts-arphic-bsmi00lp (2.10-17) ...\n",
            "Setting up prerex (6.5.4-1) ...\n",
            "Setting up texlive-lang-polish (2017.20180305-1) ...\n",
            "Setting up texlive-metapost (2017.20180305-1) ...\n",
            "Setting up dvidvi (1.0-8.2) ...\n",
            "Setting up libipc-run3-perl (0.048-1) ...\n",
            "Setting up fonts-gfs-theokritos (1.1-5) ...\n",
            "Setting up libencode-jis2k-perl (0.03-1build3) ...\n",
            "Setting up ps2eps (1.68+binaryfree-2) ...\n",
            "Setting up libnet-http-perl (6.17-1) ...\n",
            "Setting up libnumber-compare-perl (0.03-1) ...\n",
            "Setting up latexmk (1:4.41-1) ...\n",
            "Setting up libemf1:amd64 (1.0.9+git.10.3231442-1) ...\n",
            "Setting up libtext-roman-perl (3.5-2) ...\n",
            "Setting up aglfn (1.7-3) ...\n",
            "Setting up libbusiness-issn-perl (1.002-1) ...\n",
            "Setting up texlive-lang-other (2017.20180305-1) ...\n",
            "Setting up texlive-bibtex-extra (2017.20180305-2) ...\n",
            "Setting up libpadwalker-perl (2.3-1) ...\n",
            "Setting up libparams-util-perl (1.07-3build3) ...\n",
            "Setting up libplot2c2:amd64 (2.6-9) ...\n",
            "Setting up texlive-lang-cyrillic (2017.20180305-1) ...\n",
            "Setting up libgslcblas0:amd64 (2.4+dfsg-6) ...\n",
            "Setting up libsub-name-perl (0.21-1build1) ...\n",
            "Setting up libtext-csv-perl (1.95-1) ...\n",
            "Setting up texlive-generic-recommended (2017.20180305-1) ...\n",
            "Setting up texlive-xetex (2017.20180305-1) ...\n",
            "Setting up chktex (1.7.6-1ubuntu1) ...\n",
            "Setting up libsub-quote-perl (2.005000-1) ...\n",
            "Setting up libwmf0.2-7:amd64 (0.2.8.4-12) ...\n",
            "Setting up libwww-robotrules-perl (6.01-1) ...\n",
            "Setting up fonts-baekmuk (2.2-12) ...\n",
            "Setting up libauthen-sasl-perl (2.1600-1) ...\n",
            "Setting up fonts-arphic-bkai00mp (2.10-17) ...\n",
            "Setting up texlive-latex-base-doc (2017.20180305-1) ...\n",
            "Setting up libfile-slurper-perl (0.011-1) ...\n",
            "Setting up libclass-accessor-perl (0.51-1) ...\n",
            "Setting up libalgorithm-c3-perl (0.10-1) ...\n",
            "Setting up texlive-lang-portuguese (2017.20180305-1) ...\n",
            "Setting up libsombok3:amd64 (2.4.0-1) ...\n",
            "Setting up libsort-key-perl (1.33-2) ...\n",
            "Setting up libclass-inspector-perl (1.32-1) ...\n",
            "Setting up texlive-lang-french (2017.20180305-1) ...\n",
            "Setting up libclass-c3-perl (0.33-1) ...\n",
            "Setting up libclass-singleton-perl (1.5-1) ...\n",
            "Setting up notification-daemon (3.20.0-3) ...\n",
            "Setting up fonts-gfs-gazis (1.1-5) ...\n",
            "Setting up netbase (5.4) ...\n",
            "Setting up libxml-sax-perl (0.99+dfsg-2ubuntu1) ...\n",
            "update-perl-sax-parsers: Registering Perl SAX parser XML::SAX::PurePerl with priority 10...\n",
            "update-perl-sax-parsers: Updating overall Perl SAX parser modules info file...\n",
            "debconf: unable to initialize frontend: Dialog\n",
            "debconf: (No usable dialog-like program is installed, so the dialog based frontend cannot be used. at /usr/share/perl5/Debconf/FrontEnd/Dialog.pm line 76.)\n",
            "debconf: falling back to frontend: Readline\n",
            "\n",
            "Creating config file /etc/perl/XML/SAX/ParserDetails.ini with new version\n",
            "Setting up fonts-gfs-bodoni-classic (1.1-5) ...\n",
            "Setting up liblist-moreutils-perl (0.416-1build3) ...\n",
            "Setting up libdata-optlist-perl (0.110-1) ...\n",
            "Setting up libfile-find-rule-perl (0.34-1) ...\n",
            "Setting up texlive-lang-korean (2017.20180305-1) ...\n",
            "Setting up texlive-lang-greek (2017.20180305-1) ...\n",
            "Setting up libhttp-date-perl (6.02-1) ...\n",
            "Setting up libmagickcore-6.q16-3:amd64 (8:6.9.7.4+dfsg-16ubuntu6.8) ...\n",
            "Setting up libdata-compare-perl (1.25-1) ...\n",
            "Setting up libexception-class-perl (1.44-1) ...\n",
            "Setting up texlive-science (2017.20180305-2) ...\n",
            "Setting up libgsl23:amd64 (2.4+dfsg-6) ...\n",
            "Setting up libdjvulibre21:amd64 (3.5.27.1-8ubuntu0.2) ...\n",
            "Setting up libnet-ssleay-perl (1.84-1ubuntu0.2) ...\n",
            "Setting up lcdf-typetools (2.106~dfsg-1) ...\n",
            "Setting up texlive-formats-extra (2017.20180305-2) ...\n",
            "Setting up latex-cjk-common (4.8.4+git20170127-2) ...\n",
            "Setting up libdevel-callchecker-perl (0.007-2build1) ...\n",
            "Setting up libbusiness-ismn-perl (1.131-1) ...\n",
            "Setting up x11-utils (7.7+3build1) ...\n",
            "Setting up libmro-compat-perl (0.13-1) ...\n",
            "Setting up xterm (330-1ubuntu2) ...\n",
            "update-alternatives: using /usr/bin/xterm to provide /usr/bin/x-terminal-emulator (x-terminal-emulator) in auto mode\n",
            "update-alternatives: using /usr/bin/lxterm to provide /usr/bin/x-terminal-emulator (x-terminal-emulator) in auto mode\n",
            "Setting up libdevel-caller-perl (2.06-1build5) ...\n",
            "Setting up libio-socket-ssl-perl (2.060-3~ubuntu18.04.1) ...\n",
            "Setting up libhtml-tree-perl (5.07-1) ...\n",
            "Setting up latex-cjk-thai (4.8.4+git20170127-2) ...\n",
            "Setting up cm-super (0.3.4-11) ...\n",
            "Creating fonts. This may take some time... done.\n",
            "Setting up libsub-exporter-perl (0.987-1) ...\n",
            "Setting up libtext-bibtex-perl (0.85-1) ...\n",
            "Setting up context (2017.05.15.20170613-2) ...\n",
            "Running mtxrun --generate. This may take some time... done.\n",
            "Pregenerating ConTeXt MarkIV format. This may take some time... done.\n",
            "Setting up libmagickwand-6.q16-3:amd64 (8:6.9.7.4+dfsg-16ubuntu6.8) ...\n",
            "Setting up libunicode-linebreak-perl (0.0.20160702-1build2) ...\n",
            "Setting up libfile-listing-perl (6.04-1) ...\n",
            "Setting up libhttp-message-perl (6.14-1) ...\n",
            "Setting up latex-cjk-japanese (4.8.4+git20170127-2) ...\n",
            "Setting up latex-cjk-chinese (4.8.4+git20170127-2) ...\n",
            "Setting up libxml-libxml-perl (2.0128+dfsg-5) ...\n",
            "update-perl-sax-parsers: Registering Perl SAX parser XML::LibXML::SAX::Parser with priority 50...\n",
            "update-perl-sax-parsers: Registering Perl SAX parser XML::LibXML::SAX with priority 50...\n",
            "update-perl-sax-parsers: Updating overall Perl SAX parser modules info file...\n",
            "debconf: unable to initialize frontend: Dialog\n",
            "debconf: (No usable dialog-like program is installed, so the dialog based frontend cannot be used. at /usr/share/perl5/Debconf/FrontEnd/Dialog.pm line 76.)\n",
            "debconf: falling back to frontend: Readline\n",
            "Replacing config file /etc/perl/XML/SAX/ParserDetails.ini with new version\n",
            "Setting up libeval-closure-perl (0.14-1) ...\n",
            "Setting up libparams-validationcompiler-perl (0.26-1) ...\n",
            "Setting up vprerex (1:6.5.1-1) ...\n",
            "Setting up libfile-sharedir-perl (1.104-1) ...\n",
            "Setting up libparams-classify-perl (0.015-1) ...\n",
            "Setting up texlive-lang-chinese (2017.20180305-1) ...\n",
            "Setting up libhttp-negotiate-perl (6.00-2) ...\n",
            "Setting up libxml-libxml-simple-perl (0.99-1) ...\n",
            "Setting up libdevel-lexalias-perl (0.05-1build5) ...\n",
            "Setting up texlive-extra-utils (2017.20180305-2) ...\n",
            "Setting up context-modules (20170613-2) ...\n",
            "Setting up libnet-smtp-ssl-perl (1.04-1) ...\n",
            "Setting up libhtml-format-perl (2.12-1) ...\n",
            "Setting up libhttp-cookies-perl (6.04-1) ...\n",
            "Setting up latex-cjk-korean (4.8.4+git20170127-2) ...\n",
            "Setting up libmodule-runtime-perl (0.016-1) ...\n",
            "Setting up imagemagick-6.q16 (8:6.9.7.4+dfsg-16ubuntu6.8) ...\n",
            "update-alternatives: using /usr/bin/compare-im6.q16 to provide /usr/bin/compare (compare) in auto mode\n",
            "update-alternatives: using /usr/bin/compare-im6.q16 to provide /usr/bin/compare-im6 (compare-im6) in auto mode\n",
            "update-alternatives: using /usr/bin/animate-im6.q16 to provide /usr/bin/animate (animate) in auto mode\n",
            "update-alternatives: using /usr/bin/animate-im6.q16 to provide /usr/bin/animate-im6 (animate-im6) in auto mode\n",
            "update-alternatives: using /usr/bin/convert-im6.q16 to provide /usr/bin/convert (convert) in auto mode\n",
            "update-alternatives: using /usr/bin/convert-im6.q16 to provide /usr/bin/convert-im6 (convert-im6) in auto mode\n",
            "update-alternatives: using /usr/bin/composite-im6.q16 to provide /usr/bin/composite (composite) in auto mode\n",
            "update-alternatives: using /usr/bin/composite-im6.q16 to provide /usr/bin/composite-im6 (composite-im6) in auto mode\n",
            "update-alternatives: using /usr/bin/conjure-im6.q16 to provide /usr/bin/conjure (conjure) in auto mode\n",
            "update-alternatives: using /usr/bin/conjure-im6.q16 to provide /usr/bin/conjure-im6 (conjure-im6) in auto mode\n",
            "update-alternatives: using /usr/bin/import-im6.q16 to provide /usr/bin/import (import) in auto mode\n",
            "update-alternatives: using /usr/bin/import-im6.q16 to provide /usr/bin/import-im6 (import-im6) in auto mode\n",
            "update-alternatives: using /usr/bin/identify-im6.q16 to provide /usr/bin/identify (identify) in auto mode\n",
            "update-alternatives: using /usr/bin/identify-im6.q16 to provide /usr/bin/identify-im6 (identify-im6) in auto mode\n",
            "update-alternatives: using /usr/bin/stream-im6.q16 to provide /usr/bin/stream (stream) in auto mode\n",
            "update-alternatives: using /usr/bin/stream-im6.q16 to provide /usr/bin/stream-im6 (stream-im6) in auto mode\n",
            "update-alternatives: using /usr/bin/display-im6.q16 to provide /usr/bin/display (display) in auto mode\n",
            "update-alternatives: using /usr/bin/display-im6.q16 to provide /usr/bin/display-im6 (display-im6) in auto mode\n",
            "update-alternatives: using /usr/bin/montage-im6.q16 to provide /usr/bin/montage (montage) in auto mode\n",
            "update-alternatives: using /usr/bin/montage-im6.q16 to provide /usr/bin/montage-im6 (montage-im6) in auto mode\n",
            "update-alternatives: using /usr/bin/mogrify-im6.q16 to provide /usr/bin/mogrify (mogrify) in auto mode\n",
            "update-alternatives: using /usr/bin/mogrify-im6.q16 to provide /usr/bin/mogrify-im6 (mogrify-im6) in auto mode\n",
            "Setting up libhttp-daemon-perl (6.01-1) ...\n",
            "Setting up libmagick++-6.q16-7:amd64 (8:6.9.7.4+dfsg-16ubuntu6.8) ...\n",
            "Setting up libpstoedit0c2a (3.70-5) ...\n",
            "Setting up libmagickcore-6.q16-3-extra:amd64 (8:6.9.7.4+dfsg-16ubuntu6.8) ...\n",
            "Setting up libxml-libxslt-perl (1.95-1build2) ...\n",
            "Setting up fragmaster (1.7-5) ...\n",
            "Setting up imagemagick (8:6.9.7.4+dfsg-16ubuntu6.8) ...\n",
            "Setting up libhtml-form-perl (6.03-1) ...\n",
            "Setting up libspecio-perl (0.42-1) ...\n",
            "Setting up texinfo (6.5.0.dfsg.1-2) ...\n",
            "Running mktexlsr. This may take some time. ... done.\n",
            "Setting up feynmf (1.08-10) ...\n",
            "Regenerating '/var/lib/texmf/fmtutil.cnf-DEBIAN'... done.\n",
            "Regenerating '/var/lib/texmf/fmtutil.cnf-TEXLIVEDIST'... done.\n",
            "update-fmtutil has updated the following file(s):\n",
            "\t/var/lib/texmf/fmtutil.cnf-DEBIAN\n",
            "\t/var/lib/texmf/fmtutil.cnf-TEXLIVEDIST\n",
            "If you want to activate the changes in the above file(s),\n",
            "you should run fmtutil-sys or fmtutil.\n",
            "Setting up latex-cjk-all (4.8.4+git20170127-2) ...\n",
            "Setting up libdist-checkconflicts-perl (0.11-1) ...\n",
            "Setting up asymptote (2.41-4) ...\n",
            "Setting up libmailtools-perl (2.18-1) ...\n",
            "Setting up libmodule-implementation-perl (0.09-1) ...\n",
            "Setting up libmime-lite-perl (3.030-2) ...\n",
            "Setting up libparams-validate-perl (1.29-1) ...\n",
            "Setting up pstoedit (3.70-5) ...\n",
            "Setting up libb-hooks-endofscope-perl (0.21-1) ...\n",
            "Setting up purifyeps (1.1-2) ...\n",
            "Setting up liblist-someutils-perl (0.56-1) ...\n",
            "Setting up libpackage-stash-perl (0.37-1) ...\n",
            "Setting up libpackage-deprecationmanager-perl (0.17-1) ...\n",
            "Setting up liblist-allutils-perl (0.14-1) ...\n",
            "Setting up libnamespace-clean-perl (0.27-1) ...\n",
            "Setting up libnamespace-autoclean-perl (0.28-1) ...\n",
            "Setting up liblog-dispatch-perl (2.67-1) ...\n",
            "Setting up libdatetime-timezone-perl (1:2.18-1+2018d) ...\n",
            "Setting up libdatetime-locale-perl (1:1.17-1) ...\n",
            "Setting up libdatetime-perl (2:1.46-1) ...\n",
            "Setting up libdatetime-format-strptime-perl (1.7500-1) ...\n",
            "Setting up libdatetime-calendar-julian-perl (0.04-1) ...\n",
            "Setting up libdatetime-format-builder-perl (0.8100-1) ...\n",
            "Setting up liblwp-protocol-https-perl (6.07-2) ...\n",
            "Setting up zathura (0.3.8-1) ...\n",
            "Setting up libwww-perl (6.31-1ubuntu0.1) ...\n",
            "Setting up zathura-pdf-poppler (0.2.8-1) ...\n",
            "Setting up libbusiness-isbn-perl (3.004-1) ...\n",
            "Setting up libxml-parser-perl (2.44-2build3) ...\n",
            "Setting up libxml-sax-expat-perl (0.40-2) ...\n",
            "update-perl-sax-parsers: Registering Perl SAX parser XML::SAX::Expat with priority 50...\n",
            "update-perl-sax-parsers: Updating overall Perl SAX parser modules info file...\n",
            "debconf: unable to initialize frontend: Dialog\n",
            "debconf: (No usable dialog-like program is installed, so the dialog based frontend cannot be used. at /usr/share/perl5/Debconf/FrontEnd/Dialog.pm line 76.)\n",
            "debconf: falling back to frontend: Readline\n",
            "Replacing config file /etc/perl/XML/SAX/ParserDetails.ini with new version\n",
            "Setting up biber (2.9-1) ...\n",
            "Setting up texlive-full (2017.20180305-1) ...\n",
            "Processing triggers for libc-bin (2.27-3ubuntu1) ...\n",
            "/sbin/ldconfig.real: /usr/local/lib/python3.6/dist-packages/ideep4py/lib/libmkldnn.so.0 is not a symbolic link\n",
            "\n",
            "Processing triggers for man-db (2.8.3-2ubuntu0.1) ...\n",
            "Processing triggers for hicolor-icon-theme (0.17-2) ...\n",
            "Processing triggers for fontconfig (2.12.6-0ubuntu2) ...\n",
            "Processing triggers for tex-common (6.09) ...\n",
            "debconf: unable to initialize frontend: Dialog\n",
            "debconf: (No usable dialog-like program is installed, so the dialog based frontend cannot be used. at /usr/share/perl5/Debconf/FrontEnd/Dialog.pm line 76.)\n",
            "debconf: falling back to frontend: Readline\n",
            "Running mktexlsr. This may take some time... done.\n",
            "Running mtxrun --generate. This may take some time... done.\n",
            "Running updmap-sys. This may take some time... done.\n",
            "Running mktexlsr /var/lib/texmf ... done.\n",
            "Building format(s) --all.\n",
            "\tThis may take some time... done.\n",
            "Processing triggers for mime-support (3.60ubuntu1) ...\n",
            "Processing triggers for install-info (6.5.0.dfsg.1-2) ...\n",
            "Processing triggers for sgml-base (1.29) ...\n"
          ],
          "name": "stdout"
        }
      ]
    },
    {
      "cell_type": "code",
      "metadata": {
        "id": "zxH6I3ZSOADz",
        "colab_type": "code",
        "colab": {}
      },
      "source": [
        "from matplotlib import rc\n",
        "#rc('font',**{'family':'sans-serif','sans-serif':['Helvetica']})\n",
        "## for Palatino and other serif fonts use:\n",
        "#rc('font',**{'family':'serif','serif':['Palatino']})\n",
        "plt.rcParams[\"font.family\"] = \"Times New Roman\"\n",
        "rc('text', usetex=True)\n",
        "matplotlib.use(\"pgf\")\n",
        "#matplotlib.rcParams.update({\n",
        "#    \"pgf.texsystem\": \"pdflatex\",\n",
        "#    'font.family': 'serif',\n",
        "#    'text.usetex': True,\n",
        "#    'pgf.rcfonts': False,\n",
        "#})\n",
        "#plt.rcParams[\"figure.figsize\"] = (7,4)"
      ],
      "execution_count": null,
      "outputs": []
    },
    {
      "cell_type": "code",
      "metadata": {
        "id": "Udjr052-CrzC",
        "colab_type": "code",
        "colab": {
          "base_uri": "https://localhost:8080/",
          "height": 252
        },
        "outputId": "0ef54197-333f-4e14-edf8-607a019119c3"
      },
      "source": [
        "from sklearn.feature_selection import SelectKBest\n",
        "from sklearn.feature_selection import f_classif\n",
        "# ANOVA METHOD FOR FEATURE SELECTION\n",
        "X_indices = ['A','B','C','D','E','F','G','H','I','J','K','L','M','N','O','P','Q','R'] #indices\n",
        "selector = SelectKBest(f_classif, k=4) \n",
        "selector.fit(dataframe, target)\n",
        "scores = -np.log10(selector.pvalues_)\n",
        "scores /= scores.max()\n",
        "plt.figure(figsize=(3.7,3.5))\n",
        "plt.xlabel('Wavelength')\n",
        "plt.ylabel('Feature Importance Score')\n",
        "plt.bar(X_indices, scores, width=.2,\n",
        "        label=r'Univariate score ($-Log(p_{value})$)', color='darkorange',\n",
        "        edgecolor='black')\n",
        "#fig = plt.figure()\n",
        "#fig.set_size_inches(4, 5) \n",
        "#plt.set_size_inches(w=7.00137, h=3.5)\n",
        "plt.savefig('bar1.pgf')\n",
        "plt.show()\n",
        "#import tikzplotlib\n",
        "#tikzplotlib.save(\"anova.tex\")\n",
        "# ANOVA F-value between label/feature for classification tasks."
      ],
      "execution_count": null,
      "outputs": [
        {
          "output_type": "display_data",
          "data": {
            "image/png": "[encoded data removed]",
            "text/plain": [
              "<Figure size 266.4x252 with 1 Axes>"
            ]
          },
          "metadata": {
            "tags": [],
            "needs_background": "light"
          }
        }
      ]
    },
    {
      "cell_type": "code",
      "metadata": {
        "id": "dbSrnIpFdQ_J",
        "colab_type": "code",
        "colab": {
          "base_uri": "https://localhost:8080/",
          "height": 85
        },
        "outputId": "957db641-a9e0-4fac-8450-dc92b0773b0b"
      },
      "source": [
        "scores"
      ],
      "execution_count": null,
      "outputs": [
        {
          "output_type": "execute_result",
          "data": {
            "text/plain": [
              "array([0.00979463, 0.08283302, 0.06370026, 0.21981779, 0.36209048,\n",
              "       0.42327109, 1.        , 0.89265049, 0.23319707, 0.11608617,\n",
              "       0.37764192, 0.18868452, 0.204252  , 0.0622312 , 0.15926762,\n",
              "       0.15097757, 0.43109808, 0.47398811])"
            ]
          },
          "metadata": {
            "tags": []
          },
          "execution_count": 46
        }
      ]
    },
    {
      "cell_type": "code",
      "metadata": {
        "id": "G5N-nVvLCv6D",
        "colab_type": "code",
        "colab": {
          "base_uri": "https://localhost:8080/",
          "height": 319
        },
        "outputId": "32444bbc-6e98-4e72-d382-12e15b83856d"
      },
      "source": [
        "from scipy.stats import kendalltau\n",
        "X_indices = ['A','B','C','D','E','F','G','H','I','J','K','L','M','N','O','P','Q','R'] #indices\n",
        "tauMatrix = []\n",
        "p_valueMatrix = []\n",
        "for a in X_indices:\n",
        "  tau, p_value = kendalltau(X_train[a], y_train)\n",
        "  tauMatrix.append(tau)\n",
        "  p_valueMatrix.append(p_value)\n",
        "print (tauMatrix)\n",
        "plt.bar(X_indices, tauMatrix, width=.2,\n",
        "        label=r'Univariate score', color='darkorange',\n",
        "        edgecolor='black')\n",
        "# KENDALL TAU FOR FEATURE APPROXIMATION"
      ],
      "execution_count": null,
      "outputs": [
        {
          "output_type": "stream",
          "text": [
            "[0.01292439283235136, -0.06193033116209654, -0.0555507175996306, -0.15273447109756055, -0.2178191771004123, -0.23841183455287834, -0.42785321500029233, -0.3983241277803527, -0.16427481024053392, -0.09696464491991383, 0.22504905916493315, 0.1591255284414582, -0.15868167265463717, 0.07806782251944695, 0.16054538999325815, 0.1529635728960176, 0.24052608600355208, 0.25693593888760946]\n"
          ],
          "name": "stdout"
        },
        {
          "output_type": "execute_result",
          "data": {
            "text/plain": [
              "<BarContainer object of 18 artists>"
            ]
          },
          "metadata": {
            "tags": []
          },
          "execution_count": 20
        },
        {
          "output_type": "display_data",
          "data": {
            "image/png": "[encoded data removed]",
            "text/plain": [
              "<Figure size 432x288 with 1 Axes>"
            ]
          },
          "metadata": {
            "tags": [],
            "needs_background": "light"
          }
        }
      ]
    },
    {
      "cell_type": "code",
      "metadata": {
        "id": "T3qdsOmiDCK6",
        "colab_type": "code",
        "colab": {
          "base_uri": "https://localhost:8080/",
          "height": 504
        },
        "outputId": "ff63f875-56d2-4eb7-adbb-383014d45b58"
      },
      "source": [
        "k = 18 #number of variables for heatmap\n",
        "cols = dataframeOriginal.corr().nlargest(k, 'LABEL')['LABEL'].index\n",
        "cm = dataframeOriginal[cols].corr()\n",
        "plt.figure(figsize=(11,8))\n",
        "sns.heatmap(cm, annot=True, cmap = 'rainbow')"
      ],
      "execution_count": null,
      "outputs": [
        {
          "output_type": "execute_result",
          "data": {
            "text/plain": [
              "<matplotlib.axes._subplots.AxesSubplot at 0x7fa340812908>"
            ]
          },
          "metadata": {
            "tags": []
          },
          "execution_count": 25
        },
        {
          "output_type": "display_data",
          "data": {
            "image/png": "[encoded data removed]",
            "text/plain": [
              "<Figure size 792x576 with 2 Axes>"
            ]
          },
          "metadata": {
            "tags": [],
            "needs_background": "light"
          }
        }
      ]
    },
    {
      "cell_type": "code",
      "metadata": {
        "id": "FZFHpqt-Fljq",
        "colab_type": "code",
        "colab": {
          "base_uri": "https://localhost:8080/",
          "height": 504
        },
        "outputId": "b3dbd093-f994-451b-c771-f8da2ed26ea5"
      },
      "source": [
        "ppsMatrix = pps.matrix(dataframeOriginal)\n",
        "plt.figure(figsize=(11,8))\n",
        "sns.heatmap(ppsMatrix, vmin=0, vmax=1, cmap=\"Blues\", linewidths=0.5, annot=True)"
      ],
      "execution_count": null,
      "outputs": [
        {
          "output_type": "execute_result",
          "data": {
            "text/plain": [
              "<matplotlib.axes._subplots.AxesSubplot at 0x7fa3404742e8>"
            ]
          },
          "metadata": {
            "tags": []
          },
          "execution_count": 30
        },
        {
          "output_type": "display_data",
          "data": {
            "image/png": "[encoded data removed]",
            "text/plain": [
              "<Figure size 792x576 with 2 Axes>"
            ]
          },
          "metadata": {
            "tags": [],
            "needs_background": "light"
          }
        }
      ]
    },
    {
      "cell_type": "markdown",
      "metadata": {
        "id": "KYGC2zF8DHXT",
        "colab_type": "text"
      },
      "source": [
        "### **FEATURE IMPORTANCE NON STATISTICAL APPROACHES**"
      ]
    },
    {
      "cell_type": "code",
      "metadata": {
        "id": "GqhceKrsDORx",
        "colab_type": "code",
        "colab": {
          "base_uri": "https://localhost:8080/",
          "height": 34
        },
        "outputId": "e8ea93d5-72f1-4b43-bb10-f857c44925aa"
      },
      "source": [
        "from sklearn.ensemble import RandomForestRegressor\n",
        "\n",
        "rf = RandomForestRegressor(n_estimators = 100,\n",
        "                           n_jobs = -1,\n",
        "                           oob_score = True,\n",
        "                           bootstrap = True,\n",
        "                           random_state = 42)\n",
        "rf.fit(X_train, y_train)\n",
        "rf.score(X_test,y_test)"
      ],
      "execution_count": null,
      "outputs": [
        {
          "output_type": "execute_result",
          "data": {
            "text/plain": [
              "0.4316932224192009"
            ]
          },
          "metadata": {
            "tags": []
          },
          "execution_count": 31
        }
      ]
    },
    {
      "cell_type": "code",
      "metadata": {
        "id": "X19DKO2nDO1D",
        "colab_type": "code",
        "colab": {
          "base_uri": "https://localhost:8080/",
          "height": 357
        },
        "outputId": "6f9aa9b2-3dd6-4d13-d092-b10725bb4334"
      },
      "source": [
        "from sklearn.metrics import r2_score\n",
        "from rfpimp import permutation_importances\n",
        "\n",
        "def r2(rf, X_train, y_train):\n",
        "    return r2_score(y_train, rf.predict(X_train))\n",
        "\n",
        "perm_imp_rfpimp = permutation_importances(rf, X_train, y_train, r2)\n",
        "print(perm_imp_rfpimp)\n",
        "# PERMUTATION IMPOTANCES"
      ],
      "execution_count": null,
      "outputs": [
        {
          "output_type": "stream",
          "text": [
            "         Importance\n",
            "Feature            \n",
            "G          0.885284\n",
            "K          0.148217\n",
            "J          0.132039\n",
            "I          0.117276\n",
            "H          0.105187\n",
            "F          0.082182\n",
            "M          0.066399\n",
            "N          0.064488\n",
            "L          0.053846\n",
            "E          0.045044\n",
            "A          0.042026\n",
            "Q          0.040140\n",
            "D          0.039412\n",
            "O          0.032674\n",
            "C          0.029678\n",
            "B          0.026607\n",
            "P          0.026522\n",
            "R          0.026212\n"
          ],
          "name": "stdout"
        }
      ]
    },
    {
      "cell_type": "code",
      "metadata": {
        "id": "FEEp-ufiDUKT",
        "colab_type": "code",
        "colab": {
          "base_uri": "https://localhost:8080/",
          "height": 295
        },
        "outputId": "ff6cce14-83c5-4a49-806d-15351582a4c2"
      },
      "source": [
        "# plot feature importance using built-in function\n",
        "from numpy import loadtxt\n",
        "from xgboost import XGBClassifier\n",
        "from xgboost import plot_importance\n",
        "from matplotlib import pyplot\n",
        "# fit model no training data\n",
        "model = XGBClassifier()\n",
        "model.fit(X_train, y_train)\n",
        "# plot feature importance\n",
        "plot_importance(model)\n",
        "pyplot.show()\n",
        "# XGBOOST INBUILT FEATURE IMPORTANCE FUNCTIONS "
      ],
      "execution_count": null,
      "outputs": [
        {
          "output_type": "display_data",
          "data": {
            "image/png": "[encoded data removed]",
            "text/plain": [
              "<Figure size 432x288 with 1 Axes>"
            ]
          },
          "metadata": {
            "tags": [],
            "needs_background": "light"
          }
        }
      ]
    },
    {
      "cell_type": "code",
      "metadata": {
        "id": "4BvX2JVwDWy9",
        "colab_type": "code",
        "colab": {
          "base_uri": "https://localhost:8080/",
          "height": 340
        },
        "outputId": "7b0630bf-aaba-4767-9aa3-5ed1cc9ecc6c"
      },
      "source": [
        "from numpy import loadtxt\n",
        "from numpy import sort\n",
        "from xgboost import XGBClassifier\n",
        "from sklearn.model_selection import train_test_split\n",
        "from sklearn.metrics import accuracy_score\n",
        "from sklearn.feature_selection import SelectFromModel\n",
        " \n",
        "# define custom class to fix bug in xgboost 1.0.2\n",
        "class MyXGBClassifier(XGBClassifier):\n",
        "\t@property\n",
        "\tdef coef_(self):\n",
        "\t\treturn None\n",
        " \n",
        "# fit model on all training data\n",
        "model = MyXGBClassifier()\n",
        "model.fit(X_train, y_train)\n",
        "# make predictions for test data and evaluate\n",
        "predictions = model.predict(X_test)\n",
        "accuracy = accuracy_score(y_test, predictions)\n",
        "print(\"Accuracy: %.2f%%\" % (accuracy * 100.0))\n",
        "# Fit model using each importance as a threshold\n",
        "thresholds = sort(model.feature_importances_)\n",
        "for thresh in thresholds:\n",
        "\t# select features using threshold\n",
        "\tselection = SelectFromModel(model, threshold=thresh, prefit=True)\n",
        "\tselect_X_train = selection.transform(X_train)\n",
        "\t# train model\n",
        "\tselection_model = XGBClassifier()\n",
        "\tselection_model.fit(select_X_train, y_train)\n",
        "\t# eval model\n",
        "\tselect_X_test = selection.transform(X_test)\n",
        "\tpredictions = selection_model.predict(select_X_test)\n",
        "\taccuracy = accuracy_score(y_test, predictions)\n",
        "\tprint(\"Thresh=%.3f, n=%d, Accuracy: %.2f%%\" % (thresh, select_X_train.shape[1], accuracy*100.0))\n",
        " \n",
        " # TRIAL OF XGBOOST USING MUTLIPLE MODELS"
      ],
      "execution_count": null,
      "outputs": [
        {
          "output_type": "stream",
          "text": [
            "Accuracy: 77.94%\n",
            "Thresh=0.031, n=18, Accuracy: 77.94%\n",
            "Thresh=0.032, n=17, Accuracy: 76.84%\n",
            "Thresh=0.033, n=16, Accuracy: 77.21%\n",
            "Thresh=0.033, n=15, Accuracy: 77.57%\n",
            "Thresh=0.034, n=14, Accuracy: 77.94%\n",
            "Thresh=0.037, n=13, Accuracy: 78.31%\n",
            "Thresh=0.044, n=12, Accuracy: 78.31%\n",
            "Thresh=0.044, n=11, Accuracy: 77.94%\n",
            "Thresh=0.044, n=10, Accuracy: 78.31%\n",
            "Thresh=0.045, n=9, Accuracy: 77.21%\n",
            "Thresh=0.048, n=8, Accuracy: 77.57%\n",
            "Thresh=0.051, n=7, Accuracy: 77.21%\n",
            "Thresh=0.051, n=6, Accuracy: 76.47%\n",
            "Thresh=0.054, n=5, Accuracy: 75.74%\n",
            "Thresh=0.063, n=4, Accuracy: 75.74%\n",
            "Thresh=0.067, n=3, Accuracy: 76.84%\n",
            "Thresh=0.101, n=2, Accuracy: 72.79%\n",
            "Thresh=0.188, n=1, Accuracy: 69.85%\n"
          ],
          "name": "stdout"
        }
      ]
    },
    {
      "cell_type": "code",
      "metadata": {
        "id": "gfoKFIVKDcQ7",
        "colab_type": "code",
        "colab": {
          "base_uri": "https://localhost:8080/",
          "height": 799
        },
        "outputId": "fe19c74c-5064-4f04-d25b-e5d0410a5807"
      },
      "source": [
        "from treeinterpreter import treeinterpreter as ti, utils\n",
        "\n",
        "selected_rows = [31, 85]\n",
        "selected_df = X_train.iloc[selected_rows,:].values\n",
        "prediction, bias, contributions = ti.predict(rf, selected_df)\n",
        "\n",
        "for i in range(len(selected_rows)):\n",
        "    print(\"Row\", selected_rows[i])\n",
        "    print(\"Prediction:\", prediction[i][0], 'Actual Value:', y_train[selected_rows[i]])\n",
        "    print(\"Bias (trainset mean)\", bias[i])\n",
        "    print(\"Feature contributions:\")\n",
        "    for c, feature in sorted(zip(contributions[i], \n",
        "                                 X_train.columns), \n",
        "                             key=lambda x: -abs(x[0])):\n",
        "        print(feature, round(c, 2))\n",
        "    print(\"-\"*20) "
      ],
      "execution_count": null,
      "outputs": [
        {
          "output_type": "stream",
          "text": [
            "Row 31\n",
            "Prediction: 2.03 Actual Value: 2\n",
            "Bias (trainset mean) 2.2870772058823534\n",
            "Feature contributions:\n",
            "G -0.34\n",
            "F 0.08\n",
            "E 0.03\n",
            "J -0.01\n",
            "I 0.01\n",
            "R -0.01\n",
            "M -0.01\n",
            "H -0.01\n",
            "N -0.01\n",
            "K -0.01\n",
            "A 0.0\n",
            "L 0.0\n",
            "B 0.0\n",
            "P 0.0\n",
            "D 0.0\n",
            "Q 0.0\n",
            "C -0.0\n",
            "O -0.0\n",
            "--------------------\n",
            "Row 85\n",
            "Prediction: 2.01 Actual Value: 3\n",
            "Bias (trainset mean) 2.2870772058823534\n",
            "Feature contributions:\n",
            "G -0.34\n",
            "L 0.02\n",
            "H 0.01\n",
            "I 0.01\n",
            "J -0.01\n",
            "N 0.01\n",
            "Q 0.01\n",
            "K -0.01\n",
            "F -0.01\n",
            "M 0.01\n",
            "O 0.01\n",
            "B 0.01\n",
            "D -0.01\n",
            "A 0.0\n",
            "C -0.0\n",
            "R 0.0\n",
            "E -0.0\n",
            "P -0.0\n",
            "--------------------\n"
          ],
          "name": "stdout"
        }
      ]
    },
    {
      "cell_type": "markdown",
      "metadata": {
        "id": "S7kIM8xigcu-",
        "colab_type": "text"
      },
      "source": [
        "### **FEATURE EXTRACTION AND PREDICTION USING RANDOM FOREST**"
      ]
    },
    {
      "cell_type": "code",
      "metadata": {
        "id": "o-30g0p8f8Vh",
        "colab_type": "code",
        "colab": {
          "base_uri": "https://localhost:8080/",
          "height": 306
        },
        "outputId": "a96cdf32-6560-488a-ad5d-adc21197f8b8"
      },
      "source": [
        "sel = SelectFromModel(RandomForestClassifier(n_estimators = 1000))\n",
        "sel.fit(X_train, y_train)\n",
        "# select the random forest classifier and specify the estimator count and fit it across the train data"
      ],
      "execution_count": null,
      "outputs": [
        {
          "output_type": "execute_result",
          "data": {
            "text/plain": [
              "SelectFromModel(estimator=RandomForestClassifier(bootstrap=True, ccp_alpha=0.0,\n",
              "                                                 class_weight=None,\n",
              "                                                 criterion='gini',\n",
              "                                                 max_depth=None,\n",
              "                                                 max_features='auto',\n",
              "                                                 max_leaf_nodes=None,\n",
              "                                                 max_samples=None,\n",
              "                                                 min_impurity_decrease=0.0,\n",
              "                                                 min_impurity_split=None,\n",
              "                                                 min_samples_leaf=1,\n",
              "                                                 min_samples_split=2,\n",
              "                                                 min_weight_fraction_leaf=0.0,\n",
              "                                                 n_estimators=1000, n_jobs=None,\n",
              "                                                 oob_score=False,\n",
              "                                                 random_state=None, verbose=0,\n",
              "                                                 warm_start=False),\n",
              "                max_features=None, norm_order=1, prefit=False, threshold=None)"
            ]
          },
          "metadata": {
            "tags": []
          },
          "execution_count": 106
        }
      ]
    },
    {
      "cell_type": "code",
      "metadata": {
        "id": "0EbidTcMgOzv",
        "colab_type": "code",
        "colab": {
          "base_uri": "https://localhost:8080/",
          "height": 51
        },
        "outputId": "002758f4-d74c-4b47-f9ef-32e484896a54"
      },
      "source": [
        "sel.get_support()\n",
        "# find out the maximum likelihood features"
      ],
      "execution_count": null,
      "outputs": [
        {
          "output_type": "execute_result",
          "data": {
            "text/plain": [
              "array([False, False, False, False, False,  True,  True,  True, False,\n",
              "        True,  True, False, False, False, False, False, False,  True])"
            ]
          },
          "metadata": {
            "tags": []
          },
          "execution_count": 107
        }
      ]
    },
    {
      "cell_type": "code",
      "metadata": {
        "id": "BkK8wTBOgUO3",
        "colab_type": "code",
        "colab": {
          "base_uri": "https://localhost:8080/",
          "height": 34
        },
        "outputId": "17269196-1edf-46a0-891a-519dee6dac51"
      },
      "source": [
        "selected_feat= X_train.columns[(sel.get_support())]\n",
        "len(selected_feat)\n",
        "# find out the maximum length of features which are right"
      ],
      "execution_count": null,
      "outputs": [
        {
          "output_type": "execute_result",
          "data": {
            "text/plain": [
              "6"
            ]
          },
          "metadata": {
            "tags": []
          },
          "execution_count": 108
        }
      ]
    },
    {
      "cell_type": "code",
      "metadata": {
        "id": "P8B8rTn6hmuj",
        "colab_type": "code",
        "colab": {
          "base_uri": "https://localhost:8080/",
          "height": 34
        },
        "outputId": "1183a374-5d0e-445e-8610-5a2d4b2513a3"
      },
      "source": [
        "print(selected_feat)\n",
        "# print out the maximum likelihood features"
      ],
      "execution_count": null,
      "outputs": [
        {
          "output_type": "stream",
          "text": [
            "Index(['F', 'G', 'H', 'J', 'K', 'R'], dtype='object')\n"
          ],
          "name": "stdout"
        }
      ]
    },
    {
      "cell_type": "code",
      "metadata": {
        "id": "_LlUaDUZhofB",
        "colab_type": "code",
        "colab": {
          "base_uri": "https://localhost:8080/",
          "height": 281
        },
        "outputId": "1d400a0f-2dc3-4ce0-8cf0-e1abfdd8e756"
      },
      "source": [
        "importances = sel.estimator_.feature_importances_\n",
        "indices = np.argsort(importances)[::-1]\n",
        "# X is the train data used to fit the model \n",
        "plt.figure()\n",
        "plt.title(\"Feature importances\")\n",
        "plt.bar(range(X_train.shape[1]), importances[indices],\n",
        "       color=\"r\", align=\"center\")\n",
        "plt.xticks(range(X_train.shape[1]), selected_feat)\n",
        "plt.xlim([-1, X_train.shape[1]])\n",
        "plt.show()\n",
        "\n",
        "# PLOT"
      ],
      "execution_count": null,
      "outputs": [
        {
          "output_type": "display_data",
          "data": {
            "image/png": "[encoded data removed]",
            "text/plain": [
              "<Figure size 432x288 with 1 Axes>"
            ]
          },
          "metadata": {
            "tags": [],
            "needs_background": "light"
          }
        }
      ]
    },
    {
      "cell_type": "code",
      "metadata": {
        "id": "LU0AoOX0uLKd",
        "colab_type": "code",
        "colab": {}
      },
      "source": [
        "X_important_train = sel.transform(X_train)\n",
        "X_important_test = sel.transform(X_test)\n",
        "# Transform the dataset to contain only important features "
      ],
      "execution_count": null,
      "outputs": []
    },
    {
      "cell_type": "code",
      "metadata": {
        "id": "dh5o6CQKhrmQ",
        "colab_type": "code",
        "colab": {
          "base_uri": "https://localhost:8080/",
          "height": 51
        },
        "outputId": "85dcc5da-84dd-424a-f37e-d50ed69dc3af"
      },
      "source": [
        "print(X_important_train.shape)\n",
        "print(X_important_test.shape)"
      ],
      "execution_count": null,
      "outputs": [
        {
          "output_type": "stream",
          "text": [
            "(1088, 6)\n",
            "(272, 6)\n"
          ],
          "name": "stdout"
        }
      ]
    },
    {
      "cell_type": "code",
      "metadata": {
        "id": "gmYyXqIN0GCo",
        "colab_type": "code",
        "colab": {
          "base_uri": "https://localhost:8080/",
          "height": 153
        },
        "outputId": "2f683055-1c60-4007-bf37-fff5054562e6"
      },
      "source": [
        "# Create a new random forest classifier for all features\n",
        "clf = RandomForestClassifier(n_estimators=1000, random_state=0, n_jobs=-1)\n",
        "\n",
        "# Train the new classifier on the new dataset containing all features\n",
        "clf.fit(X_train, y_train)"
      ],
      "execution_count": null,
      "outputs": [
        {
          "output_type": "execute_result",
          "data": {
            "text/plain": [
              "RandomForestClassifier(bootstrap=True, ccp_alpha=0.0, class_weight=None,\n",
              "                       criterion='gini', max_depth=None, max_features='auto',\n",
              "                       max_leaf_nodes=None, max_samples=None,\n",
              "                       min_impurity_decrease=0.0, min_impurity_split=None,\n",
              "                       min_samples_leaf=1, min_samples_split=2,\n",
              "                       min_weight_fraction_leaf=0.0, n_estimators=1000,\n",
              "                       n_jobs=-1, oob_score=False, random_state=0, verbose=0,\n",
              "                       warm_start=False)"
            ]
          },
          "metadata": {
            "tags": []
          },
          "execution_count": 113
        }
      ]
    },
    {
      "cell_type": "code",
      "metadata": {
        "id": "p0AJHPXcsMrY",
        "colab_type": "code",
        "colab": {}
      },
      "source": [
        ""
      ],
      "execution_count": null,
      "outputs": []
    },
    {
      "cell_type": "code",
      "metadata": {
        "id": "-V9n_ttAtbP5",
        "colab_type": "code",
        "colab": {
          "base_uri": "https://localhost:8080/",
          "height": 153
        },
        "outputId": "08df460d-69aa-4639-9988-7d5c4a77806c"
      },
      "source": [
        "# Create a new random forest classifier for the most important features\n",
        "clf_important = RandomForestClassifier(n_estimators=1000, random_state=0, n_jobs=-1)\n",
        "\n",
        "# Train the new classifier on the new dataset containing the most important features\n",
        "clf_important.fit(X_important_train, y_train)"
      ],
      "execution_count": null,
      "outputs": [
        {
          "output_type": "execute_result",
          "data": {
            "text/plain": [
              "RandomForestClassifier(bootstrap=True, ccp_alpha=0.0, class_weight=None,\n",
              "                       criterion='gini', max_depth=None, max_features='auto',\n",
              "                       max_leaf_nodes=None, max_samples=None,\n",
              "                       min_impurity_decrease=0.0, min_impurity_split=None,\n",
              "                       min_samples_leaf=1, min_samples_split=2,\n",
              "                       min_weight_fraction_leaf=0.0, n_estimators=1000,\n",
              "                       n_jobs=-1, oob_score=False, random_state=0, verbose=0,\n",
              "                       warm_start=False)"
            ]
          },
          "metadata": {
            "tags": []
          },
          "execution_count": 36
        }
      ]
    },
    {
      "cell_type": "code",
      "metadata": {
        "id": "S-dR2Ri7td-n",
        "colab_type": "code",
        "colab": {
          "base_uri": "https://localhost:8080/",
          "height": 289
        },
        "outputId": "a4d7fd09-21af-4f64-aab7-00674d502535"
      },
      "source": [
        "# Apply The Full Featured Classifier To The Test Data\n",
        "y_pred = clf.predict(X_test)\n",
        "\n",
        "# View The Accuracy Of Our Full Feature Model\n",
        "y_score = accuracy_score(y_test, y_pred)\n",
        "print(\"Accuracy Score: \", y_score)\n",
        "print(\"F1 Score: \",f1_score(y_test, y_pred, average='macro'))\n",
        "print(\"Confusion Matrix : \")\n",
        "print(confusion_matrix(y_test, y_pred))\n",
        "print(classification_report(y_test, y_pred))"
      ],
      "execution_count": null,
      "outputs": [
        {
          "output_type": "stream",
          "text": [
            "Accuracy Score:  0.7794117647058824\n",
            "F1 Score:  0.5183611373413074\n",
            "Confusion Matrix : \n",
            "[[  0   9   1]\n",
            " [  1 147  23]\n",
            " [  0  26  65]]\n",
            "              precision    recall  f1-score   support\n",
            "\n",
            "           1       0.00      0.00      0.00        10\n",
            "           2       0.81      0.86      0.83       171\n",
            "           3       0.73      0.71      0.72        91\n",
            "\n",
            "    accuracy                           0.78       272\n",
            "   macro avg       0.51      0.52      0.52       272\n",
            "weighted avg       0.75      0.78      0.77       272\n",
            "\n"
          ],
          "name": "stdout"
        }
      ]
    },
    {
      "cell_type": "code",
      "metadata": {
        "id": "R8jDgc7Utf6v",
        "colab_type": "code",
        "colab": {
          "base_uri": "https://localhost:8080/",
          "height": 289
        },
        "outputId": "7f4b7565-e71a-4a0e-f4cc-a7a35922692d"
      },
      "source": [
        "# Apply The Full Featured Classifier To The Test Data\n",
        "y_important_pred = clf_important.predict(X_important_test)\n",
        "\n",
        "# View The Accuracy Of Our Limited Feature (2 Features) Model\n",
        "print(\"Accuracy Score: \", accuracy_score(y_test, y_important_pred))\n",
        "print(\"F1 Score: \",f1_score(y_test, y_important_pred, average='macro'))\n",
        "print(\"Confusion Matrix : \")\n",
        "print(confusion_matrix(y_test, y_important_pred))\n",
        "print(classification_report(y_test, y_important_pred))\n",
        "#precision_recall_curve(y_true, …) # check this?"
      ],
      "execution_count": null,
      "outputs": [
        {
          "output_type": "stream",
          "text": [
            "Accuracy Score:  0.7867647058823529\n",
            "F1 Score:  0.5245294532293868\n",
            "Confusion Matrix : \n",
            "[[  0  10   0]\n",
            " [  1 148  22]\n",
            " [  0  25  66]]\n",
            "              precision    recall  f1-score   support\n",
            "\n",
            "           1       0.00      0.00      0.00        10\n",
            "           2       0.81      0.87      0.84       171\n",
            "           3       0.75      0.73      0.74        91\n",
            "\n",
            "    accuracy                           0.79       272\n",
            "   macro avg       0.52      0.53      0.52       272\n",
            "weighted avg       0.76      0.79      0.77       272\n",
            "\n"
          ],
          "name": "stdout"
        }
      ]
    },
    {
      "cell_type": "markdown",
      "metadata": {
        "id": "59zvhNoPwrll",
        "colab_type": "text"
      },
      "source": [
        "### **DATA PRE-PROCESSING for non Tree Models** "
      ]
    },
    {
      "cell_type": "code",
      "metadata": {
        "id": "2Gg73cqs4-qw",
        "colab_type": "code",
        "colab": {}
      },
      "source": [
        "robust_X_train = X_train.copy()\n",
        "robust_X_test = X_test.copy()"
      ],
      "execution_count": null,
      "outputs": []
    },
    {
      "cell_type": "code",
      "metadata": {
        "id": "pXYwPh_UxV0S",
        "colab_type": "code",
        "colab": {}
      },
      "source": [
        "# Robust Scalar is important here because our data has a lot of outliers\n",
        "transformer = RobustScaler().fit(X_train)\n",
        "robust1 = transformer.transform(X_train)\n",
        "transformer = RobustScaler().fit(X_test)\n",
        "robust2 = transformer.transform(X_test)"
      ],
      "execution_count": null,
      "outputs": []
    },
    {
      "cell_type": "code",
      "metadata": {
        "id": "4AJBceh65B6j",
        "colab_type": "code",
        "colab": {}
      },
      "source": [
        "robust_X_train[:] = robust1 # replace the previous pandas df values with new values from np array\n",
        "robust_X_test[:] = robust2 # replace the previous pandas df values with new values from np array"
      ],
      "execution_count": null,
      "outputs": []
    },
    {
      "cell_type": "code",
      "metadata": {
        "id": "F2DuK76Y6z1m",
        "colab_type": "code",
        "colab": {}
      },
      "source": [
        "####### I DONT THINK SO THAT NORMALIZATION IS NEEDED AS FEATURE SCALING IS ALREADY DONE"
      ],
      "execution_count": null,
      "outputs": []
    },
    {
      "cell_type": "markdown",
      "metadata": {
        "id": "0FxU3QA5pMDt",
        "colab_type": "text"
      },
      "source": [
        "#***MODEL TRAINING AND TESTING ALL VARIABLES***"
      ]
    },
    {
      "cell_type": "code",
      "metadata": {
        "id": "uH2Y5Gsqi-Ha",
        "colab_type": "code",
        "colab": {
          "base_uri": "https://localhost:8080/",
          "height": 34
        },
        "outputId": "1258e9a1-a8e2-46e6-c1ef-4e9569f3f67a"
      },
      "source": [
        "import os \n",
        "os.chdir('/content/drive/My Drive/Colab Notebooks/Capstone')\n",
        "os.getcwd()"
      ],
      "execution_count": null,
      "outputs": [
        {
          "output_type": "execute_result",
          "data": {
            "text/plain": [
              "'/content/drive/My Drive/Colab Notebooks/Capstone'"
            ]
          },
          "metadata": {
            "tags": []
          },
          "execution_count": 3
        }
      ]
    },
    {
      "cell_type": "code",
      "metadata": {
        "id": "zf2IpqYIpTjr",
        "colab_type": "code",
        "colab": {
          "base_uri": "https://localhost:8080/",
          "height": 54
        },
        "outputId": "2456582d-67d3-49ee-b531-b7279a5507bb"
      },
      "source": [
        "'''Models required for training - \n",
        "1 - Random Forest\n",
        "2 - Decision Tree\n",
        "3 - RRF\n",
        "4 - ELM\n",
        "5 - SVM\n",
        "6 - Neural Network\n",
        "7 - AvNNet'''"
      ],
      "execution_count": null,
      "outputs": [
        {
          "output_type": "execute_result",
          "data": {
            "text/plain": [
              "'Models required for training - \\n1 - Random Forest\\n2 - Decision Tree\\n3 - RRF\\n4 - ELM\\n5 - SVM\\n6 - Neural Network\\n7 - AvNNet'"
            ]
          },
          "metadata": {
            "tags": []
          },
          "execution_count": 4
        }
      ]
    },
    {
      "cell_type": "markdown",
      "metadata": {
        "id": "bXSdoMbHZM27",
        "colab_type": "text"
      },
      "source": [
        "## P VALUE TEST"
      ]
    },
    {
      "cell_type": "code",
      "metadata": {
        "id": "Tl8JHazpZQtE",
        "colab_type": "code",
        "colab": {
          "base_uri": "https://localhost:8080/",
          "height": 68
        },
        "outputId": "8da8e9b3-f7db-4e6f-afc0-57bb7c9962ae"
      },
      "source": [
        "class01 = dataframeOriginal[dataframeOriginal['LABEL']==1]\n",
        "class02 = dataframeOriginal[dataframeOriginal['LABEL']==2]\n",
        "class03 = dataframeOriginal[dataframeOriginal['LABEL']==3]\n",
        "mean1,mean2,mean3 = class01.mean().mean(),class02.mean().mean(),class03.mean().mean() # means\n",
        "std1,std2,std3 = class01.std().std(),class02.std().std(),class03.std().std() # standard deviation\n",
        "n1,n2,n3 = len(class01),len(class02),len(class03) # total samples\n",
        "se1,se2,se3 = std1/(n1**(0.5)), std2/(n2**(0.5)), std3/(n3**(0.5)) # standard error\n",
        "means = [mean1,mean2,mean3]\n",
        "stdDevs = [std1,std2,std3]\n",
        "stdErrs= [se1,se2,se3]\n",
        "print(means)\n",
        "print(stdDevs)\n",
        "print(stdErrs)"
      ],
      "execution_count": null,
      "outputs": [
        {
          "output_type": "stream",
          "text": [
            "[413.4786915204678, 318.96346448645886, 297.8401837568058]\n",
            "[237.64549184457283, 200.78612632501031, 189.06739501527454]\n",
            "[28.006789800284974, 6.994716151118098, 8.777233463903915]\n"
          ],
          "name": "stdout"
        }
      ]
    },
    {
      "cell_type": "code",
      "metadata": {
        "id": "Oz9O2D4tszFx",
        "colab_type": "code",
        "colab": {
          "base_uri": "https://localhost:8080/",
          "height": 221
        },
        "outputId": "c302a09f-4a9e-4c80-e5ea-42980bd59508"
      },
      "source": [
        "from scipy.stats import ttest_ind, ttest_ind_from_stats\n",
        "stat, p = ttest_ind(class01, class02)\n",
        "count = 0\n",
        "for i in p:\n",
        "  if i < 0.05:\n",
        "    #print (count)\n",
        "    print (i)\n",
        "  count+=1"
      ],
      "execution_count": null,
      "outputs": [
        {
          "output_type": "stream",
          "text": [
            "0.00406092984372848\n",
            "3.475007663499373e-05\n",
            "3.981732000892859e-07\n",
            "3.1614059336549076e-14\n",
            "6.402659030900419e-09\n",
            "0.04815083003577285\n",
            "0.0005036155906022308\n",
            "3.5182665035908427e-06\n",
            "0.0003783674581794422\n",
            "0.028474238027864533\n",
            "0.011228406047405354\n",
            "0.0\n"
          ],
          "name": "stdout"
        }
      ]
    },
    {
      "cell_type": "code",
      "metadata": {
        "id": "HuLGdIiUs-2Q",
        "colab_type": "code",
        "colab": {
          "base_uri": "https://localhost:8080/",
          "height": 629
        },
        "outputId": "b8da1f28-2859-4276-e5b3-f8c2d2f3ee0d"
      },
      "source": [
        "stat, p = ttest_ind(class02, class03)\n",
        "count = 0\n",
        "for i in p:\n",
        "  if i < 0.05:\n",
        "    print (count)\n",
        "    print (i)\n",
        "    count+=1 "
      ],
      "execution_count": null,
      "outputs": [
        {
          "output_type": "stream",
          "text": [
            "1\n",
            "3.5517056059270493e-06\n",
            "2\n",
            "7.062910417311815e-05\n",
            "3\n",
            "3.4364978449519795e-14\n",
            "4\n",
            "5.963949754749211e-21\n",
            "5\n",
            "2.200590425249659e-22\n",
            "6\n",
            "3.4086260719975517e-56\n",
            "7\n",
            "6.144144490314492e-56\n",
            "8\n",
            "2.688646171298049e-17\n",
            "9\n",
            "7.73847064128846e-06\n",
            "10\n",
            "1.9053660749698684e-29\n",
            "11\n",
            "6.485127814901199e-16\n",
            "12\n",
            "1.3428488549371609e-09\n",
            "13\n",
            "0.0005187086188989493\n",
            "14\n",
            "1.0297576376237212e-13\n",
            "15\n",
            "6.966433982472168e-13\n",
            "16\n",
            "8.255134390545792e-34\n",
            "17\n",
            "1.0078130805520238e-36\n",
            "18\n",
            "0.0\n"
          ],
          "name": "stdout"
        }
      ]
    },
    {
      "cell_type": "code",
      "metadata": {
        "id": "Zv98ioxJtBSK",
        "colab_type": "code",
        "colab": {
          "base_uri": "https://localhost:8080/",
          "height": 561
        },
        "outputId": "1b4ad6f7-1569-4af3-910a-ede0315152c7"
      },
      "source": [
        "stat, p = ttest_ind(class01, class03)\n",
        "count = 0\n",
        "for i in p:\n",
        "  if i < 0.05:\n",
        "    print (count)\n",
        "    print (i)\n",
        "  count+=1"
      ],
      "execution_count": null,
      "outputs": [
        {
          "output_type": "stream",
          "text": [
            "1\n",
            "1.4675728461132645e-06\n",
            "2\n",
            "1.8350999151308455e-05\n",
            "3\n",
            "1.3593501126060395e-16\n",
            "4\n",
            "1.1195153091428534e-32\n",
            "5\n",
            "2.2781218581450216e-41\n",
            "6\n",
            "5.880316563378925e-76\n",
            "7\n",
            "9.20195596995963e-58\n",
            "8\n",
            "7.602222985622949e-11\n",
            "9\n",
            "2.2112852282041218e-10\n",
            "10\n",
            "2.9154543610228256e-05\n",
            "11\n",
            "0.010877674800513546\n",
            "12\n",
            "1.1276372544947225e-14\n",
            "13\n",
            "0.04211626572631381\n",
            "16\n",
            "0.00014529534168382366\n",
            "17\n",
            "3.440095454234554e-05\n",
            "18\n",
            "0.0\n"
          ],
          "name": "stdout"
        }
      ]
    },
    {
      "cell_type": "code",
      "metadata": {
        "id": "z5gDlRt1qrQv",
        "colab_type": "code",
        "colab": {
          "base_uri": "https://localhost:8080/",
          "height": 34
        },
        "outputId": "6abbdba3-0c9e-4a2a-ed8b-024a26c8ee97"
      },
      "source": [
        "from scipy.stats import t\n",
        "# comparsion between class 1 and class 2\n",
        "sed = (se1**2.0 + se2**2.0)\n",
        "sed = sed**(0.5)\n",
        "t_stat = (mean1 - mean2) / sed\n",
        "dof = n1 + n2 - 2\n",
        "alpha = 0.05\n",
        "cv = t.ppf(1.0 - alpha, dof)\n",
        "p = (1 - t.cdf(abs(t_stat), dof)) * 2\n",
        "p"
      ],
      "execution_count": null,
      "outputs": [
        {
          "output_type": "execute_result",
          "data": {
            "text/plain": [
              "0.001100480071468679"
            ]
          },
          "metadata": {
            "tags": []
          },
          "execution_count": 26
        }
      ]
    },
    {
      "cell_type": "markdown",
      "metadata": {
        "id": "9paacRjJjymx",
        "colab_type": "text"
      },
      "source": [
        "## RANDOM FOREST"
      ]
    },
    {
      "cell_type": "code",
      "metadata": {
        "id": "hZIfmi2TY6nM",
        "colab_type": "code",
        "colab": {}
      },
      "source": [
        "#Load all the data\n",
        "# save all the files using pickle \n",
        "X_train = pd.read_pickle('X_train.pickle')\n",
        "X_test = pd.read_pickle('X_test.pickle')\n",
        "y_train = pd.read_pickle('y_train.pickle')\n",
        "y_test = pd.read_pickle('y_test.pickle')\n",
        "dataframeOriginal = pd.read_pickle('dataframeOriginal.pickle')\n",
        "dataframe = pd.read_pickle('dataframe.pickle')\n",
        "target = pd.read_pickle('target.pickle')\n",
        "# all the data was presented as serialized pickle files"
      ],
      "execution_count": null,
      "outputs": []
    },
    {
      "cell_type": "code",
      "metadata": {
        "id": "CQDd7NzFSLeZ",
        "colab_type": "code",
        "colab": {
          "base_uri": "https://localhost:8080/",
          "height": 85
        },
        "outputId": "5086450a-4e31-46a0-cf63-d6b1c8008f17"
      },
      "source": [
        "y_fulll = pd.concat([y_test,y_train],axis=0).reset_index(drop=True)\n",
        "print(y_fulll.value_counts())"
      ],
      "execution_count": null,
      "outputs": [
        {
          "output_type": "stream",
          "text": [
            "2    824\n",
            "3    464\n",
            "1     72\n",
            "Name: LABEL, dtype: int64\n"
          ],
          "name": "stdout"
        }
      ]
    },
    {
      "cell_type": "markdown",
      "metadata": {
        "id": "6-GOw6Y0Vdj6",
        "colab_type": "text"
      },
      "source": [
        "### TRAINING"
      ]
    },
    {
      "cell_type": "code",
      "metadata": {
        "id": "lfwnq89WhKgZ",
        "colab_type": "code",
        "colab": {}
      },
      "source": [
        "y_train = pd.get_dummies(y_train)\n",
        "#y_test = pd.get_dummies(y_test)"
      ],
      "execution_count": null,
      "outputs": []
    },
    {
      "cell_type": "code",
      "metadata": {
        "id": "npcAXw31fmMa",
        "colab_type": "code",
        "colab": {}
      },
      "source": [
        "from sklearn.metrics import accuracy_score"
      ],
      "execution_count": null,
      "outputs": []
    },
    {
      "cell_type": "code",
      "metadata": {
        "id": "GSum0PBWVsAY",
        "colab_type": "code",
        "colab": {
          "base_uri": "https://localhost:8080/",
          "height": 34
        },
        "outputId": "af52d30b-dfcb-4160-e981-2e10fd24c14a"
      },
      "source": [
        "# Random Forest\n",
        "\n",
        "# Import the model we are using\n",
        "from sklearn.ensemble import RandomForestClassifier\n",
        "# Instantiate model \n",
        "rf = RandomForestClassifier(n_estimators= 10, random_state=42)\n",
        "# Train the model on training data\n",
        "rf.fit(X_train, y_train)\n",
        "y_pred = rf.predict(X_test)\n",
        "accuracy = accuracy_score(y_test,y_pred)\n",
        "print('Accuracy:', round(accuracy, 2), '%.')\n",
        "# THIS IS THE BASELINE MODEL"
      ],
      "execution_count": null,
      "outputs": [
        {
          "output_type": "stream",
          "text": [
            "Accuracy: 0.71 %.\n"
          ],
          "name": "stdout"
        }
      ]
    },
    {
      "cell_type": "code",
      "metadata": {
        "id": "Qs2ZznrjdJen",
        "colab_type": "code",
        "colab": {
          "base_uri": "https://localhost:8080/",
          "height": 374
        },
        "outputId": "73a8ff0b-8b02-44a1-a9a3-7c9b8a80f7d7"
      },
      "source": [
        "from sklearn.ensemble import RandomForestClassifier\n",
        "\n",
        "rf = RandomForestClassifier(random_state = 42)\n",
        "\n",
        "from pprint import pprint\n",
        "\n",
        "# Look at parameters used by our current forest\n",
        "print('Parameters currently in use:\\n')\n",
        "pprint(rf.get_params())"
      ],
      "execution_count": null,
      "outputs": [
        {
          "output_type": "stream",
          "text": [
            "Parameters currently in use:\n",
            "\n",
            "{'bootstrap': True,\n",
            " 'ccp_alpha': 0.0,\n",
            " 'class_weight': None,\n",
            " 'criterion': 'gini',\n",
            " 'max_depth': None,\n",
            " 'max_features': 'auto',\n",
            " 'max_leaf_nodes': None,\n",
            " 'max_samples': None,\n",
            " 'min_impurity_decrease': 0.0,\n",
            " 'min_impurity_split': None,\n",
            " 'min_samples_leaf': 1,\n",
            " 'min_samples_split': 2,\n",
            " 'min_weight_fraction_leaf': 0.0,\n",
            " 'n_estimators': 100,\n",
            " 'n_jobs': None,\n",
            " 'oob_score': False,\n",
            " 'random_state': 42,\n",
            " 'verbose': 0,\n",
            " 'warm_start': False}\n"
          ],
          "name": "stdout"
        }
      ]
    },
    {
      "cell_type": "markdown",
      "metadata": {
        "id": "dIVbE_r4lQcV",
        "colab_type": "text"
      },
      "source": [
        "n_estimators = number of trees in the foreset\n",
        "\n",
        "max_features = max number of features considered for splitting a node\n",
        "\n",
        "max_depth = max number of levels in each decision tree\n",
        "\n",
        "min_samples_split = min number of data points placed in a node before the node is split\n",
        "\n",
        "min_samples_leaf = min number of data points allowed in a leaf node\n",
        "\n",
        "bootstrap = method for sampling data points (with or without replacement)"
      ]
    },
    {
      "cell_type": "code",
      "metadata": {
        "id": "w7LBtPnmkPLQ",
        "colab_type": "code",
        "colab": {
          "base_uri": "https://localhost:8080/",
          "height": 119
        },
        "outputId": "739c77d6-bdd1-4b6d-93bd-5e7cefab1281"
      },
      "source": [
        "from sklearn.model_selection import RandomizedSearchCV\n",
        "\n",
        "# Number of trees in random forest\n",
        "n_estimators = [int(x) for x in np.linspace(start = 200, stop = 2000, num = 10)]\n",
        "# Number of features to consider at every split\n",
        "max_features = ['auto', 'sqrt']\n",
        "# Maximum number of levels in tree\n",
        "max_depth = [int(x) for x in np.linspace(10, 110, num = 11)]\n",
        "max_depth.append(None)\n",
        "# Minimum number of samples required to split a node\n",
        "min_samples_split = [2, 5, 10]\n",
        "# Minimum number of samples required at each leaf node\n",
        "min_samples_leaf = [1, 2, 4]\n",
        "# Method of selecting samples for training each tree\n",
        "bootstrap = [True, False]\n",
        "\n",
        "# Create the random grid\n",
        "random_grid = {'n_estimators': n_estimators,\n",
        "               'max_features': max_features,\n",
        "               'max_depth': max_depth,\n",
        "               'min_samples_split': min_samples_split,\n",
        "               'min_samples_leaf': min_samples_leaf,\n",
        "               'bootstrap': bootstrap}\n",
        "\n",
        "pprint(random_grid)"
      ],
      "execution_count": null,
      "outputs": [
        {
          "output_type": "stream",
          "text": [
            "{'bootstrap': [True, False],\n",
            " 'max_depth': [10, 20, 30, 40, 50, 60, 70, 80, 90, 100, 110, None],\n",
            " 'max_features': ['auto', 'sqrt'],\n",
            " 'min_samples_leaf': [1, 2, 4],\n",
            " 'min_samples_split': [2, 5, 10],\n",
            " 'n_estimators': [200, 400, 600, 800, 1000, 1200, 1400, 1600, 1800, 2000]}\n"
          ],
          "name": "stdout"
        }
      ]
    },
    {
      "cell_type": "code",
      "metadata": {
        "id": "PkA0sOnmlS45",
        "colab_type": "code",
        "colab": {
          "base_uri": "https://localhost:8080/",
          "height": 102
        },
        "outputId": "280ac773-4443-4c82-e4f7-e849930798ec"
      },
      "source": [
        "# Use the random grid to search for best hyperparameters\n",
        "# First create the base model to tune\n",
        "rf = RandomForestClassifier(random_state = 42)\n",
        "# Random search of parameters, using 3 fold cross validation, \n",
        "# search across 100 different combinations, and use all available cores\n",
        "rf_random = RandomizedSearchCV(estimator=rf, param_distributions=random_grid,\n",
        "                              n_iter = 100, scoring='neg_mean_absolute_error', \n",
        "                              cv = 3, verbose=2, random_state=42, n_jobs=-1,\n",
        "                              return_train_score=True)\n",
        "\n",
        "# Fit the random search model\n",
        "rf_random.fit(X_train, y_train);"
      ],
      "execution_count": null,
      "outputs": [
        {
          "output_type": "stream",
          "text": [
            "Fitting 3 folds for each of 100 candidates, totalling 300 fits\n"
          ],
          "name": "stdout"
        },
        {
          "output_type": "stream",
          "text": [
            "[Parallel(n_jobs=-1)]: Using backend LokyBackend with 2 concurrent workers.\n",
            "[Parallel(n_jobs=-1)]: Done  37 tasks      | elapsed:  2.3min\n",
            "[Parallel(n_jobs=-1)]: Done 158 tasks      | elapsed:  9.3min\n",
            "[Parallel(n_jobs=-1)]: Done 300 out of 300 | elapsed: 17.1min finished\n"
          ],
          "name": "stderr"
        }
      ]
    },
    {
      "cell_type": "code",
      "metadata": {
        "id": "eVs0YfbyiGBd",
        "colab_type": "code",
        "colab": {
          "base_uri": "https://localhost:8080/",
          "height": 119
        },
        "outputId": "cd7f061c-db31-47b3-89e9-6d4137e9b126"
      },
      "source": [
        "rf_random.best_params_"
      ],
      "execution_count": null,
      "outputs": [
        {
          "output_type": "execute_result",
          "data": {
            "text/plain": [
              "{'bootstrap': True,\n",
              " 'max_depth': 10,\n",
              " 'max_features': 'auto',\n",
              " 'min_samples_leaf': 1,\n",
              " 'min_samples_split': 5,\n",
              " 'n_estimators': 1600}"
            ]
          },
          "metadata": {
            "tags": []
          },
          "execution_count": 18
        }
      ]
    },
    {
      "cell_type": "markdown",
      "metadata": {
        "id": "lgAw6XqAykNt",
        "colab_type": "text"
      },
      "source": [
        "{'bootstrap': True,\n",
        " 'max_depth': 70,\n",
        " 'max_features': 'auto',\n",
        " 'min_samples_leaf': 4,\n",
        " 'min_samples_split': 10,\n",
        " 'n_estimators': 400}"
      ]
    },
    {
      "cell_type": "code",
      "metadata": {
        "id": "szPP2L3qxe9t",
        "colab_type": "code",
        "colab": {
          "base_uri": "https://localhost:8080/",
          "height": 51
        },
        "outputId": "35518f90-f711-417b-b6df-9933386872e8"
      },
      "source": [
        "def evaluate(model, test_features, test_labels):\n",
        "    predictions = model.predict(test_features)\n",
        "    accuracy = accuracy_score(test_labels,predictions)\n",
        "    print('Model Performance')\n",
        "    print('Accuracy = {:0.2f}%.'.format(accuracy))\n",
        "    return accuracy\n",
        "\n",
        "base_model = RandomForestClassifier(n_estimators = 10, random_state = 42)\n",
        "base_model.fit(X_train, y_train)\n",
        "base_accuracy = evaluate(base_model, X_test, y_test)"
      ],
      "execution_count": null,
      "outputs": [
        {
          "output_type": "stream",
          "text": [
            "Model Performance\n",
            "Accuracy = 0.71%.\n"
          ],
          "name": "stdout"
        }
      ]
    },
    {
      "cell_type": "code",
      "metadata": {
        "id": "cH3LbuQ-yDTI",
        "colab_type": "code",
        "colab": {
          "base_uri": "https://localhost:8080/",
          "height": 51
        },
        "outputId": "46c0debd-2ddf-4d54-c75f-b92b214e47b7"
      },
      "source": [
        "best_random = rf_random.best_estimator_\n",
        "random_accuracy = evaluate(best_random, X_test, y_test)"
      ],
      "execution_count": null,
      "outputs": [
        {
          "output_type": "stream",
          "text": [
            "Model Performance\n",
            "Accuracy = 0.76%.\n"
          ],
          "name": "stdout"
        }
      ]
    },
    {
      "cell_type": "code",
      "metadata": {
        "id": "OtUT1nobyKRD",
        "colab_type": "code",
        "colab": {
          "base_uri": "https://localhost:8080/",
          "height": 34
        },
        "outputId": "79e7c855-fee8-44a2-8dfc-1d2e50a431f5"
      },
      "source": [
        "print('Improvement of {:0.2f}%.'.format( 100 * (random_accuracy - base_accuracy) / base_accuracy))"
      ],
      "execution_count": null,
      "outputs": [
        {
          "output_type": "stream",
          "text": [
            "Improvement of 6.74%.\n"
          ],
          "name": "stdout"
        }
      ]
    },
    {
      "cell_type": "code",
      "metadata": {
        "id": "jG6tsYRIyY-J",
        "colab_type": "code",
        "colab": {}
      },
      "source": [
        "from sklearn.model_selection import GridSearchCV\n",
        "# Create the parameter grid based on the results of random search \n",
        "param_grid = {\n",
        "    'bootstrap': [True],\n",
        "    'max_depth': [40,60,80,90,100,120],\n",
        "    'min_samples_leaf': [3,4,5],\n",
        "    'min_samples_split': [2,3,4,5],\n",
        "    'n_estimators': [200,400,600,800,1000,1200]\n",
        "}\n",
        "# Create a based model\n",
        "rf = RandomForestClassifier()\n",
        "# Instantiate the grid search model\n",
        "grid_search = GridSearchCV(estimator = rf, param_grid = param_grid, \n",
        "                          cv = 3, n_jobs = -1, verbose = 2)"
      ],
      "execution_count": null,
      "outputs": []
    },
    {
      "cell_type": "code",
      "metadata": {
        "id": "Qp5wZMo2ylYg",
        "colab_type": "code",
        "colab": {
          "base_uri": "https://localhost:8080/",
          "height": 238
        },
        "outputId": "5ea32588-d9ef-4f96-ced1-f5c0e68bc77f"
      },
      "source": [
        "# Fit the grid search to the data\n",
        "grid_search.fit(X_train, y_train)\n",
        "grid_search.best_params_"
      ],
      "execution_count": null,
      "outputs": [
        {
          "output_type": "stream",
          "text": [
            "Fitting 3 folds for each of 432 candidates, totalling 1296 fits\n"
          ],
          "name": "stdout"
        },
        {
          "output_type": "stream",
          "text": [
            "[Parallel(n_jobs=-1)]: Using backend LokyBackend with 2 concurrent workers.\n",
            "[Parallel(n_jobs=-1)]: Done  37 tasks      | elapsed:  1.1min\n",
            "[Parallel(n_jobs=-1)]: Done 158 tasks      | elapsed:  4.5min\n",
            "[Parallel(n_jobs=-1)]: Done 361 tasks      | elapsed: 10.3min\n",
            "[Parallel(n_jobs=-1)]: Done 644 tasks      | elapsed: 18.3min\n",
            "[Parallel(n_jobs=-1)]: Done 1009 tasks      | elapsed: 28.6min\n",
            "[Parallel(n_jobs=-1)]: Done 1296 out of 1296 | elapsed: 36.7min finished\n"
          ],
          "name": "stderr"
        },
        {
          "output_type": "execute_result",
          "data": {
            "text/plain": [
              "{'bootstrap': True,\n",
              " 'max_depth': 40,\n",
              " 'min_samples_leaf': 3,\n",
              " 'min_samples_split': 3,\n",
              " 'n_estimators': 200}"
            ]
          },
          "metadata": {
            "tags": []
          },
          "execution_count": 23
        }
      ]
    },
    {
      "cell_type": "code",
      "metadata": {
        "id": "czfDb6CXzVFy",
        "colab_type": "code",
        "colab": {
          "base_uri": "https://localhost:8080/",
          "height": 51
        },
        "outputId": "1395f112-72f7-43bb-b2ae-b73acf94e3a7"
      },
      "source": [
        " best_grid = grid_search.best_estimator_\n",
        "grid_accuracy = evaluate(best_grid, X_test, y_test)"
      ],
      "execution_count": null,
      "outputs": [
        {
          "output_type": "stream",
          "text": [
            "Model Performance\n",
            "Accuracy = 0.78%.\n"
          ],
          "name": "stdout"
        }
      ]
    },
    {
      "cell_type": "code",
      "metadata": {
        "id": "BClwPIVd7PHT",
        "colab_type": "code",
        "colab": {
          "base_uri": "https://localhost:8080/",
          "height": 34
        },
        "outputId": "7596ca51-c370-43c4-b0e4-8c7bb8e34805"
      },
      "source": [
        "print('Improvement of {:0.2f}%.'.format( 100 * (grid_accuracy - base_accuracy) / base_accuracy))"
      ],
      "execution_count": null,
      "outputs": [
        {
          "output_type": "stream",
          "text": [
            "Improvement of 9.33%.\n"
          ],
          "name": "stdout"
        }
      ]
    },
    {
      "cell_type": "code",
      "metadata": {
        "id": "ZNaTQOgyclyk",
        "colab_type": "code",
        "colab": {
          "base_uri": "https://localhost:8080/",
          "height": 221
        },
        "outputId": "01e2fa1a-e8e3-49d1-e954-76c8d674b365"
      },
      "source": [
        "param_grid = {\n",
        "    'bootstrap': [True],\n",
        "    'max_depth': [180,200],\n",
        "    'max_features': [3, 4],\n",
        "    'min_samples_leaf': [8,9,10],\n",
        "    'min_samples_split': [7,8,10],\n",
        "    'n_estimators': [50,80, 100, 120,180]\n",
        "}\n",
        "\n",
        "# Create a base model\n",
        "rf = RandomForestClassifier(random_state = 42)\n",
        "\n",
        "# Instantiate the grid search model\n",
        "grid_search_second = GridSearchCV(estimator = rf, param_grid = param_grid, \n",
        "                                 cv = 3, n_jobs = -1, verbose = 2, return_train_score=True)\n",
        "\n",
        "grid_search_second.fit(X_train, y_train)\n",
        "grid_search_second.best_params_"
      ],
      "execution_count": null,
      "outputs": [
        {
          "output_type": "stream",
          "text": [
            "Fitting 3 folds for each of 180 candidates, totalling 540 fits\n"
          ],
          "name": "stdout"
        },
        {
          "output_type": "stream",
          "text": [
            "[Parallel(n_jobs=-1)]: Using backend LokyBackend with 2 concurrent workers.\n",
            "[Parallel(n_jobs=-1)]: Done  37 tasks      | elapsed:    8.7s\n",
            "[Parallel(n_jobs=-1)]: Done 158 tasks      | elapsed:   38.5s\n",
            "[Parallel(n_jobs=-1)]: Done 361 tasks      | elapsed:  1.5min\n",
            "[Parallel(n_jobs=-1)]: Done 540 out of 540 | elapsed:  2.3min finished\n"
          ],
          "name": "stderr"
        },
        {
          "output_type": "execute_result",
          "data": {
            "text/plain": [
              "{'bootstrap': True,\n",
              " 'max_depth': 180,\n",
              " 'max_features': 4,\n",
              " 'min_samples_leaf': 9,\n",
              " 'min_samples_split': 7,\n",
              " 'n_estimators': 100}"
            ]
          },
          "metadata": {
            "tags": []
          },
          "execution_count": 26
        }
      ]
    },
    {
      "cell_type": "code",
      "metadata": {
        "id": "ZeUBfKf4ifKz",
        "colab_type": "code",
        "colab": {
          "base_uri": "https://localhost:8080/",
          "height": 51
        },
        "outputId": "46c15c33-1b57-438f-ebd9-b24ace52c4b7"
      },
      "source": [
        "best_grid_second = grid_search_second.best_estimator_\n",
        "grid_accuracy_second = evaluate(best_grid_second, X_test, y_test)"
      ],
      "execution_count": null,
      "outputs": [
        {
          "output_type": "stream",
          "text": [
            "Model Performance\n",
            "Accuracy = 0.77%.\n"
          ],
          "name": "stdout"
        }
      ]
    },
    {
      "cell_type": "code",
      "metadata": {
        "id": "VZEUhWNZiq2f",
        "colab_type": "code",
        "colab": {
          "base_uri": "https://localhost:8080/",
          "height": 34
        },
        "outputId": "83e4af38-1bf3-4c3b-e571-d0fc340b07ae"
      },
      "source": [
        "print('Improvement of {:0.2f}%.'.format( 100 * (grid_accuracy_second - base_accuracy) / base_accuracy))"
      ],
      "execution_count": null,
      "outputs": [
        {
          "output_type": "stream",
          "text": [
            "Improvement of 8.29%.\n"
          ],
          "name": "stdout"
        }
      ]
    },
    {
      "cell_type": "code",
      "metadata": {
        "id": "EXJiAa3Mi1-l",
        "colab_type": "code",
        "colab": {
          "base_uri": "https://localhost:8080/",
          "height": 238
        },
        "outputId": "d540756d-0176-41db-8d60-26d7aef31268"
      },
      "source": [
        "param_grid = {\n",
        "    'bootstrap': [True],\n",
        "    'max_depth': [300,400,800],\n",
        "    'max_features': [8,9,10],\n",
        "    'min_samples_leaf': [ 2,3,4],\n",
        "    'min_samples_split': [7,8,9,10],\n",
        "    'n_estimators': [1000,1500,2000]\n",
        "}\n",
        "\n",
        "# Create a base model\n",
        "rf = RandomForestClassifier(random_state = 42)\n",
        "\n",
        "# Instantiate the grid search model\n",
        "grid_search_third = GridSearchCV(estimator = rf, param_grid = param_grid, \n",
        "                                 cv = 3, n_jobs = -1, verbose = 2, return_train_score=True)\n",
        "\n",
        "grid_search_third.fit(X_train, y_train)\n",
        "grid_search_third.best_params_"
      ],
      "execution_count": null,
      "outputs": [
        {
          "output_type": "stream",
          "text": [
            "Fitting 3 folds for each of 324 candidates, totalling 972 fits\n"
          ],
          "name": "stdout"
        },
        {
          "output_type": "stream",
          "text": [
            "[Parallel(n_jobs=-1)]: Using backend LokyBackend with 2 concurrent workers.\n",
            "[Parallel(n_jobs=-1)]: Done  37 tasks      | elapsed:  3.5min\n",
            "[Parallel(n_jobs=-1)]: Done 158 tasks      | elapsed: 15.2min\n",
            "[Parallel(n_jobs=-1)]: Done 361 tasks      | elapsed: 36.2min\n",
            "[Parallel(n_jobs=-1)]: Done 644 tasks      | elapsed: 64.9min\n",
            "[Parallel(n_jobs=-1)]: Done 972 out of 972 | elapsed: 98.0min finished\n"
          ],
          "name": "stderr"
        },
        {
          "output_type": "execute_result",
          "data": {
            "text/plain": [
              "{'bootstrap': True,\n",
              " 'max_depth': 300,\n",
              " 'max_features': 10,\n",
              " 'min_samples_leaf': 3,\n",
              " 'min_samples_split': 7,\n",
              " 'n_estimators': 2000}"
            ]
          },
          "metadata": {
            "tags": []
          },
          "execution_count": 29
        }
      ]
    },
    {
      "cell_type": "code",
      "metadata": {
        "id": "b1sizkEDkOPH",
        "colab_type": "code",
        "colab": {
          "base_uri": "https://localhost:8080/",
          "height": 51
        },
        "outputId": "f9ab98a7-9ca2-404f-bb7f-80ab1341ff6d"
      },
      "source": [
        "best_grid_third = grid_search_third.best_estimator_\n",
        "grid_accuracy_third = evaluate(best_grid_third, X_test, y_test)"
      ],
      "execution_count": null,
      "outputs": [
        {
          "output_type": "stream",
          "text": [
            "Model Performance\n",
            "Accuracy = 0.75%.\n"
          ],
          "name": "stdout"
        }
      ]
    },
    {
      "cell_type": "code",
      "metadata": {
        "id": "Zec-tzKikO0e",
        "colab_type": "code",
        "colab": {
          "base_uri": "https://localhost:8080/",
          "height": 34
        },
        "outputId": "0bc12a80-5081-45ac-e719-7f5fed83d859"
      },
      "source": [
        "print('Improvement of {:0.2f}%.'.format( 100 * (grid_accuracy_third - base_accuracy) / base_accuracy))"
      ],
      "execution_count": null,
      "outputs": [
        {
          "output_type": "stream",
          "text": [
            "Improvement of 6.22%.\n"
          ],
          "name": "stdout"
        }
      ]
    },
    {
      "cell_type": "code",
      "metadata": {
        "id": "6ZyA9ForlDln",
        "colab_type": "code",
        "colab": {
          "base_uri": "https://localhost:8080/",
          "height": 255
        },
        "outputId": "bbc82cf8-26e4-4c41-e10c-506404fff872"
      },
      "source": [
        "param_grid = {\n",
        "    'bootstrap': [True],\n",
        "    'max_depth': [150,160,180,220],\n",
        "    'max_features': [11,12,15],\n",
        "    'min_samples_leaf': [15,18,20],\n",
        "    'min_samples_split': [10,15],\n",
        "    'n_estimators': [50,100,150,200,250,300]\n",
        "}\n",
        "\n",
        "# Create a base model\n",
        "rf = RandomForestClassifier(random_state = 42)\n",
        "\n",
        "# Instantiate the grid search model\n",
        "grid_search_fourth = GridSearchCV(estimator = rf, param_grid = param_grid, \n",
        "                                 cv = 3, n_jobs = -1, verbose = 2, return_train_score=True)\n",
        "\n",
        "grid_search_fourth.fit(X_train, y_train)\n",
        "grid_search_fourth.best_params_"
      ],
      "execution_count": null,
      "outputs": [
        {
          "output_type": "stream",
          "text": [
            "Fitting 3 folds for each of 432 candidates, totalling 1296 fits\n"
          ],
          "name": "stdout"
        },
        {
          "output_type": "stream",
          "text": [
            "[Parallel(n_jobs=-1)]: Using backend LokyBackend with 2 concurrent workers.\n",
            "[Parallel(n_jobs=-1)]: Done  37 tasks      | elapsed:   21.7s\n",
            "[Parallel(n_jobs=-1)]: Done 158 tasks      | elapsed:  1.5min\n",
            "[Parallel(n_jobs=-1)]: Done 361 tasks      | elapsed:  3.8min\n",
            "[Parallel(n_jobs=-1)]: Done 644 tasks      | elapsed:  6.7min\n",
            "[Parallel(n_jobs=-1)]: Done 1009 tasks      | elapsed: 10.5min\n",
            "[Parallel(n_jobs=-1)]: Done 1296 out of 1296 | elapsed: 13.6min finished\n"
          ],
          "name": "stderr"
        },
        {
          "output_type": "execute_result",
          "data": {
            "text/plain": [
              "{'bootstrap': True,\n",
              " 'max_depth': 150,\n",
              " 'max_features': 15,\n",
              " 'min_samples_leaf': 18,\n",
              " 'min_samples_split': 10,\n",
              " 'n_estimators': 250}"
            ]
          },
          "metadata": {
            "tags": []
          },
          "execution_count": 32
        }
      ]
    },
    {
      "cell_type": "code",
      "metadata": {
        "id": "FpSPEVrdnOjF",
        "colab_type": "code",
        "colab": {
          "base_uri": "https://localhost:8080/",
          "height": 51
        },
        "outputId": "4101b6c6-1b43-4584-b107-88ae3d4c2bd7"
      },
      "source": [
        "best_grid_fourth = grid_search_fourth.best_estimator_\n",
        "grid_accuracy_fourth = evaluate(best_grid_fourth, X_test, y_test)"
      ],
      "execution_count": null,
      "outputs": [
        {
          "output_type": "stream",
          "text": [
            "Model Performance\n",
            "Accuracy = 0.76%.\n"
          ],
          "name": "stdout"
        }
      ]
    },
    {
      "cell_type": "code",
      "metadata": {
        "id": "FKBUcLrdnStJ",
        "colab_type": "code",
        "colab": {
          "base_uri": "https://localhost:8080/",
          "height": 34
        },
        "outputId": "7d2b4724-cb04-48eb-c564-d4fc19cc36af"
      },
      "source": [
        "print('Improvement of {:0.2f}%.'.format( 100 * (grid_accuracy_fourth - base_accuracy) / base_accuracy))"
      ],
      "execution_count": null,
      "outputs": [
        {
          "output_type": "stream",
          "text": [
            "Improvement of 7.25%.\n"
          ],
          "name": "stdout"
        }
      ]
    },
    {
      "cell_type": "code",
      "metadata": {
        "id": "Cwmx5PXnpIWo",
        "colab_type": "code",
        "colab": {
          "base_uri": "https://localhost:8080/",
          "height": 34
        },
        "outputId": "f11ec39b-fb45-4248-f8b4-77bd643f50d7"
      },
      "source": [
        "import joblib\n",
        "filename = 'best_random_FOREST.sav'\n",
        "joblib.dump(best_random, filename)\n",
        "filename = 'best_grid_FOREST.sav'\n",
        "joblib.dump(best_grid, filename)\n",
        "filename = 'best_grid_second_FOREST.sav'\n",
        "joblib.dump(best_grid_second, filename)\n",
        "filename = 'best_grid_third_FOREST.sav'\n",
        "joblib.dump(best_grid_third, filename)\n",
        "filename = 'best_grid_fourth_FOREST.sav'\n",
        "joblib.dump(best_grid_fourth, filename)\n",
        "# save all the files for later view and analysis"
      ],
      "execution_count": null,
      "outputs": [
        {
          "output_type": "execute_result",
          "data": {
            "text/plain": [
              "['best_grid_fourth_FOREST.sav']"
            ]
          },
          "metadata": {
            "tags": []
          },
          "execution_count": 35
        }
      ]
    },
    {
      "cell_type": "markdown",
      "metadata": {
        "id": "2gYJ6Wk3Vgs3",
        "colab_type": "text"
      },
      "source": [
        "### Evaluation"
      ]
    },
    {
      "cell_type": "code",
      "metadata": {
        "id": "qJrapdkt00e_",
        "colab_type": "code",
        "colab": {}
      },
      "source": [
        "import joblib\n",
        "best_random_FOREST_model = joblib.load('best_random_FOREST.sav')\n",
        "best_grid_FOREST_model = joblib.load('best_grid_FOREST.sav')\n",
        "best_grid_second_FOREST_model = joblib.load('best_grid_second_FOREST.sav')\n",
        "best_grid_third_FOREST_model = joblib.load('best_grid_third_FOREST.sav')\n",
        "best_grid_fourth_FOREST_model = joblib.load('best_grid_fourth_FOREST.sav')\n",
        "result_random_best = best_random_FOREST_model.fit(X_train,y_train)\n",
        "result_grid_best1 = best_grid_FOREST_model.fit(X_train,y_train)\n",
        "result_grid_best2 = best_grid_second_FOREST_model.fit(X_train,y_train)\n",
        "result_grid_best3 = best_grid_third_FOREST_model.fit(X_train,y_train)\n",
        "result_grid_best4 = best_grid_fourth_FOREST_model.fit(X_train,y_train)\n",
        "### MODEL PREDICTIONS ###\n",
        "y_pred_random_best = result_random_best.predict(X_test)\n",
        "y_pred_grid_best1 = result_grid_best1.predict(X_test)\n",
        "y_pred_grid_best2 = result_grid_best2.predict(X_test)\n",
        "y_pred_grid_best3 = result_grid_best3.predict(X_test)\n",
        "y_pred_grid_best4 = result_grid_best4.predict(X_test)\n",
        "#########################"
      ],
      "execution_count": null,
      "outputs": []
    },
    {
      "cell_type": "code",
      "metadata": {
        "id": "2aPsNnPiqkfW",
        "colab_type": "code",
        "colab": {
          "base_uri": "https://localhost:8080/",
          "height": 272
        },
        "outputId": "1dfc1f3e-aca4-43e7-b236-41d7a86602db"
      },
      "source": [
        "#print(y_test.value_counts())\n",
        "unique_elements, counts_elements = np.unique(y_pred_random_best, return_counts=True)\n",
        "print(\"Frequency of unique values of y_pred_random_best array:\")\n",
        "print(np.asarray((unique_elements, counts_elements)))\n",
        "unique_elements, counts_elements = np.unique(y_pred_grid_best1, return_counts=True)\n",
        "print(\"Frequency of unique values of y_pred_grid_best1 array:\")\n",
        "print(np.asarray((unique_elements, counts_elements)))\n",
        "unique_elements, counts_elements = np.unique(y_pred_grid_best2, return_counts=True)\n",
        "print(\"Frequency of unique values of y_pred_grid_best2 array:\")\n",
        "print(np.asarray((unique_elements, counts_elements)))\n",
        "unique_elements, counts_elements = np.unique(y_pred_grid_best3, return_counts=True)\n",
        "print(\"Frequency of unique values of y_pred_grid_best3 array:\")\n",
        "print(np.asarray((unique_elements, counts_elements)))\n",
        "unique_elements, counts_elements = np.unique(y_pred_grid_best4, return_counts=True)\n",
        "print(\"Frequency of unique values of y_pred_grid_best4 array:\")\n",
        "print(np.asarray((unique_elements, counts_elements)))"
      ],
      "execution_count": null,
      "outputs": [
        {
          "output_type": "stream",
          "text": [
            "Frequency of unique values of y_pred_random_best array:\n",
            "[[  1   2   3]\n",
            " [  2 190  80]]\n",
            "Frequency of unique values of y_pred_grid_best1 array:\n",
            "[[  2   3]\n",
            " [189  83]]\n",
            "Frequency of unique values of y_pred_grid_best2 array:\n",
            "[[  2   3]\n",
            " [192  80]]\n",
            "Frequency of unique values of y_pred_grid_best3 array:\n",
            "[[  1   2   3]\n",
            " [  3 187  82]]\n",
            "Frequency of unique values of y_pred_grid_best4 array:\n",
            "[[  2   3]\n",
            " [189  83]]\n"
          ],
          "name": "stdout"
        }
      ]
    },
    {
      "cell_type": "code",
      "metadata": {
        "id": "i8LAVgxQ5Wyv",
        "colab_type": "code",
        "colab": {}
      },
      "source": [
        "from sklearn.metrics import mean_squared_error\n",
        "A = mean_squared_error(y_test, y_pred_random_best)\n",
        "B = mean_squared_error(y_test, y_pred_grid_best1)\n",
        "C = mean_squared_error(y_test, y_pred_grid_best2)\n",
        "D = mean_squared_error(y_test, y_pred_grid_best3)\n",
        "E = mean_squared_error(y_test, y_pred_grid_best4)\n",
        "allModelAccuracies = [A,B,C,D,E]\n",
        "allModelNames = [\"Random Best\", \"Grid Search 1\", \"Grid Search 2\", \"Grid Search 3\", \"Grid Search 4\"]\n",
        "zipObjAccuracy = zip(allModelNames, allModelAccuracies)\n",
        "# Create a dictionary from zip object\n",
        "RFRMSValue = dict(zipObjAccuracy)\n",
        "#############################################"
      ],
      "execution_count": null,
      "outputs": []
    },
    {
      "cell_type": "code",
      "metadata": {
        "id": "6qYX0V_BZiMQ",
        "colab_type": "code",
        "colab": {}
      },
      "source": [
        "from sklearn.metrics import accuracy_score\n",
        "############### ACCURACY SCORES #############\n",
        "A = accuracy_score(y_test, y_pred_random_best)\n",
        "B = accuracy_score(y_test, y_pred_grid_best1)\n",
        "C = accuracy_score(y_test, y_pred_grid_best2)\n",
        "D = accuracy_score(y_test, y_pred_grid_best3)\n",
        "E = accuracy_score(y_test, y_pred_grid_best4)\n",
        "allModelAccuracies = [A,B,C,D,E]\n",
        "allModelNames = [\"Random Best\", \"Grid Search 1\", \"Grid Search 2\", \"Grid Search 3\", \"Grid Search 4\"]\n",
        "zipObjAccuracy = zip(allModelNames, allModelAccuracies)\n",
        "# Create a dictionary from zip object\n",
        "RFAccuracies = dict(zipObjAccuracy)\n",
        "#############################################"
      ],
      "execution_count": null,
      "outputs": []
    },
    {
      "cell_type": "code",
      "metadata": {
        "id": "eZ8xtzpDOYmS",
        "colab_type": "code",
        "colab": {}
      },
      "source": [
        "from sklearn.metrics import f1_score\n",
        "############## f1 score #######################\n",
        "A = f1_score(y_test, y_pred_random_best, average='macro')\n",
        "B = f1_score(y_test, y_pred_grid_best1, average='macro')\n",
        "C = f1_score(y_test, y_pred_grid_best2, average='macro')\n",
        "D = f1_score(y_test, y_pred_grid_best3, average='macro')\n",
        "E = f1_score(y_test, y_pred_grid_best4, average='macro')\n",
        "allModelAccuracies = [A,B,C,D,E]\n",
        "allModelNames = [\"Random Best\", \"Grid Search 1\", \"Grid Search 2\", \"Grid Search 3\", \"Grid Search 4\"]\n",
        "zipObjAccuracy = zip(allModelNames, allModelAccuracies)\n",
        "# Create a dictionary from zip object\n",
        "RFF1Score = dict(zipObjAccuracy)"
      ],
      "execution_count": null,
      "outputs": []
    },
    {
      "cell_type": "code",
      "metadata": {
        "id": "X4OHwhPKa2Tl",
        "colab_type": "code",
        "colab": {}
      },
      "source": [
        "def multiclass_roc_auc_score(y_test, y_pred, average=\"macro\"):\n",
        "    lb = preprocessing.LabelBinarizer()\n",
        "    lb.fit(y_test)\n",
        "    y_test = lb.transform(y_test)\n",
        "    y_pred = lb.transform(y_pred)\n",
        "    return roc_auc_score(y_test, y_pred, average=average)"
      ],
      "execution_count": null,
      "outputs": []
    },
    {
      "cell_type": "code",
      "metadata": {
        "id": "jqE1R8F_LWX1",
        "colab_type": "code",
        "colab": {}
      },
      "source": [
        "from sklearn import preprocessing\n",
        "############## AUC score #######################\n",
        "A = multiclass_roc_auc_score(y_test, y_pred_random_best, average=\"macro\")\n",
        "B = multiclass_roc_auc_score(y_test, y_pred_grid_best1, average=\"macro\")\n",
        "C = multiclass_roc_auc_score(y_test, y_pred_grid_best2, average=\"macro\")\n",
        "D = multiclass_roc_auc_score(y_test, y_pred_grid_best3, average=\"macro\")\n",
        "E = multiclass_roc_auc_score(y_test, y_pred_grid_best4, average=\"macro\")\n",
        "allModelAccuracies = [A,B,C,D,E]\n",
        "allModelNames = [\"Random Best\", \"Grid Search 1\", \"Grid Search 2\", \"Grid Search 3\", \"Grid Search 4\"]\n",
        "zipObjAccuracy = zip(allModelNames, allModelAccuracies)\n",
        "# Create a dictionary from zip object\n",
        "RFAUCScore = dict(zipObjAccuracy)"
      ],
      "execution_count": null,
      "outputs": []
    },
    {
      "cell_type": "code",
      "metadata": {
        "id": "kjk9hKFflnru",
        "colab_type": "code",
        "colab": {}
      },
      "source": [
        "############## Gini score #######################\n",
        "RFGiniScore = {k: (2*(v)-1) for k, v in RFAUCScore.items()}"
      ],
      "execution_count": null,
      "outputs": []
    },
    {
      "cell_type": "code",
      "metadata": {
        "id": "QN0BKnXkkhEN",
        "colab_type": "code",
        "colab": {
          "base_uri": "https://localhost:8080/",
          "height": 139
        },
        "outputId": "218c25f6-dd2e-40db-c53d-4d0159028fda"
      },
      "source": [
        "print(RFAccuracies)\n",
        "print(RFF1Score)\n",
        "print(RFAUCScore)\n",
        "print(RFGiniScore)\n",
        "print(RFRMSValue)\n",
        "\n",
        "# Thus we select the grid search 2 model "
      ],
      "execution_count": null,
      "outputs": [
        {
          "output_type": "stream",
          "text": [
            "{'Random Best': 0.7720588235294118, 'Grid Search 1': 0.7757352941176471, 'Grid Search 2': 0.7794117647058824, 'Grid Search 3': 0.7683823529411765, 'Grid Search 4': 0.7683823529411765}\n",
            "{'Random Best': 0.5574948191312554, 'Grid Search 1': 0.510860882220982, 'Grid Search 2': 0.5124081136351074, 'Grid Search 3': 0.5537211646800687, 'Grid Search 4': 0.5050282875370692}\n",
            "{'Random Best': 0.6834543136670538, 'Grid Search 1': 0.6738486478068761, 'Grid Search 2': 0.673703893639337, 'Grid Search 3': 0.6838423324456735, 'Grid Search 4': 0.6682494022297895}\n",
            "{'Random Best': 0.36690862733410756, 'Grid Search 1': 0.3476972956137523, 'Grid Search 2': 0.34740778727867405, 'Grid Search 3': 0.367684664891347, 'Grid Search 4': 0.3364988044595789}\n",
            "{'Random Best': 0.22794117647058823, 'Grid Search 1': 0.22426470588235295, 'Grid Search 2': 0.22058823529411764, 'Grid Search 3': 0.23161764705882354, 'Grid Search 4': 0.23161764705882354}\n",
            "{'Random Best': 0.17268445839874402, 'Grid Search 1': 0.18602825745682883, 'Grid Search 2': 0.19937205651491363, 'Grid Search 3': 0.15934065934065933, 'Grid Search 4': 0.15934065934065933}\n"
          ],
          "name": "stdout"
        }
      ]
    },
    {
      "cell_type": "code",
      "metadata": {
        "id": "pbH3dvvZShLy",
        "colab_type": "code",
        "colab": {
          "base_uri": "https://localhost:8080/",
          "height": 241
        },
        "outputId": "ce9eb825-d4b0-4af5-aac6-ca40981890d6"
      },
      "source": [
        "from sklearn.metrics import classification_report\n",
        "############### Classification Report #########\n",
        "print(classification_report(y_test, y_pred_grid_best2, labels=[1, 2, 3]))"
      ],
      "execution_count": null,
      "outputs": [
        {
          "output_type": "stream",
          "text": [
            "              precision    recall  f1-score   support\n",
            "\n",
            "           1       0.00      0.00      0.00        11\n",
            "           2       0.81      0.87      0.84       178\n",
            "           3       0.71      0.69      0.70        83\n",
            "\n",
            "    accuracy                           0.78       272\n",
            "   macro avg       0.51      0.52      0.51       272\n",
            "weighted avg       0.75      0.78      0.76       272\n",
            "\n"
          ],
          "name": "stdout"
        },
        {
          "output_type": "stream",
          "text": [
            "/usr/local/lib/python3.6/dist-packages/sklearn/metrics/_classification.py:1272: UndefinedMetricWarning: Precision and F-score are ill-defined and being set to 0.0 in labels with no predicted samples. Use `zero_division` parameter to control this behavior.\n",
            "  _warn_prf(average, modifier, msg_start, len(result))\n"
          ],
          "name": "stderr"
        }
      ]
    },
    {
      "cell_type": "code",
      "metadata": {
        "id": "87XHAxZvTro9",
        "colab_type": "code",
        "colab": {
          "base_uri": "https://localhost:8080/",
          "height": 68
        },
        "outputId": "9e772206-8d9a-486d-b2d0-66456ac4e3aa"
      },
      "source": [
        "############## Confusion Matrices #######################\n",
        "from sklearn.metrics import confusion_matrix\n",
        "confusion_matrix = confusion_matrix(y_test, y_pred_grid_best2).transpose()\n",
        "confusion_matrix"
      ],
      "execution_count": null,
      "outputs": [
        {
          "output_type": "execute_result",
          "data": {
            "text/plain": [
              "array([[  0,   0,   0],\n",
              "       [ 11, 155,  26],\n",
              "       [  0,  23,  57]])"
            ]
          },
          "metadata": {
            "tags": []
          },
          "execution_count": 18
        }
      ]
    },
    {
      "cell_type": "code",
      "metadata": {
        "id": "oSpb5TLZ1QDc",
        "colab_type": "code",
        "colab": {
          "base_uri": "https://localhost:8080/",
          "height": 68
        },
        "outputId": "eee4424b-2baf-4fa5-9ec7-c4dc8eca6b44"
      },
      "source": [
        "'''Sensitivity of each class can be calculated from its TP/(TP+FN) and\n",
        "specificity of each class can be calculated from its TN/(TN+FP)\n",
        "Suppose there are three classes: C1, C2, and C3\n",
        "\"TP of C1\" is all C1 instances that are classified as C1.\n",
        "\"TN of C1\" is all non-C1 instances that are not classified as C1.\n",
        "\"FP of C1\" is all non-C1 instances that are classified as C1.\n",
        "\"FN of C1\" is all C1 instances that are not classified as C1.'''\n",
        "########### Specificity and Sensitivity ################\n",
        "FP = confusion_matrix.sum(axis=0) - np.diag(confusion_matrix)  \n",
        "FN = confusion_matrix.sum(axis=1) - np.diag(confusion_matrix)\n",
        "TP = np.diag(confusion_matrix)\n",
        "TN = confusion_matrix.sum() - (FP + FN + TP)\n",
        "\n",
        "# Sensitivity, hit rate, recall, or true positive rate\n",
        "TPR = TP/(TP+FN)\n",
        "# Specificity or true negative rate\n",
        "TNR = TN/(TN+FP) \n",
        "# Precision or positive predictive value\n",
        "PPV = TP/(TP+FP)\n",
        "# Negative predictive value\n",
        "NPV = TN/(TN+FN)\n",
        "# Fall out or false positive rate\n",
        "FPR = FP/(FP+TN)\n",
        "# False negative rate\n",
        "FNR = FN/(TP+FN)\n",
        "# False discovery rate\n",
        "FDR = FP/(TP+FP)\n",
        "# Overall accuracy\n",
        "ACC = (TP+TN)/(TP+FP+FN+TN)"
      ],
      "execution_count": null,
      "outputs": [
        {
          "output_type": "stream",
          "text": [
            "/usr/local/lib/python3.6/dist-packages/ipykernel_launcher.py:15: RuntimeWarning: invalid value encountered in true_divide\n",
            "  from ipykernel import kernelapp as app\n",
            "/usr/local/lib/python3.6/dist-packages/ipykernel_launcher.py:25: RuntimeWarning: invalid value encountered in true_divide\n"
          ],
          "name": "stderr"
        }
      ]
    },
    {
      "cell_type": "code",
      "metadata": {
        "id": "L32p2YikVp1L",
        "colab_type": "code",
        "colab": {
          "base_uri": "https://localhost:8080/",
          "height": 34
        },
        "outputId": "92e6d9cc-facf-4bb5-be6e-a646a42c3611"
      },
      "source": [
        "TPR"
      ],
      "execution_count": null,
      "outputs": [
        {
          "output_type": "execute_result",
          "data": {
            "text/plain": [
              "array([       nan, 0.80729167, 0.7125    ])"
            ]
          },
          "metadata": {
            "tags": []
          },
          "execution_count": 20
        }
      ]
    },
    {
      "cell_type": "code",
      "metadata": {
        "id": "RHssXZzTVxyY",
        "colab_type": "code",
        "colab": {
          "base_uri": "https://localhost:8080/",
          "height": 34
        },
        "outputId": "a48d2e51-ea99-412b-af22-ccdfac8fae4a"
      },
      "source": [
        "TNR"
      ],
      "execution_count": null,
      "outputs": [
        {
          "output_type": "execute_result",
          "data": {
            "text/plain": [
              "array([0.95955882, 0.7125    , 0.86458333])"
            ]
          },
          "metadata": {
            "tags": []
          },
          "execution_count": 21
        }
      ]
    },
    {
      "cell_type": "code",
      "metadata": {
        "id": "1FREFsmkWBJN",
        "colab_type": "code",
        "colab": {
          "base_uri": "https://localhost:8080/",
          "height": 34
        },
        "outputId": "0ebbbf24-f044-4760-8be7-468813fb919e"
      },
      "source": [
        "ACC"
      ],
      "execution_count": null,
      "outputs": [
        {
          "output_type": "execute_result",
          "data": {
            "text/plain": [
              "array([0.95955882, 0.77941176, 0.81985294])"
            ]
          },
          "metadata": {
            "tags": []
          },
          "execution_count": 22
        }
      ]
    },
    {
      "cell_type": "code",
      "metadata": {
        "id": "y_ipITxJaMYa",
        "colab_type": "code",
        "colab": {}
      },
      "source": [
        "y_ref = [25.38,10.90,36.68,6.44,12.36,14.83,10.44,13.17,15.72,17.47,36.92,16.80,59.66,97.76,29.72,24.37,66.55,133.10]"
      ],
      "execution_count": null,
      "outputs": []
    },
    {
      "cell_type": "code",
      "metadata": {
        "id": "45LmY_qMfff7",
        "colab_type": "code",
        "colab": {}
      },
      "source": [
        "y_ref_pd = pd.DataFrame(y_ref, index =['a', 'b', 'c', 'd', 'e', 'f', 'g','h','i','j,','k','l','m','n','o','p','q','r']).transpose()"
      ],
      "execution_count": null,
      "outputs": []
    },
    {
      "cell_type": "code",
      "metadata": {
        "id": "66SFFALZf5y5",
        "colab_type": "code",
        "colab": {
          "base_uri": "https://localhost:8080/",
          "height": 80
        },
        "outputId": "a072ae77-0478-45bf-c7da-a68ace8086c9"
      },
      "source": [
        "y_ref_pd"
      ],
      "execution_count": null,
      "outputs": [
        {
          "output_type": "execute_result",
          "data": {
            "text/html": [
              "<div>\n",
              "<style scoped>\n",
              "    .dataframe tbody tr th:only-of-type {\n",
              "        vertical-align: middle;\n",
              "    }\n",
              "\n",
              "    .dataframe tbody tr th {\n",
              "        vertical-align: top;\n",
              "    }\n",
              "\n",
              "    .dataframe thead th {\n",
              "        text-align: right;\n",
              "    }\n",
              "</style>\n",
              "<table border=\"1\" class=\"dataframe\">\n",
              "  <thead>\n",
              "    <tr style=\"text-align: right;\">\n",
              "      <th></th>\n",
              "      <th>a</th>\n",
              "      <th>b</th>\n",
              "      <th>c</th>\n",
              "      <th>d</th>\n",
              "      <th>e</th>\n",
              "      <th>f</th>\n",
              "      <th>g</th>\n",
              "      <th>h</th>\n",
              "      <th>i</th>\n",
              "      <th>j,</th>\n",
              "      <th>k</th>\n",
              "      <th>l</th>\n",
              "      <th>m</th>\n",
              "      <th>n</th>\n",
              "      <th>o</th>\n",
              "      <th>p</th>\n",
              "      <th>q</th>\n",
              "      <th>r</th>\n",
              "    </tr>\n",
              "  </thead>\n",
              "  <tbody>\n",
              "    <tr>\n",
              "      <th>0</th>\n",
              "      <td>25.38</td>\n",
              "      <td>10.9</td>\n",
              "      <td>36.68</td>\n",
              "      <td>6.44</td>\n",
              "      <td>12.36</td>\n",
              "      <td>14.83</td>\n",
              "      <td>10.44</td>\n",
              "      <td>13.17</td>\n",
              "      <td>15.72</td>\n",
              "      <td>17.47</td>\n",
              "      <td>36.92</td>\n",
              "      <td>16.8</td>\n",
              "      <td>59.66</td>\n",
              "      <td>97.76</td>\n",
              "      <td>29.72</td>\n",
              "      <td>24.37</td>\n",
              "      <td>66.55</td>\n",
              "      <td>133.1</td>\n",
              "    </tr>\n",
              "  </tbody>\n",
              "</table>\n",
              "</div>"
            ],
            "text/plain": [
              "       a     b      c     d      e  ...      n      o      p      q      r\n",
              "0  25.38  10.9  36.68  6.44  12.36  ...  97.76  29.72  24.37  66.55  133.1\n",
              "\n",
              "[1 rows x 18 columns]"
            ]
          },
          "metadata": {
            "tags": []
          },
          "execution_count": 25
        }
      ]
    },
    {
      "cell_type": "code",
      "metadata": {
        "id": "JsUbV8gUgGJb",
        "colab_type": "code",
        "colab": {
          "base_uri": "https://localhost:8080/",
          "height": 34
        },
        "outputId": "287e156d-f535-4846-df1e-a72292b7ec6e"
      },
      "source": [
        "result_grid_best3.predict(y_ref_pd)"
      ],
      "execution_count": null,
      "outputs": [
        {
          "output_type": "execute_result",
          "data": {
            "text/plain": [
              "array([3])"
            ]
          },
          "metadata": {
            "tags": []
          },
          "execution_count": 26
        }
      ]
    },
    {
      "cell_type": "markdown",
      "metadata": {
        "id": "AjbdJ-OFpWNn",
        "colab_type": "text"
      },
      "source": [
        "## SUPPORT VECTOR MACHINES\n"
      ]
    },
    {
      "cell_type": "markdown",
      "metadata": {
        "id": "ySeMdO-0ppAf",
        "colab_type": "text"
      },
      "source": [
        "### Data Preperation"
      ]
    },
    {
      "cell_type": "code",
      "metadata": {
        "id": "bBhb_3tvpbBz",
        "colab_type": "code",
        "colab": {}
      },
      "source": [
        "#Load all the data\n",
        "# save all the files using pickle \n",
        "X_train = pd.read_pickle('X_train.pickle')\n",
        "X_test = pd.read_pickle('X_test.pickle')\n",
        "y_train = pd.read_pickle('y_train.pickle')\n",
        "y_test = pd.read_pickle('y_test.pickle')\n",
        "dataframeOriginal = pd.read_pickle('dataframeOriginal.pickle')\n",
        "dataframe = pd.read_pickle('dataframe.pickle')\n",
        "target = pd.read_pickle('target.pickle')\n",
        "# all the data was presented as serialized pickle files"
      ],
      "execution_count": null,
      "outputs": []
    },
    {
      "cell_type": "code",
      "metadata": {
        "id": "fYVyIs1KplQh",
        "colab_type": "code",
        "colab": {
          "base_uri": "https://localhost:8080/",
          "height": 85
        },
        "outputId": "82817eda-1adc-4b64-885a-e699ccec144f"
      },
      "source": [
        "y_fulll = pd.concat([y_test,y_train],axis=0).reset_index(drop=True)\n",
        "print(y_fulll.value_counts())"
      ],
      "execution_count": null,
      "outputs": [
        {
          "output_type": "stream",
          "text": [
            "2    824\n",
            "3    464\n",
            "1     72\n",
            "Name: LABEL, dtype: int64\n"
          ],
          "name": "stdout"
        }
      ]
    },
    {
      "cell_type": "code",
      "metadata": {
        "id": "Q-rDZ4Fdp0FS",
        "colab_type": "code",
        "colab": {
          "base_uri": "https://localhost:8080/",
          "height": 221
        },
        "outputId": "8e79f050-f2e0-40ba-e2c8-1104979d5539"
      },
      "source": [
        "# CHECK DATA\n",
        "y_train"
      ],
      "execution_count": null,
      "outputs": [
        {
          "output_type": "execute_result",
          "data": {
            "text/plain": [
              "1328    3\n",
              "1293    3\n",
              "364     2\n",
              "703     3\n",
              "924     2\n",
              "       ..\n",
              "1081    3\n",
              "685     1\n",
              "557     2\n",
              "512     3\n",
              "531     3\n",
              "Name: LABEL, Length: 1088, dtype: int64"
            ]
          },
          "metadata": {
            "tags": []
          },
          "execution_count": 8
        }
      ]
    },
    {
      "cell_type": "markdown",
      "metadata": {
        "id": "hc2T2NoJqDrG",
        "colab_type": "text"
      },
      "source": [
        "### BASE MODEL DEFINITION"
      ]
    },
    {
      "cell_type": "code",
      "metadata": {
        "id": "UwHi68ET-5qq",
        "colab_type": "code",
        "colab": {}
      },
      "source": [
        "from sklearn.preprocessing import RobustScaler\n",
        "scaling = RobustScaler().fit(X_train)\n",
        "X_train = scaling.transform(X_train)\n",
        "X_test = scaling.transform(X_test)"
      ],
      "execution_count": null,
      "outputs": []
    },
    {
      "cell_type": "code",
      "metadata": {
        "id": "L76_CophqGIt",
        "colab_type": "code",
        "colab": {}
      },
      "source": [
        "from sklearn.svm import SVC \n",
        "from sklearn.metrics import confusion_matrix \n",
        "svm_model_baseline = SVC(kernel = 'linear', C = 1,decision_function_shape='ovo')\n",
        "\n",
        "svm_model_baseline.fit(X_train, y_train) \n",
        "svm_predictions_baseline = svm_model_baseline.predict(X_test) \n",
        "  \n",
        "# model accuracy for X_test   \n",
        "accuracy = svm_model_baseline.score(X_test, y_test) "
      ],
      "execution_count": null,
      "outputs": []
    },
    {
      "cell_type": "code",
      "metadata": {
        "id": "nPyCLvIntIkE",
        "colab_type": "code",
        "colab": {
          "base_uri": "https://localhost:8080/",
          "height": 34
        },
        "outputId": "c453cead-b1cc-49b0-acf0-2b9b51163583"
      },
      "source": [
        "accuracy"
      ],
      "execution_count": null,
      "outputs": [
        {
          "output_type": "execute_result",
          "data": {
            "text/plain": [
              "0.7794117647058824"
            ]
          },
          "metadata": {
            "tags": []
          },
          "execution_count": 11
        }
      ]
    },
    {
      "cell_type": "code",
      "metadata": {
        "id": "ZkIzGLdH3uSc",
        "colab_type": "code",
        "colab": {}
      },
      "source": [
        "kernels = ['Polynomial', 'RBF', 'Sigmoid','Linear']\n",
        "#A function which returns the corresponding SVC model\n",
        "def getClassifier(ktype):\n",
        "    if ktype == 0:\n",
        "        # Polynomial kernal\n",
        "        return SVC(kernel='poly', degree=8, gamma=\"auto\",decision_function_shape='ovo')\n",
        "    elif ktype == 1:\n",
        "        # Radial Basis Function kernal\n",
        "        return SVC(kernel='rbf', gamma=\"auto\",decision_function_shape='ovo')\n",
        "    elif ktype == 2:\n",
        "        # Sigmoid kernal\n",
        "        return SVC(kernel='sigmoid', gamma=\"auto\",decision_function_shape='ovo')\n",
        "    elif ktype == 3:\n",
        "        # Linear kernal\n",
        "        return SVC(kernel='linear', gamma=\"auto\",decision_function_shape='ovo')"
      ],
      "execution_count": null,
      "outputs": []
    },
    {
      "cell_type": "code",
      "metadata": {
        "id": "Ql50FFGJkLFv",
        "colab_type": "code",
        "colab": {
          "base_uri": "https://localhost:8080/",
          "height": 853
        },
        "outputId": "0491a364-43ba-4bf6-e010-ba7c66313b1f"
      },
      "source": [
        "for i in range(4):\n",
        "# Train a SVC model using different kernal\n",
        "    svclassifier = getClassifier(i) \n",
        "    svclassifier.fit(X_train, y_train)\n",
        "# Make prediction\n",
        "    y_pred = svclassifier.predict(X_test)\n",
        "# Evaluate our model\n",
        "    print(\"Evaluation:\", kernels[i], \"kernel\")\n",
        "    print(classification_report(y_test,y_pred))"
      ],
      "execution_count": null,
      "outputs": [
        {
          "output_type": "stream",
          "text": [
            "Evaluation: Polynomial kernel\n",
            "              precision    recall  f1-score   support\n",
            "\n",
            "           1       0.12      0.09      0.11        11\n",
            "           2       0.67      0.93      0.78       178\n",
            "           3       0.72      0.16      0.26        83\n",
            "\n",
            "    accuracy                           0.66       272\n",
            "   macro avg       0.51      0.39      0.38       272\n",
            "weighted avg       0.67      0.66      0.60       272\n",
            "\n",
            "Evaluation: RBF kernel\n",
            "              precision    recall  f1-score   support\n",
            "\n",
            "           1       0.00      0.00      0.00        11\n",
            "           2       0.80      0.89      0.84       178\n",
            "           3       0.74      0.64      0.68        83\n",
            "\n",
            "    accuracy                           0.78       272\n",
            "   macro avg       0.51      0.51      0.51       272\n",
            "weighted avg       0.74      0.78      0.76       272\n",
            "\n",
            "Evaluation: Sigmoid kernel\n",
            "              precision    recall  f1-score   support\n",
            "\n",
            "           1       0.25      0.09      0.13        11\n",
            "           2       0.74      0.72      0.73       178\n",
            "           3       0.49      0.55      0.52        83\n",
            "\n",
            "    accuracy                           0.65       272\n",
            "   macro avg       0.49      0.46      0.46       272\n",
            "weighted avg       0.64      0.65      0.64       272\n",
            "\n",
            "Evaluation: Linear kernel\n",
            "              precision    recall  f1-score   support\n",
            "\n",
            "           1       0.00      0.00      0.00        11\n",
            "           2       0.80      0.88      0.84       178\n",
            "           3       0.72      0.66      0.69        83\n",
            "\n",
            "    accuracy                           0.78       272\n",
            "   macro avg       0.51      0.51      0.51       272\n",
            "weighted avg       0.75      0.78      0.76       272\n",
            "\n"
          ],
          "name": "stdout"
        },
        {
          "output_type": "stream",
          "text": [
            "/usr/local/lib/python3.6/dist-packages/sklearn/metrics/_classification.py:1272: UndefinedMetricWarning: Precision and F-score are ill-defined and being set to 0.0 in labels with no predicted samples. Use `zero_division` parameter to control this behavior.\n",
            "  _warn_prf(average, modifier, msg_start, len(result))\n",
            "/usr/local/lib/python3.6/dist-packages/sklearn/metrics/_classification.py:1272: UndefinedMetricWarning: Precision and F-score are ill-defined and being set to 0.0 in labels with no predicted samples. Use `zero_division` parameter to control this behavior.\n",
            "  _warn_prf(average, modifier, msg_start, len(result))\n"
          ],
          "name": "stderr"
        }
      ]
    },
    {
      "cell_type": "markdown",
      "metadata": {
        "id": "VBA0GJUdBR5o",
        "colab_type": "text"
      },
      "source": [
        "### MODEL SEARCHING"
      ]
    },
    {
      "cell_type": "code",
      "metadata": {
        "id": "yzluSFCFBU37",
        "colab_type": "code",
        "colab": {}
      },
      "source": [
        "from sklearn.model_selection import RandomizedSearchCV"
      ],
      "execution_count": null,
      "outputs": []
    },
    {
      "cell_type": "code",
      "metadata": {
        "id": "XSvrwW9rB04r",
        "colab_type": "code",
        "colab": {
          "base_uri": "https://localhost:8080/",
          "height": 306
        },
        "outputId": "ee178655-c68b-4a3b-b78a-55207e405306"
      },
      "source": [
        "model = SVC()\n",
        "from pprint import pprint\n",
        "# Look at parameters used by our current forest\n",
        "print('Parameters currently in use:\\n')\n",
        "pprint(model.get_params())"
      ],
      "execution_count": null,
      "outputs": [
        {
          "output_type": "stream",
          "text": [
            "Parameters currently in use:\n",
            "\n",
            "{'C': 1.0,\n",
            " 'break_ties': False,\n",
            " 'cache_size': 200,\n",
            " 'class_weight': None,\n",
            " 'coef0': 0.0,\n",
            " 'decision_function_shape': 'ovr',\n",
            " 'degree': 3,\n",
            " 'gamma': 'scale',\n",
            " 'kernel': 'rbf',\n",
            " 'max_iter': -1,\n",
            " 'probability': False,\n",
            " 'random_state': None,\n",
            " 'shrinking': True,\n",
            " 'tol': 0.001,\n",
            " 'verbose': False}\n"
          ],
          "name": "stdout"
        }
      ]
    },
    {
      "cell_type": "code",
      "metadata": {
        "id": "8ckqScgVBsFh",
        "colab_type": "code",
        "colab": {
          "base_uri": "https://localhost:8080/",
          "height": 187
        },
        "outputId": "1803bfc7-02d7-4c2a-d0fa-d29cd3815711"
      },
      "source": [
        "from sklearn.model_selection import RandomizedSearchCV\n",
        "from sklearn.model_selection import GridSearchCV\n",
        "random_grid = {'C': [0.1,1, 10, 100, 500], \n",
        "              'gamma': [10,1,0.1,0.01,'auto'],\n",
        "              'kernel': ['rbf', 'poly', 'sigmoid','linear'],\n",
        "              'degree': [3,4,6,8],\n",
        "              'decision_function_shape':['ovo','ovr'],\n",
        "              }\n",
        "svmRandom = RandomizedSearchCV(estimator=model, param_distributions=random_grid,\n",
        "                              n_iter = 100, scoring='neg_mean_absolute_error', \n",
        "                              cv = 3, verbose=2, random_state=42, n_jobs=-1,\n",
        "                              return_train_score=True)\n",
        "svmRandom.fit(X_train,y_train)\n",
        "svmRandom.best_params_"
      ],
      "execution_count": null,
      "outputs": [
        {
          "output_type": "stream",
          "text": [
            "Fitting 3 folds for each of 100 candidates, totalling 300 fits\n"
          ],
          "name": "stdout"
        },
        {
          "output_type": "stream",
          "text": [
            "[Parallel(n_jobs=-1)]: Using backend LokyBackend with 2 concurrent workers.\n",
            "[Parallel(n_jobs=-1)]: Done  37 tasks      | elapsed:  1.9min\n",
            "[Parallel(n_jobs=-1)]: Done 158 tasks      | elapsed:  3.3min\n",
            "[Parallel(n_jobs=-1)]: Done 300 out of 300 | elapsed: 14.5min finished\n"
          ],
          "name": "stderr"
        },
        {
          "output_type": "execute_result",
          "data": {
            "text/plain": [
              "{'C': 1,\n",
              " 'decision_function_shape': 'ovo',\n",
              " 'degree': 6,\n",
              " 'gamma': 0.01,\n",
              " 'kernel': 'linear'}"
            ]
          },
          "metadata": {
            "tags": []
          },
          "execution_count": 25
        }
      ]
    },
    {
      "cell_type": "code",
      "metadata": {
        "id": "j7A3XuzzbKiV",
        "colab_type": "code",
        "colab": {}
      },
      "source": [
        "def evaluate(model, test_features, test_labels):\n",
        "    predictions = model.predict(test_features)\n",
        "    accuracy = accuracy_score(test_labels,predictions)\n",
        "    print('Model Performance')\n",
        "    print('Accuracy = {:0.2f}%.'.format(accuracy))\n",
        "    return accuracy"
      ],
      "execution_count": null,
      "outputs": []
    },
    {
      "cell_type": "code",
      "metadata": {
        "id": "TuGZ3tmIEarZ",
        "colab_type": "code",
        "colab": {
          "base_uri": "https://localhost:8080/",
          "height": 51
        },
        "outputId": "102eb744-04ee-4c63-a422-851a630305be"
      },
      "source": [
        "best_random = svmRandom.best_estimator_\n",
        "random_accuracy = evaluate(best_random, X_test, y_test)"
      ],
      "execution_count": null,
      "outputs": [
        {
          "output_type": "stream",
          "text": [
            "Model Performance\n",
            "Accuracy = 0.78%.\n"
          ],
          "name": "stdout"
        }
      ]
    },
    {
      "cell_type": "code",
      "metadata": {
        "id": "Dp4i3iu9EPmv",
        "colab_type": "code",
        "colab": {
          "base_uri": "https://localhost:8080/",
          "height": 170
        },
        "outputId": "9962d600-bf64-4604-8dca-e89e9a239d15"
      },
      "source": [
        "param_grid = {'C': [1,2,3,5], \n",
        "              'gamma': [0.01,0.001,0.0001],\n",
        "              'kernel': ['linear','rbf'],\n",
        "              'degree': [5,6,7,8],\n",
        "              'decision_function_shape':['ovo'],\n",
        "              }\n",
        "svmGrid1 = GridSearchCV(estimator = model, param_grid = param_grid, \n",
        "                              cv = 3, n_jobs = -1, verbose = 2, return_train_score=True)\n",
        "svmGrid1.fit(X_train,y_train)\n",
        "svmGrid1.best_params_"
      ],
      "execution_count": null,
      "outputs": [
        {
          "output_type": "stream",
          "text": [
            "Fitting 3 folds for each of 96 candidates, totalling 288 fits\n"
          ],
          "name": "stdout"
        },
        {
          "output_type": "stream",
          "text": [
            "[Parallel(n_jobs=-1)]: Using backend LokyBackend with 2 concurrent workers.\n",
            "[Parallel(n_jobs=-1)]: Done  52 tasks      | elapsed:    3.1s\n",
            "[Parallel(n_jobs=-1)]: Done 288 out of 288 | elapsed:   13.4s finished\n"
          ],
          "name": "stderr"
        },
        {
          "output_type": "execute_result",
          "data": {
            "text/plain": [
              "{'C': 1,\n",
              " 'decision_function_shape': 'ovo',\n",
              " 'degree': 5,\n",
              " 'gamma': 0.01,\n",
              " 'kernel': 'linear'}"
            ]
          },
          "metadata": {
            "tags": []
          },
          "execution_count": 29
        }
      ]
    },
    {
      "cell_type": "code",
      "metadata": {
        "id": "28SALbEpb7ZP",
        "colab_type": "code",
        "colab": {
          "base_uri": "https://localhost:8080/",
          "height": 51
        },
        "outputId": "0b43934f-3272-4247-e236-7325651faea9"
      },
      "source": [
        "grid1 = svmGrid1.best_estimator_\n",
        "grid1_accuracy = evaluate(grid1, X_test, y_test)"
      ],
      "execution_count": null,
      "outputs": [
        {
          "output_type": "stream",
          "text": [
            "Model Performance\n",
            "Accuracy = 0.78%.\n"
          ],
          "name": "stdout"
        }
      ]
    },
    {
      "cell_type": "code",
      "metadata": {
        "id": "PYARxqUicOiw",
        "colab_type": "code",
        "colab": {
          "base_uri": "https://localhost:8080/",
          "height": 221
        },
        "outputId": "80296292-f02a-4c8a-c87e-8f762462d617"
      },
      "source": [
        "param_grid = {'C': [0.01,0.1,0.5,0.9,1,1.1,1.2,1.5], \n",
        "              'gamma': [0.01,0.02,0.03,0.05,0.001],\n",
        "              'kernel': ['rbf'],\n",
        "              'degree': [5,6,7,8,9,10],\n",
        "              'decision_function_shape':['ovo','ovr'],\n",
        "              }\n",
        "svmGrid2 = GridSearchCV(estimator = model, param_grid = param_grid, \n",
        "                              cv = 3, n_jobs = -1, verbose = 2, return_train_score=True)\n",
        "svmGrid2.fit(X_train,y_train)\n",
        "svmGrid2.best_params_"
      ],
      "execution_count": null,
      "outputs": [
        {
          "output_type": "stream",
          "text": [
            "Fitting 3 folds for each of 480 candidates, totalling 1440 fits\n"
          ],
          "name": "stdout"
        },
        {
          "output_type": "stream",
          "text": [
            "[Parallel(n_jobs=-1)]: Using backend LokyBackend with 2 concurrent workers.\n",
            "[Parallel(n_jobs=-1)]: Done  70 tasks      | elapsed:    3.1s\n",
            "[Parallel(n_jobs=-1)]: Done 312 tasks      | elapsed:   13.5s\n",
            "[Parallel(n_jobs=-1)]: Done 718 tasks      | elapsed:   30.1s\n",
            "[Parallel(n_jobs=-1)]: Done 1284 tasks      | elapsed:   52.6s\n",
            "[Parallel(n_jobs=-1)]: Done 1440 out of 1440 | elapsed:   58.8s finished\n"
          ],
          "name": "stderr"
        },
        {
          "output_type": "execute_result",
          "data": {
            "text/plain": [
              "{'C': 1.5,\n",
              " 'decision_function_shape': 'ovo',\n",
              " 'degree': 5,\n",
              " 'gamma': 0.05,\n",
              " 'kernel': 'rbf'}"
            ]
          },
          "metadata": {
            "tags": []
          },
          "execution_count": 35
        }
      ]
    },
    {
      "cell_type": "code",
      "metadata": {
        "id": "nczBlU4pcn1z",
        "colab_type": "code",
        "colab": {
          "base_uri": "https://localhost:8080/",
          "height": 51
        },
        "outputId": "5a19aa0d-7889-4d04-c861-d1516a71898e"
      },
      "source": [
        "grid2 = svmGrid2.best_estimator_\n",
        "grid2_accuracy = evaluate(grid2, X_test, y_test)"
      ],
      "execution_count": null,
      "outputs": [
        {
          "output_type": "stream",
          "text": [
            "Model Performance\n",
            "Accuracy = 0.79%.\n"
          ],
          "name": "stdout"
        }
      ]
    },
    {
      "cell_type": "code",
      "metadata": {
        "id": "f0jI7RF8csWy",
        "colab_type": "code",
        "colab": {
          "base_uri": "https://localhost:8080/",
          "height": 187
        },
        "outputId": "221ef0ef-9d8f-442b-afc3-5d31f87f1400"
      },
      "source": [
        "param_grid = {'C': [0.01,0.1,0.5,0.9,1,1.1,1.2,1.5], \n",
        "              'gamma': [0.04,0.045,0.05,0.055,0.06],\n",
        "              'kernel': ['rbf'],\n",
        "              'degree': [3,4,5,6,7,8],\n",
        "              'decision_function_shape':['ovo'],\n",
        "              }\n",
        "svmGrid3 = GridSearchCV(estimator = model, param_grid = param_grid, \n",
        "                              cv = 3, n_jobs = -1, verbose = 2, return_train_score=True)\n",
        "svmGrid3.fit(X_train,y_train)\n",
        "svmGrid3.best_params_"
      ],
      "execution_count": null,
      "outputs": [
        {
          "output_type": "stream",
          "text": [
            "Fitting 3 folds for each of 240 candidates, totalling 720 fits\n"
          ],
          "name": "stdout"
        },
        {
          "output_type": "stream",
          "text": [
            "[Parallel(n_jobs=-1)]: Using backend LokyBackend with 2 concurrent workers.\n",
            "[Parallel(n_jobs=-1)]: Done  70 tasks      | elapsed:    3.2s\n",
            "[Parallel(n_jobs=-1)]: Done 312 tasks      | elapsed:   12.9s\n",
            "[Parallel(n_jobs=-1)]: Done 720 out of 720 | elapsed:   28.5s finished\n"
          ],
          "name": "stderr"
        },
        {
          "output_type": "execute_result",
          "data": {
            "text/plain": [
              "{'C': 1.5,\n",
              " 'decision_function_shape': 'ovo',\n",
              " 'degree': 3,\n",
              " 'gamma': 0.05,\n",
              " 'kernel': 'rbf'}"
            ]
          },
          "metadata": {
            "tags": []
          },
          "execution_count": 42
        }
      ]
    },
    {
      "cell_type": "code",
      "metadata": {
        "id": "w1tVNUq0eOhf",
        "colab_type": "code",
        "colab": {
          "base_uri": "https://localhost:8080/",
          "height": 51
        },
        "outputId": "92794097-4785-4c03-d9a8-e4f3293fa521"
      },
      "source": [
        "grid3 = svmGrid3.best_estimator_\n",
        "grid3_accuracy = evaluate(grid3, X_test, y_test)"
      ],
      "execution_count": null,
      "outputs": [
        {
          "output_type": "stream",
          "text": [
            "Model Performance\n",
            "Accuracy = 0.79%.\n"
          ],
          "name": "stdout"
        }
      ]
    },
    {
      "cell_type": "code",
      "metadata": {
        "id": "en4NmflSeRNb",
        "colab_type": "code",
        "colab": {
          "base_uri": "https://localhost:8080/",
          "height": 187
        },
        "outputId": "0cb40b2b-3275-4be0-d59c-fae6d01cb741"
      },
      "source": [
        "param_grid = {'C': [1.5,1.6,1.7,1.8,1.9,2.0], \n",
        "              'gamma': [0.01,0.02,0.03,0.04,0.05,0.06],\n",
        "              'kernel': ['rbf','linear'],\n",
        "              'degree': [3,5,8],\n",
        "              'decision_function_shape':['ovo'],\n",
        "              }\n",
        "svmGrid4 = GridSearchCV(estimator = model, param_grid = param_grid, \n",
        "                              cv = 3, n_jobs = -1, verbose = 2, return_train_score=True)\n",
        "svmGrid4.fit(X_train,y_train)\n",
        "svmGrid4.best_params_"
      ],
      "execution_count": null,
      "outputs": [
        {
          "output_type": "stream",
          "text": [
            "Fitting 3 folds for each of 216 candidates, totalling 648 fits\n"
          ],
          "name": "stdout"
        },
        {
          "output_type": "stream",
          "text": [
            "[Parallel(n_jobs=-1)]: Using backend LokyBackend with 2 concurrent workers.\n",
            "[Parallel(n_jobs=-1)]: Done  70 tasks      | elapsed:    2.7s\n",
            "[Parallel(n_jobs=-1)]: Done 312 tasks      | elapsed:   11.7s\n",
            "[Parallel(n_jobs=-1)]: Done 648 out of 648 | elapsed:   24.6s finished\n"
          ],
          "name": "stderr"
        },
        {
          "output_type": "execute_result",
          "data": {
            "text/plain": [
              "{'C': 1.5,\n",
              " 'decision_function_shape': 'ovo',\n",
              " 'degree': 3,\n",
              " 'gamma': 0.01,\n",
              " 'kernel': 'linear'}"
            ]
          },
          "metadata": {
            "tags": []
          },
          "execution_count": 48
        }
      ]
    },
    {
      "cell_type": "code",
      "metadata": {
        "id": "id4yr3reewMV",
        "colab_type": "code",
        "colab": {
          "base_uri": "https://localhost:8080/",
          "height": 51
        },
        "outputId": "8d843a04-1179-427f-963a-3612ea918bf5"
      },
      "source": [
        "grid4 = svmGrid4.best_estimator_\n",
        "grid4_accuracy = evaluate(grid4, X_test, y_test)"
      ],
      "execution_count": null,
      "outputs": [
        {
          "output_type": "stream",
          "text": [
            "Model Performance\n",
            "Accuracy = 0.78%.\n"
          ],
          "name": "stdout"
        }
      ]
    },
    {
      "cell_type": "code",
      "metadata": {
        "id": "VpvdjpesfIiY",
        "colab_type": "code",
        "colab": {
          "base_uri": "https://localhost:8080/",
          "height": 34
        },
        "outputId": "b35c0ab6-ead0-42df-8190-c670c068983e"
      },
      "source": [
        "import joblib\n",
        "filename = 'best_random_SVM.sav'\n",
        "joblib.dump(best_random, filename)\n",
        "filename = 'best_grid_SVM.sav'\n",
        "joblib.dump(grid1, filename)\n",
        "filename = 'best_grid_second_SVM.sav'\n",
        "joblib.dump(grid2, filename)\n",
        "filename = 'best_grid_third_SVM.sav'\n",
        "joblib.dump(grid3, filename)\n",
        "filename = 'best_grid_fourth_SVM.sav'\n",
        "joblib.dump(grid4, filename)"
      ],
      "execution_count": null,
      "outputs": [
        {
          "output_type": "execute_result",
          "data": {
            "text/plain": [
              "['best_grid_fourth_SVM.sav']"
            ]
          },
          "metadata": {
            "tags": []
          },
          "execution_count": 50
        }
      ]
    },
    {
      "cell_type": "code",
      "metadata": {
        "id": "wjesK8lng4OK",
        "colab_type": "code",
        "colab": {}
      },
      "source": [
        ""
      ],
      "execution_count": null,
      "outputs": []
    }
  ]
}